{
 "cells": [
  {
   "cell_type": "markdown",
   "metadata": {
    "collapsed": true
   },
   "source": [
    "### Anomalies Detection on Health Insurance Claims\n",
    "\n",
    "2. Training set integration\n",
    "    + Features ingeneering"
   ]
  },
  {
   "cell_type": "markdown",
   "metadata": {},
   "source": [
    "Se tratarán los modelos después de la segmentación"
   ]
  },
  {
   "cell_type": "markdown",
   "metadata": {},
   "source": [
    "### Sinister Dataset Analysis"
   ]
  },
  {
   "cell_type": "code",
   "execution_count": 1,
   "metadata": {
    "collapsed": true
   },
   "outputs": [],
   "source": [
    "import matplotlib as mpl\n",
    "import numpy as np\n",
    "import pandas as pd\n",
    "import matplotlib.pyplot as plt\n",
    "import matplotlib.dates as mdates\n",
    "from sklearn import preprocessing\n",
    "from pandas.tools.plotting import scatter_matrix\n",
    "mpl.style.use('ggplot')\n",
    "%matplotlib inline"
   ]
  },
  {
   "cell_type": "markdown",
   "metadata": {
    "collapsed": true
   },
   "source": [
    "We have to set the asumptions for te main query  \n",
    "There's some trouble about the connections, after analyzing the training dataset"
   ]
  },
  {
   "cell_type": "code",
   "execution_count": 2,
   "metadata": {
    "collapsed": false
   },
   "outputs": [
    {
     "name": "stdout",
     "output_type": "stream",
     "text": [
      "/c/Users/A2276061/Documents/GMM\n"
     ]
    }
   ],
   "source": [
    "!pwd"
   ]
  },
  {
   "cell_type": "code",
   "execution_count": 3,
   "metadata": {
    "collapsed": false
   },
   "outputs": [],
   "source": [
    "#df = pd.read_csv(\"Siniestros_Desc.csv\", parse_dates=True, encoding=\"latin1\")"
   ]
  },
  {
   "cell_type": "code",
   "execution_count": 131,
   "metadata": {
    "collapsed": false
   },
   "outputs": [
    {
     "name": "stdout",
     "output_type": "stream",
     "text": [
      "C:\\Users\\A2276061\\Documents\\GMM\n"
     ]
    }
   ],
   "source": [
    "import os\n",
    "\n",
    "file = \"C:\\\\Users\\A2276061\\Documents\\GMM\\Siniestros_Desc.csv\"\n",
    "pwd = os.getcwd()\n",
    "df = pd.read_csv(os.path.basename(file), parse_dates=True, encoding=\"latin1\")\n",
    "print(pwd)"
   ]
  },
  {
   "cell_type": "code",
   "execution_count": 132,
   "metadata": {
    "collapsed": false
   },
   "outputs": [],
   "source": [
    "#os.path.basename(file)"
   ]
  },
  {
   "cell_type": "code",
   "execution_count": 133,
   "metadata": {
    "collapsed": false
   },
   "outputs": [
    {
     "name": "stdout",
     "output_type": "stream",
     "text": [
      "     NSINIEST  NPOLIZA  RAMSUBRAMO RAMO        SUBRAMO DATE_INIT  INI_ANIO  \\\n",
      "272  12036775   671801       30041   AP   AP COLECTIVO  12/03/12         1   \n",
      "273  12043520     1019        1038  GMM  GMM COLECTIVO  15/05/12         1   \n",
      "274  12028046     1008        1038  GMM  GMM COLECTIVO  15/05/12         1   \n",
      "276  11018531   282610        1028  GMM  GMM COLECTIVO  01/06/11         9   \n",
      "279  10022000   315502        1026  GMM  GMM COLECTIVO  01/07/10         2   \n",
      "\n",
      "     INDIVIDUAL  EDO STATE_NAME  ...     AGE SINISTER_DATE TIPOSIN  \\\n",
      "272           1    9       CDMX  ...     9.0      23/05/12     300   \n",
      "273           2    9       CDMX  ...    56.0      02/08/12     100   \n",
      "274           2    9       CDMX  ...    47.0      13/06/12     100   \n",
      "276           2   19       N.L.  ...    49.0      02/06/11     100   \n",
      "279           1   19       N.L.  ...    34.0      04/08/10     200   \n",
      "\n",
      "    SIN_DECRIPTION                                    DIS_DESCRIPTION  COVERS  \\\n",
      "272      ACCIDENTE  TRAUMATISMO DE CADERA                         ...     3.0   \n",
      "273     ENFERMEDAD  ESPOLON CALCANEO                              ...     1.0   \n",
      "274     ENFERMEDAD  LITIASIS RENAL                                ...     1.0   \n",
      "276     ENFERMEDAD  CA DE MAMA                                    ...     1.0   \n",
      "279       EMBARAZO  EMB CESAREA                                   ...     2.0   \n",
      "\n",
      "     TOTAL_CLAIM  TOTAL_PAID  DIFF_MOUNT CLAIMS  \n",
      "272      90493.0    180986.0    271479.0      1  \n",
      "273    3023355.0   5865310.0   8888665.0      4  \n",
      "274     134400.0    134400.0    268800.0      1  \n",
      "276    3854796.0   7008716.0  10863512.0      7  \n",
      "279    2614088.0   4943900.0   7557988.0      1  \n",
      "\n",
      "[5 rows x 28 columns]\n"
     ]
    }
   ],
   "source": [
    "df=df.dropna(axis=0)\n",
    "print(df.head())"
   ]
  },
  {
   "cell_type": "code",
   "execution_count": 185,
   "metadata": {
    "collapsed": true
   },
   "outputs": [],
   "source": [
    "features = ['NSINIEST', 'NPOLIZA', 'RAMSUBRAMO', 'RAMO', 'SUBRAMO', 'DATE_INIT',\n",
    "       'INI_ANIO', 'INDIVIDUAL', 'EDO', 'STATE_NAME', 'CITY', 'CITY_NAME',\n",
    "       'NASEG', 'NOMBTIT', 'GENDER', 'CVNFUMA', 'RIESGOCUP', 'CVEDOCIV', 'AGE',\n",
    "       'SINISTER_DATE', 'TIPOSIN', 'SIN_DECRIPTION', 'DIS_DESCRIPTION',\n",
    "       'COVERS', 'TOTAL_CLAIM', 'TOTAL_PAID', 'DIFF_MOUNT', 'CLAIMS', 'PAGADO',\n",
    "       'GRUPO', 'is_train', 'TRAIN']"
   ]
  },
  {
   "cell_type": "code",
   "execution_count": 7,
   "metadata": {
    "collapsed": true
   },
   "outputs": [],
   "source": [
    "from sklearn.model_selection import train_test_split\n",
    "\n",
    "df_train, df_test = train_test_split(df, test_size=0.33, random_state=42)"
   ]
  },
  {
   "cell_type": "code",
   "execution_count": null,
   "metadata": {
    "collapsed": true
   },
   "outputs": [],
   "source": []
  },
  {
   "cell_type": "code",
   "execution_count": 23,
   "metadata": {
    "collapsed": true
   },
   "outputs": [],
   "source": [
    "from sklearn.cluster import KMeans\n",
    "\n",
    "# Initialize the model with 2 parameters -- number of clusters and random state.\n",
    "kmeans_model = KMeans(n_clusters=5, random_state=1)\n",
    "# Get only the numeric columns from games.\n",
    "df_transformed = df._get_numeric_data()"
   ]
  },
  {
   "cell_type": "code",
   "execution_count": 24,
   "metadata": {
    "collapsed": false
   },
   "outputs": [
    {
     "name": "stdout",
     "output_type": "stream",
     "text": [
      "     NSINIEST  NPOLIZA  RAMSUBRAMO  INI_ANIO  INDIVIDUAL  EDO  CITY  GENDER  \\\n",
      "272  12036775   671801       30041         1           1    9   1.0     1.0   \n",
      "273  12043520     1019        1038         1           2    9   1.0     2.0   \n",
      "274  12028046     1008        1038         1           2    9   1.0     2.0   \n",
      "276  11018531   282610        1028         9           2   19   7.0     2.0   \n",
      "279  10022000   315502        1026         2           1   19   7.0     2.0   \n",
      "\n",
      "     CVNFUMA  RIESGOCUP  CVEDOCIV   AGE  TIPOSIN  COVERS  TOTAL_CLAIM  \\\n",
      "272      1.0        0.0       0.0   9.0      300     3.0      90493.0   \n",
      "273      0.0        0.0       0.0  56.0      100     1.0    3023355.0   \n",
      "274      0.0        0.0       0.0  47.0      100     1.0     134400.0   \n",
      "276      0.0        0.0       0.0  49.0      100     1.0    3854796.0   \n",
      "279      0.0        0.0       0.0  34.0      200     2.0    2614088.0   \n",
      "\n",
      "     TOTAL_PAID  DIFF_MOUNT  CLAIMS  \n",
      "272    180986.0    271479.0       1  \n",
      "273   5865310.0   8888665.0       4  \n",
      "274    134400.0    268800.0       1  \n",
      "276   7008716.0  10863512.0       7  \n",
      "279   4943900.0   7557988.0       1  \n"
     ]
    }
   ],
   "source": [
    "print(df_transformed.head())"
   ]
  },
  {
   "cell_type": "code",
   "execution_count": 19,
   "metadata": {
    "collapsed": false
   },
   "outputs": [
    {
     "name": "stderr",
     "output_type": "stream",
     "text": [
      "C:\\ProgramData\\Anaconda3\\lib\\site-packages\\sklearn\\utils\\validation.py:395: DeprecationWarning: Passing 1d arrays as data is deprecated in 0.17 and will raise ValueError in 0.19. Reshape your data either using X.reshape(-1, 1) if your data has a single feature or X.reshape(1, -1) if it contains a single sample.\n",
      "  DeprecationWarning)\n"
     ]
    }
   ],
   "source": [
    "binarizer = preprocessing.Binarizer(threshold=10)\n",
    "new_anio= binarizer.transform(df_transformed['INI_ANIO'])"
   ]
  },
  {
   "cell_type": "code",
   "execution_count": 25,
   "metadata": {
    "collapsed": false
   },
   "outputs": [],
   "source": [
    "#df_transformed['INI_ANIO']=pd.DataFrame(np.transpose(new_anio))\n",
    "#df_transformed"
   ]
  },
  {
   "cell_type": "code",
   "execution_count": 26,
   "metadata": {
    "collapsed": false
   },
   "outputs": [],
   "source": [
    "#deprecate al escalamiento\n",
    "#X_scaled = preprocessing.scale(good_columns)\n",
    "#X_scaled"
   ]
  },
  {
   "cell_type": "code",
   "execution_count": 56,
   "metadata": {
    "collapsed": false
   },
   "outputs": [
    {
     "data": {
      "text/plain": [
       "array([[  9.98049450e-01,   5.57035101e-02,   2.49090006e-03, ...,\n",
       "          1.50067587e-02,   2.25101380e-02,   8.29166824e-08],\n",
       "       [  7.36228444e-01,   6.22921525e-05,   6.34536352e-05, ...,\n",
       "          3.58550329e-01,   5.43370045e-01,   2.44522679e-07],\n",
       "       [  9.99625636e-01,   8.37727625e-05,   8.62659995e-05, ...,\n",
       "          1.11697017e-02,   2.23394033e-02,   8.31078993e-08],\n",
       "       ..., \n",
       "       [  8.28107991e-01,   1.93292478e-02,   7.20609429e-05, ...,\n",
       "          2.97970899e-01,   4.49554530e-01,   2.75041767e-07],\n",
       "       [  9.99998702e-01,   9.73689669e-06,   9.87797777e-06, ...,\n",
       "          6.57720663e-04,   1.31544133e-03,   3.28860331e-10],\n",
       "       [  9.97248975e-01,   6.20625654e-02,   2.98689289e-03, ...,\n",
       "          2.16055333e-02,   3.24082999e-02,   9.94272125e-08]])"
      ]
     },
     "execution_count": 56,
     "metadata": {},
     "output_type": "execute_result"
    }
   ],
   "source": [
    "df_normalized = preprocessing.normalize(df_transformed, norm='l2')\n",
    "df_normalized "
   ]
  },
  {
   "cell_type": "code",
   "execution_count": 28,
   "metadata": {
    "collapsed": true
   },
   "outputs": [],
   "source": [
    "#Ajuste de modelo normalizado\n",
    "#kmeans_model.fit(good_columns)\n",
    "kmeans_model.fit(X_normalized)\n",
    "# Get the cluster assignments.\n",
    "labels = kmeans_model.labels_"
   ]
  },
  {
   "cell_type": "code",
   "execution_count": 29,
   "metadata": {
    "collapsed": false
   },
   "outputs": [
    {
     "data": {
      "text/plain": [
       "array([0, 1, 0, ..., 2, 0, 0])"
      ]
     },
     "execution_count": 29,
     "metadata": {},
     "output_type": "execute_result"
    }
   ],
   "source": [
    "labels"
   ]
  },
  {
   "cell_type": "code",
   "execution_count": null,
   "metadata": {
    "collapsed": true
   },
   "outputs": [],
   "source": []
  },
  {
   "cell_type": "code",
   "execution_count": 30,
   "metadata": {
    "collapsed": false
   },
   "outputs": [
    {
     "data": {
      "image/png": "[encoded data removed]",
      "text/plain": [
       "<matplotlib.figure.Figure at 0xb02cb70>"
      ]
     },
     "metadata": {},
     "output_type": "display_data"
    }
   ],
   "source": [
    "# Import the PCA model.\n",
    "from sklearn.decomposition import PCA\n",
    "\n",
    "# Create a PCA model.\n",
    "pca_2 = PCA(2)\n",
    "# Fit the PCA model on the numeric columns from earlier.\n",
    "plot_columns = pca_2.fit_transform(X_normalized)\n",
    "# Make a scatter plot of each game, shaded according to cluster assignment.\n",
    "plt.scatter(x=plot_columns[:,0], y=plot_columns[:,1], c=labels)\n",
    "plt.scatter(x=plot_columns[:,0], y=plot_columns[:,1], marker='o', s = 500, linewidths=2, c='none')\n",
    "# Show the plot.\n",
    "plt.show()"
   ]
  },
  {
   "cell_type": "code",
   "execution_count": null,
   "metadata": {
    "collapsed": true
   },
   "outputs": [],
   "source": []
  },
  {
   "cell_type": "code",
   "execution_count": null,
   "metadata": {
    "collapsed": false
   },
   "outputs": [
    {
     "ename": "MemoryError",
     "evalue": "",
     "output_type": "error",
     "traceback": [
      "\u001b[0;31m---------------------------------------------------------------------------\u001b[0m",
      "\u001b[0;31mMemoryError\u001b[0m                               Traceback (most recent call last)",
      "\u001b[0;32m<ipython-input-17-e66906acaf0d>\u001b[0m in \u001b[0;36m<module>\u001b[0;34m()\u001b[0m\n\u001b[1;32m      2\u001b[0m \u001b[1;32mfrom\u001b[0m \u001b[0msklearn\u001b[0m \u001b[1;32mimport\u001b[0m \u001b[0mmetrics\u001b[0m\u001b[1;33m\u001b[0m\u001b[0m\n\u001b[1;32m      3\u001b[0m \u001b[1;33m\u001b[0m\u001b[0m\n\u001b[0;32m----> 4\u001b[0;31m \u001b[0mdb\u001b[0m \u001b[1;33m=\u001b[0m \u001b[0mDBSCAN\u001b[0m\u001b[1;33m(\u001b[0m\u001b[0meps\u001b[0m\u001b[1;33m=\u001b[0m\u001b[1;36m0.3\u001b[0m\u001b[1;33m,\u001b[0m \u001b[0mmin_samples\u001b[0m\u001b[1;33m=\u001b[0m\u001b[1;36m10\u001b[0m\u001b[1;33m)\u001b[0m\u001b[1;33m.\u001b[0m\u001b[0mfit\u001b[0m\u001b[1;33m(\u001b[0m\u001b[0mX_normalized\u001b[0m\u001b[1;33m)\u001b[0m\u001b[1;33m\u001b[0m\u001b[0m\n\u001b[0m\u001b[1;32m      5\u001b[0m \u001b[0mcore_samples_mask\u001b[0m \u001b[1;33m=\u001b[0m \u001b[0mnp\u001b[0m\u001b[1;33m.\u001b[0m\u001b[0mzeros_like\u001b[0m\u001b[1;33m(\u001b[0m\u001b[0mdb\u001b[0m\u001b[1;33m.\u001b[0m\u001b[0mlabels_\u001b[0m\u001b[1;33m,\u001b[0m \u001b[0mdtype\u001b[0m\u001b[1;33m=\u001b[0m\u001b[0mbool\u001b[0m\u001b[1;33m)\u001b[0m\u001b[1;33m\u001b[0m\u001b[0m\n\u001b[1;32m      6\u001b[0m \u001b[0mcore_samples_mask\u001b[0m\u001b[1;33m[\u001b[0m\u001b[0mdb\u001b[0m\u001b[1;33m.\u001b[0m\u001b[0mcore_sample_indices_\u001b[0m\u001b[1;33m]\u001b[0m \u001b[1;33m=\u001b[0m \u001b[1;32mTrue\u001b[0m\u001b[1;33m\u001b[0m\u001b[0m\n",
      "\u001b[0;32mC:\\ProgramData\\Anaconda3\\lib\\site-packages\\sklearn\\cluster\\dbscan_.py\u001b[0m in \u001b[0;36mfit\u001b[0;34m(self, X, y, sample_weight)\u001b[0m\n\u001b[1;32m    264\u001b[0m         \u001b[0mX\u001b[0m \u001b[1;33m=\u001b[0m \u001b[0mcheck_array\u001b[0m\u001b[1;33m(\u001b[0m\u001b[0mX\u001b[0m\u001b[1;33m,\u001b[0m \u001b[0maccept_sparse\u001b[0m\u001b[1;33m=\u001b[0m\u001b[1;34m'csr'\u001b[0m\u001b[1;33m)\u001b[0m\u001b[1;33m\u001b[0m\u001b[0m\n\u001b[1;32m    265\u001b[0m         clust = dbscan(X, sample_weight=sample_weight,\n\u001b[0;32m--> 266\u001b[0;31m                        **self.get_params())\n\u001b[0m\u001b[1;32m    267\u001b[0m         \u001b[0mself\u001b[0m\u001b[1;33m.\u001b[0m\u001b[0mcore_sample_indices_\u001b[0m\u001b[1;33m,\u001b[0m \u001b[0mself\u001b[0m\u001b[1;33m.\u001b[0m\u001b[0mlabels_\u001b[0m \u001b[1;33m=\u001b[0m \u001b[0mclust\u001b[0m\u001b[1;33m\u001b[0m\u001b[0m\n\u001b[1;32m    268\u001b[0m         \u001b[1;32mif\u001b[0m \u001b[0mlen\u001b[0m\u001b[1;33m(\u001b[0m\u001b[0mself\u001b[0m\u001b[1;33m.\u001b[0m\u001b[0mcore_sample_indices_\u001b[0m\u001b[1;33m)\u001b[0m\u001b[1;33m:\u001b[0m\u001b[1;33m\u001b[0m\u001b[0m\n",
      "\u001b[0;32mC:\\ProgramData\\Anaconda3\\lib\\site-packages\\sklearn\\cluster\\dbscan_.py\u001b[0m in \u001b[0;36mdbscan\u001b[0;34m(X, eps, min_samples, metric, algorithm, leaf_size, p, sample_weight, n_jobs)\u001b[0m\n\u001b[1;32m    136\u001b[0m         \u001b[1;31m# This has worst case O(n^2) memory complexity\u001b[0m\u001b[1;33m\u001b[0m\u001b[1;33m\u001b[0m\u001b[0m\n\u001b[1;32m    137\u001b[0m         neighborhoods = neighbors_model.radius_neighbors(X, eps,\n\u001b[0;32m--> 138\u001b[0;31m                                                          return_distance=False)\n\u001b[0m\u001b[1;32m    139\u001b[0m \u001b[1;33m\u001b[0m\u001b[0m\n\u001b[1;32m    140\u001b[0m     \u001b[1;32mif\u001b[0m \u001b[0msample_weight\u001b[0m \u001b[1;32mis\u001b[0m \u001b[1;32mNone\u001b[0m\u001b[1;33m:\u001b[0m\u001b[1;33m\u001b[0m\u001b[0m\n",
      "\u001b[0;32mC:\\ProgramData\\Anaconda3\\lib\\site-packages\\sklearn\\neighbors\\base.py\u001b[0m in \u001b[0;36mradius_neighbors\u001b[0;34m(self, X, radius, return_distance)\u001b[0m\n\u001b[1;32m    619\u001b[0m                     \"or set algorithm='brute'\" % self._fit_method)\n\u001b[1;32m    620\u001b[0m             results = self._tree.query_radius(X, radius,\n\u001b[0;32m--> 621\u001b[0;31m                                               return_distance=return_distance)\n\u001b[0m\u001b[1;32m    622\u001b[0m             \u001b[1;32mif\u001b[0m \u001b[0mreturn_distance\u001b[0m\u001b[1;33m:\u001b[0m\u001b[1;33m\u001b[0m\u001b[0m\n\u001b[1;32m    623\u001b[0m                 \u001b[0mresults\u001b[0m \u001b[1;33m=\u001b[0m \u001b[0mresults\u001b[0m\u001b[1;33m[\u001b[0m\u001b[1;33m:\u001b[0m\u001b[1;33m:\u001b[0m\u001b[1;33m-\u001b[0m\u001b[1;36m1\u001b[0m\u001b[1;33m]\u001b[0m\u001b[1;33m\u001b[0m\u001b[0m\n",
      "\u001b[0;32msklearn\\neighbors\\binary_tree.pxi\u001b[0m in \u001b[0;36msklearn.neighbors.kd_tree.BinaryTree.query_radius (sklearn\\neighbors\\kd_tree.c:13414)\u001b[0;34m()\u001b[0m\n",
      "\u001b[0;31mMemoryError\u001b[0m: "
     ]
    }
   ],
   "source": [
    "#no corrio\n",
    "from sklearn.cluster import DBSCAN\n",
    "from sklearn import metrics\n",
    "\n",
    "db = DBSCAN(eps=0.3, min_samples=10).fit(X_normalized)\n",
    "core_samples_mask = np.zeros_like(db.labels_, dtype=bool)\n",
    "core_samples_mask[db.core_sample_indices_] = True\n",
    "labels = db.labels_"
   ]
  },
  {
   "cell_type": "code",
   "execution_count": 77,
   "metadata": {
    "collapsed": true
   },
   "outputs": [],
   "source": [
    "from sklearn import linear_model as lm\n",
    "lr = lm.LinearRegression()"
   ]
  },
  {
   "cell_type": "code",
   "execution_count": 51,
   "metadata": {
    "collapsed": false
   },
   "outputs": [],
   "source": [
    "#df.columns\n",
    "features=['NPOLIZA', 'RAMSUBRAMO', 'RAMO', 'SUBRAMO', 'DATE_INIT',\n",
    "       'INI_ANIO', 'INDIVIDUAL', 'EDO', 'CITY','NASEG','GENDER', 'CVNFUMA', 'RIESGOCUP', 'CVEDOCIV', 'AGE',\n",
    "       'SINISTER_DATE', 'TIPOSIN', 'SIN_DECRIPTION', 'DIS_DESCRIPTION',\n",
    "       'COVERS', 'TOTAL_CLAIM', 'TOTAL_PAID', 'DIFF_MOUNT', 'CLAIMS']\n",
    "#features"
   ]
  },
  {
   "cell_type": "code",
   "execution_count": 72,
   "metadata": {
    "collapsed": false
   },
   "outputs": [],
   "source": [
    "features=['NSINIEST', 'NPOLIZA', 'RAMSUBRAMO', 'INI_ANIO', 'INDIVIDUAL', 'EDO',\n",
    "       'CITY', 'GENDER', 'CVNFUMA', 'RIESGOCUP', 'CVEDOCIV', 'AGE', 'TIPOSIN',\n",
    "       'COVERS', 'TOTAL_CLAIM', 'TOTAL_PAID', 'DIFF_MOUNT']"
   ]
  },
  {
   "cell_type": "code",
   "execution_count": 73,
   "metadata": {
    "collapsed": true
   },
   "outputs": [],
   "source": [
    "features_train, features_test, claims_train, claims_test = train_test_split(df_transformed[features], \n",
    "                                                                            df_transformed['CLAIMS'], \n",
    "                                                                            test_size=0.33, random_state=42)"
   ]
  },
  {
   "cell_type": "code",
   "execution_count": 74,
   "metadata": {
    "collapsed": false
   },
   "outputs": [],
   "source": [
    "#hacer validación cruzada y predice\n",
    "from sklearn.model_selection import cross_val_predict\n",
    "pred = cross_val_predict(lr, features_train, claims_train, cv=10)"
   ]
  },
  {
   "cell_type": "code",
   "execution_count": 86,
   "metadata": {
    "collapsed": false,
    "scrolled": true
   },
   "outputs": [
    {
     "data": {
      "image/png": "[encoded data removed]",
      "text/plain": [
       "<matplotlib.figure.Figure at 0xdedf198>"
      ]
     },
     "metadata": {},
     "output_type": "display_data"
    }
   ],
   "source": [
    "fig, ax = plt.subplots()\n",
    "ax.scatter(claims_train, pred)\n",
    "ax.plot([claims_train.min(), claims_train.max()], [claims_train.min(), claims_train.max()], 'k--', lw=4)\n",
    "ax.set_xlabel('Reclamaciones')\n",
    "ax.set_ylabel('Predicciones')\n",
    "plt.show()"
   ]
  },
  {
   "cell_type": "code",
   "execution_count": 85,
   "metadata": {
    "collapsed": false
   },
   "outputs": [
    {
     "name": "stdout",
     "output_type": "stream",
     "text": [
      "Mean squared error: 10.20\n"
     ]
    }
   ],
   "source": [
    "# The mean squared error\n",
    "print(\"Mean squared error: %.2f\"\n",
    "      % np.mean((pred - claims_train) ** 2))\n",
    "#tiene que tender a cero"
   ]
  },
  {
   "cell_type": "code",
   "execution_count": 91,
   "metadata": {
    "collapsed": false
   },
   "outputs": [
    {
     "name": "stdout",
     "output_type": "stream",
     "text": [
      "[ 126.84247142]\n"
     ]
    },
    {
     "name": "stderr",
     "output_type": "stream",
     "text": [
      "C:\\ProgramData\\Anaconda3\\lib\\site-packages\\sklearn\\utils\\validation.py:395: DeprecationWarning: Passing 1d arrays as data is deprecated in 0.17 and will raise ValueError in 0.19. Reshape your data either using X.reshape(-1, 1) if your data has a single feature or X.reshape(1, -1) if it contains a single sample.\n",
      "  DeprecationWarning)\n",
      "C:\\ProgramData\\Anaconda3\\lib\\site-packages\\sklearn\\utils\\validation.py:395: DeprecationWarning: Passing 1d arrays as data is deprecated in 0.17 and will raise ValueError in 0.19. Reshape your data either using X.reshape(-1, 1) if your data has a single feature or X.reshape(1, -1) if it contains a single sample.\n",
      "  DeprecationWarning)\n"
     ]
    }
   ],
   "source": [
    "#Ahora intentar con modelo polinomial\n",
    "from sklearn.preprocessing import PolynomialFeatures\n",
    "\n",
    "X = [[0.44, 0.68], [0.99, 0.23]]\n",
    "vector = [109.85, 155.72]\n",
    "predict= [0.49, 0.18]\n",
    "\n",
    "poly = PolynomialFeatures(degree=2)\n",
    "X_ = poly.fit_transform(X)\n",
    "predict_ = poly.fit_transform(predict)\n",
    "\n",
    "clf = lm.LinearRegression()\n",
    "clf.fit(X_, vector)\n",
    "print (clf.predict(predict_))"
   ]
  },
  {
   "cell_type": "code",
   "execution_count": null,
   "metadata": {
    "collapsed": true
   },
   "outputs": [],
   "source": []
  },
  {
   "cell_type": "code",
   "execution_count": 94,
   "metadata": {
    "collapsed": false
   },
   "outputs": [],
   "source": [
    "from sklearn.ensemble import RandomForestRegressor\n",
    "from sklearn.model_selection import train_test_split\n",
    "from sklearn.multioutput import MultiOutputRegressor"
   ]
  },
  {
   "cell_type": "code",
   "execution_count": null,
   "metadata": {
    "collapsed": true
   },
   "outputs": [],
   "source": [
    "feat_rf=['NSINIEST', 'NPOLIZA', 'RAMSUBRAMO', 'INI_ANIO', 'INDIVIDUAL', 'EDO',\n",
    "       'CITY', 'GENDER', 'CVNFUMA', 'RIESGOCUP', 'CVEDOCIV', 'AGE', 'TIPOSIN',\n",
    "       'COVERS', 'TOTAL_CLAIM', 'TOTAL_PAID', 'DIFF_MOUNT']"
   ]
  },
  {
   "cell_type": "code",
   "execution_count": 105,
   "metadata": {
    "collapsed": false
   },
   "outputs": [],
   "source": [
    "# Configura los niveles de los arboles\n",
    "rng = np.random.RandomState(1)\n",
    "X = np.sort(200 * rng.rand(600, 1) - 100, axis=0)\n",
    "y = np.array([np.pi * np.sin(X).ravel(), np.pi * np.cos(X).ravel()]).T\n",
    "y += (0.5 - rng.rand(*y.shape))\n",
    "\n",
    "X_train, X_test, y_train, y_test = train_test_split(X, y,train_size=400,random_state=4)"
   ]
  },
  {
   "cell_type": "code",
   "execution_count": 106,
   "metadata": {
    "collapsed": false
   },
   "outputs": [
    {
     "data": {
      "image/png": "[encoded data removed]",
      "text/plain": [
       "<matplotlib.figure.Figure at 0x1980f1d0>"
      ]
     },
     "metadata": {},
     "output_type": "display_data"
    }
   ],
   "source": [
    "max_depth = 30\n",
    "regr_multirf = MultiOutputRegressor(RandomForestRegressor(max_depth=max_depth,\n",
    "                                                          random_state=0))\n",
    "regr_multirf.fit(X_train, y_train)\n",
    "\n",
    "regr_rf = RandomForestRegressor(max_depth=max_depth, random_state=2)\n",
    "regr_rf.fit(X_train, y_train)\n",
    "\n",
    "# Predict on new data\n",
    "y_multirf = regr_multirf.predict(X_test)\n",
    "y_rf = regr_rf.predict(X_test)\n",
    "\n",
    "# Plot the results\n",
    "plt.figure()\n",
    "s = 50\n",
    "a = 0.4\n",
    "plt.scatter(y_test[:, 0], y_test[:, 1],\n",
    "            c=\"navy\", s=s, marker=\"s\", alpha=a, label=\"Data\")\n",
    "plt.scatter(y_multirf[:, 0], y_multirf[:, 1],\n",
    "            c=\"cornflowerblue\", s=s, alpha=a,\n",
    "            label=\"Multi RF score=%.2f\" % regr_multirf.score(X_test, y_test))\n",
    "plt.scatter(y_rf[:, 0], y_rf[:, 1],\n",
    "            c=\"c\", s=s, marker=\"^\", alpha=a,\n",
    "            label=\"RF score=%.2f\" % regr_rf.score(X_test, y_test))\n",
    "plt.xlim([-6, 6])\n",
    "plt.ylim([-6, 6])\n",
    "plt.xlabel(\"target 1\")\n",
    "plt.ylabel(\"target 2\")\n",
    "plt.title(\"Comparing random forests and the multi-output meta estimator\")\n",
    "plt.legend()\n",
    "plt.show()"
   ]
  },
  {
   "cell_type": "code",
   "execution_count": null,
   "metadata": {
    "collapsed": true
   },
   "outputs": [],
   "source": []
  },
  {
   "cell_type": "markdown",
   "metadata": {},
   "source": [
    "Analisis de enfermedades"
   ]
  },
  {
   "cell_type": "code",
   "execution_count": 172,
   "metadata": {
    "collapsed": false
   },
   "outputs": [],
   "source": [
    "df['GRUPO'] = df['DIS_DESCRIPTION'].str.split().str.get(0)\n",
    "#df.head()"
   ]
  },
  {
   "cell_type": "code",
   "execution_count": 173,
   "metadata": {
    "collapsed": false,
    "scrolled": true
   },
   "outputs": [
    {
     "name": "stdout",
     "output_type": "stream",
     "text": [
      "     NSINIEST  NPOLIZA  RAMSUBRAMO RAMO        SUBRAMO DATE_INIT  INI_ANIO  \\\n",
      "272  12036775   671801       30041   AP   AP COLECTIVO  12/03/12         1   \n",
      "273  12043520     1019        1038  GMM  GMM COLECTIVO  15/05/12         1   \n",
      "274  12028046     1008        1038  GMM  GMM COLECTIVO  15/05/12         1   \n",
      "\n",
      "     INDIVIDUAL  EDO STATE_NAME     ...       TIPOSIN SIN_DECRIPTION  \\\n",
      "272           1    9       CDMX     ...           300      ACCIDENTE   \n",
      "273           2    9       CDMX     ...           100     ENFERMEDAD   \n",
      "274           2    9       CDMX     ...           100     ENFERMEDAD   \n",
      "\n",
      "                                       DIS_DESCRIPTION COVERS  TOTAL_CLAIM  \\\n",
      "272  TRAUMATISMO DE CADERA                         ...    3.0      90493.0   \n",
      "273  ESPOLON CALCANEO                              ...    1.0    3023355.0   \n",
      "274  LITIASIS RENAL                                ...    1.0     134400.0   \n",
      "\n",
      "     TOTAL_PAID  DIFF_MOUNT  CLAIMS    PAGADO        GRUPO  \n",
      "272    180986.0    271479.0       1   1809.86  TRAUMATISMO  \n",
      "273   5865310.0   8888665.0       4  58653.10      ESPOLON  \n",
      "274    134400.0    268800.0       1   1344.00     LITIASIS  \n",
      "\n",
      "[3 rows x 30 columns]\n"
     ]
    }
   ],
   "source": [
    "df['PAGADO'] = df['TOTAL_PAID']/100\n",
    "print(df.head(3))"
   ]
  },
  {
   "cell_type": "code",
   "execution_count": 174,
   "metadata": {
    "collapsed": false
   },
   "outputs": [],
   "source": [
    "enf_desc = df.groupby('GRUPO').sum()\n",
    "enf_desc = enf_desc[['CLAIMS','PAGADO']]"
   ]
  },
  {
   "cell_type": "code",
   "execution_count": 175,
   "metadata": {
    "collapsed": false
   },
   "outputs": [
    {
     "name": "stdout",
     "output_type": "stream",
     "text": [
      "                   CLAIMS      PAGADO    AVG_RECLAM\n",
      "GRUPO                                              \n",
      "PLOITRAMATISMO          1  2000000.00  2.000000e+06\n",
      "TETRALOGIA              8  5055537.31  6.319422e+05\n",
      "SCASEST                 1   498620.54  4.986205e+05\n",
      "POLITRAUMATIZADO-       3  1452900.04  4.843000e+05\n",
      "COXARTOSIS              1   432068.66  4.320687e+05\n"
     ]
    }
   ],
   "source": [
    "enf_desc['AVG_RECLAM'] = enf_desc['PAGADO']/enf_desc['CLAIMS']\n",
    "enf_desc = enf_desc.sort_values(by='AVG_RECLAM', ascending=False)\n",
    "print(enf_desc.head(5))"
   ]
  },
  {
   "cell_type": "code",
   "execution_count": 176,
   "metadata": {
    "collapsed": false
   },
   "outputs": [
    {
     "name": "stdout",
     "output_type": "stream",
     "text": [
      "             CLAIMS        PAGADO    AVG_RECLAM\n",
      "GRUPO                                          \n",
      "ESGUINCE      28946  1.356752e+08   4687.183621\n",
      "FRACTURA      18605  2.623691e+08  14102.072219\n",
      "EMBARAZO      15444  2.951436e+08  19110.567449\n",
      "CONTUSION     12544  4.993131e+07   3980.493668\n",
      "HERNIA        11792  3.075001e+08  26077.010773\n",
      "LESION         8986  1.785976e+08  19875.099422\n",
      "TRAUMATISMO    8416  6.931000e+07   8235.503752\n",
      "FX             8386  9.026516e+07  10763.792380\n",
      "HERIDA         8006  4.488575e+07   5606.513923\n",
      "CESAREA        6720  1.040156e+08  15478.514310\n"
     ]
    }
   ],
   "source": [
    "print(enf_desc.sort_values(by='CLAIMS', ascending=False).head(10))"
   ]
  },
  {
   "cell_type": "code",
   "execution_count": 177,
   "metadata": {
    "collapsed": false
   },
   "outputs": [
    {
     "data": {
      "text/plain": [
       "16831.66084925169"
      ]
     },
     "execution_count": 177,
     "metadata": {},
     "output_type": "execute_result"
    }
   ],
   "source": [
    "#quitando arriba de 500k\n",
    "enf_desc[enf_desc['AVG_RECLAM']<100000]['AVG_RECLAM'].mean()"
   ]
  },
  {
   "cell_type": "code",
   "execution_count": 203,
   "metadata": {
    "collapsed": true
   },
   "outputs": [],
   "source": [
    "from sklearn.ensemble import RandomForestClassifier"
   ]
  },
  {
   "cell_type": "code",
   "execution_count": 180,
   "metadata": {
    "collapsed": false
   },
   "outputs": [],
   "source": [
    "df['TRAIN'] = np.random.uniform(0, 1, len(df)) <= .75\n",
    "# View the top 5 rows\n",
    "train, test = df[df['TRAIN']==True], df[df['TRAIN']==False]"
   ]
  },
  {
   "cell_type": "code",
   "execution_count": 181,
   "metadata": {
    "collapsed": false
   },
   "outputs": [
    {
     "name": "stdout",
     "output_type": "stream",
     "text": [
      "Datos en entrenamiento: 138592\n",
      "Datos en prueba: 46081\n"
     ]
    }
   ],
   "source": [
    "print('Datos en entrenamiento:', len(train))\n",
    "print('Datos en prueba:',len(test))"
   ]
  },
  {
   "cell_type": "code",
   "execution_count": 206,
   "metadata": {
    "collapsed": false
   },
   "outputs": [],
   "source": [
    "features_clf = ['RAMSUBRAMO'#,'RAMO','SUBRAMO',\n",
    "                ,'INI_ANIO','EDO',\n",
    "                   'GENDER','CVNFUMA','RIESGOCUP','AGE','TIPOSIN','COVERS','PAGADO']"
   ]
  },
  {
   "cell_type": "code",
   "execution_count": 208,
   "metadata": {
    "collapsed": false
   },
   "outputs": [
    {
     "ename": "JoblibMemoryError",
     "evalue": "JoblibMemoryError\n___________________________________________________________________________\nMultiprocessing exception:\n...........................................................................\nC:\\ProgramData\\Anaconda3\\lib\\runpy.py in _run_module_as_main(mod_name='ipykernel.__main__', alter_argv=1)\n    188         sys.exit(msg)\n    189     main_globals = sys.modules[\"__main__\"].__dict__\n    190     if alter_argv:\n    191         sys.argv[0] = mod_spec.origin\n    192     return _run_code(code, main_globals, None,\n--> 193                      \"__main__\", mod_spec)\n        mod_spec = ModuleSpec(name='ipykernel.__main__', loader=<_f...da3\\\\lib\\\\site-packages\\\\ipykernel\\\\__main__.py')\n    194 \n    195 def run_module(mod_name, init_globals=None,\n    196                run_name=None, alter_sys=False):\n    197     \"\"\"Execute a module's code without importing it\n\n...........................................................................\nC:\\ProgramData\\Anaconda3\\lib\\runpy.py in _run_code(code=<code object <module> at 0x0000000002CEBAE0, fil...lib\\site-packages\\ipykernel\\__main__.py\", line 1>, run_globals={'__annotations__': {}, '__builtins__': <module 'builtins' (built-in)>, '__cached__': r'C:\\ProgramData\\Anaconda3\\lib\\site-packages\\ipykernel\\__pycache__\\__main__.cpython-36.pyc', '__doc__': None, '__file__': r'C:\\ProgramData\\Anaconda3\\lib\\site-packages\\ipykernel\\__main__.py', '__loader__': <_frozen_importlib_external.SourceFileLoader object>, '__name__': '__main__', '__package__': 'ipykernel', '__spec__': ModuleSpec(name='ipykernel.__main__', loader=<_f...da3\\\\lib\\\\site-packages\\\\ipykernel\\\\__main__.py'), 'app': <module 'ipykernel.kernelapp' from 'C:\\\\ProgramD...a3\\\\lib\\\\site-packages\\\\ipykernel\\\\kernelapp.py'>}, init_globals=None, mod_name='__main__', mod_spec=ModuleSpec(name='ipykernel.__main__', loader=<_f...da3\\\\lib\\\\site-packages\\\\ipykernel\\\\__main__.py'), pkg_name='ipykernel', script_name=None)\n     80                        __cached__ = cached,\n     81                        __doc__ = None,\n     82                        __loader__ = loader,\n     83                        __package__ = pkg_name,\n     84                        __spec__ = mod_spec)\n---> 85     exec(code, run_globals)\n        code = <code object <module> at 0x0000000002CEBAE0, fil...lib\\site-packages\\ipykernel\\__main__.py\", line 1>\n        run_globals = {'__annotations__': {}, '__builtins__': <module 'builtins' (built-in)>, '__cached__': r'C:\\ProgramData\\Anaconda3\\lib\\site-packages\\ipykernel\\__pycache__\\__main__.cpython-36.pyc', '__doc__': None, '__file__': r'C:\\ProgramData\\Anaconda3\\lib\\site-packages\\ipykernel\\__main__.py', '__loader__': <_frozen_importlib_external.SourceFileLoader object>, '__name__': '__main__', '__package__': 'ipykernel', '__spec__': ModuleSpec(name='ipykernel.__main__', loader=<_f...da3\\\\lib\\\\site-packages\\\\ipykernel\\\\__main__.py'), 'app': <module 'ipykernel.kernelapp' from 'C:\\\\ProgramD...a3\\\\lib\\\\site-packages\\\\ipykernel\\\\kernelapp.py'>}\n     86     return run_globals\n     87 \n     88 def _run_module_code(code, init_globals=None,\n     89                     mod_name=None, mod_spec=None,\n\n...........................................................................\nC:\\ProgramData\\Anaconda3\\lib\\site-packages\\ipykernel\\__main__.py in <module>()\n      1 \n      2 \n----> 3 \n      4 if __name__ == '__main__':\n      5     from ipykernel import kernelapp as app\n      6     app.launch_new_instance()\n      7 \n      8 \n      9 \n     10 \n\n...........................................................................\nC:\\ProgramData\\Anaconda3\\lib\\site-packages\\traitlets\\config\\application.py in launch_instance(cls=<class 'ipykernel.kernelapp.IPKernelApp'>, argv=None, **kwargs={})\n    653 \n    654         If a global instance already exists, this reinitializes and starts it\n    655         \"\"\"\n    656         app = cls.instance(**kwargs)\n    657         app.initialize(argv)\n--> 658         app.start()\n        app.start = <bound method IPKernelApp.start of <ipykernel.kernelapp.IPKernelApp object>>\n    659 \n    660 #-----------------------------------------------------------------------------\n    661 # utility functions, for convenience\n    662 #-----------------------------------------------------------------------------\n\n...........................................................................\nC:\\ProgramData\\Anaconda3\\lib\\site-packages\\ipykernel\\kernelapp.py in start(self=<ipykernel.kernelapp.IPKernelApp object>)\n    469             return self.subapp.start()\n    470         if self.poller is not None:\n    471             self.poller.start()\n    472         self.kernel.start()\n    473         try:\n--> 474             ioloop.IOLoop.instance().start()\n    475         except KeyboardInterrupt:\n    476             pass\n    477 \n    478 launch_new_instance = IPKernelApp.launch_instance\n\n...........................................................................\nC:\\ProgramData\\Anaconda3\\lib\\site-packages\\zmq\\eventloop\\ioloop.py in start(self=<zmq.eventloop.ioloop.ZMQIOLoop object>)\n    172             )\n    173         return loop\n    174     \n    175     def start(self):\n    176         try:\n--> 177             super(ZMQIOLoop, self).start()\n        self.start = <bound method ZMQIOLoop.start of <zmq.eventloop.ioloop.ZMQIOLoop object>>\n    178         except ZMQError as e:\n    179             if e.errno == ETERM:\n    180                 # quietly return on ETERM\n    181                 pass\n\n...........................................................................\nC:\\ProgramData\\Anaconda3\\lib\\site-packages\\tornado\\ioloop.py in start(self=<zmq.eventloop.ioloop.ZMQIOLoop object>)\n    882                 self._events.update(event_pairs)\n    883                 while self._events:\n    884                     fd, events = self._events.popitem()\n    885                     try:\n    886                         fd_obj, handler_func = self._handlers[fd]\n--> 887                         handler_func(fd_obj, events)\n        handler_func = <function wrap.<locals>.null_wrapper>\n        fd_obj = <zmq.sugar.socket.Socket object>\n        events = 1\n    888                     except (OSError, IOError) as e:\n    889                         if errno_from_exception(e) == errno.EPIPE:\n    890                             # Happens when the client closes the connection\n    891                             pass\n\n...........................................................................\nC:\\ProgramData\\Anaconda3\\lib\\site-packages\\tornado\\stack_context.py in null_wrapper(*args=(<zmq.sugar.socket.Socket object>, 1), **kwargs={})\n    270         # Fast path when there are no active contexts.\n    271         def null_wrapper(*args, **kwargs):\n    272             try:\n    273                 current_state = _state.contexts\n    274                 _state.contexts = cap_contexts[0]\n--> 275                 return fn(*args, **kwargs)\n        args = (<zmq.sugar.socket.Socket object>, 1)\n        kwargs = {}\n    276             finally:\n    277                 _state.contexts = current_state\n    278         null_wrapper._wrapped = True\n    279         return null_wrapper\n\n...........................................................................\nC:\\ProgramData\\Anaconda3\\lib\\site-packages\\zmq\\eventloop\\zmqstream.py in _handle_events(self=<zmq.eventloop.zmqstream.ZMQStream object>, fd=<zmq.sugar.socket.Socket object>, events=1)\n    435             # dispatch events:\n    436             if events & IOLoop.ERROR:\n    437                 gen_log.error(\"got POLLERR event on ZMQStream, which doesn't make sense\")\n    438                 return\n    439             if events & IOLoop.READ:\n--> 440                 self._handle_recv()\n        self._handle_recv = <bound method ZMQStream._handle_recv of <zmq.eventloop.zmqstream.ZMQStream object>>\n    441                 if not self.socket:\n    442                     return\n    443             if events & IOLoop.WRITE:\n    444                 self._handle_send()\n\n...........................................................................\nC:\\ProgramData\\Anaconda3\\lib\\site-packages\\zmq\\eventloop\\zmqstream.py in _handle_recv(self=<zmq.eventloop.zmqstream.ZMQStream object>)\n    467                 gen_log.error(\"RECV Error: %s\"%zmq.strerror(e.errno))\n    468         else:\n    469             if self._recv_callback:\n    470                 callback = self._recv_callback\n    471                 # self._recv_callback = None\n--> 472                 self._run_callback(callback, msg)\n        self._run_callback = <bound method ZMQStream._run_callback of <zmq.eventloop.zmqstream.ZMQStream object>>\n        callback = <function wrap.<locals>.null_wrapper>\n        msg = [<zmq.sugar.frame.Frame object>, <zmq.sugar.frame.Frame object>, <zmq.sugar.frame.Frame object>, <zmq.sugar.frame.Frame object>, <zmq.sugar.frame.Frame object>, <zmq.sugar.frame.Frame object>, <zmq.sugar.frame.Frame object>]\n    473                 \n    474         # self.update_state()\n    475         \n    476 \n\n...........................................................................\nC:\\ProgramData\\Anaconda3\\lib\\site-packages\\zmq\\eventloop\\zmqstream.py in _run_callback(self=<zmq.eventloop.zmqstream.ZMQStream object>, callback=<function wrap.<locals>.null_wrapper>, *args=([<zmq.sugar.frame.Frame object>, <zmq.sugar.frame.Frame object>, <zmq.sugar.frame.Frame object>, <zmq.sugar.frame.Frame object>, <zmq.sugar.frame.Frame object>, <zmq.sugar.frame.Frame object>, <zmq.sugar.frame.Frame object>],), **kwargs={})\n    409         close our socket.\"\"\"\n    410         try:\n    411             # Use a NullContext to ensure that all StackContexts are run\n    412             # inside our blanket exception handler rather than outside.\n    413             with stack_context.NullContext():\n--> 414                 callback(*args, **kwargs)\n        callback = <function wrap.<locals>.null_wrapper>\n        args = ([<zmq.sugar.frame.Frame object>, <zmq.sugar.frame.Frame object>, <zmq.sugar.frame.Frame object>, <zmq.sugar.frame.Frame object>, <zmq.sugar.frame.Frame object>, <zmq.sugar.frame.Frame object>, <zmq.sugar.frame.Frame object>],)\n        kwargs = {}\n    415         except:\n    416             gen_log.error(\"Uncaught exception, closing connection.\",\n    417                           exc_info=True)\n    418             # Close the socket on an uncaught exception from a user callback\n\n...........................................................................\nC:\\ProgramData\\Anaconda3\\lib\\site-packages\\tornado\\stack_context.py in null_wrapper(*args=([<zmq.sugar.frame.Frame object>, <zmq.sugar.frame.Frame object>, <zmq.sugar.frame.Frame object>, <zmq.sugar.frame.Frame object>, <zmq.sugar.frame.Frame object>, <zmq.sugar.frame.Frame object>, <zmq.sugar.frame.Frame object>],), **kwargs={})\n    270         # Fast path when there are no active contexts.\n    271         def null_wrapper(*args, **kwargs):\n    272             try:\n    273                 current_state = _state.contexts\n    274                 _state.contexts = cap_contexts[0]\n--> 275                 return fn(*args, **kwargs)\n        args = ([<zmq.sugar.frame.Frame object>, <zmq.sugar.frame.Frame object>, <zmq.sugar.frame.Frame object>, <zmq.sugar.frame.Frame object>, <zmq.sugar.frame.Frame object>, <zmq.sugar.frame.Frame object>, <zmq.sugar.frame.Frame object>],)\n        kwargs = {}\n    276             finally:\n    277                 _state.contexts = current_state\n    278         null_wrapper._wrapped = True\n    279         return null_wrapper\n\n...........................................................................\nC:\\ProgramData\\Anaconda3\\lib\\site-packages\\ipykernel\\kernelbase.py in dispatcher(msg=[<zmq.sugar.frame.Frame object>, <zmq.sugar.frame.Frame object>, <zmq.sugar.frame.Frame object>, <zmq.sugar.frame.Frame object>, <zmq.sugar.frame.Frame object>, <zmq.sugar.frame.Frame object>, <zmq.sugar.frame.Frame object>])\n    271         if self.control_stream:\n    272             self.control_stream.on_recv(self.dispatch_control, copy=False)\n    273 \n    274         def make_dispatcher(stream):\n    275             def dispatcher(msg):\n--> 276                 return self.dispatch_shell(stream, msg)\n        msg = [<zmq.sugar.frame.Frame object>, <zmq.sugar.frame.Frame object>, <zmq.sugar.frame.Frame object>, <zmq.sugar.frame.Frame object>, <zmq.sugar.frame.Frame object>, <zmq.sugar.frame.Frame object>, <zmq.sugar.frame.Frame object>]\n    277             return dispatcher\n    278 \n    279         for s in self.shell_streams:\n    280             s.on_recv(make_dispatcher(s), copy=False)\n\n...........................................................................\nC:\\ProgramData\\Anaconda3\\lib\\site-packages\\ipykernel\\kernelbase.py in dispatch_shell(self=<ipykernel.ipkernel.IPythonKernel object>, stream=<zmq.eventloop.zmqstream.ZMQStream object>, msg={'buffers': [], 'content': {'allow_stdin': True, 'code': '# Create a random forest classifier. By conventi...the species)\\nclf.fit(train[features_clf], target)', 'silent': False, 'stop_on_error': True, 'store_history': True, 'user_expressions': {}}, 'header': {'date': '2017-05-12T14:02:05.334000', 'msg_id': '687E30CAC1B7480F854C9E067C11FF91', 'msg_type': 'execute_request', 'session': 'F7C935D0D65A4F0F89F64930A734E1BB', 'username': 'username', 'version': '5.0'}, 'metadata': {}, 'msg_id': '687E30CAC1B7480F854C9E067C11FF91', 'msg_type': 'execute_request', 'parent_header': {}})\n    223             self.log.error(\"UNKNOWN MESSAGE TYPE: %r\", msg_type)\n    224         else:\n    225             self.log.debug(\"%s: %s\", msg_type, msg)\n    226             self.pre_handler_hook()\n    227             try:\n--> 228                 handler(stream, idents, msg)\n        handler = <bound method Kernel.execute_request of <ipykernel.ipkernel.IPythonKernel object>>\n        stream = <zmq.eventloop.zmqstream.ZMQStream object>\n        idents = [b'F7C935D0D65A4F0F89F64930A734E1BB']\n        msg = {'buffers': [], 'content': {'allow_stdin': True, 'code': '# Create a random forest classifier. By conventi...the species)\\nclf.fit(train[features_clf], target)', 'silent': False, 'stop_on_error': True, 'store_history': True, 'user_expressions': {}}, 'header': {'date': '2017-05-12T14:02:05.334000', 'msg_id': '687E30CAC1B7480F854C9E067C11FF91', 'msg_type': 'execute_request', 'session': 'F7C935D0D65A4F0F89F64930A734E1BB', 'username': 'username', 'version': '5.0'}, 'metadata': {}, 'msg_id': '687E30CAC1B7480F854C9E067C11FF91', 'msg_type': 'execute_request', 'parent_header': {}}\n    229             except Exception:\n    230                 self.log.error(\"Exception in message handler:\", exc_info=True)\n    231             finally:\n    232                 self.post_handler_hook()\n\n...........................................................................\nC:\\ProgramData\\Anaconda3\\lib\\site-packages\\ipykernel\\kernelbase.py in execute_request(self=<ipykernel.ipkernel.IPythonKernel object>, stream=<zmq.eventloop.zmqstream.ZMQStream object>, ident=[b'F7C935D0D65A4F0F89F64930A734E1BB'], parent={'buffers': [], 'content': {'allow_stdin': True, 'code': '# Create a random forest classifier. By conventi...the species)\\nclf.fit(train[features_clf], target)', 'silent': False, 'stop_on_error': True, 'store_history': True, 'user_expressions': {}}, 'header': {'date': '2017-05-12T14:02:05.334000', 'msg_id': '687E30CAC1B7480F854C9E067C11FF91', 'msg_type': 'execute_request', 'session': 'F7C935D0D65A4F0F89F64930A734E1BB', 'username': 'username', 'version': '5.0'}, 'metadata': {}, 'msg_id': '687E30CAC1B7480F854C9E067C11FF91', 'msg_type': 'execute_request', 'parent_header': {}})\n    385         if not silent:\n    386             self.execution_count += 1\n    387             self._publish_execute_input(code, parent, self.execution_count)\n    388 \n    389         reply_content = self.do_execute(code, silent, store_history,\n--> 390                                         user_expressions, allow_stdin)\n        user_expressions = {}\n        allow_stdin = True\n    391 \n    392         # Flush output before sending the reply.\n    393         sys.stdout.flush()\n    394         sys.stderr.flush()\n\n...........................................................................\nC:\\ProgramData\\Anaconda3\\lib\\site-packages\\ipykernel\\ipkernel.py in do_execute(self=<ipykernel.ipkernel.IPythonKernel object>, code='# Create a random forest classifier. By conventi...the species)\\nclf.fit(train[features_clf], target)', silent=False, store_history=True, user_expressions={}, allow_stdin=True)\n    191 \n    192         self._forward_input(allow_stdin)\n    193 \n    194         reply_content = {}\n    195         try:\n--> 196             res = shell.run_cell(code, store_history=store_history, silent=silent)\n        res = undefined\n        shell.run_cell = <bound method ZMQInteractiveShell.run_cell of <ipykernel.zmqshell.ZMQInteractiveShell object>>\n        code = '# Create a random forest classifier. By conventi...the species)\\nclf.fit(train[features_clf], target)'\n        store_history = True\n        silent = False\n    197         finally:\n    198             self._restore_input()\n    199 \n    200         if res.error_before_exec is not None:\n\n...........................................................................\nC:\\ProgramData\\Anaconda3\\lib\\site-packages\\ipykernel\\zmqshell.py in run_cell(self=<ipykernel.zmqshell.ZMQInteractiveShell object>, *args=('# Create a random forest classifier. By conventi...the species)\\nclf.fit(train[features_clf], target)',), **kwargs={'silent': False, 'store_history': True})\n    496             )\n    497         self.payload_manager.write_payload(payload)\n    498 \n    499     def run_cell(self, *args, **kwargs):\n    500         self._last_traceback = None\n--> 501         return super(ZMQInteractiveShell, self).run_cell(*args, **kwargs)\n        self.run_cell = <bound method ZMQInteractiveShell.run_cell of <ipykernel.zmqshell.ZMQInteractiveShell object>>\n        args = ('# Create a random forest classifier. By conventi...the species)\\nclf.fit(train[features_clf], target)',)\n        kwargs = {'silent': False, 'store_history': True}\n    502 \n    503     def _showtraceback(self, etype, evalue, stb):\n    504         # try to preserve ordering of tracebacks and print statements\n    505         sys.stdout.flush()\n\n...........................................................................\nC:\\ProgramData\\Anaconda3\\lib\\site-packages\\IPython\\core\\interactiveshell.py in run_cell(self=<ipykernel.zmqshell.ZMQInteractiveShell object>, raw_cell='# Create a random forest classifier. By conventi...the species)\\nclf.fit(train[features_clf], target)', store_history=True, silent=False, shell_futures=True)\n   2712                 self.displayhook.exec_result = result\n   2713 \n   2714                 # Execute the user code\n   2715                 interactivity = \"none\" if silent else self.ast_node_interactivity\n   2716                 has_raised = self.run_ast_nodes(code_ast.body, cell_name,\n-> 2717                    interactivity=interactivity, compiler=compiler, result=result)\n        interactivity = 'last_expr'\n        compiler = <IPython.core.compilerop.CachingCompiler object>\n   2718                 \n   2719                 self.last_execution_succeeded = not has_raised\n   2720 \n   2721                 # Reset this so later displayed values do not modify the\n\n...........................................................................\nC:\\ProgramData\\Anaconda3\\lib\\site-packages\\IPython\\core\\interactiveshell.py in run_ast_nodes(self=<ipykernel.zmqshell.ZMQInteractiveShell object>, nodelist=[<_ast.Assign object>, <_ast.Expr object>], cell_name='<ipython-input-208-18e1f5381dec>', interactivity='last', compiler=<IPython.core.compilerop.CachingCompiler object>, result=<ExecutionResult object at 3c244cf8, execution_c..._before_exec=None error_in_exec=None result=None>)\n   2822                     return True\n   2823 \n   2824             for i, node in enumerate(to_run_interactive):\n   2825                 mod = ast.Interactive([node])\n   2826                 code = compiler(mod, cell_name, \"single\")\n-> 2827                 if self.run_code(code, result):\n        self.run_code = <bound method InteractiveShell.run_code of <ipykernel.zmqshell.ZMQInteractiveShell object>>\n        code = <code object <module> at 0x00000000383C5300, file \"<ipython-input-208-18e1f5381dec>\", line 6>\n        result = <ExecutionResult object at 3c244cf8, execution_c..._before_exec=None error_in_exec=None result=None>\n   2828                     return True\n   2829 \n   2830             # Flush softspace\n   2831             if softspace(sys.stdout, 0):\n\n...........................................................................\nC:\\ProgramData\\Anaconda3\\lib\\site-packages\\IPython\\core\\interactiveshell.py in run_code(self=<ipykernel.zmqshell.ZMQInteractiveShell object>, code_obj=<code object <module> at 0x00000000383C5300, file \"<ipython-input-208-18e1f5381dec>\", line 6>, result=<ExecutionResult object at 3c244cf8, execution_c..._before_exec=None error_in_exec=None result=None>)\n   2876         outflag = 1  # happens in more places, so it's easier as default\n   2877         try:\n   2878             try:\n   2879                 self.hooks.pre_run_code_hook()\n   2880                 #rprint('Running code', repr(code_obj)) # dbg\n-> 2881                 exec(code_obj, self.user_global_ns, self.user_ns)\n        code_obj = <code object <module> at 0x00000000383C5300, file \"<ipython-input-208-18e1f5381dec>\", line 6>\n        self.user_global_ns = {'In': ['', \"import matplotlib as mpl\\nimport numpy as np\\nimpo...ggplot')\\nget_ipython().magic('matplotlib inline')\", \"get_ipython().system('pwd')\", '#df = pd.read_csv(\"Siniestros_Desc.csv\", parse_dates=True, encoding=\"latin1\")', 'import os\\n\\nfile = \"C:\\\\\\\\Users\\\\A2276061\\\\Documents\\\\..., parse_dates=True, encoding=\"latin1\")\\nprint(pwd)', '#os.path.basename(file)', 'df=df.dropna(axis=0)\\nprint(df.head())', 'from sklearn.model_selection import train_test_s...n_test_split(df, test_size=0.33, random_state=42)', 'print(good_columns.head())', 'from sklearn.cluster import KMeans\\n\\n# Initialize...from games.\\ngood_columns = df._get_numeric_data()', 'print(good_columns.head())', \"binarizer = preprocessing.Binarizer(threshold=10...io= binarizer.transform(good_columns['INI_ANIO'])\", \"good_columns['INI_ANIO']=pd.DataFrame(np.transpose(new_anio))\", '#deprecate al escalamiento\\n#X_scaled = preprocessing.scale(good_columns)\\n#X_scaled', \"X_normalized = preprocessing.normalize(good_columns, norm='l2')\\nX_normalized \", 'from sklearn.cluster import KMeans\\n\\n# Initialize...from games.\\ngood_columns = df._get_numeric_data()', 'from sklearn.cluster import KMeans\\n\\n# Initialize...om games.\\ndf_transformed = df._get_numeric_data()', 'print(df_transformed.head())', 'print(df_transformed.head())', \"binarizer = preprocessing.Binarizer(threshold=10...= binarizer.transform(df_transformed['INI_ANIO'])\", ...], 'KMeans': <class 'sklearn.cluster.k_means_.KMeans'>, 'MultiOutputRegressor': <class 'sklearn.multioutput.MultiOutputRegressor'>, 'Out': {22:           NSINIEST  NPOLIZA  RAMSUBRAMO  INI_ANI...   325950.0       1  \n\n[184673 rows x 18 columns], 27: array([[  9.98049450e-01,   5.57035101e-02,   2....055333e-02,   3.24082999e-02,   9.94272125e-08]]), 29: array([0, 1, 0, ..., 2, 0, 0]), 32:           NSINIEST  NPOLIZA  RAMSUBRAMO RAMO    ...    325950.0      1  \n\n[184673 rows x 28 columns], 36:           NSINIEST  NPOLIZA  RAMSUBRAMO RAMO    ...2028    2173.000000  \n\n[184673 rows x 30 columns], 37: Index(['NSINIEST', 'NPOLIZA', 'RAMSUBRAMO', 'RAM...', 'DIFF_MOUNT', 'CLAIMS'],\n      dtype='object'), 39: Index(['NSINIEST', 'NPOLIZA', 'RAMSUBRAMO', 'RAM...', 'DIFF_MOUNT', 'CLAIMS'],\n      dtype='object'), 40: [['NSINIEST', 'NPOLIZA', 'RAMSUBRAMO', 'RAMO', 'SUBRAMO', 'DATE_INIT', 'INI_ANIO', 'INDIVIDUAL', 'EDO', 'STATE_NAME', 'CITY', 'CITY_NAME', 'NASEG', 'NOMBTIT', 'GENDER', 'CVNFUMA', 'RIESGOCUP', 'CVEDOCIV', 'AGE', 'SINISTER_DATE', ...]], 47:         NPOLIZA  RAMSUBRAMO RAMO         SUBRAMO...   325950.0       1  \n\n[184673 rows x 24 columns], 55:           NSINIEST  NPOLIZA  RAMSUBRAMO  INI_ANI...   325950.0       1  \n\n[184673 rows x 18 columns], ...}, 'PCA': <class 'sklearn.decomposition.pca.PCA'>, 'PolynomialFeatures': <class 'sklearn.preprocessing.data.PolynomialFeatures'>, 'RandomForestClassifier': <class 'sklearn.ensemble.forest.RandomForestClassifier'>, 'RandomForestRegressor': <class 'sklearn.ensemble.forest.RandomForestRegressor'>, 'X': array([[ -9.99771250e+01],\n       [ -9.99195950e...  [  9.93506850e+01],\n       [  9.94645701e+01]]), 'X_': array([[ 1.    ,  0.44  ,  0.68  ,  0.1936,  0.2... ,  0.99  ,  0.23  ,  0.9801,  0.2277,  0.0529]]), ...}\n        self.user_ns = {'In': ['', \"import matplotlib as mpl\\nimport numpy as np\\nimpo...ggplot')\\nget_ipython().magic('matplotlib inline')\", \"get_ipython().system('pwd')\", '#df = pd.read_csv(\"Siniestros_Desc.csv\", parse_dates=True, encoding=\"latin1\")', 'import os\\n\\nfile = \"C:\\\\\\\\Users\\\\A2276061\\\\Documents\\\\..., parse_dates=True, encoding=\"latin1\")\\nprint(pwd)', '#os.path.basename(file)', 'df=df.dropna(axis=0)\\nprint(df.head())', 'from sklearn.model_selection import train_test_s...n_test_split(df, test_size=0.33, random_state=42)', 'print(good_columns.head())', 'from sklearn.cluster import KMeans\\n\\n# Initialize...from games.\\ngood_columns = df._get_numeric_data()', 'print(good_columns.head())', \"binarizer = preprocessing.Binarizer(threshold=10...io= binarizer.transform(good_columns['INI_ANIO'])\", \"good_columns['INI_ANIO']=pd.DataFrame(np.transpose(new_anio))\", '#deprecate al escalamiento\\n#X_scaled = preprocessing.scale(good_columns)\\n#X_scaled', \"X_normalized = preprocessing.normalize(good_columns, norm='l2')\\nX_normalized \", 'from sklearn.cluster import KMeans\\n\\n# Initialize...from games.\\ngood_columns = df._get_numeric_data()', 'from sklearn.cluster import KMeans\\n\\n# Initialize...om games.\\ndf_transformed = df._get_numeric_data()', 'print(df_transformed.head())', 'print(df_transformed.head())', \"binarizer = preprocessing.Binarizer(threshold=10...= binarizer.transform(df_transformed['INI_ANIO'])\", ...], 'KMeans': <class 'sklearn.cluster.k_means_.KMeans'>, 'MultiOutputRegressor': <class 'sklearn.multioutput.MultiOutputRegressor'>, 'Out': {22:           NSINIEST  NPOLIZA  RAMSUBRAMO  INI_ANI...   325950.0       1  \n\n[184673 rows x 18 columns], 27: array([[  9.98049450e-01,   5.57035101e-02,   2....055333e-02,   3.24082999e-02,   9.94272125e-08]]), 29: array([0, 1, 0, ..., 2, 0, 0]), 32:           NSINIEST  NPOLIZA  RAMSUBRAMO RAMO    ...    325950.0      1  \n\n[184673 rows x 28 columns], 36:           NSINIEST  NPOLIZA  RAMSUBRAMO RAMO    ...2028    2173.000000  \n\n[184673 rows x 30 columns], 37: Index(['NSINIEST', 'NPOLIZA', 'RAMSUBRAMO', 'RAM...', 'DIFF_MOUNT', 'CLAIMS'],\n      dtype='object'), 39: Index(['NSINIEST', 'NPOLIZA', 'RAMSUBRAMO', 'RAM...', 'DIFF_MOUNT', 'CLAIMS'],\n      dtype='object'), 40: [['NSINIEST', 'NPOLIZA', 'RAMSUBRAMO', 'RAMO', 'SUBRAMO', 'DATE_INIT', 'INI_ANIO', 'INDIVIDUAL', 'EDO', 'STATE_NAME', 'CITY', 'CITY_NAME', 'NASEG', 'NOMBTIT', 'GENDER', 'CVNFUMA', 'RIESGOCUP', 'CVEDOCIV', 'AGE', 'SINISTER_DATE', ...]], 47:         NPOLIZA  RAMSUBRAMO RAMO         SUBRAMO...   325950.0       1  \n\n[184673 rows x 24 columns], 55:           NSINIEST  NPOLIZA  RAMSUBRAMO  INI_ANI...   325950.0       1  \n\n[184673 rows x 18 columns], ...}, 'PCA': <class 'sklearn.decomposition.pca.PCA'>, 'PolynomialFeatures': <class 'sklearn.preprocessing.data.PolynomialFeatures'>, 'RandomForestClassifier': <class 'sklearn.ensemble.forest.RandomForestClassifier'>, 'RandomForestRegressor': <class 'sklearn.ensemble.forest.RandomForestRegressor'>, 'X': array([[ -9.99771250e+01],\n       [ -9.99195950e...  [  9.93506850e+01],\n       [  9.94645701e+01]]), 'X_': array([[ 1.    ,  0.44  ,  0.68  ,  0.1936,  0.2... ,  0.99  ,  0.23  ,  0.9801,  0.2277,  0.0529]]), ...}\n   2882             finally:\n   2883                 # Reset our crash handler in place\n   2884                 sys.excepthook = old_excepthook\n   2885         except SystemExit as e:\n\n...........................................................................\nC:\\Users\\A2276061\\Documents\\GMM\\<ipython-input-208-18e1f5381dec> in <module>()\n      1 # Create a random forest classifier. By convention, clf means 'classifier'\n      2 clf = RandomForestClassifier(n_jobs=2)\n      3 \n      4 # Train the classifier to take the training features and learn how they relate\n      5 # to the training y (the species)\n----> 6 clf.fit(train[features_clf], target)\n      7 \n      8 \n      9 \n     10 \n\n...........................................................................\nC:\\ProgramData\\Anaconda3\\lib\\site-packages\\sklearn\\ensemble\\forest.py in fit(self=RandomForestClassifier(bootstrap=True, class_wei...te=None,\n            verbose=0, warm_start=False), X=array([[  3.00410000e+04,   1.00000000e+00,   9.....00000000e+00,   4.33346406e+04]], dtype=float32), y=array([[   1.],\n       [   2.],\n       [   3.],\n...\n       [   0.],\n       [ 150.],\n       [  25.]]), sample_weight=None)\n    321             trees = Parallel(n_jobs=self.n_jobs, verbose=self.verbose,\n    322                              backend=\"threading\")(\n    323                 delayed(_parallel_build_trees)(\n    324                     t, self, X, y, sample_weight, i, len(trees),\n    325                     verbose=self.verbose, class_weight=self.class_weight)\n--> 326                 for i, t in enumerate(trees))\n        i = 9\n    327 \n    328             # Collect newly grown trees\n    329             self.estimators_.extend(trees)\n    330 \n\n...........................................................................\nC:\\ProgramData\\Anaconda3\\lib\\site-packages\\sklearn\\externals\\joblib\\parallel.py in __call__(self=Parallel(n_jobs=2), iterable=<generator object BaseForest.fit.<locals>.<genexpr>>)\n    763             if pre_dispatch == \"all\" or n_jobs == 1:\n    764                 # The iterable was consumed all at once by the above for loop.\n    765                 # No need to wait for async callbacks to trigger to\n    766                 # consumption.\n    767                 self._iterating = False\n--> 768             self.retrieve()\n        self.retrieve = <bound method Parallel.retrieve of Parallel(n_jobs=2)>\n    769             # Make sure that we get a last message telling us we are done\n    770             elapsed_time = time.time() - self._start_time\n    771             self._print('Done %3i out of %3i | elapsed: %s finished',\n    772                         (len(self._output), len(self._output),\n\n---------------------------------------------------------------------------\nSub-process traceback:\n---------------------------------------------------------------------------\nMemoryError                                        Fri May 12 14:09:58 2017\nPID: 6720                 Python 3.6.0: C:\\ProgramData\\Anaconda3\\python.exe\n...........................................................................\nC:\\ProgramData\\Anaconda3\\lib\\site-packages\\sklearn\\externals\\joblib\\parallel.py in __call__(self=<sklearn.externals.joblib.parallel.BatchedCalls object>)\n    126     def __init__(self, iterator_slice):\n    127         self.items = list(iterator_slice)\n    128         self._size = len(self.items)\n    129 \n    130     def __call__(self):\n--> 131         return [func(*args, **kwargs) for func, args, kwargs in self.items]\n        self.items = [(<function _parallel_build_trees>, (DecisionTreeClassifier(class_weight=None, criter...=False, random_state=1140805641, splitter='best'), RandomForestClassifier(bootstrap=True, class_wei...te=None,\n            verbose=0, warm_start=False), array([[  3.00410000e+04,   1.00000000e+00,   9.....00000000e+00,   4.33346406e+04]], dtype=float32), array([[   1.],\n       [   2.],\n       [   3.],\n...\n       [   0.],\n       [ 150.],\n       [  25.]]), None, 0, 10), {'class_weight': None, 'verbose': 0})]\n    132 \n    133     def __len__(self):\n    134         return self._size\n    135 \n\n...........................................................................\nC:\\ProgramData\\Anaconda3\\lib\\site-packages\\sklearn\\externals\\joblib\\parallel.py in <listcomp>(.0=<list_iterator object>)\n    126     def __init__(self, iterator_slice):\n    127         self.items = list(iterator_slice)\n    128         self._size = len(self.items)\n    129 \n    130     def __call__(self):\n--> 131         return [func(*args, **kwargs) for func, args, kwargs in self.items]\n        func = <function _parallel_build_trees>\n        args = (DecisionTreeClassifier(class_weight=None, criter...=False, random_state=1140805641, splitter='best'), RandomForestClassifier(bootstrap=True, class_wei...te=None,\n            verbose=0, warm_start=False), array([[  3.00410000e+04,   1.00000000e+00,   9.....00000000e+00,   4.33346406e+04]], dtype=float32), array([[   1.],\n       [   2.],\n       [   3.],\n...\n       [   0.],\n       [ 150.],\n       [  25.]]), None, 0, 10)\n        kwargs = {'class_weight': None, 'verbose': 0}\n    132 \n    133     def __len__(self):\n    134         return self._size\n    135 \n\n...........................................................................\nC:\\ProgramData\\Anaconda3\\lib\\site-packages\\sklearn\\ensemble\\forest.py in _parallel_build_trees(tree=DecisionTreeClassifier(class_weight=None, criter...=False, random_state=1140805641, splitter='best'), forest=RandomForestClassifier(bootstrap=True, class_wei...te=None,\n            verbose=0, warm_start=False), X=array([[  3.00410000e+04,   1.00000000e+00,   9.....00000000e+00,   4.33346406e+04]], dtype=float32), y=array([[   1.],\n       [   2.],\n       [   3.],\n...\n       [   0.],\n       [ 150.],\n       [  25.]]), sample_weight=None, tree_idx=0, n_trees=10, verbose=0, class_weight=None)\n    115                 warnings.simplefilter('ignore', DeprecationWarning)\n    116                 curr_sample_weight *= compute_sample_weight('auto', y, indices)\n    117         elif class_weight == 'balanced_subsample':\n    118             curr_sample_weight *= compute_sample_weight('balanced', y, indices)\n    119 \n--> 120         tree.fit(X, y, sample_weight=curr_sample_weight, check_input=False)\n        tree.fit = <bound method DecisionTreeClassifier.fit of Deci...False, random_state=1140805641, splitter='best')>\n        X = array([[  3.00410000e+04,   1.00000000e+00,   9.....00000000e+00,   4.33346406e+04]], dtype=float32)\n        y = array([[   1.],\n       [   2.],\n       [   3.],\n...\n       [   0.],\n       [ 150.],\n       [  25.]])\n        sample_weight = None\n        curr_sample_weight = array([ 1.,  0.,  1., ...,  1.,  0.,  0.])\n    121     else:\n    122         tree.fit(X, y, sample_weight=sample_weight, check_input=False)\n    123 \n    124     return tree\n\n...........................................................................\nC:\\ProgramData\\Anaconda3\\lib\\site-packages\\sklearn\\tree\\tree.py in fit(self=DecisionTreeClassifier(class_weight=None, criter...=False, random_state=1140805641, splitter='best'), X=array([[  3.00410000e+04,   1.00000000e+00,   9.....00000000e+00,   4.33346406e+04]], dtype=float32), y=array([[   1.],\n       [   2.],\n       [   3.],\n...\n       [   0.],\n       [ 150.],\n       [  25.]]), sample_weight=array([ 1.,  0.,  1., ...,  1.,  0.,  0.]), check_input=False, X_idx_sorted=None)\n    734 \n    735         super(DecisionTreeClassifier, self).fit(\n    736             X, y,\n    737             sample_weight=sample_weight,\n    738             check_input=check_input,\n--> 739             X_idx_sorted=X_idx_sorted)\n        X_idx_sorted = None\n    740         return self\n    741 \n    742 \n    743     def predict_proba(self, X, check_input=True):\n\n...........................................................................\nC:\\ProgramData\\Anaconda3\\lib\\site-packages\\sklearn\\tree\\tree.py in fit(self=DecisionTreeClassifier(class_weight=None, criter...=False, random_state=1140805641, splitter='best'), X=array([[  3.00410000e+04,   1.00000000e+00,   9.....00000000e+00,   4.33346406e+04]], dtype=float32), y=array([[   1.],\n       [   2.],\n       [   3.],\n...\n       [   0.],\n       [ 150.],\n       [  25.]]), sample_weight=array([ 1.,  0.,  1., ...,  1.,  0.,  0.]), check_input=False, X_idx_sorted=None)\n    345                                            min_weight_leaf,\n    346                                            max_depth,\n    347                                            max_leaf_nodes,\n    348                                            self.min_impurity_split)\n    349 \n--> 350         builder.build(self.tree_, X, y, sample_weight, X_idx_sorted)\n        builder.build = <built-in method build of sklearn.tree._tree.DepthFirstTreeBuilder object>\n        self.tree_ = <sklearn.tree._tree.Tree object>\n        X = array([[  3.00410000e+04,   1.00000000e+00,   9.....00000000e+00,   4.33346406e+04]], dtype=float32)\n        y = array([[   1.],\n       [   2.],\n       [   3.],\n...\n       [   0.],\n       [ 150.],\n       [  25.]])\n        sample_weight = array([ 1.,  0.,  1., ...,  1.,  0.,  0.])\n        X_idx_sorted = None\n    351 \n    352         if self.n_outputs_ == 1:\n    353             self.n_classes_ = self.n_classes_[0]\n    354             self.classes_ = self.classes_[0]\n\n...........................................................................\nC:\\ProgramData\\Anaconda3\\lib\\site-packages\\sklearn\\tree\\_tree.cp36-win_amd64.pyd in sklearn.tree._tree.DepthFirstTreeBuilder.build (sklearn\\tree\\_tree.c:4999)()\n    137 \n    138 \n    139 \n    140 \n    141 \n--> 142 \n    143 \n    144 \n    145 \n    146 \n\n...........................................................................\nC:\\ProgramData\\Anaconda3\\lib\\site-packages\\sklearn\\tree\\_tree.cp36-win_amd64.pyd in sklearn.tree._tree.DepthFirstTreeBuilder.build (sklearn\\tree\\_tree.c:4826)()\n    264 \n    265 \n    266 \n    267 \n    268 \n--> 269 \n    270 \n    271 \n    272 \n    273 \n\nMemoryError: \n___________________________________________________________________________",
     "output_type": "error",
     "traceback": [
      "\u001b[0;31m---------------------------------------------------------------------------\u001b[0m",
      "\u001b[0;31mMemoryError\u001b[0m                               Traceback (most recent call last)",
      "\u001b[0;32mC:\\ProgramData\\Anaconda3\\lib\\site-packages\\sklearn\\externals\\joblib\\_parallel_backends.py\u001b[0m in \u001b[0;36m__call__\u001b[0;34m(self, *args, **kwargs)\u001b[0m\n\u001b[1;32m    343\u001b[0m         \u001b[1;32mtry\u001b[0m\u001b[1;33m:\u001b[0m\u001b[1;33m\u001b[0m\u001b[0m\n\u001b[0;32m--> 344\u001b[0;31m             \u001b[1;32mreturn\u001b[0m \u001b[0mself\u001b[0m\u001b[1;33m.\u001b[0m\u001b[0mfunc\u001b[0m\u001b[1;33m(\u001b[0m\u001b[1;33m*\u001b[0m\u001b[0margs\u001b[0m\u001b[1;33m,\u001b[0m \u001b[1;33m**\u001b[0m\u001b[0mkwargs\u001b[0m\u001b[1;33m)\u001b[0m\u001b[1;33m\u001b[0m\u001b[0m\n\u001b[0m\u001b[1;32m    345\u001b[0m         \u001b[1;32mexcept\u001b[0m \u001b[0mKeyboardInterrupt\u001b[0m\u001b[1;33m:\u001b[0m\u001b[1;33m\u001b[0m\u001b[0m\n",
      "\u001b[0;32mC:\\ProgramData\\Anaconda3\\lib\\site-packages\\sklearn\\externals\\joblib\\parallel.py\u001b[0m in \u001b[0;36m__call__\u001b[0;34m(self)\u001b[0m\n\u001b[1;32m    130\u001b[0m     \u001b[1;32mdef\u001b[0m \u001b[0m__call__\u001b[0m\u001b[1;33m(\u001b[0m\u001b[0mself\u001b[0m\u001b[1;33m)\u001b[0m\u001b[1;33m:\u001b[0m\u001b[1;33m\u001b[0m\u001b[0m\n\u001b[0;32m--> 131\u001b[0;31m         \u001b[1;32mreturn\u001b[0m \u001b[1;33m[\u001b[0m\u001b[0mfunc\u001b[0m\u001b[1;33m(\u001b[0m\u001b[1;33m*\u001b[0m\u001b[0margs\u001b[0m\u001b[1;33m,\u001b[0m \u001b[1;33m**\u001b[0m\u001b[0mkwargs\u001b[0m\u001b[1;33m)\u001b[0m \u001b[1;32mfor\u001b[0m \u001b[0mfunc\u001b[0m\u001b[1;33m,\u001b[0m \u001b[0margs\u001b[0m\u001b[1;33m,\u001b[0m \u001b[0mkwargs\u001b[0m \u001b[1;32min\u001b[0m \u001b[0mself\u001b[0m\u001b[1;33m.\u001b[0m\u001b[0mitems\u001b[0m\u001b[1;33m]\u001b[0m\u001b[1;33m\u001b[0m\u001b[0m\n\u001b[0m\u001b[1;32m    132\u001b[0m \u001b[1;33m\u001b[0m\u001b[0m\n",
      "\u001b[0;32mC:\\ProgramData\\Anaconda3\\lib\\site-packages\\sklearn\\externals\\joblib\\parallel.py\u001b[0m in \u001b[0;36m<listcomp>\u001b[0;34m(.0)\u001b[0m\n\u001b[1;32m    130\u001b[0m     \u001b[1;32mdef\u001b[0m \u001b[0m__call__\u001b[0m\u001b[1;33m(\u001b[0m\u001b[0mself\u001b[0m\u001b[1;33m)\u001b[0m\u001b[1;33m:\u001b[0m\u001b[1;33m\u001b[0m\u001b[0m\n\u001b[0;32m--> 131\u001b[0;31m         \u001b[1;32mreturn\u001b[0m \u001b[1;33m[\u001b[0m\u001b[0mfunc\u001b[0m\u001b[1;33m(\u001b[0m\u001b[1;33m*\u001b[0m\u001b[0margs\u001b[0m\u001b[1;33m,\u001b[0m \u001b[1;33m**\u001b[0m\u001b[0mkwargs\u001b[0m\u001b[1;33m)\u001b[0m \u001b[1;32mfor\u001b[0m \u001b[0mfunc\u001b[0m\u001b[1;33m,\u001b[0m \u001b[0margs\u001b[0m\u001b[1;33m,\u001b[0m \u001b[0mkwargs\u001b[0m \u001b[1;32min\u001b[0m \u001b[0mself\u001b[0m\u001b[1;33m.\u001b[0m\u001b[0mitems\u001b[0m\u001b[1;33m]\u001b[0m\u001b[1;33m\u001b[0m\u001b[0m\n\u001b[0m\u001b[1;32m    132\u001b[0m \u001b[1;33m\u001b[0m\u001b[0m\n",
      "\u001b[0;32mC:\\ProgramData\\Anaconda3\\lib\\site-packages\\sklearn\\ensemble\\forest.py\u001b[0m in \u001b[0;36m_parallel_build_trees\u001b[0;34m(tree, forest, X, y, sample_weight, tree_idx, n_trees, verbose, class_weight)\u001b[0m\n\u001b[1;32m    119\u001b[0m \u001b[1;33m\u001b[0m\u001b[0m\n\u001b[0;32m--> 120\u001b[0;31m         \u001b[0mtree\u001b[0m\u001b[1;33m.\u001b[0m\u001b[0mfit\u001b[0m\u001b[1;33m(\u001b[0m\u001b[0mX\u001b[0m\u001b[1;33m,\u001b[0m \u001b[0my\u001b[0m\u001b[1;33m,\u001b[0m \u001b[0msample_weight\u001b[0m\u001b[1;33m=\u001b[0m\u001b[0mcurr_sample_weight\u001b[0m\u001b[1;33m,\u001b[0m \u001b[0mcheck_input\u001b[0m\u001b[1;33m=\u001b[0m\u001b[1;32mFalse\u001b[0m\u001b[1;33m)\u001b[0m\u001b[1;33m\u001b[0m\u001b[0m\n\u001b[0m\u001b[1;32m    121\u001b[0m     \u001b[1;32melse\u001b[0m\u001b[1;33m:\u001b[0m\u001b[1;33m\u001b[0m\u001b[0m\n",
      "\u001b[0;32mC:\\ProgramData\\Anaconda3\\lib\\site-packages\\sklearn\\tree\\tree.py\u001b[0m in \u001b[0;36mfit\u001b[0;34m(self, X, y, sample_weight, check_input, X_idx_sorted)\u001b[0m\n\u001b[1;32m    738\u001b[0m             \u001b[0mcheck_input\u001b[0m\u001b[1;33m=\u001b[0m\u001b[0mcheck_input\u001b[0m\u001b[1;33m,\u001b[0m\u001b[1;33m\u001b[0m\u001b[0m\n\u001b[0;32m--> 739\u001b[0;31m             X_idx_sorted=X_idx_sorted)\n\u001b[0m\u001b[1;32m    740\u001b[0m         \u001b[1;32mreturn\u001b[0m \u001b[0mself\u001b[0m\u001b[1;33m\u001b[0m\u001b[0m\n",
      "\u001b[0;32mC:\\ProgramData\\Anaconda3\\lib\\site-packages\\sklearn\\tree\\tree.py\u001b[0m in \u001b[0;36mfit\u001b[0;34m(self, X, y, sample_weight, check_input, X_idx_sorted)\u001b[0m\n\u001b[1;32m    349\u001b[0m \u001b[1;33m\u001b[0m\u001b[0m\n\u001b[0;32m--> 350\u001b[0;31m         \u001b[0mbuilder\u001b[0m\u001b[1;33m.\u001b[0m\u001b[0mbuild\u001b[0m\u001b[1;33m(\u001b[0m\u001b[0mself\u001b[0m\u001b[1;33m.\u001b[0m\u001b[0mtree_\u001b[0m\u001b[1;33m,\u001b[0m \u001b[0mX\u001b[0m\u001b[1;33m,\u001b[0m \u001b[0my\u001b[0m\u001b[1;33m,\u001b[0m \u001b[0msample_weight\u001b[0m\u001b[1;33m,\u001b[0m \u001b[0mX_idx_sorted\u001b[0m\u001b[1;33m)\u001b[0m\u001b[1;33m\u001b[0m\u001b[0m\n\u001b[0m\u001b[1;32m    351\u001b[0m \u001b[1;33m\u001b[0m\u001b[0m\n",
      "\u001b[0;32msklearn\\tree\\_tree.pyx\u001b[0m in \u001b[0;36msklearn.tree._tree.DepthFirstTreeBuilder.build (sklearn\\tree\\_tree.c:4999)\u001b[0;34m()\u001b[0m\n",
      "\u001b[0;32msklearn\\tree\\_tree.pyx\u001b[0m in \u001b[0;36msklearn.tree._tree.DepthFirstTreeBuilder.build (sklearn\\tree\\_tree.c:4826)\u001b[0;34m()\u001b[0m\n",
      "\u001b[0;31mMemoryError\u001b[0m: ",
      "\nDuring handling of the above exception, another exception occurred:\n",
      "\u001b[0;31mTransportableException\u001b[0m                    Traceback (most recent call last)",
      "\u001b[0;32mC:\\ProgramData\\Anaconda3\\lib\\site-packages\\sklearn\\externals\\joblib\\parallel.py\u001b[0m in \u001b[0;36mretrieve\u001b[0;34m(self)\u001b[0m\n\u001b[1;32m    681\u001b[0m                 \u001b[1;32mif\u001b[0m \u001b[1;34m'timeout'\u001b[0m \u001b[1;32min\u001b[0m \u001b[0mgetfullargspec\u001b[0m\u001b[1;33m(\u001b[0m\u001b[0mjob\u001b[0m\u001b[1;33m.\u001b[0m\u001b[0mget\u001b[0m\u001b[1;33m)\u001b[0m\u001b[1;33m.\u001b[0m\u001b[0margs\u001b[0m\u001b[1;33m:\u001b[0m\u001b[1;33m\u001b[0m\u001b[0m\n\u001b[0;32m--> 682\u001b[0;31m                     \u001b[0mself\u001b[0m\u001b[1;33m.\u001b[0m\u001b[0m_output\u001b[0m\u001b[1;33m.\u001b[0m\u001b[0mextend\u001b[0m\u001b[1;33m(\u001b[0m\u001b[0mjob\u001b[0m\u001b[1;33m.\u001b[0m\u001b[0mget\u001b[0m\u001b[1;33m(\u001b[0m\u001b[0mtimeout\u001b[0m\u001b[1;33m=\u001b[0m\u001b[0mself\u001b[0m\u001b[1;33m.\u001b[0m\u001b[0mtimeout\u001b[0m\u001b[1;33m)\u001b[0m\u001b[1;33m)\u001b[0m\u001b[1;33m\u001b[0m\u001b[0m\n\u001b[0m\u001b[1;32m    683\u001b[0m                 \u001b[1;32melse\u001b[0m\u001b[1;33m:\u001b[0m\u001b[1;33m\u001b[0m\u001b[0m\n",
      "\u001b[0;32mC:\\ProgramData\\Anaconda3\\lib\\multiprocessing\\pool.py\u001b[0m in \u001b[0;36mget\u001b[0;34m(self, timeout)\u001b[0m\n\u001b[1;32m    607\u001b[0m         \u001b[1;32melse\u001b[0m\u001b[1;33m:\u001b[0m\u001b[1;33m\u001b[0m\u001b[0m\n\u001b[0;32m--> 608\u001b[0;31m             \u001b[1;32mraise\u001b[0m \u001b[0mself\u001b[0m\u001b[1;33m.\u001b[0m\u001b[0m_value\u001b[0m\u001b[1;33m\u001b[0m\u001b[0m\n\u001b[0m\u001b[1;32m    609\u001b[0m \u001b[1;33m\u001b[0m\u001b[0m\n",
      "\u001b[0;32mC:\\ProgramData\\Anaconda3\\lib\\multiprocessing\\pool.py\u001b[0m in \u001b[0;36mworker\u001b[0;34m(inqueue, outqueue, initializer, initargs, maxtasks, wrap_exception)\u001b[0m\n\u001b[1;32m    118\u001b[0m         \u001b[1;32mtry\u001b[0m\u001b[1;33m:\u001b[0m\u001b[1;33m\u001b[0m\u001b[0m\n\u001b[0;32m--> 119\u001b[0;31m             \u001b[0mresult\u001b[0m \u001b[1;33m=\u001b[0m \u001b[1;33m(\u001b[0m\u001b[1;32mTrue\u001b[0m\u001b[1;33m,\u001b[0m \u001b[0mfunc\u001b[0m\u001b[1;33m(\u001b[0m\u001b[1;33m*\u001b[0m\u001b[0margs\u001b[0m\u001b[1;33m,\u001b[0m \u001b[1;33m**\u001b[0m\u001b[0mkwds\u001b[0m\u001b[1;33m)\u001b[0m\u001b[1;33m)\u001b[0m\u001b[1;33m\u001b[0m\u001b[0m\n\u001b[0m\u001b[1;32m    120\u001b[0m         \u001b[1;32mexcept\u001b[0m \u001b[0mException\u001b[0m \u001b[1;32mas\u001b[0m \u001b[0me\u001b[0m\u001b[1;33m:\u001b[0m\u001b[1;33m\u001b[0m\u001b[0m\n",
      "\u001b[0;32mC:\\ProgramData\\Anaconda3\\lib\\site-packages\\sklearn\\externals\\joblib\\_parallel_backends.py\u001b[0m in \u001b[0;36m__call__\u001b[0;34m(self, *args, **kwargs)\u001b[0m\n\u001b[1;32m    352\u001b[0m             \u001b[0mtext\u001b[0m \u001b[1;33m=\u001b[0m \u001b[0mformat_exc\u001b[0m\u001b[1;33m(\u001b[0m\u001b[0me_type\u001b[0m\u001b[1;33m,\u001b[0m \u001b[0me_value\u001b[0m\u001b[1;33m,\u001b[0m \u001b[0me_tb\u001b[0m\u001b[1;33m,\u001b[0m \u001b[0mcontext\u001b[0m\u001b[1;33m=\u001b[0m\u001b[1;36m10\u001b[0m\u001b[1;33m,\u001b[0m \u001b[0mtb_offset\u001b[0m\u001b[1;33m=\u001b[0m\u001b[1;36m1\u001b[0m\u001b[1;33m)\u001b[0m\u001b[1;33m\u001b[0m\u001b[0m\n\u001b[0;32m--> 353\u001b[0;31m             \u001b[1;32mraise\u001b[0m \u001b[0mTransportableException\u001b[0m\u001b[1;33m(\u001b[0m\u001b[0mtext\u001b[0m\u001b[1;33m,\u001b[0m \u001b[0me_type\u001b[0m\u001b[1;33m)\u001b[0m\u001b[1;33m\u001b[0m\u001b[0m\n\u001b[0m\u001b[1;32m    354\u001b[0m \u001b[1;33m\u001b[0m\u001b[0m\n",
      "\u001b[0;31mTransportableException\u001b[0m: TransportableException\n___________________________________________________________________________\nMemoryError                                        Fri May 12 14:09:58 2017\nPID: 6720                 Python 3.6.0: C:\\ProgramData\\Anaconda3\\python.exe\n...........................................................................\nC:\\ProgramData\\Anaconda3\\lib\\site-packages\\sklearn\\externals\\joblib\\parallel.py in __call__(self=<sklearn.externals.joblib.parallel.BatchedCalls object>)\n    126     def __init__(self, iterator_slice):\n    127         self.items = list(iterator_slice)\n    128         self._size = len(self.items)\n    129 \n    130     def __call__(self):\n--> 131         return [func(*args, **kwargs) for func, args, kwargs in self.items]\n        self.items = [(<function _parallel_build_trees>, (DecisionTreeClassifier(class_weight=None, criter...=False, random_state=1140805641, splitter='best'), RandomForestClassifier(bootstrap=True, class_wei...te=None,\n            verbose=0, warm_start=False), array([[  3.00410000e+04,   1.00000000e+00,   9.....00000000e+00,   4.33346406e+04]], dtype=float32), array([[   1.],\n       [   2.],\n       [   3.],\n...\n       [   0.],\n       [ 150.],\n       [  25.]]), None, 0, 10), {'class_weight': None, 'verbose': 0})]\n    132 \n    133     def __len__(self):\n    134         return self._size\n    135 \n\n...........................................................................\nC:\\ProgramData\\Anaconda3\\lib\\site-packages\\sklearn\\externals\\joblib\\parallel.py in <listcomp>(.0=<list_iterator object>)\n    126     def __init__(self, iterator_slice):\n    127         self.items = list(iterator_slice)\n    128         self._size = len(self.items)\n    129 \n    130     def __call__(self):\n--> 131         return [func(*args, **kwargs) for func, args, kwargs in self.items]\n        func = <function _parallel_build_trees>\n        args = (DecisionTreeClassifier(class_weight=None, criter...=False, random_state=1140805641, splitter='best'), RandomForestClassifier(bootstrap=True, class_wei...te=None,\n            verbose=0, warm_start=False), array([[  3.00410000e+04,   1.00000000e+00,   9.....00000000e+00,   4.33346406e+04]], dtype=float32), array([[   1.],\n       [   2.],\n       [   3.],\n...\n       [   0.],\n       [ 150.],\n       [  25.]]), None, 0, 10)\n        kwargs = {'class_weight': None, 'verbose': 0}\n    132 \n    133     def __len__(self):\n    134         return self._size\n    135 \n\n...........................................................................\nC:\\ProgramData\\Anaconda3\\lib\\site-packages\\sklearn\\ensemble\\forest.py in _parallel_build_trees(tree=DecisionTreeClassifier(class_weight=None, criter...=False, random_state=1140805641, splitter='best'), forest=RandomForestClassifier(bootstrap=True, class_wei...te=None,\n            verbose=0, warm_start=False), X=array([[  3.00410000e+04,   1.00000000e+00,   9.....00000000e+00,   4.33346406e+04]], dtype=float32), y=array([[   1.],\n       [   2.],\n       [   3.],\n...\n       [   0.],\n       [ 150.],\n       [  25.]]), sample_weight=None, tree_idx=0, n_trees=10, verbose=0, class_weight=None)\n    115                 warnings.simplefilter('ignore', DeprecationWarning)\n    116                 curr_sample_weight *= compute_sample_weight('auto', y, indices)\n    117         elif class_weight == 'balanced_subsample':\n    118             curr_sample_weight *= compute_sample_weight('balanced', y, indices)\n    119 \n--> 120         tree.fit(X, y, sample_weight=curr_sample_weight, check_input=False)\n        tree.fit = <bound method DecisionTreeClassifier.fit of Deci...False, random_state=1140805641, splitter='best')>\n        X = array([[  3.00410000e+04,   1.00000000e+00,   9.....00000000e+00,   4.33346406e+04]], dtype=float32)\n        y = array([[   1.],\n       [   2.],\n       [   3.],\n...\n       [   0.],\n       [ 150.],\n       [  25.]])\n        sample_weight = None\n        curr_sample_weight = array([ 1.,  0.,  1., ...,  1.,  0.,  0.])\n    121     else:\n    122         tree.fit(X, y, sample_weight=sample_weight, check_input=False)\n    123 \n    124     return tree\n\n...........................................................................\nC:\\ProgramData\\Anaconda3\\lib\\site-packages\\sklearn\\tree\\tree.py in fit(self=DecisionTreeClassifier(class_weight=None, criter...=False, random_state=1140805641, splitter='best'), X=array([[  3.00410000e+04,   1.00000000e+00,   9.....00000000e+00,   4.33346406e+04]], dtype=float32), y=array([[   1.],\n       [   2.],\n       [   3.],\n...\n       [   0.],\n       [ 150.],\n       [  25.]]), sample_weight=array([ 1.,  0.,  1., ...,  1.,  0.,  0.]), check_input=False, X_idx_sorted=None)\n    734 \n    735         super(DecisionTreeClassifier, self).fit(\n    736             X, y,\n    737             sample_weight=sample_weight,\n    738             check_input=check_input,\n--> 739             X_idx_sorted=X_idx_sorted)\n        X_idx_sorted = None\n    740         return self\n    741 \n    742 \n    743     def predict_proba(self, X, check_input=True):\n\n...........................................................................\nC:\\ProgramData\\Anaconda3\\lib\\site-packages\\sklearn\\tree\\tree.py in fit(self=DecisionTreeClassifier(class_weight=None, criter...=False, random_state=1140805641, splitter='best'), X=array([[  3.00410000e+04,   1.00000000e+00,   9.....00000000e+00,   4.33346406e+04]], dtype=float32), y=array([[   1.],\n       [   2.],\n       [   3.],\n...\n       [   0.],\n       [ 150.],\n       [  25.]]), sample_weight=array([ 1.,  0.,  1., ...,  1.,  0.,  0.]), check_input=False, X_idx_sorted=None)\n    345                                            min_weight_leaf,\n    346                                            max_depth,\n    347                                            max_leaf_nodes,\n    348                                            self.min_impurity_split)\n    349 \n--> 350         builder.build(self.tree_, X, y, sample_weight, X_idx_sorted)\n        builder.build = <built-in method build of sklearn.tree._tree.DepthFirstTreeBuilder object>\n        self.tree_ = <sklearn.tree._tree.Tree object>\n        X = array([[  3.00410000e+04,   1.00000000e+00,   9.....00000000e+00,   4.33346406e+04]], dtype=float32)\n        y = array([[   1.],\n       [   2.],\n       [   3.],\n...\n       [   0.],\n       [ 150.],\n       [  25.]])\n        sample_weight = array([ 1.,  0.,  1., ...,  1.,  0.,  0.])\n        X_idx_sorted = None\n    351 \n    352         if self.n_outputs_ == 1:\n    353             self.n_classes_ = self.n_classes_[0]\n    354             self.classes_ = self.classes_[0]\n\n...........................................................................\nC:\\ProgramData\\Anaconda3\\lib\\site-packages\\sklearn\\tree\\_tree.cp36-win_amd64.pyd in sklearn.tree._tree.DepthFirstTreeBuilder.build (sklearn\\tree\\_tree.c:4999)()\n    137 \n    138 \n    139 \n    140 \n    141 \n--> 142 \n    143 \n    144 \n    145 \n    146 \n\n...........................................................................\nC:\\ProgramData\\Anaconda3\\lib\\site-packages\\sklearn\\tree\\_tree.cp36-win_amd64.pyd in sklearn.tree._tree.DepthFirstTreeBuilder.build (sklearn\\tree\\_tree.c:4826)()\n    264 \n    265 \n    266 \n    267 \n    268 \n--> 269 \n    270 \n    271 \n    272 \n    273 \n\nMemoryError: \n___________________________________________________________________________",
      "\nDuring handling of the above exception, another exception occurred:\n",
      "\u001b[0;31mJoblibMemoryError\u001b[0m                         Traceback (most recent call last)",
      "\u001b[0;32m<ipython-input-208-18e1f5381dec>\u001b[0m in \u001b[0;36m<module>\u001b[0;34m()\u001b[0m\n\u001b[1;32m      4\u001b[0m \u001b[1;31m# Train the classifier to take the training features and learn how they relate\u001b[0m\u001b[1;33m\u001b[0m\u001b[1;33m\u001b[0m\u001b[0m\n\u001b[1;32m      5\u001b[0m \u001b[1;31m# to the training y (the species)\u001b[0m\u001b[1;33m\u001b[0m\u001b[1;33m\u001b[0m\u001b[0m\n\u001b[0;32m----> 6\u001b[0;31m \u001b[0mclf\u001b[0m\u001b[1;33m.\u001b[0m\u001b[0mfit\u001b[0m\u001b[1;33m(\u001b[0m\u001b[0mtrain\u001b[0m\u001b[1;33m[\u001b[0m\u001b[0mfeatures_clf\u001b[0m\u001b[1;33m]\u001b[0m\u001b[1;33m,\u001b[0m \u001b[0mtarget\u001b[0m\u001b[1;33m)\u001b[0m\u001b[1;33m\u001b[0m\u001b[0m\n\u001b[0m",
      "\u001b[0;32mC:\\ProgramData\\Anaconda3\\lib\\site-packages\\sklearn\\ensemble\\forest.py\u001b[0m in \u001b[0;36mfit\u001b[0;34m(self, X, y, sample_weight)\u001b[0m\n\u001b[1;32m    324\u001b[0m                     \u001b[0mt\u001b[0m\u001b[1;33m,\u001b[0m \u001b[0mself\u001b[0m\u001b[1;33m,\u001b[0m \u001b[0mX\u001b[0m\u001b[1;33m,\u001b[0m \u001b[0my\u001b[0m\u001b[1;33m,\u001b[0m \u001b[0msample_weight\u001b[0m\u001b[1;33m,\u001b[0m \u001b[0mi\u001b[0m\u001b[1;33m,\u001b[0m \u001b[0mlen\u001b[0m\u001b[1;33m(\u001b[0m\u001b[0mtrees\u001b[0m\u001b[1;33m)\u001b[0m\u001b[1;33m,\u001b[0m\u001b[1;33m\u001b[0m\u001b[0m\n\u001b[1;32m    325\u001b[0m                     verbose=self.verbose, class_weight=self.class_weight)\n\u001b[0;32m--> 326\u001b[0;31m                 for i, t in enumerate(trees))\n\u001b[0m\u001b[1;32m    327\u001b[0m \u001b[1;33m\u001b[0m\u001b[0m\n\u001b[1;32m    328\u001b[0m             \u001b[1;31m# Collect newly grown trees\u001b[0m\u001b[1;33m\u001b[0m\u001b[1;33m\u001b[0m\u001b[0m\n",
      "\u001b[0;32mC:\\ProgramData\\Anaconda3\\lib\\site-packages\\sklearn\\externals\\joblib\\parallel.py\u001b[0m in \u001b[0;36m__call__\u001b[0;34m(self, iterable)\u001b[0m\n\u001b[1;32m    766\u001b[0m                 \u001b[1;31m# consumption.\u001b[0m\u001b[1;33m\u001b[0m\u001b[1;33m\u001b[0m\u001b[0m\n\u001b[1;32m    767\u001b[0m                 \u001b[0mself\u001b[0m\u001b[1;33m.\u001b[0m\u001b[0m_iterating\u001b[0m \u001b[1;33m=\u001b[0m \u001b[1;32mFalse\u001b[0m\u001b[1;33m\u001b[0m\u001b[0m\n\u001b[0;32m--> 768\u001b[0;31m             \u001b[0mself\u001b[0m\u001b[1;33m.\u001b[0m\u001b[0mretrieve\u001b[0m\u001b[1;33m(\u001b[0m\u001b[1;33m)\u001b[0m\u001b[1;33m\u001b[0m\u001b[0m\n\u001b[0m\u001b[1;32m    769\u001b[0m             \u001b[1;31m# Make sure that we get a last message telling us we are done\u001b[0m\u001b[1;33m\u001b[0m\u001b[1;33m\u001b[0m\u001b[0m\n\u001b[1;32m    770\u001b[0m             \u001b[0melapsed_time\u001b[0m \u001b[1;33m=\u001b[0m \u001b[0mtime\u001b[0m\u001b[1;33m.\u001b[0m\u001b[0mtime\u001b[0m\u001b[1;33m(\u001b[0m\u001b[1;33m)\u001b[0m \u001b[1;33m-\u001b[0m \u001b[0mself\u001b[0m\u001b[1;33m.\u001b[0m\u001b[0m_start_time\u001b[0m\u001b[1;33m\u001b[0m\u001b[0m\n",
      "\u001b[0;32mC:\\ProgramData\\Anaconda3\\lib\\site-packages\\sklearn\\externals\\joblib\\parallel.py\u001b[0m in \u001b[0;36mretrieve\u001b[0;34m(self)\u001b[0m\n\u001b[1;32m    717\u001b[0m                     \u001b[0mensure_ready\u001b[0m \u001b[1;33m=\u001b[0m \u001b[0mself\u001b[0m\u001b[1;33m.\u001b[0m\u001b[0m_managed_backend\u001b[0m\u001b[1;33m\u001b[0m\u001b[0m\n\u001b[1;32m    718\u001b[0m                     \u001b[0mbackend\u001b[0m\u001b[1;33m.\u001b[0m\u001b[0mabort_everything\u001b[0m\u001b[1;33m(\u001b[0m\u001b[0mensure_ready\u001b[0m\u001b[1;33m=\u001b[0m\u001b[0mensure_ready\u001b[0m\u001b[1;33m)\u001b[0m\u001b[1;33m\u001b[0m\u001b[0m\n\u001b[0;32m--> 719\u001b[0;31m                 \u001b[1;32mraise\u001b[0m \u001b[0mexception\u001b[0m\u001b[1;33m\u001b[0m\u001b[0m\n\u001b[0m\u001b[1;32m    720\u001b[0m \u001b[1;33m\u001b[0m\u001b[0m\n\u001b[1;32m    721\u001b[0m     \u001b[1;32mdef\u001b[0m \u001b[0m__call__\u001b[0m\u001b[1;33m(\u001b[0m\u001b[0mself\u001b[0m\u001b[1;33m,\u001b[0m \u001b[0miterable\u001b[0m\u001b[1;33m)\u001b[0m\u001b[1;33m:\u001b[0m\u001b[1;33m\u001b[0m\u001b[0m\n",
      "\u001b[0;31mJoblibMemoryError\u001b[0m: JoblibMemoryError\n___________________________________________________________________________\nMultiprocessing exception:\n...........................................................................\nC:\\ProgramData\\Anaconda3\\lib\\runpy.py in _run_module_as_main(mod_name='ipykernel.__main__', alter_argv=1)\n    188         sys.exit(msg)\n    189     main_globals = sys.modules[\"__main__\"].__dict__\n    190     if alter_argv:\n    191         sys.argv[0] = mod_spec.origin\n    192     return _run_code(code, main_globals, None,\n--> 193                      \"__main__\", mod_spec)\n        mod_spec = ModuleSpec(name='ipykernel.__main__', loader=<_f...da3\\\\lib\\\\site-packages\\\\ipykernel\\\\__main__.py')\n    194 \n    195 def run_module(mod_name, init_globals=None,\n    196                run_name=None, alter_sys=False):\n    197     \"\"\"Execute a module's code without importing it\n\n...........................................................................\nC:\\ProgramData\\Anaconda3\\lib\\runpy.py in _run_code(code=<code object <module> at 0x0000000002CEBAE0, fil...lib\\site-packages\\ipykernel\\__main__.py\", line 1>, run_globals={'__annotations__': {}, '__builtins__': <module 'builtins' (built-in)>, '__cached__': r'C:\\ProgramData\\Anaconda3\\lib\\site-packages\\ipykernel\\__pycache__\\__main__.cpython-36.pyc', '__doc__': None, '__file__': r'C:\\ProgramData\\Anaconda3\\lib\\site-packages\\ipykernel\\__main__.py', '__loader__': <_frozen_importlib_external.SourceFileLoader object>, '__name__': '__main__', '__package__': 'ipykernel', '__spec__': ModuleSpec(name='ipykernel.__main__', loader=<_f...da3\\\\lib\\\\site-packages\\\\ipykernel\\\\__main__.py'), 'app': <module 'ipykernel.kernelapp' from 'C:\\\\ProgramD...a3\\\\lib\\\\site-packages\\\\ipykernel\\\\kernelapp.py'>}, init_globals=None, mod_name='__main__', mod_spec=ModuleSpec(name='ipykernel.__main__', loader=<_f...da3\\\\lib\\\\site-packages\\\\ipykernel\\\\__main__.py'), pkg_name='ipykernel', script_name=None)\n     80                        __cached__ = cached,\n     81                        __doc__ = None,\n     82                        __loader__ = loader,\n     83                        __package__ = pkg_name,\n     84                        __spec__ = mod_spec)\n---> 85     exec(code, run_globals)\n        code = <code object <module> at 0x0000000002CEBAE0, fil...lib\\site-packages\\ipykernel\\__main__.py\", line 1>\n        run_globals = {'__annotations__': {}, '__builtins__': <module 'builtins' (built-in)>, '__cached__': r'C:\\ProgramData\\Anaconda3\\lib\\site-packages\\ipykernel\\__pycache__\\__main__.cpython-36.pyc', '__doc__': None, '__file__': r'C:\\ProgramData\\Anaconda3\\lib\\site-packages\\ipykernel\\__main__.py', '__loader__': <_frozen_importlib_external.SourceFileLoader object>, '__name__': '__main__', '__package__': 'ipykernel', '__spec__': ModuleSpec(name='ipykernel.__main__', loader=<_f...da3\\\\lib\\\\site-packages\\\\ipykernel\\\\__main__.py'), 'app': <module 'ipykernel.kernelapp' from 'C:\\\\ProgramD...a3\\\\lib\\\\site-packages\\\\ipykernel\\\\kernelapp.py'>}\n     86     return run_globals\n     87 \n     88 def _run_module_code(code, init_globals=None,\n     89                     mod_name=None, mod_spec=None,\n\n...........................................................................\nC:\\ProgramData\\Anaconda3\\lib\\site-packages\\ipykernel\\__main__.py in <module>()\n      1 \n      2 \n----> 3 \n      4 if __name__ == '__main__':\n      5     from ipykernel import kernelapp as app\n      6     app.launch_new_instance()\n      7 \n      8 \n      9 \n     10 \n\n...........................................................................\nC:\\ProgramData\\Anaconda3\\lib\\site-packages\\traitlets\\config\\application.py in launch_instance(cls=<class 'ipykernel.kernelapp.IPKernelApp'>, argv=None, **kwargs={})\n    653 \n    654         If a global instance already exists, this reinitializes and starts it\n    655         \"\"\"\n    656         app = cls.instance(**kwargs)\n    657         app.initialize(argv)\n--> 658         app.start()\n        app.start = <bound method IPKernelApp.start of <ipykernel.kernelapp.IPKernelApp object>>\n    659 \n    660 #-----------------------------------------------------------------------------\n    661 # utility functions, for convenience\n    662 #-----------------------------------------------------------------------------\n\n...........................................................................\nC:\\ProgramData\\Anaconda3\\lib\\site-packages\\ipykernel\\kernelapp.py in start(self=<ipykernel.kernelapp.IPKernelApp object>)\n    469             return self.subapp.start()\n    470         if self.poller is not None:\n    471             self.poller.start()\n    472         self.kernel.start()\n    473         try:\n--> 474             ioloop.IOLoop.instance().start()\n    475         except KeyboardInterrupt:\n    476             pass\n    477 \n    478 launch_new_instance = IPKernelApp.launch_instance\n\n...........................................................................\nC:\\ProgramData\\Anaconda3\\lib\\site-packages\\zmq\\eventloop\\ioloop.py in start(self=<zmq.eventloop.ioloop.ZMQIOLoop object>)\n    172             )\n    173         return loop\n    174     \n    175     def start(self):\n    176         try:\n--> 177             super(ZMQIOLoop, self).start()\n        self.start = <bound method ZMQIOLoop.start of <zmq.eventloop.ioloop.ZMQIOLoop object>>\n    178         except ZMQError as e:\n    179             if e.errno == ETERM:\n    180                 # quietly return on ETERM\n    181                 pass\n\n...........................................................................\nC:\\ProgramData\\Anaconda3\\lib\\site-packages\\tornado\\ioloop.py in start(self=<zmq.eventloop.ioloop.ZMQIOLoop object>)\n    882                 self._events.update(event_pairs)\n    883                 while self._events:\n    884                     fd, events = self._events.popitem()\n    885                     try:\n    886                         fd_obj, handler_func = self._handlers[fd]\n--> 887                         handler_func(fd_obj, events)\n        handler_func = <function wrap.<locals>.null_wrapper>\n        fd_obj = <zmq.sugar.socket.Socket object>\n        events = 1\n    888                     except (OSError, IOError) as e:\n    889                         if errno_from_exception(e) == errno.EPIPE:\n    890                             # Happens when the client closes the connection\n    891                             pass\n\n...........................................................................\nC:\\ProgramData\\Anaconda3\\lib\\site-packages\\tornado\\stack_context.py in null_wrapper(*args=(<zmq.sugar.socket.Socket object>, 1), **kwargs={})\n    270         # Fast path when there are no active contexts.\n    271         def null_wrapper(*args, **kwargs):\n    272             try:\n    273                 current_state = _state.contexts\n    274                 _state.contexts = cap_contexts[0]\n--> 275                 return fn(*args, **kwargs)\n        args = (<zmq.sugar.socket.Socket object>, 1)\n        kwargs = {}\n    276             finally:\n    277                 _state.contexts = current_state\n    278         null_wrapper._wrapped = True\n    279         return null_wrapper\n\n...........................................................................\nC:\\ProgramData\\Anaconda3\\lib\\site-packages\\zmq\\eventloop\\zmqstream.py in _handle_events(self=<zmq.eventloop.zmqstream.ZMQStream object>, fd=<zmq.sugar.socket.Socket object>, events=1)\n    435             # dispatch events:\n    436             if events & IOLoop.ERROR:\n    437                 gen_log.error(\"got POLLERR event on ZMQStream, which doesn't make sense\")\n    438                 return\n    439             if events & IOLoop.READ:\n--> 440                 self._handle_recv()\n        self._handle_recv = <bound method ZMQStream._handle_recv of <zmq.eventloop.zmqstream.ZMQStream object>>\n    441                 if not self.socket:\n    442                     return\n    443             if events & IOLoop.WRITE:\n    444                 self._handle_send()\n\n...........................................................................\nC:\\ProgramData\\Anaconda3\\lib\\site-packages\\zmq\\eventloop\\zmqstream.py in _handle_recv(self=<zmq.eventloop.zmqstream.ZMQStream object>)\n    467                 gen_log.error(\"RECV Error: %s\"%zmq.strerror(e.errno))\n    468         else:\n    469             if self._recv_callback:\n    470                 callback = self._recv_callback\n    471                 # self._recv_callback = None\n--> 472                 self._run_callback(callback, msg)\n        self._run_callback = <bound method ZMQStream._run_callback of <zmq.eventloop.zmqstream.ZMQStream object>>\n        callback = <function wrap.<locals>.null_wrapper>\n        msg = [<zmq.sugar.frame.Frame object>, <zmq.sugar.frame.Frame object>, <zmq.sugar.frame.Frame object>, <zmq.sugar.frame.Frame object>, <zmq.sugar.frame.Frame object>, <zmq.sugar.frame.Frame object>, <zmq.sugar.frame.Frame object>]\n    473                 \n    474         # self.update_state()\n    475         \n    476 \n\n...........................................................................\nC:\\ProgramData\\Anaconda3\\lib\\site-packages\\zmq\\eventloop\\zmqstream.py in _run_callback(self=<zmq.eventloop.zmqstream.ZMQStream object>, callback=<function wrap.<locals>.null_wrapper>, *args=([<zmq.sugar.frame.Frame object>, <zmq.sugar.frame.Frame object>, <zmq.sugar.frame.Frame object>, <zmq.sugar.frame.Frame object>, <zmq.sugar.frame.Frame object>, <zmq.sugar.frame.Frame object>, <zmq.sugar.frame.Frame object>],), **kwargs={})\n    409         close our socket.\"\"\"\n    410         try:\n    411             # Use a NullContext to ensure that all StackContexts are run\n    412             # inside our blanket exception handler rather than outside.\n    413             with stack_context.NullContext():\n--> 414                 callback(*args, **kwargs)\n        callback = <function wrap.<locals>.null_wrapper>\n        args = ([<zmq.sugar.frame.Frame object>, <zmq.sugar.frame.Frame object>, <zmq.sugar.frame.Frame object>, <zmq.sugar.frame.Frame object>, <zmq.sugar.frame.Frame object>, <zmq.sugar.frame.Frame object>, <zmq.sugar.frame.Frame object>],)\n        kwargs = {}\n    415         except:\n    416             gen_log.error(\"Uncaught exception, closing connection.\",\n    417                           exc_info=True)\n    418             # Close the socket on an uncaught exception from a user callback\n\n...........................................................................\nC:\\ProgramData\\Anaconda3\\lib\\site-packages\\tornado\\stack_context.py in null_wrapper(*args=([<zmq.sugar.frame.Frame object>, <zmq.sugar.frame.Frame object>, <zmq.sugar.frame.Frame object>, <zmq.sugar.frame.Frame object>, <zmq.sugar.frame.Frame object>, <zmq.sugar.frame.Frame object>, <zmq.sugar.frame.Frame object>],), **kwargs={})\n    270         # Fast path when there are no active contexts.\n    271         def null_wrapper(*args, **kwargs):\n    272             try:\n    273                 current_state = _state.contexts\n    274                 _state.contexts = cap_contexts[0]\n--> 275                 return fn(*args, **kwargs)\n        args = ([<zmq.sugar.frame.Frame object>, <zmq.sugar.frame.Frame object>, <zmq.sugar.frame.Frame object>, <zmq.sugar.frame.Frame object>, <zmq.sugar.frame.Frame object>, <zmq.sugar.frame.Frame object>, <zmq.sugar.frame.Frame object>],)\n        kwargs = {}\n    276             finally:\n    277                 _state.contexts = current_state\n    278         null_wrapper._wrapped = True\n    279         return null_wrapper\n\n...........................................................................\nC:\\ProgramData\\Anaconda3\\lib\\site-packages\\ipykernel\\kernelbase.py in dispatcher(msg=[<zmq.sugar.frame.Frame object>, <zmq.sugar.frame.Frame object>, <zmq.sugar.frame.Frame object>, <zmq.sugar.frame.Frame object>, <zmq.sugar.frame.Frame object>, <zmq.sugar.frame.Frame object>, <zmq.sugar.frame.Frame object>])\n    271         if self.control_stream:\n    272             self.control_stream.on_recv(self.dispatch_control, copy=False)\n    273 \n    274         def make_dispatcher(stream):\n    275             def dispatcher(msg):\n--> 276                 return self.dispatch_shell(stream, msg)\n        msg = [<zmq.sugar.frame.Frame object>, <zmq.sugar.frame.Frame object>, <zmq.sugar.frame.Frame object>, <zmq.sugar.frame.Frame object>, <zmq.sugar.frame.Frame object>, <zmq.sugar.frame.Frame object>, <zmq.sugar.frame.Frame object>]\n    277             return dispatcher\n    278 \n    279         for s in self.shell_streams:\n    280             s.on_recv(make_dispatcher(s), copy=False)\n\n...........................................................................\nC:\\ProgramData\\Anaconda3\\lib\\site-packages\\ipykernel\\kernelbase.py in dispatch_shell(self=<ipykernel.ipkernel.IPythonKernel object>, stream=<zmq.eventloop.zmqstream.ZMQStream object>, msg={'buffers': [], 'content': {'allow_stdin': True, 'code': '# Create a random forest classifier. By conventi...the species)\\nclf.fit(train[features_clf], target)', 'silent': False, 'stop_on_error': True, 'store_history': True, 'user_expressions': {}}, 'header': {'date': '2017-05-12T14:02:05.334000', 'msg_id': '687E30CAC1B7480F854C9E067C11FF91', 'msg_type': 'execute_request', 'session': 'F7C935D0D65A4F0F89F64930A734E1BB', 'username': 'username', 'version': '5.0'}, 'metadata': {}, 'msg_id': '687E30CAC1B7480F854C9E067C11FF91', 'msg_type': 'execute_request', 'parent_header': {}})\n    223             self.log.error(\"UNKNOWN MESSAGE TYPE: %r\", msg_type)\n    224         else:\n    225             self.log.debug(\"%s: %s\", msg_type, msg)\n    226             self.pre_handler_hook()\n    227             try:\n--> 228                 handler(stream, idents, msg)\n        handler = <bound method Kernel.execute_request of <ipykernel.ipkernel.IPythonKernel object>>\n        stream = <zmq.eventloop.zmqstream.ZMQStream object>\n        idents = [b'F7C935D0D65A4F0F89F64930A734E1BB']\n        msg = {'buffers': [], 'content': {'allow_stdin': True, 'code': '# Create a random forest classifier. By conventi...the species)\\nclf.fit(train[features_clf], target)', 'silent': False, 'stop_on_error': True, 'store_history': True, 'user_expressions': {}}, 'header': {'date': '2017-05-12T14:02:05.334000', 'msg_id': '687E30CAC1B7480F854C9E067C11FF91', 'msg_type': 'execute_request', 'session': 'F7C935D0D65A4F0F89F64930A734E1BB', 'username': 'username', 'version': '5.0'}, 'metadata': {}, 'msg_id': '687E30CAC1B7480F854C9E067C11FF91', 'msg_type': 'execute_request', 'parent_header': {}}\n    229             except Exception:\n    230                 self.log.error(\"Exception in message handler:\", exc_info=True)\n    231             finally:\n    232                 self.post_handler_hook()\n\n...........................................................................\nC:\\ProgramData\\Anaconda3\\lib\\site-packages\\ipykernel\\kernelbase.py in execute_request(self=<ipykernel.ipkernel.IPythonKernel object>, stream=<zmq.eventloop.zmqstream.ZMQStream object>, ident=[b'F7C935D0D65A4F0F89F64930A734E1BB'], parent={'buffers': [], 'content': {'allow_stdin': True, 'code': '# Create a random forest classifier. By conventi...the species)\\nclf.fit(train[features_clf], target)', 'silent': False, 'stop_on_error': True, 'store_history': True, 'user_expressions': {}}, 'header': {'date': '2017-05-12T14:02:05.334000', 'msg_id': '687E30CAC1B7480F854C9E067C11FF91', 'msg_type': 'execute_request', 'session': 'F7C935D0D65A4F0F89F64930A734E1BB', 'username': 'username', 'version': '5.0'}, 'metadata': {}, 'msg_id': '687E30CAC1B7480F854C9E067C11FF91', 'msg_type': 'execute_request', 'parent_header': {}})\n    385         if not silent:\n    386             self.execution_count += 1\n    387             self._publish_execute_input(code, parent, self.execution_count)\n    388 \n    389         reply_content = self.do_execute(code, silent, store_history,\n--> 390                                         user_expressions, allow_stdin)\n        user_expressions = {}\n        allow_stdin = True\n    391 \n    392         # Flush output before sending the reply.\n    393         sys.stdout.flush()\n    394         sys.stderr.flush()\n\n...........................................................................\nC:\\ProgramData\\Anaconda3\\lib\\site-packages\\ipykernel\\ipkernel.py in do_execute(self=<ipykernel.ipkernel.IPythonKernel object>, code='# Create a random forest classifier. By conventi...the species)\\nclf.fit(train[features_clf], target)', silent=False, store_history=True, user_expressions={}, allow_stdin=True)\n    191 \n    192         self._forward_input(allow_stdin)\n    193 \n    194         reply_content = {}\n    195         try:\n--> 196             res = shell.run_cell(code, store_history=store_history, silent=silent)\n        res = undefined\n        shell.run_cell = <bound method ZMQInteractiveShell.run_cell of <ipykernel.zmqshell.ZMQInteractiveShell object>>\n        code = '# Create a random forest classifier. By conventi...the species)\\nclf.fit(train[features_clf], target)'\n        store_history = True\n        silent = False\n    197         finally:\n    198             self._restore_input()\n    199 \n    200         if res.error_before_exec is not None:\n\n...........................................................................\nC:\\ProgramData\\Anaconda3\\lib\\site-packages\\ipykernel\\zmqshell.py in run_cell(self=<ipykernel.zmqshell.ZMQInteractiveShell object>, *args=('# Create a random forest classifier. By conventi...the species)\\nclf.fit(train[features_clf], target)',), **kwargs={'silent': False, 'store_history': True})\n    496             )\n    497         self.payload_manager.write_payload(payload)\n    498 \n    499     def run_cell(self, *args, **kwargs):\n    500         self._last_traceback = None\n--> 501         return super(ZMQInteractiveShell, self).run_cell(*args, **kwargs)\n        self.run_cell = <bound method ZMQInteractiveShell.run_cell of <ipykernel.zmqshell.ZMQInteractiveShell object>>\n        args = ('# Create a random forest classifier. By conventi...the species)\\nclf.fit(train[features_clf], target)',)\n        kwargs = {'silent': False, 'store_history': True}\n    502 \n    503     def _showtraceback(self, etype, evalue, stb):\n    504         # try to preserve ordering of tracebacks and print statements\n    505         sys.stdout.flush()\n\n...........................................................................\nC:\\ProgramData\\Anaconda3\\lib\\site-packages\\IPython\\core\\interactiveshell.py in run_cell(self=<ipykernel.zmqshell.ZMQInteractiveShell object>, raw_cell='# Create a random forest classifier. By conventi...the species)\\nclf.fit(train[features_clf], target)', store_history=True, silent=False, shell_futures=True)\n   2712                 self.displayhook.exec_result = result\n   2713 \n   2714                 # Execute the user code\n   2715                 interactivity = \"none\" if silent else self.ast_node_interactivity\n   2716                 has_raised = self.run_ast_nodes(code_ast.body, cell_name,\n-> 2717                    interactivity=interactivity, compiler=compiler, result=result)\n        interactivity = 'last_expr'\n        compiler = <IPython.core.compilerop.CachingCompiler object>\n   2718                 \n   2719                 self.last_execution_succeeded = not has_raised\n   2720 \n   2721                 # Reset this so later displayed values do not modify the\n\n...........................................................................\nC:\\ProgramData\\Anaconda3\\lib\\site-packages\\IPython\\core\\interactiveshell.py in run_ast_nodes(self=<ipykernel.zmqshell.ZMQInteractiveShell object>, nodelist=[<_ast.Assign object>, <_ast.Expr object>], cell_name='<ipython-input-208-18e1f5381dec>', interactivity='last', compiler=<IPython.core.compilerop.CachingCompiler object>, result=<ExecutionResult object at 3c244cf8, execution_c..._before_exec=None error_in_exec=None result=None>)\n   2822                     return True\n   2823 \n   2824             for i, node in enumerate(to_run_interactive):\n   2825                 mod = ast.Interactive([node])\n   2826                 code = compiler(mod, cell_name, \"single\")\n-> 2827                 if self.run_code(code, result):\n        self.run_code = <bound method InteractiveShell.run_code of <ipykernel.zmqshell.ZMQInteractiveShell object>>\n        code = <code object <module> at 0x00000000383C5300, file \"<ipython-input-208-18e1f5381dec>\", line 6>\n        result = <ExecutionResult object at 3c244cf8, execution_c..._before_exec=None error_in_exec=None result=None>\n   2828                     return True\n   2829 \n   2830             # Flush softspace\n   2831             if softspace(sys.stdout, 0):\n\n...........................................................................\nC:\\ProgramData\\Anaconda3\\lib\\site-packages\\IPython\\core\\interactiveshell.py in run_code(self=<ipykernel.zmqshell.ZMQInteractiveShell object>, code_obj=<code object <module> at 0x00000000383C5300, file \"<ipython-input-208-18e1f5381dec>\", line 6>, result=<ExecutionResult object at 3c244cf8, execution_c..._before_exec=None error_in_exec=None result=None>)\n   2876         outflag = 1  # happens in more places, so it's easier as default\n   2877         try:\n   2878             try:\n   2879                 self.hooks.pre_run_code_hook()\n   2880                 #rprint('Running code', repr(code_obj)) # dbg\n-> 2881                 exec(code_obj, self.user_global_ns, self.user_ns)\n        code_obj = <code object <module> at 0x00000000383C5300, file \"<ipython-input-208-18e1f5381dec>\", line 6>\n        self.user_global_ns = {'In': ['', \"import matplotlib as mpl\\nimport numpy as np\\nimpo...ggplot')\\nget_ipython().magic('matplotlib inline')\", \"get_ipython().system('pwd')\", '#df = pd.read_csv(\"Siniestros_Desc.csv\", parse_dates=True, encoding=\"latin1\")', 'import os\\n\\nfile = \"C:\\\\\\\\Users\\\\A2276061\\\\Documents\\\\..., parse_dates=True, encoding=\"latin1\")\\nprint(pwd)', '#os.path.basename(file)', 'df=df.dropna(axis=0)\\nprint(df.head())', 'from sklearn.model_selection import train_test_s...n_test_split(df, test_size=0.33, random_state=42)', 'print(good_columns.head())', 'from sklearn.cluster import KMeans\\n\\n# Initialize...from games.\\ngood_columns = df._get_numeric_data()', 'print(good_columns.head())', \"binarizer = preprocessing.Binarizer(threshold=10...io= binarizer.transform(good_columns['INI_ANIO'])\", \"good_columns['INI_ANIO']=pd.DataFrame(np.transpose(new_anio))\", '#deprecate al escalamiento\\n#X_scaled = preprocessing.scale(good_columns)\\n#X_scaled', \"X_normalized = preprocessing.normalize(good_columns, norm='l2')\\nX_normalized \", 'from sklearn.cluster import KMeans\\n\\n# Initialize...from games.\\ngood_columns = df._get_numeric_data()', 'from sklearn.cluster import KMeans\\n\\n# Initialize...om games.\\ndf_transformed = df._get_numeric_data()', 'print(df_transformed.head())', 'print(df_transformed.head())', \"binarizer = preprocessing.Binarizer(threshold=10...= binarizer.transform(df_transformed['INI_ANIO'])\", ...], 'KMeans': <class 'sklearn.cluster.k_means_.KMeans'>, 'MultiOutputRegressor': <class 'sklearn.multioutput.MultiOutputRegressor'>, 'Out': {22:           NSINIEST  NPOLIZA  RAMSUBRAMO  INI_ANI...   325950.0       1  \n\n[184673 rows x 18 columns], 27: array([[  9.98049450e-01,   5.57035101e-02,   2....055333e-02,   3.24082999e-02,   9.94272125e-08]]), 29: array([0, 1, 0, ..., 2, 0, 0]), 32:           NSINIEST  NPOLIZA  RAMSUBRAMO RAMO    ...    325950.0      1  \n\n[184673 rows x 28 columns], 36:           NSINIEST  NPOLIZA  RAMSUBRAMO RAMO    ...2028    2173.000000  \n\n[184673 rows x 30 columns], 37: Index(['NSINIEST', 'NPOLIZA', 'RAMSUBRAMO', 'RAM...', 'DIFF_MOUNT', 'CLAIMS'],\n      dtype='object'), 39: Index(['NSINIEST', 'NPOLIZA', 'RAMSUBRAMO', 'RAM...', 'DIFF_MOUNT', 'CLAIMS'],\n      dtype='object'), 40: [['NSINIEST', 'NPOLIZA', 'RAMSUBRAMO', 'RAMO', 'SUBRAMO', 'DATE_INIT', 'INI_ANIO', 'INDIVIDUAL', 'EDO', 'STATE_NAME', 'CITY', 'CITY_NAME', 'NASEG', 'NOMBTIT', 'GENDER', 'CVNFUMA', 'RIESGOCUP', 'CVEDOCIV', 'AGE', 'SINISTER_DATE', ...]], 47:         NPOLIZA  RAMSUBRAMO RAMO         SUBRAMO...   325950.0       1  \n\n[184673 rows x 24 columns], 55:           NSINIEST  NPOLIZA  RAMSUBRAMO  INI_ANI...   325950.0       1  \n\n[184673 rows x 18 columns], ...}, 'PCA': <class 'sklearn.decomposition.pca.PCA'>, 'PolynomialFeatures': <class 'sklearn.preprocessing.data.PolynomialFeatures'>, 'RandomForestClassifier': <class 'sklearn.ensemble.forest.RandomForestClassifier'>, 'RandomForestRegressor': <class 'sklearn.ensemble.forest.RandomForestRegressor'>, 'X': array([[ -9.99771250e+01],\n       [ -9.99195950e...  [  9.93506850e+01],\n       [  9.94645701e+01]]), 'X_': array([[ 1.    ,  0.44  ,  0.68  ,  0.1936,  0.2... ,  0.99  ,  0.23  ,  0.9801,  0.2277,  0.0529]]), ...}\n        self.user_ns = {'In': ['', \"import matplotlib as mpl\\nimport numpy as np\\nimpo...ggplot')\\nget_ipython().magic('matplotlib inline')\", \"get_ipython().system('pwd')\", '#df = pd.read_csv(\"Siniestros_Desc.csv\", parse_dates=True, encoding=\"latin1\")', 'import os\\n\\nfile = \"C:\\\\\\\\Users\\\\A2276061\\\\Documents\\\\..., parse_dates=True, encoding=\"latin1\")\\nprint(pwd)', '#os.path.basename(file)', 'df=df.dropna(axis=0)\\nprint(df.head())', 'from sklearn.model_selection import train_test_s...n_test_split(df, test_size=0.33, random_state=42)', 'print(good_columns.head())', 'from sklearn.cluster import KMeans\\n\\n# Initialize...from games.\\ngood_columns = df._get_numeric_data()', 'print(good_columns.head())', \"binarizer = preprocessing.Binarizer(threshold=10...io= binarizer.transform(good_columns['INI_ANIO'])\", \"good_columns['INI_ANIO']=pd.DataFrame(np.transpose(new_anio))\", '#deprecate al escalamiento\\n#X_scaled = preprocessing.scale(good_columns)\\n#X_scaled', \"X_normalized = preprocessing.normalize(good_columns, norm='l2')\\nX_normalized \", 'from sklearn.cluster import KMeans\\n\\n# Initialize...from games.\\ngood_columns = df._get_numeric_data()', 'from sklearn.cluster import KMeans\\n\\n# Initialize...om games.\\ndf_transformed = df._get_numeric_data()', 'print(df_transformed.head())', 'print(df_transformed.head())', \"binarizer = preprocessing.Binarizer(threshold=10...= binarizer.transform(df_transformed['INI_ANIO'])\", ...], 'KMeans': <class 'sklearn.cluster.k_means_.KMeans'>, 'MultiOutputRegressor': <class 'sklearn.multioutput.MultiOutputRegressor'>, 'Out': {22:           NSINIEST  NPOLIZA  RAMSUBRAMO  INI_ANI...   325950.0       1  \n\n[184673 rows x 18 columns], 27: array([[  9.98049450e-01,   5.57035101e-02,   2....055333e-02,   3.24082999e-02,   9.94272125e-08]]), 29: array([0, 1, 0, ..., 2, 0, 0]), 32:           NSINIEST  NPOLIZA  RAMSUBRAMO RAMO    ...    325950.0      1  \n\n[184673 rows x 28 columns], 36:           NSINIEST  NPOLIZA  RAMSUBRAMO RAMO    ...2028    2173.000000  \n\n[184673 rows x 30 columns], 37: Index(['NSINIEST', 'NPOLIZA', 'RAMSUBRAMO', 'RAM...', 'DIFF_MOUNT', 'CLAIMS'],\n      dtype='object'), 39: Index(['NSINIEST', 'NPOLIZA', 'RAMSUBRAMO', 'RAM...', 'DIFF_MOUNT', 'CLAIMS'],\n      dtype='object'), 40: [['NSINIEST', 'NPOLIZA', 'RAMSUBRAMO', 'RAMO', 'SUBRAMO', 'DATE_INIT', 'INI_ANIO', 'INDIVIDUAL', 'EDO', 'STATE_NAME', 'CITY', 'CITY_NAME', 'NASEG', 'NOMBTIT', 'GENDER', 'CVNFUMA', 'RIESGOCUP', 'CVEDOCIV', 'AGE', 'SINISTER_DATE', ...]], 47:         NPOLIZA  RAMSUBRAMO RAMO         SUBRAMO...   325950.0       1  \n\n[184673 rows x 24 columns], 55:           NSINIEST  NPOLIZA  RAMSUBRAMO  INI_ANI...   325950.0       1  \n\n[184673 rows x 18 columns], ...}, 'PCA': <class 'sklearn.decomposition.pca.PCA'>, 'PolynomialFeatures': <class 'sklearn.preprocessing.data.PolynomialFeatures'>, 'RandomForestClassifier': <class 'sklearn.ensemble.forest.RandomForestClassifier'>, 'RandomForestRegressor': <class 'sklearn.ensemble.forest.RandomForestRegressor'>, 'X': array([[ -9.99771250e+01],\n       [ -9.99195950e...  [  9.93506850e+01],\n       [  9.94645701e+01]]), 'X_': array([[ 1.    ,  0.44  ,  0.68  ,  0.1936,  0.2... ,  0.99  ,  0.23  ,  0.9801,  0.2277,  0.0529]]), ...}\n   2882             finally:\n   2883                 # Reset our crash handler in place\n   2884                 sys.excepthook = old_excepthook\n   2885         except SystemExit as e:\n\n...........................................................................\nC:\\Users\\A2276061\\Documents\\GMM\\<ipython-input-208-18e1f5381dec> in <module>()\n      1 # Create a random forest classifier. By convention, clf means 'classifier'\n      2 clf = RandomForestClassifier(n_jobs=2)\n      3 \n      4 # Train the classifier to take the training features and learn how they relate\n      5 # to the training y (the species)\n----> 6 clf.fit(train[features_clf], target)\n      7 \n      8 \n      9 \n     10 \n\n...........................................................................\nC:\\ProgramData\\Anaconda3\\lib\\site-packages\\sklearn\\ensemble\\forest.py in fit(self=RandomForestClassifier(bootstrap=True, class_wei...te=None,\n            verbose=0, warm_start=False), X=array([[  3.00410000e+04,   1.00000000e+00,   9.....00000000e+00,   4.33346406e+04]], dtype=float32), y=array([[   1.],\n       [   2.],\n       [   3.],\n...\n       [   0.],\n       [ 150.],\n       [  25.]]), sample_weight=None)\n    321             trees = Parallel(n_jobs=self.n_jobs, verbose=self.verbose,\n    322                              backend=\"threading\")(\n    323                 delayed(_parallel_build_trees)(\n    324                     t, self, X, y, sample_weight, i, len(trees),\n    325                     verbose=self.verbose, class_weight=self.class_weight)\n--> 326                 for i, t in enumerate(trees))\n        i = 9\n    327 \n    328             # Collect newly grown trees\n    329             self.estimators_.extend(trees)\n    330 \n\n...........................................................................\nC:\\ProgramData\\Anaconda3\\lib\\site-packages\\sklearn\\externals\\joblib\\parallel.py in __call__(self=Parallel(n_jobs=2), iterable=<generator object BaseForest.fit.<locals>.<genexpr>>)\n    763             if pre_dispatch == \"all\" or n_jobs == 1:\n    764                 # The iterable was consumed all at once by the above for loop.\n    765                 # No need to wait for async callbacks to trigger to\n    766                 # consumption.\n    767                 self._iterating = False\n--> 768             self.retrieve()\n        self.retrieve = <bound method Parallel.retrieve of Parallel(n_jobs=2)>\n    769             # Make sure that we get a last message telling us we are done\n    770             elapsed_time = time.time() - self._start_time\n    771             self._print('Done %3i out of %3i | elapsed: %s finished',\n    772                         (len(self._output), len(self._output),\n\n---------------------------------------------------------------------------\nSub-process traceback:\n---------------------------------------------------------------------------\nMemoryError                                        Fri May 12 14:09:58 2017\nPID: 6720                 Python 3.6.0: C:\\ProgramData\\Anaconda3\\python.exe\n...........................................................................\nC:\\ProgramData\\Anaconda3\\lib\\site-packages\\sklearn\\externals\\joblib\\parallel.py in __call__(self=<sklearn.externals.joblib.parallel.BatchedCalls object>)\n    126     def __init__(self, iterator_slice):\n    127         self.items = list(iterator_slice)\n    128         self._size = len(self.items)\n    129 \n    130     def __call__(self):\n--> 131         return [func(*args, **kwargs) for func, args, kwargs in self.items]\n        self.items = [(<function _parallel_build_trees>, (DecisionTreeClassifier(class_weight=None, criter...=False, random_state=1140805641, splitter='best'), RandomForestClassifier(bootstrap=True, class_wei...te=None,\n            verbose=0, warm_start=False), array([[  3.00410000e+04,   1.00000000e+00,   9.....00000000e+00,   4.33346406e+04]], dtype=float32), array([[   1.],\n       [   2.],\n       [   3.],\n...\n       [   0.],\n       [ 150.],\n       [  25.]]), None, 0, 10), {'class_weight': None, 'verbose': 0})]\n    132 \n    133     def __len__(self):\n    134         return self._size\n    135 \n\n...........................................................................\nC:\\ProgramData\\Anaconda3\\lib\\site-packages\\sklearn\\externals\\joblib\\parallel.py in <listcomp>(.0=<list_iterator object>)\n    126     def __init__(self, iterator_slice):\n    127         self.items = list(iterator_slice)\n    128         self._size = len(self.items)\n    129 \n    130     def __call__(self):\n--> 131         return [func(*args, **kwargs) for func, args, kwargs in self.items]\n        func = <function _parallel_build_trees>\n        args = (DecisionTreeClassifier(class_weight=None, criter...=False, random_state=1140805641, splitter='best'), RandomForestClassifier(bootstrap=True, class_wei...te=None,\n            verbose=0, warm_start=False), array([[  3.00410000e+04,   1.00000000e+00,   9.....00000000e+00,   4.33346406e+04]], dtype=float32), array([[   1.],\n       [   2.],\n       [   3.],\n...\n       [   0.],\n       [ 150.],\n       [  25.]]), None, 0, 10)\n        kwargs = {'class_weight': None, 'verbose': 0}\n    132 \n    133     def __len__(self):\n    134         return self._size\n    135 \n\n...........................................................................\nC:\\ProgramData\\Anaconda3\\lib\\site-packages\\sklearn\\ensemble\\forest.py in _parallel_build_trees(tree=DecisionTreeClassifier(class_weight=None, criter...=False, random_state=1140805641, splitter='best'), forest=RandomForestClassifier(bootstrap=True, class_wei...te=None,\n            verbose=0, warm_start=False), X=array([[  3.00410000e+04,   1.00000000e+00,   9.....00000000e+00,   4.33346406e+04]], dtype=float32), y=array([[   1.],\n       [   2.],\n       [   3.],\n...\n       [   0.],\n       [ 150.],\n       [  25.]]), sample_weight=None, tree_idx=0, n_trees=10, verbose=0, class_weight=None)\n    115                 warnings.simplefilter('ignore', DeprecationWarning)\n    116                 curr_sample_weight *= compute_sample_weight('auto', y, indices)\n    117         elif class_weight == 'balanced_subsample':\n    118             curr_sample_weight *= compute_sample_weight('balanced', y, indices)\n    119 \n--> 120         tree.fit(X, y, sample_weight=curr_sample_weight, check_input=False)\n        tree.fit = <bound method DecisionTreeClassifier.fit of Deci...False, random_state=1140805641, splitter='best')>\n        X = array([[  3.00410000e+04,   1.00000000e+00,   9.....00000000e+00,   4.33346406e+04]], dtype=float32)\n        y = array([[   1.],\n       [   2.],\n       [   3.],\n...\n       [   0.],\n       [ 150.],\n       [  25.]])\n        sample_weight = None\n        curr_sample_weight = array([ 1.,  0.,  1., ...,  1.,  0.,  0.])\n    121     else:\n    122         tree.fit(X, y, sample_weight=sample_weight, check_input=False)\n    123 \n    124     return tree\n\n...........................................................................\nC:\\ProgramData\\Anaconda3\\lib\\site-packages\\sklearn\\tree\\tree.py in fit(self=DecisionTreeClassifier(class_weight=None, criter...=False, random_state=1140805641, splitter='best'), X=array([[  3.00410000e+04,   1.00000000e+00,   9.....00000000e+00,   4.33346406e+04]], dtype=float32), y=array([[   1.],\n       [   2.],\n       [   3.],\n...\n       [   0.],\n       [ 150.],\n       [  25.]]), sample_weight=array([ 1.,  0.,  1., ...,  1.,  0.,  0.]), check_input=False, X_idx_sorted=None)\n    734 \n    735         super(DecisionTreeClassifier, self).fit(\n    736             X, y,\n    737             sample_weight=sample_weight,\n    738             check_input=check_input,\n--> 739             X_idx_sorted=X_idx_sorted)\n        X_idx_sorted = None\n    740         return self\n    741 \n    742 \n    743     def predict_proba(self, X, check_input=True):\n\n...........................................................................\nC:\\ProgramData\\Anaconda3\\lib\\site-packages\\sklearn\\tree\\tree.py in fit(self=DecisionTreeClassifier(class_weight=None, criter...=False, random_state=1140805641, splitter='best'), X=array([[  3.00410000e+04,   1.00000000e+00,   9.....00000000e+00,   4.33346406e+04]], dtype=float32), y=array([[   1.],\n       [   2.],\n       [   3.],\n...\n       [   0.],\n       [ 150.],\n       [  25.]]), sample_weight=array([ 1.,  0.,  1., ...,  1.,  0.,  0.]), check_input=False, X_idx_sorted=None)\n    345                                            min_weight_leaf,\n    346                                            max_depth,\n    347                                            max_leaf_nodes,\n    348                                            self.min_impurity_split)\n    349 \n--> 350         builder.build(self.tree_, X, y, sample_weight, X_idx_sorted)\n        builder.build = <built-in method build of sklearn.tree._tree.DepthFirstTreeBuilder object>\n        self.tree_ = <sklearn.tree._tree.Tree object>\n        X = array([[  3.00410000e+04,   1.00000000e+00,   9.....00000000e+00,   4.33346406e+04]], dtype=float32)\n        y = array([[   1.],\n       [   2.],\n       [   3.],\n...\n       [   0.],\n       [ 150.],\n       [  25.]])\n        sample_weight = array([ 1.,  0.,  1., ...,  1.,  0.,  0.])\n        X_idx_sorted = None\n    351 \n    352         if self.n_outputs_ == 1:\n    353             self.n_classes_ = self.n_classes_[0]\n    354             self.classes_ = self.classes_[0]\n\n...........................................................................\nC:\\ProgramData\\Anaconda3\\lib\\site-packages\\sklearn\\tree\\_tree.cp36-win_amd64.pyd in sklearn.tree._tree.DepthFirstTreeBuilder.build (sklearn\\tree\\_tree.c:4999)()\n    137 \n    138 \n    139 \n    140 \n    141 \n--> 142 \n    143 \n    144 \n    145 \n    146 \n\n...........................................................................\nC:\\ProgramData\\Anaconda3\\lib\\site-packages\\sklearn\\tree\\_tree.cp36-win_amd64.pyd in sklearn.tree._tree.DepthFirstTreeBuilder.build (sklearn\\tree\\_tree.c:4826)()\n    264 \n    265 \n    266 \n    267 \n    268 \n--> 269 \n    270 \n    271 \n    272 \n    273 \n\nMemoryError: \n___________________________________________________________________________"
     ]
    }
   ],
   "source": [
    "# Create a random forest classifier. By convention, clf means 'classifier'\n",
    "clf = RandomForestClassifier(n_jobs=2)\n",
    "\n",
    "# Train the classifier to take the training features and learn how they relate\n",
    "# to the training y (the species)\n",
    "clf.fit(train[features_clf], target)"
   ]
  },
  {
   "cell_type": "code",
   "execution_count": null,
   "metadata": {
    "collapsed": true
   },
   "outputs": [],
   "source": []
  },
  {
   "cell_type": "code",
   "execution_count": null,
   "metadata": {
    "collapsed": true
   },
   "outputs": [],
   "source": []
  },
  {
   "cell_type": "code",
   "execution_count": null,
   "metadata": {
    "collapsed": true
   },
   "outputs": [],
   "source": []
  },
  {
   "cell_type": "code",
   "execution_count": 7,
   "metadata": {
    "collapsed": true
   },
   "outputs": [],
   "source": [
    "n_samples = 1500\n",
    "random_state = 170\n",
    "X, y = make_blobs(n_samples=n_samples, random_state=random_state)"
   ]
  },
  {
   "cell_type": "code",
   "execution_count": 9,
   "metadata": {
    "collapsed": false
   },
   "outputs": [
    {
     "name": "stdout",
     "output_type": "stream",
     "text": [
      "[[ -5.19811282e+00   6.41869316e-01]\n",
      " [ -5.75229538e+00   4.18627111e-01]\n",
      " [ -1.08448984e+01  -7.55352273e+00]\n",
      " ..., \n",
      " [  1.36105255e+00  -9.07491863e-01]\n",
      " [ -3.54141108e-01   7.12241630e-01]\n",
      " [  1.88577252e+00   1.41185693e-03]]\n"
     ]
    }
   ],
   "source": [
    "print (X)"
   ]
  },
  {
   "cell_type": "code",
   "execution_count": null,
   "metadata": {
    "collapsed": true
   },
   "outputs": [],
   "source": [
    "plt.figure(figsize=(12, 12))\n",
    "\n",
    "# Incorrect number of clusters\n",
    "y_pred = KMeans(n_clusters=2, random_state=random_state).fit_predict(X)\n",
    "\n",
    "plt.subplot(221)\n",
    "plt.scatter(X[:, 0], X[:, 1], c=y_pred)\n",
    "plt.title(\"Incorrect Number of Blobs\")\n",
    "\n",
    "# Anisotropicly distributed data\n",
    "transformation = [[ 0.60834549, -0.63667341], [-0.40887718, 0.85253229]]\n",
    "X_aniso = np.dot(X, transformation)\n",
    "y_pred = KMeans(n_clusters=3, random_state=random_state).fit_predict(X_aniso)\n",
    "\n",
    "plt.subplot(222)\n",
    "plt.scatter(X_aniso[:, 0], X_aniso[:, 1], c=y_pred)\n",
    "plt.title(\"Anisotropicly Distributed Blobs\")\n",
    "\n",
    "# Different variance\n",
    "X_varied, y_varied = make_blobs(n_samples=n_samples,\n",
    "                                cluster_std=[1.0, 2.5, 0.5],\n",
    "                                random_state=random_state)\n",
    "y_pred = KMeans(n_clusters=3, random_state=random_state).fit_predict(X_varied)\n",
    "\n",
    "plt.subplot(223)\n",
    "plt.scatter(X_varied[:, 0], X_varied[:, 1], c=y_pred)\n",
    "plt.title(\"Unequal Variance\")\n",
    "\n",
    "# Unevenly sized blobs\n",
    "X_filtered = np.vstack((X[y == 0][:500], X[y == 1][:100], X[y == 2][:10]))\n",
    "y_pred = KMeans(n_clusters=3, random_state=random_state).fit_predict(X_filtered)\n",
    "\n",
    "plt.subplot(224)\n",
    "plt.scatter(X_filtered[:, 0], X_filtered[:, 1], c=y_pred)\n",
    "plt.title(\"Unevenly Sized Blobs\")\n",
    "\n",
    "plt.show()"
   ]
  },
  {
   "cell_type": "code",
   "execution_count": null,
   "metadata": {
    "collapsed": true
   },
   "outputs": [],
   "source": []
  },
  {
   "cell_type": "code",
   "execution_count": null,
   "metadata": {
    "collapsed": true
   },
   "outputs": [],
   "source": []
  },
  {
   "cell_type": "code",
   "execution_count": null,
   "metadata": {
    "collapsed": true
   },
   "outputs": [],
   "source": []
  },
  {
   "cell_type": "code",
   "execution_count": null,
   "metadata": {
    "collapsed": true
   },
   "outputs": [],
   "source": []
  },
  {
   "cell_type": "code",
   "execution_count": 11,
   "metadata": {
    "collapsed": false
   },
   "outputs": [],
   "source": [
    "def missing_values_table(df): \n",
    "        mis_val = df.isnull().sum()\n",
    "        mis_val_percent = 100 * df.isnull().sum()/len(df)\n",
    "        mis_val_table = pd.concat([mis_val, mis_val_percent], axis=1)\n",
    "        mis_val_table = mis_val_table.rename(columns = {0 : 'Missing Values', 1 : '% of Total Values'})\n",
    "        return mis_val_table"
   ]
  },
  {
   "cell_type": "code",
   "execution_count": 12,
   "metadata": {
    "collapsed": false
   },
   "outputs": [
    {
     "name": "stdout",
     "output_type": "stream",
     "text": [
      "Empty DataFrame\n",
      "Columns: [Missing Values, % of Total Values]\n",
      "Index: []\n"
     ]
    }
   ],
   "source": [
    "missing = missing_values_table(df1)\n",
    "missing = missing[missing['Missing Values'] > 0] #showing only all those are not zero\n",
    "print(missing)"
   ]
  },
  {
   "cell_type": "code",
   "execution_count": 13,
   "metadata": {
    "collapsed": false
   },
   "outputs": [
    {
     "ename": "TypeError",
     "evalue": "Empty 'DataFrame': no numeric data to plot",
     "output_type": "error",
     "traceback": [
      "\u001b[0;31m---------------------------------------------------------------------------\u001b[0m",
      "\u001b[0;31mTypeError\u001b[0m                                 Traceback (most recent call last)",
      "\u001b[0;32m<ipython-input-13-2508a993c3b6>\u001b[0m in \u001b[0;36m<module>\u001b[0;34m()\u001b[0m\n\u001b[1;32m      1\u001b[0m \u001b[0mfig\u001b[0m \u001b[1;33m=\u001b[0m \u001b[0mplt\u001b[0m\u001b[1;33m.\u001b[0m\u001b[0mfigure\u001b[0m\u001b[1;33m(\u001b[0m\u001b[0mfigsize\u001b[0m\u001b[1;33m=\u001b[0m\u001b[1;33m[\u001b[0m\u001b[1;36m12\u001b[0m\u001b[1;33m,\u001b[0m \u001b[1;36m6\u001b[0m\u001b[1;33m]\u001b[0m\u001b[1;33m)\u001b[0m\u001b[1;33m\u001b[0m\u001b[0m\n\u001b[1;32m      2\u001b[0m \u001b[1;33m\u001b[0m\u001b[0m\n\u001b[0;32m----> 3\u001b[0;31m \u001b[0max\u001b[0m \u001b[1;33m=\u001b[0m \u001b[0mmissing\u001b[0m\u001b[1;33m[\u001b[0m\u001b[1;34m'% of Total Values'\u001b[0m\u001b[1;33m]\u001b[0m\u001b[1;33m.\u001b[0m\u001b[0mplot\u001b[0m\u001b[1;33m(\u001b[0m\u001b[0mkind\u001b[0m\u001b[1;33m=\u001b[0m\u001b[1;34m'bar'\u001b[0m\u001b[1;33m,\u001b[0m \u001b[0mwidth\u001b[0m\u001b[1;33m=\u001b[0m\u001b[1;36m0.8\u001b[0m\u001b[1;33m,\u001b[0m \u001b[0malpha\u001b[0m\u001b[1;33m=\u001b[0m\u001b[1;36m0.5\u001b[0m\u001b[1;33m,\u001b[0m \u001b[0mcolor\u001b[0m\u001b[1;33m=\u001b[0m\u001b[1;34m'#003399'\u001b[0m\u001b[1;33m,\u001b[0m \u001b[0medgecolor\u001b[0m\u001b[1;33m=\u001b[0m\u001b[1;34m'#333333'\u001b[0m\u001b[1;33m)\u001b[0m\u001b[1;33m\u001b[0m\u001b[0m\n\u001b[0m\u001b[1;32m      4\u001b[0m \u001b[0max\u001b[0m\u001b[1;33m.\u001b[0m\u001b[0myaxis\u001b[0m\u001b[1;33m.\u001b[0m\u001b[0mgrid\u001b[0m\u001b[1;33m(\u001b[0m\u001b[1;32mTrue\u001b[0m\u001b[1;33m)\u001b[0m\u001b[1;33m\u001b[0m\u001b[0m\n\u001b[1;32m      5\u001b[0m \u001b[0max\u001b[0m\u001b[1;33m.\u001b[0m\u001b[0mset_title\u001b[0m\u001b[1;33m(\u001b[0m\u001b[1;34m'% Missing Values'\u001b[0m\u001b[1;33m)\u001b[0m\u001b[1;33m\u001b[0m\u001b[0m\n",
      "\u001b[0;32mC:\\ProgramData\\Anaconda3\\lib\\site-packages\\pandas\\tools\\plotting.py\u001b[0m in \u001b[0;36m__call__\u001b[0;34m(self, kind, ax, figsize, use_index, title, grid, legend, style, logx, logy, loglog, xticks, yticks, xlim, ylim, rot, fontsize, colormap, table, yerr, xerr, label, secondary_y, **kwds)\u001b[0m\n\u001b[1;32m   3598\u001b[0m                            \u001b[0mcolormap\u001b[0m\u001b[1;33m=\u001b[0m\u001b[0mcolormap\u001b[0m\u001b[1;33m,\u001b[0m \u001b[0mtable\u001b[0m\u001b[1;33m=\u001b[0m\u001b[0mtable\u001b[0m\u001b[1;33m,\u001b[0m \u001b[0myerr\u001b[0m\u001b[1;33m=\u001b[0m\u001b[0myerr\u001b[0m\u001b[1;33m,\u001b[0m\u001b[1;33m\u001b[0m\u001b[0m\n\u001b[1;32m   3599\u001b[0m                            \u001b[0mxerr\u001b[0m\u001b[1;33m=\u001b[0m\u001b[0mxerr\u001b[0m\u001b[1;33m,\u001b[0m \u001b[0mlabel\u001b[0m\u001b[1;33m=\u001b[0m\u001b[0mlabel\u001b[0m\u001b[1;33m,\u001b[0m \u001b[0msecondary_y\u001b[0m\u001b[1;33m=\u001b[0m\u001b[0msecondary_y\u001b[0m\u001b[1;33m,\u001b[0m\u001b[1;33m\u001b[0m\u001b[0m\n\u001b[0;32m-> 3600\u001b[0;31m                            **kwds)\n\u001b[0m\u001b[1;32m   3601\u001b[0m     \u001b[0m__call__\u001b[0m\u001b[1;33m.\u001b[0m\u001b[0m__doc__\u001b[0m \u001b[1;33m=\u001b[0m \u001b[0mplot_series\u001b[0m\u001b[1;33m.\u001b[0m\u001b[0m__doc__\u001b[0m\u001b[1;33m\u001b[0m\u001b[0m\n\u001b[1;32m   3602\u001b[0m \u001b[1;33m\u001b[0m\u001b[0m\n",
      "\u001b[0;32mC:\\ProgramData\\Anaconda3\\lib\\site-packages\\pandas\\tools\\plotting.py\u001b[0m in \u001b[0;36mplot_series\u001b[0;34m(data, kind, ax, figsize, use_index, title, grid, legend, style, logx, logy, loglog, xticks, yticks, xlim, ylim, rot, fontsize, colormap, table, yerr, xerr, label, secondary_y, **kwds)\u001b[0m\n\u001b[1;32m   2672\u001b[0m                  \u001b[0myerr\u001b[0m\u001b[1;33m=\u001b[0m\u001b[0myerr\u001b[0m\u001b[1;33m,\u001b[0m \u001b[0mxerr\u001b[0m\u001b[1;33m=\u001b[0m\u001b[0mxerr\u001b[0m\u001b[1;33m,\u001b[0m\u001b[1;33m\u001b[0m\u001b[0m\n\u001b[1;32m   2673\u001b[0m                  \u001b[0mlabel\u001b[0m\u001b[1;33m=\u001b[0m\u001b[0mlabel\u001b[0m\u001b[1;33m,\u001b[0m \u001b[0msecondary_y\u001b[0m\u001b[1;33m=\u001b[0m\u001b[0msecondary_y\u001b[0m\u001b[1;33m,\u001b[0m\u001b[1;33m\u001b[0m\u001b[0m\n\u001b[0;32m-> 2674\u001b[0;31m                  **kwds)\n\u001b[0m\u001b[1;32m   2675\u001b[0m \u001b[1;33m\u001b[0m\u001b[0m\n\u001b[1;32m   2676\u001b[0m \u001b[1;33m\u001b[0m\u001b[0m\n",
      "\u001b[0;32mC:\\ProgramData\\Anaconda3\\lib\\site-packages\\pandas\\tools\\plotting.py\u001b[0m in \u001b[0;36m_plot\u001b[0;34m(data, x, y, subplots, ax, kind, **kwds)\u001b[0m\n\u001b[1;32m   2468\u001b[0m         \u001b[0mplot_obj\u001b[0m \u001b[1;33m=\u001b[0m \u001b[0mklass\u001b[0m\u001b[1;33m(\u001b[0m\u001b[0mdata\u001b[0m\u001b[1;33m,\u001b[0m \u001b[0msubplots\u001b[0m\u001b[1;33m=\u001b[0m\u001b[0msubplots\u001b[0m\u001b[1;33m,\u001b[0m \u001b[0max\u001b[0m\u001b[1;33m=\u001b[0m\u001b[0max\u001b[0m\u001b[1;33m,\u001b[0m \u001b[0mkind\u001b[0m\u001b[1;33m=\u001b[0m\u001b[0mkind\u001b[0m\u001b[1;33m,\u001b[0m \u001b[1;33m**\u001b[0m\u001b[0mkwds\u001b[0m\u001b[1;33m)\u001b[0m\u001b[1;33m\u001b[0m\u001b[0m\n\u001b[1;32m   2469\u001b[0m \u001b[1;33m\u001b[0m\u001b[0m\n\u001b[0;32m-> 2470\u001b[0;31m     \u001b[0mplot_obj\u001b[0m\u001b[1;33m.\u001b[0m\u001b[0mgenerate\u001b[0m\u001b[1;33m(\u001b[0m\u001b[1;33m)\u001b[0m\u001b[1;33m\u001b[0m\u001b[0m\n\u001b[0m\u001b[1;32m   2471\u001b[0m     \u001b[0mplot_obj\u001b[0m\u001b[1;33m.\u001b[0m\u001b[0mdraw\u001b[0m\u001b[1;33m(\u001b[0m\u001b[1;33m)\u001b[0m\u001b[1;33m\u001b[0m\u001b[0m\n\u001b[1;32m   2472\u001b[0m     \u001b[1;32mreturn\u001b[0m \u001b[0mplot_obj\u001b[0m\u001b[1;33m.\u001b[0m\u001b[0mresult\u001b[0m\u001b[1;33m\u001b[0m\u001b[0m\n",
      "\u001b[0;32mC:\\ProgramData\\Anaconda3\\lib\\site-packages\\pandas\\tools\\plotting.py\u001b[0m in \u001b[0;36mgenerate\u001b[0;34m(self)\u001b[0m\n\u001b[1;32m   1039\u001b[0m     \u001b[1;32mdef\u001b[0m \u001b[0mgenerate\u001b[0m\u001b[1;33m(\u001b[0m\u001b[0mself\u001b[0m\u001b[1;33m)\u001b[0m\u001b[1;33m:\u001b[0m\u001b[1;33m\u001b[0m\u001b[0m\n\u001b[1;32m   1040\u001b[0m         \u001b[0mself\u001b[0m\u001b[1;33m.\u001b[0m\u001b[0m_args_adjust\u001b[0m\u001b[1;33m(\u001b[0m\u001b[1;33m)\u001b[0m\u001b[1;33m\u001b[0m\u001b[0m\n\u001b[0;32m-> 1041\u001b[0;31m         \u001b[0mself\u001b[0m\u001b[1;33m.\u001b[0m\u001b[0m_compute_plot_data\u001b[0m\u001b[1;33m(\u001b[0m\u001b[1;33m)\u001b[0m\u001b[1;33m\u001b[0m\u001b[0m\n\u001b[0m\u001b[1;32m   1042\u001b[0m         \u001b[0mself\u001b[0m\u001b[1;33m.\u001b[0m\u001b[0m_setup_subplots\u001b[0m\u001b[1;33m(\u001b[0m\u001b[1;33m)\u001b[0m\u001b[1;33m\u001b[0m\u001b[0m\n\u001b[1;32m   1043\u001b[0m         \u001b[0mself\u001b[0m\u001b[1;33m.\u001b[0m\u001b[0m_make_plot\u001b[0m\u001b[1;33m(\u001b[0m\u001b[1;33m)\u001b[0m\u001b[1;33m\u001b[0m\u001b[0m\n",
      "\u001b[0;32mC:\\ProgramData\\Anaconda3\\lib\\site-packages\\pandas\\tools\\plotting.py\u001b[0m in \u001b[0;36m_compute_plot_data\u001b[0;34m(self)\u001b[0m\n\u001b[1;32m   1148\u001b[0m         \u001b[1;32mif\u001b[0m \u001b[0mis_empty\u001b[0m\u001b[1;33m:\u001b[0m\u001b[1;33m\u001b[0m\u001b[0m\n\u001b[1;32m   1149\u001b[0m             raise TypeError('Empty {0!r}: no numeric data to '\n\u001b[0;32m-> 1150\u001b[0;31m                             'plot'.format(numeric_data.__class__.__name__))\n\u001b[0m\u001b[1;32m   1151\u001b[0m \u001b[1;33m\u001b[0m\u001b[0m\n\u001b[1;32m   1152\u001b[0m         \u001b[0mself\u001b[0m\u001b[1;33m.\u001b[0m\u001b[0mdata\u001b[0m \u001b[1;33m=\u001b[0m \u001b[0mnumeric_data\u001b[0m\u001b[1;33m\u001b[0m\u001b[0m\n",
      "\u001b[0;31mTypeError\u001b[0m: Empty 'DataFrame': no numeric data to plot"
     ]
    },
    {
     "data": {
      "image/png": "[encoded data removed]",
      "text/plain": [
       "<matplotlib.figure.Figure at 0xc252198>"
      ]
     },
     "metadata": {},
     "output_type": "display_data"
    }
   ],
   "source": [
    "fig = plt.figure(figsize=[12, 6])\n",
    "\n",
    "ax = missing['% of Total Values'].plot(kind='bar', width=0.8, alpha=0.5, color='#003399', edgecolor='#333333')\n",
    "ax.yaxis.grid(True)\n",
    "ax.set_title('% Missing Values')\n",
    "ax.set_ylabel('Percentage')\n",
    "\n",
    "fig.tight_layout() #for some reason this line should stay here\n",
    "plt.show()"
   ]
  },
  {
   "cell_type": "markdown",
   "metadata": {},
   "source": [
    "As we see the missing values are not gonna represent an important issue for data analysis, we have to decide as well\n",
    "+ Imputation methods\n",
    "+ Excusion methods"
   ]
  },
  {
   "cell_type": "code",
   "execution_count": 24,
   "metadata": {
    "collapsed": false
   },
   "outputs": [
    {
     "data": {
      "text/plain": [
       "2.3002919748367736"
      ]
     },
     "execution_count": 24,
     "metadata": {},
     "output_type": "execute_result"
    }
   ],
   "source": [
    "#Filling Na??\n",
    "df['COVERS'].fillna(df['COVERS'].mean()).mean()"
   ]
  },
  {
   "cell_type": "code",
   "execution_count": 26,
   "metadata": {
    "collapsed": false
   },
   "outputs": [
    {
     "name": "stdout",
     "output_type": "stream",
     "text": [
      "        INI_ANIO         CITY_NAME                              NOMBTIT   AGE  \\\n",
      "9528           5  CIUDAD DE MEXICO                 FELIPE SIADE BARQUET  59.0   \n",
      "165409         7         MONTERREY                  ALDO GUTIERREZ VEGA  46.0   \n",
      "31382          6         MONTERREY  DIANA FERNANDA DE LA ROSA RODRIGUEZ   1.0   \n",
      "95031          1         MONTERREY     ALVARADO QUIROZ FRANCISCO JAVIER  38.0   \n",
      "69731          1         MONTERREY                 SILVA CHAIREZ FABIAN  29.0   \n",
      "226153         1       GUADALAJARA                  GARCIA LEAL GERARDO  45.0   \n",
      "139524         1         MONTERREY          RUBEN DARIO MARTINEZ CASTRO  39.0   \n",
      "215633         2  CIUDAD DE MEXICO                 FELIPE SIADE BARQUET  56.0   \n",
      "219437         1         MONTERREY     MARIA DEL SAGRARIO BARREDA PEREZ  54.0   \n",
      "247177        10     CIUDAD JUAREZ              SAMUEL MIRANDA MARTINEZ  43.0   \n",
      "21384          2         MONTERREY       GUAJARDO ELIZONDO LUIS GERARDO  47.0   \n",
      "54371          1         MONTERREY       ALMARAZ MARINES ARNOLDO EGLAIN  17.0   \n",
      "207553         1  CIUDAD DE MEXICO                 FELIPE SIADE BARQUET  54.0   \n",
      "48238          1           ZAPOPAN   JOSE DE JESUS UGALDE VILLAVISENCIO  13.0   \n",
      "253924         6         MONTERREY          ROSA MARTHA GARCIA ELIZONDO  24.0   \n",
      "39002         13  CIUDAD DE MEXICO        MARIA EUGENIA MORALES ZERME&O  61.0   \n",
      "173337         5    AGUASCALIENTES         EDITH SILVIA YANEZ HERNANDEZ  52.0   \n",
      "252952         6         MONTERREY     JUAN BERNARDO GUERRERO VELAZQUEZ  40.0   \n",
      "37072         12  CIUDAD DE MEXICO     PAOLO MATTEI-GENTILLI PADELLETTI  66.0   \n",
      "199950         2         MONTERREY        IRIS DEYANIRA GARZA RODRIGUEZ   1.0   \n",
      "\n",
      "       SINISTER_DATE SIN_DECRIPTION    TOTAL_PAID  CLAIMS  \n",
      "9528        05/08/12     ENFERMEDAD  3.725528e+08     276  \n",
      "165409      05/07/12     ENFERMEDAD  1.172354e+09     228  \n",
      "31382       10/09/14     ENFERMEDAD  2.415588e+09     209  \n",
      "95031       27/06/14     ENFERMEDAD  2.970640e+08     173  \n",
      "69731       16/03/13     ENFERMEDAD  7.280194e+08     148  \n",
      "226153      10/12/13     ENFERMEDAD  5.269155e+08     144  \n",
      "139524      20/01/07      ACCIDENTE  6.917249e+08     143  \n",
      "215633      01/08/09     ENFERMEDAD  1.721935e+08     142  \n",
      "219437      03/09/12     ENFERMEDAD  1.269985e+09     140  \n",
      "247177      12/07/13     ENFERMEDAD  1.629586e+09     134  \n",
      "21384       10/07/14     ENFERMEDAD  7.665996e+08     133  \n",
      "54371       05/07/14     ENFERMEDAD  1.020716e+09     131  \n",
      "207553      01/01/08     ENFERMEDAD  2.740794e+08     130  \n",
      "48238       20/04/15     ENFERMEDAD  8.223057e+08     129  \n",
      "253924      03/07/12     ENFERMEDAD  3.033467e+08     127  \n",
      "39002       11/02/14     ENFERMEDAD  5.547088e+08     126  \n",
      "173337      10/10/11     ENFERMEDAD  2.075932e+08     121  \n",
      "252952      16/05/14     ENFERMEDAD  1.845372e+08     120  \n",
      "37072       14/01/12     ENFERMEDAD  2.766120e+08     120  \n",
      "199950      15/03/13     ENFERMEDAD  3.593525e+08     115  \n"
     ]
    }
   ],
   "source": [
    "df_head = df.sort_values(['CLAIMS'], ascending=False).head(20)\n",
    "print(df_head[['INI_ANIO','CITY_NAME','NOMBTIT','AGE','SINISTER_DATE','SIN_DECRIPTION','TOTAL_PAID','CLAIMS']])"
   ]
  },
  {
   "cell_type": "markdown",
   "metadata": {},
   "source": [
    "What happen with the cases like FELIPE SIADE BARQUET where we found is showing more than once\n",
    "+ Let's check the policy number, whats wrong?\n",
    "+ Why the calculated age is diferent?"
   ]
  },
  {
   "cell_type": "code",
   "execution_count": 27,
   "metadata": {
    "collapsed": false
   },
   "outputs": [
    {
     "data": {
      "text/plain": [
       "(262029, 28)"
      ]
     },
     "execution_count": 27,
     "metadata": {},
     "output_type": "execute_result"
    }
   ],
   "source": [
    "df.shape"
   ]
  },
  {
   "cell_type": "code",
   "execution_count": 28,
   "metadata": {
    "collapsed": false
   },
   "outputs": [
    {
     "data": {
      "text/html": [
       "<div>\n",
       "<table border=\"1\" class=\"dataframe\">\n",
       "  <thead>\n",
       "    <tr style=\"text-align: right;\">\n",
       "      <th></th>\n",
       "      <th>NSINIEST</th>\n",
       "      <th>NPOLIZA</th>\n",
       "      <th>RAMSUBRAMO</th>\n",
       "      <th>INI_ANIO</th>\n",
       "      <th>INDIVIDUAL</th>\n",
       "      <th>EDO</th>\n",
       "      <th>CITY</th>\n",
       "      <th>GENDER</th>\n",
       "      <th>CVNFUMA</th>\n",
       "      <th>RIESGOCUP</th>\n",
       "      <th>CVEDOCIV</th>\n",
       "      <th>AGE</th>\n",
       "      <th>TIPOSIN</th>\n",
       "      <th>COVERS</th>\n",
       "      <th>TOTAL_CLAIM</th>\n",
       "      <th>TOTAL_PAID</th>\n",
       "      <th>DIFF_MOUNT</th>\n",
       "      <th>CLAIMS</th>\n",
       "    </tr>\n",
       "  </thead>\n",
       "  <tbody>\n",
       "    <tr>\n",
       "      <th>count</th>\n",
       "      <td>2.620e+05</td>\n",
       "      <td>2.620e+05</td>\n",
       "      <td>262029.000</td>\n",
       "      <td>262029.000</td>\n",
       "      <td>262029.000</td>\n",
       "      <td>262029.000</td>\n",
       "      <td>238407.000</td>\n",
       "      <td>244366.000</td>\n",
       "      <td>244366.000</td>\n",
       "      <td>244366.000</td>\n",
       "      <td>244366.000</td>\n",
       "      <td>244366.000</td>\n",
       "      <td>262029.000</td>\n",
       "      <td>217142.000</td>\n",
       "      <td>2.419e+05</td>\n",
       "      <td>2.419e+05</td>\n",
       "      <td>2.419e+05</td>\n",
       "      <td>262029.000</td>\n",
       "    </tr>\n",
       "    <tr>\n",
       "      <th>mean</th>\n",
       "      <td>3.215e+07</td>\n",
       "      <td>7.073e+05</td>\n",
       "      <td>9840.941</td>\n",
       "      <td>3.703</td>\n",
       "      <td>1.413</td>\n",
       "      <td>13.598</td>\n",
       "      <td>5.159</td>\n",
       "      <td>1.313</td>\n",
       "      <td>0.115</td>\n",
       "      <td>0.054</td>\n",
       "      <td>0.301</td>\n",
       "      <td>25.394</td>\n",
       "      <td>198.264</td>\n",
       "      <td>2.300</td>\n",
       "      <td>3.263e+06</td>\n",
       "      <td>5.550e+06</td>\n",
       "      <td>8.702e+06</td>\n",
       "      <td>2.639</td>\n",
       "    </tr>\n",
       "    <tr>\n",
       "      <th>std</th>\n",
       "      <td>2.419e+08</td>\n",
       "      <td>1.492e+06</td>\n",
       "      <td>13343.930</td>\n",
       "      <td>3.608</td>\n",
       "      <td>0.492</td>\n",
       "      <td>7.541</td>\n",
       "      <td>4.163</td>\n",
       "      <td>0.657</td>\n",
       "      <td>0.319</td>\n",
       "      <td>0.431</td>\n",
       "      <td>0.646</td>\n",
       "      <td>19.355</td>\n",
       "      <td>100.290</td>\n",
       "      <td>1.078</td>\n",
       "      <td>1.322e+07</td>\n",
       "      <td>2.244e+07</td>\n",
       "      <td>3.323e+07</td>\n",
       "      <td>3.873</td>\n",
       "    </tr>\n",
       "    <tr>\n",
       "      <th>min</th>\n",
       "      <td>1.100e+02</td>\n",
       "      <td>1.300e+01</td>\n",
       "      <td>110.000</td>\n",
       "      <td>1.000</td>\n",
       "      <td>1.000</td>\n",
       "      <td>0.000</td>\n",
       "      <td>1.000</td>\n",
       "      <td>0.000</td>\n",
       "      <td>0.000</td>\n",
       "      <td>0.000</td>\n",
       "      <td>0.000</td>\n",
       "      <td>0.000</td>\n",
       "      <td>100.000</td>\n",
       "      <td>1.000</td>\n",
       "      <td>1.000e+00</td>\n",
       "      <td>0.000e+00</td>\n",
       "      <td>0.000e+00</td>\n",
       "      <td>1.000</td>\n",
       "    </tr>\n",
       "    <tr>\n",
       "      <th>25%</th>\n",
       "      <td>7.028e+06</td>\n",
       "      <td>1.134e+05</td>\n",
       "      <td>1021.000</td>\n",
       "      <td>1.000</td>\n",
       "      <td>1.000</td>\n",
       "      <td>9.000</td>\n",
       "      <td>1.000</td>\n",
       "      <td>1.000</td>\n",
       "      <td>0.000</td>\n",
       "      <td>0.000</td>\n",
       "      <td>0.000</td>\n",
       "      <td>10.000</td>\n",
       "      <td>100.000</td>\n",
       "      <td>1.000</td>\n",
       "      <td>2.410e+05</td>\n",
       "      <td>4.095e+05</td>\n",
       "      <td>6.603e+05</td>\n",
       "      <td>1.000</td>\n",
       "    </tr>\n",
       "    <tr>\n",
       "      <th>50%</th>\n",
       "      <td>1.101e+07</td>\n",
       "      <td>2.771e+05</td>\n",
       "      <td>1046.000</td>\n",
       "      <td>2.000</td>\n",
       "      <td>1.000</td>\n",
       "      <td>14.000</td>\n",
       "      <td>6.000</td>\n",
       "      <td>1.000</td>\n",
       "      <td>0.000</td>\n",
       "      <td>0.000</td>\n",
       "      <td>0.000</td>\n",
       "      <td>25.000</td>\n",
       "      <td>200.000</td>\n",
       "      <td>2.000</td>\n",
       "      <td>9.657e+05</td>\n",
       "      <td>1.571e+06</td>\n",
       "      <td>2.559e+06</td>\n",
       "      <td>2.000</td>\n",
       "    </tr>\n",
       "    <tr>\n",
       "      <th>75%</th>\n",
       "      <td>1.306e+07</td>\n",
       "      <td>6.242e+05</td>\n",
       "      <td>30041.000</td>\n",
       "      <td>5.000</td>\n",
       "      <td>2.000</td>\n",
       "      <td>19.000</td>\n",
       "      <td>7.000</td>\n",
       "      <td>2.000</td>\n",
       "      <td>0.000</td>\n",
       "      <td>0.000</td>\n",
       "      <td>0.000</td>\n",
       "      <td>39.000</td>\n",
       "      <td>300.000</td>\n",
       "      <td>3.000</td>\n",
       "      <td>2.856e+06</td>\n",
       "      <td>4.749e+06</td>\n",
       "      <td>7.523e+06</td>\n",
       "      <td>3.000</td>\n",
       "    </tr>\n",
       "    <tr>\n",
       "      <th>max</th>\n",
       "      <td>3.051e+09</td>\n",
       "      <td>9.970e+06</td>\n",
       "      <td>30053.000</td>\n",
       "      <td>97.000</td>\n",
       "      <td>2.000</td>\n",
       "      <td>33.000</td>\n",
       "      <td>23.000</td>\n",
       "      <td>2.000</td>\n",
       "      <td>2.000</td>\n",
       "      <td>7.000</td>\n",
       "      <td>4.000</td>\n",
       "      <td>113.000</td>\n",
       "      <td>800.000</td>\n",
       "      <td>6.000</td>\n",
       "      <td>1.414e+09</td>\n",
       "      <td>2.416e+09</td>\n",
       "      <td>3.799e+09</td>\n",
       "      <td>276.000</td>\n",
       "    </tr>\n",
       "  </tbody>\n",
       "</table>\n",
       "</div>"
      ],
      "text/plain": [
       "        NSINIEST    NPOLIZA  RAMSUBRAMO    INI_ANIO  INDIVIDUAL         EDO        CITY  \\\n",
       "count  2.620e+05  2.620e+05  262029.000  262029.000  262029.000  262029.000  238407.000   \n",
       "mean   3.215e+07  7.073e+05    9840.941       3.703       1.413      13.598       5.159   \n",
       "std    2.419e+08  1.492e+06   13343.930       3.608       0.492       7.541       4.163   \n",
       "min    1.100e+02  1.300e+01     110.000       1.000       1.000       0.000       1.000   \n",
       "25%    7.028e+06  1.134e+05    1021.000       1.000       1.000       9.000       1.000   \n",
       "50%    1.101e+07  2.771e+05    1046.000       2.000       1.000      14.000       6.000   \n",
       "75%    1.306e+07  6.242e+05   30041.000       5.000       2.000      19.000       7.000   \n",
       "max    3.051e+09  9.970e+06   30053.000      97.000       2.000      33.000      23.000   \n",
       "\n",
       "           GENDER     CVNFUMA   RIESGOCUP    CVEDOCIV         AGE     TIPOSIN      COVERS  \\\n",
       "count  244366.000  244366.000  244366.000  244366.000  244366.000  262029.000  217142.000   \n",
       "mean        1.313       0.115       0.054       0.301      25.394     198.264       2.300   \n",
       "std         0.657       0.319       0.431       0.646      19.355     100.290       1.078   \n",
       "min         0.000       0.000       0.000       0.000       0.000     100.000       1.000   \n",
       "25%         1.000       0.000       0.000       0.000      10.000     100.000       1.000   \n",
       "50%         1.000       0.000       0.000       0.000      25.000     200.000       2.000   \n",
       "75%         2.000       0.000       0.000       0.000      39.000     300.000       3.000   \n",
       "max         2.000       2.000       7.000       4.000     113.000     800.000       6.000   \n",
       "\n",
       "       TOTAL_CLAIM  TOTAL_PAID  DIFF_MOUNT      CLAIMS  \n",
       "count    2.419e+05   2.419e+05   2.419e+05  262029.000  \n",
       "mean     3.263e+06   5.550e+06   8.702e+06       2.639  \n",
       "std      1.322e+07   2.244e+07   3.323e+07       3.873  \n",
       "min      1.000e+00   0.000e+00   0.000e+00       1.000  \n",
       "25%      2.410e+05   4.095e+05   6.603e+05       1.000  \n",
       "50%      9.657e+05   1.571e+06   2.559e+06       2.000  \n",
       "75%      2.856e+06   4.749e+06   7.523e+06       3.000  \n",
       "max      1.414e+09   2.416e+09   3.799e+09     276.000  "
      ]
     },
     "execution_count": 28,
     "metadata": {},
     "output_type": "execute_result"
    }
   ],
   "source": [
    "pd.set_option('display.width', 100)\n",
    "pd.set_option('precision', 3)\n",
    "df.describe()"
   ]
  },
  {
   "cell_type": "markdown",
   "metadata": {},
   "source": [
    "The matrix shape is logical?:\n",
    "- 1 \n",
    "- 2 "
   ]
  },
  {
   "cell_type": "code",
   "execution_count": 29,
   "metadata": {
    "collapsed": false
   },
   "outputs": [
    {
     "data": {
      "text/plain": [
       "MONTERREY           71282\n",
       "CIUDAD DE MEXICO    60772\n",
       "GUADALAJARA         16813\n",
       "AGUASCALIENTES       5226\n",
       "CIUDAD JUAREZ        5200\n",
       "QUERETARO            4947\n",
       "TAMPICO              4725\n",
       "TORREON              4649\n",
       "TOLUCA DE LERDO      4398\n",
       "SALTILLO             4266\n",
       "Name: CITY_NAME, dtype: int64"
      ]
     },
     "execution_count": 29,
     "metadata": {},
     "output_type": "execute_result"
    }
   ],
   "source": [
    "df['CITY_NAME'].str.upper().value_counts().head(10) #equivalent grouping"
   ]
  },
  {
   "cell_type": "code",
   "execution_count": 32,
   "metadata": {
    "collapsed": false
   },
   "outputs": [
    {
     "name": "stdout",
     "output_type": "stream",
     "text": [
      "SIN_DECRIPTION\n",
      "ACC TRANS        752\n",
      "ACCIDENTE     112348\n",
      "DESEMPLEO          3\n",
      "EMBARAZO       16659\n",
      "ENFERMEDAD    127810\n",
      "GTOS.FUNE.        12\n",
      "INV.TOTAL         52\n",
      "MA X VIOLE       693\n",
      "MTE. ACC.       2652\n",
      "MUERTE           772\n",
      "PERD.ORG.        271\n",
      "SUICIDIO           5\n",
      "dtype: int64\n"
     ]
    }
   ],
   "source": [
    "#In case we have classes\n",
    "sin_desc = df.groupby('SIN_DECRIPTION').size()\n",
    "print(sin_desc)"
   ]
  },
  {
   "cell_type": "code",
   "execution_count": 38,
   "metadata": {
    "collapsed": false
   },
   "outputs": [
    {
     "name": "stdout",
     "output_type": "stream",
     "text": [
      "             INI_ANIO    AGE  COVERS  TOTAL_CLAIM  TOTAL_PAID  DIFF_MOUNT  CLAIMS\n",
      "INI_ANIO        1.000  0.149   0.088        0.021       0.018       0.020   0.016\n",
      "AGE             0.149  1.000   0.056        0.158       0.153       0.164   0.204\n",
      "COVERS          0.088  0.056   1.000       -0.021      -0.024      -0.023   0.036\n",
      "TOTAL_CLAIM     0.021  0.158  -0.021        1.000       0.967       0.950   0.557\n",
      "TOTAL_PAID      0.018  0.153  -0.024        0.967       1.000       0.963   0.585\n",
      "DIFF_MOUNT      0.020  0.164  -0.023        0.950       0.963       1.000   0.594\n",
      "CLAIMS          0.016  0.204   0.036        0.557       0.585       0.594   1.000\n"
     ]
    }
   ],
   "source": [
    "#correlations\n",
    "numeric_features = df[['INI_ANIO','AGE','COVERS','TOTAL_CLAIM','TOTAL_PAID','DIFF_MOUNT','CLAIMS']]\n",
    "correlations = numeric_features.corr(method='pearson')\n",
    "print(correlations)"
   ]
  },
  {
   "cell_type": "code",
   "execution_count": 60,
   "metadata": {
    "collapsed": false
   },
   "outputs": [
    {
     "data": {
      "text/plain": [
       "<matplotlib.figure.Figure at 0x1291a0b8>"
      ]
     },
     "metadata": {},
     "output_type": "display_data"
    },
    {
     "data": {
      "image/png": "[encoded data removed]",
      "text/plain": [
       "<matplotlib.figure.Figure at 0x1138bd30>"
      ]
     },
     "metadata": {},
     "output_type": "display_data"
    }
   ],
   "source": [
    "plt.figure(figsize=[10,10])\n",
    "scatter_matrix(numeric_features, alpha=0.2, figsize=(6, 6), diagonal='kde')\n",
    "plt.show()"
   ]
  },
  {
   "cell_type": "code",
   "execution_count": 41,
   "metadata": {
    "collapsed": false
   },
   "outputs": [
    {
     "name": "stdout",
     "output_type": "stream",
     "text": [
      "INI_ANIO        3.010\n",
      "AGE             0.606\n",
      "COVERS          0.680\n",
      "TOTAL_CLAIM    38.438\n",
      "TOTAL_PAID     36.022\n",
      "DIFF_MOUNT     33.608\n",
      "CLAIMS         12.714\n",
      "dtype: float64\n"
     ]
    }
   ],
   "source": [
    "skew = numeric_features.skew()\n",
    "print(skew)"
   ]
  },
  {
   "cell_type": "markdown",
   "metadata": {},
   "source": [
    "---\n",
    "Is clear we need to scalate and normalize"
   ]
  },
  {
   "cell_type": "markdown",
   "metadata": {},
   "source": [
    "##### Time Serires\n",
    "\n",
    "For this dataset we are analysing the sinisters global, the natural approach is visualize the time series envolved  \n",
    "\n",
    "The fisrt thing we have to do is convert date fields on data type, because as we see on dtypes is not clear"
   ]
  },
  {
   "cell_type": "code",
   "execution_count": 42,
   "metadata": {
    "collapsed": false
   },
   "outputs": [
    {
     "data": {
      "text/html": [
       "<div>\n",
       "<table border=\"1\" class=\"dataframe\">\n",
       "  <thead>\n",
       "    <tr style=\"text-align: right;\">\n",
       "      <th></th>\n",
       "      <th>NSINIEST</th>\n",
       "      <th>NPOLIZA</th>\n",
       "      <th>RAMSUBRAMO</th>\n",
       "      <th>RAMO</th>\n",
       "      <th>SUBRAMO</th>\n",
       "      <th>DATE_INIT</th>\n",
       "      <th>INI_ANIO</th>\n",
       "      <th>INDIVIDUAL</th>\n",
       "      <th>EDO</th>\n",
       "      <th>STATE_NAME</th>\n",
       "      <th>...</th>\n",
       "      <th>AGE</th>\n",
       "      <th>SINISTER_DATE</th>\n",
       "      <th>TIPOSIN</th>\n",
       "      <th>SIN_DECRIPTION</th>\n",
       "      <th>DIS_DESCRIPTION</th>\n",
       "      <th>COVERS</th>\n",
       "      <th>TOTAL_CLAIM</th>\n",
       "      <th>TOTAL_PAID</th>\n",
       "      <th>DIFF_MOUNT</th>\n",
       "      <th>CLAIMS</th>\n",
       "    </tr>\n",
       "  </thead>\n",
       "  <tbody>\n",
       "    <tr>\n",
       "      <th>0</th>\n",
       "      <td>16039182</td>\n",
       "      <td>1011</td>\n",
       "      <td>1035</td>\n",
       "      <td>GMM</td>\n",
       "      <td>GMM COLECTIVO</td>\n",
       "      <td>2015-01-08</td>\n",
       "      <td>1</td>\n",
       "      <td>1</td>\n",
       "      <td>19</td>\n",
       "      <td>N.L.</td>\n",
       "      <td>...</td>\n",
       "      <td>NaN</td>\n",
       "      <td>2016-08-16</td>\n",
       "      <td>300</td>\n",
       "      <td>ACCIDENTE</td>\n",
       "      <td>RUPTURA DE MENISCO MEDIAL + LISTESIS OSEA RODI...</td>\n",
       "      <td>NaN</td>\n",
       "      <td>NaN</td>\n",
       "      <td>NaN</td>\n",
       "      <td>NaN</td>\n",
       "      <td>2</td>\n",
       "    </tr>\n",
       "    <tr>\n",
       "      <th>1</th>\n",
       "      <td>17003837</td>\n",
       "      <td>610201</td>\n",
       "      <td>1035</td>\n",
       "      <td>GMM</td>\n",
       "      <td>GMM COLECTIVO</td>\n",
       "      <td>2016-09-30</td>\n",
       "      <td>2</td>\n",
       "      <td>2</td>\n",
       "      <td>14</td>\n",
       "      <td>JAL</td>\n",
       "      <td>...</td>\n",
       "      <td>NaN</td>\n",
       "      <td>2012-01-01</td>\n",
       "      <td>100</td>\n",
       "      <td>ENFERMEDAD</td>\n",
       "      <td>FISTULA ANAL CRIPTOGLANDULAR                  ...</td>\n",
       "      <td>NaN</td>\n",
       "      <td>NaN</td>\n",
       "      <td>NaN</td>\n",
       "      <td>NaN</td>\n",
       "      <td>2</td>\n",
       "    </tr>\n",
       "    <tr>\n",
       "      <th>2</th>\n",
       "      <td>16051270</td>\n",
       "      <td>101101</td>\n",
       "      <td>1030</td>\n",
       "      <td>GMM</td>\n",
       "      <td>GMM COLECTIVO</td>\n",
       "      <td>2016-01-05</td>\n",
       "      <td>2</td>\n",
       "      <td>2</td>\n",
       "      <td>11</td>\n",
       "      <td>GTO</td>\n",
       "      <td>...</td>\n",
       "      <td>NaN</td>\n",
       "      <td>2016-11-25</td>\n",
       "      <td>100</td>\n",
       "      <td>ENFERMEDAD</td>\n",
       "      <td>PARAFIMOSIS Y BALANITIS                       ...</td>\n",
       "      <td>NaN</td>\n",
       "      <td>NaN</td>\n",
       "      <td>NaN</td>\n",
       "      <td>NaN</td>\n",
       "      <td>6</td>\n",
       "    </tr>\n",
       "    <tr>\n",
       "      <th>3</th>\n",
       "      <td>16039194</td>\n",
       "      <td>22201</td>\n",
       "      <td>1026</td>\n",
       "      <td>GMM</td>\n",
       "      <td>GMM COLECTIVO</td>\n",
       "      <td>2015-09-28</td>\n",
       "      <td>1</td>\n",
       "      <td>2</td>\n",
       "      <td>8</td>\n",
       "      <td>CHIH</td>\n",
       "      <td>...</td>\n",
       "      <td>NaN</td>\n",
       "      <td>2016-08-18</td>\n",
       "      <td>100</td>\n",
       "      <td>ENFERMEDAD</td>\n",
       "      <td>SD PINZAMIENTO + TENDINOSIS PORCION LARGA DE B...</td>\n",
       "      <td>NaN</td>\n",
       "      <td>NaN</td>\n",
       "      <td>NaN</td>\n",
       "      <td>NaN</td>\n",
       "      <td>3</td>\n",
       "    </tr>\n",
       "    <tr>\n",
       "      <th>4</th>\n",
       "      <td>16046314</td>\n",
       "      <td>80102</td>\n",
       "      <td>1032</td>\n",
       "      <td>GMM</td>\n",
       "      <td>GMM COLECTIVO</td>\n",
       "      <td>2016-01-04</td>\n",
       "      <td>1</td>\n",
       "      <td>2</td>\n",
       "      <td>15</td>\n",
       "      <td>EDMEX</td>\n",
       "      <td>...</td>\n",
       "      <td>NaN</td>\n",
       "      <td>2016-10-25</td>\n",
       "      <td>300</td>\n",
       "      <td>ACCIDENTE</td>\n",
       "      <td>DESGARRO DEL MENISCO MEDIAL                   ...</td>\n",
       "      <td>NaN</td>\n",
       "      <td>NaN</td>\n",
       "      <td>NaN</td>\n",
       "      <td>NaN</td>\n",
       "      <td>2</td>\n",
       "    </tr>\n",
       "  </tbody>\n",
       "</table>\n",
       "<p>5 rows × 28 columns</p>\n",
       "</div>"
      ],
      "text/plain": [
       "   NSINIEST  NPOLIZA  RAMSUBRAMO RAMO        SUBRAMO  DATE_INIT  INI_ANIO  INDIVIDUAL  EDO  \\\n",
       "0  16039182     1011        1035  GMM  GMM COLECTIVO 2015-01-08         1           1   19   \n",
       "1  17003837   610201        1035  GMM  GMM COLECTIVO 2016-09-30         2           2   14   \n",
       "2  16051270   101101        1030  GMM  GMM COLECTIVO 2016-01-05         2           2   11   \n",
       "3  16039194    22201        1026  GMM  GMM COLECTIVO 2015-09-28         1           2    8   \n",
       "4  16046314    80102        1032  GMM  GMM COLECTIVO 2016-01-04         1           2   15   \n",
       "\n",
       "  STATE_NAME  ...    AGE SINISTER_DATE TIPOSIN SIN_DECRIPTION  \\\n",
       "0       N.L.  ...    NaN    2016-08-16     300      ACCIDENTE   \n",
       "1        JAL  ...    NaN    2012-01-01     100     ENFERMEDAD   \n",
       "2        GTO  ...    NaN    2016-11-25     100     ENFERMEDAD   \n",
       "3       CHIH  ...    NaN    2016-08-18     100     ENFERMEDAD   \n",
       "4      EDMEX  ...    NaN    2016-10-25     300      ACCIDENTE   \n",
       "\n",
       "                                     DIS_DESCRIPTION  COVERS  TOTAL_CLAIM  TOTAL_PAID  DIFF_MOUNT  \\\n",
       "0  RUPTURA DE MENISCO MEDIAL + LISTESIS OSEA RODI...     NaN          NaN         NaN         NaN   \n",
       "1  FISTULA ANAL CRIPTOGLANDULAR                  ...     NaN          NaN         NaN         NaN   \n",
       "2  PARAFIMOSIS Y BALANITIS                       ...     NaN          NaN         NaN         NaN   \n",
       "3  SD PINZAMIENTO + TENDINOSIS PORCION LARGA DE B...     NaN          NaN         NaN         NaN   \n",
       "4  DESGARRO DEL MENISCO MEDIAL                   ...     NaN          NaN         NaN         NaN   \n",
       "\n",
       "  CLAIMS  \n",
       "0      2  \n",
       "1      2  \n",
       "2      6  \n",
       "3      3  \n",
       "4      2  \n",
       "\n",
       "[5 rows x 28 columns]"
      ]
     },
     "execution_count": 42,
     "metadata": {},
     "output_type": "execute_result"
    }
   ],
   "source": [
    "#Beging of \n",
    "df['SINISTER_DATE']=pd.to_datetime(df['SINISTER_DATE'])\n",
    "df['DATE_INIT']=pd.to_datetime(df['DATE_INIT'])\n",
    "df.head()"
   ]
  },
  {
   "cell_type": "code",
   "execution_count": 43,
   "metadata": {
    "collapsed": false
   },
   "outputs": [
    {
     "data": {
      "text/plain": [
       "SINISTER_DATE    datetime64[ns]\n",
       "DATE_INIT        datetime64[ns]\n",
       "dtype: object"
      ]
     },
     "execution_count": 43,
     "metadata": {},
     "output_type": "execute_result"
    }
   ],
   "source": [
    "df[['SINISTER_DATE','DATE_INIT']].dtypes"
   ]
  },
  {
   "cell_type": "code",
   "execution_count": 44,
   "metadata": {
    "collapsed": false
   },
   "outputs": [
    {
     "name": "stdout",
     "output_type": "stream",
     "text": [
      "               count\n",
      "SINISTER_DATE       \n",
      "2000             546\n",
      "2001            4784\n",
      "2002            5021\n",
      "2003            5148\n",
      "2004            7511\n"
     ]
    }
   ],
   "source": [
    "#take the fisrt column . groupby () and measure of aggregation\n",
    "# like agg(['mean', 'count'])\n",
    "dfy = df['NSINIEST'].groupby(df['SINISTER_DATE'].map(lambda x: x.year)).agg(['count'])\n",
    "print(dfy.head())"
   ]
  },
  {
   "cell_type": "code",
   "execution_count": 45,
   "metadata": {
    "collapsed": false
   },
   "outputs": [],
   "source": [
    "#test[['NSINIEST','AGE']].groupby(test['SINISTER_DATE'].map(lambda x: x.year)).agg(['count','mean'])\n",
    "#this is just another approach of agregation"
   ]
  },
  {
   "cell_type": "code",
   "execution_count": 46,
   "metadata": {
    "collapsed": false
   },
   "outputs": [
    {
     "data": {
      "text/plain": [
       "count    int64\n",
       "dtype: object"
      ]
     },
     "execution_count": 46,
     "metadata": {},
     "output_type": "execute_result"
    }
   ],
   "source": [
    "dfy.columns\n",
    "dfy.dtypes"
   ]
  },
  {
   "cell_type": "code",
   "execution_count": 47,
   "metadata": {
    "collapsed": false
   },
   "outputs": [
    {
     "data": {
      "text/plain": [
       "count    16968\n",
       "dtype: int32"
      ]
     },
     "execution_count": 47,
     "metadata": {},
     "output_type": "execute_result"
    }
   ],
   "source": [
    "#The rule we gonna use is excluding all the data with days more than 2 estandart deviatin_\n",
    "two_dev = 2*dfy.std().astype(int)\n",
    "two_dev"
   ]
  },
  {
   "cell_type": "code",
   "execution_count": 48,
   "metadata": {
    "collapsed": false,
    "scrolled": true
   },
   "outputs": [
    {
     "data": {
      "image/png": "[encoded data removed]",
      "text/plain": [
       "<matplotlib.figure.Figure at 0xa05ac18>"
      ]
     },
     "metadata": {},
     "output_type": "display_data"
    }
   ],
   "source": [
    "plt.figure(figsize=[15, 5])\n",
    "plt.plot(dfy, color='red') \n",
    "plt.title(\"Number of Sinister\")\n",
    "plt.ylabel('Sinister')\n",
    "plt.show()"
   ]
  },
  {
   "cell_type": "markdown",
   "metadata": {},
   "source": [
    "+ Can we find something seasonal?\n",
    "+ Sinister by month it matters? Let's make a plot by month"
   ]
  },
  {
   "cell_type": "code",
   "execution_count": 49,
   "metadata": {
    "collapsed": false
   },
   "outputs": [
    {
     "name": "stdout",
     "output_type": "stream",
     "text": [
      "               count\n",
      "SINISTER_DATE       \n",
      "1              30094\n",
      "2              21938\n",
      "3              22344\n",
      "4              21623\n",
      "5              24100\n"
     ]
    }
   ],
   "source": [
    "dfm = df['NSINIEST'].groupby(df['SINISTER_DATE'].map(lambda x: x.month)).agg(['count'])\n",
    "print(dfm.head())"
   ]
  },
  {
   "cell_type": "code",
   "execution_count": 50,
   "metadata": {
    "collapsed": false
   },
   "outputs": [
    {
     "data": {
      "text/plain": [
       "count    16968\n",
       "dtype: int32"
      ]
     },
     "execution_count": 50,
     "metadata": {},
     "output_type": "execute_result"
    }
   ],
   "source": [
    "two_dev = 2*dfy.std().astype(int)\n",
    "two_dev"
   ]
  },
  {
   "cell_type": "code",
   "execution_count": 51,
   "metadata": {
    "collapsed": false
   },
   "outputs": [
    {
     "data": {
      "image/png": "[encoded data removed]",
      "text/plain": [
       "<matplotlib.figure.Figure at 0xac648d0>"
      ]
     },
     "metadata": {},
     "output_type": "display_data"
    }
   ],
   "source": [
    "plt.figure(figsize=[15,5])\n",
    "axx=np.arange(dfm.count())\n",
    "plt.xticks(axx, ('January', 'February', 'March', 'April', 'May', \n",
    "            'June', 'July', 'August', 'September', 'October', 'November', 'Dicember'))\n",
    "plt.ylabel('Sinisters')\n",
    "plt.title('Number of Sinister')\n",
    "plt.bar(axx, dfm['count'], width=.5)\n",
    "plt.show()"
   ]
  },
  {
   "cell_type": "markdown",
   "metadata": {},
   "source": [
    "The best approach is convert this to series, and take out the outliers"
   ]
  },
  {
   "cell_type": "code",
   "execution_count": 52,
   "metadata": {
    "collapsed": false
   },
   "outputs": [
    {
     "name": "stdout",
     "output_type": "stream",
     "text": [
      "               count\n",
      "SINISTER_DATE       \n",
      "2000-01-01        12\n",
      "2000-01-02         3\n",
      "2000-01-03         3\n",
      "2000-01-04         7\n",
      "2000-01-05         4\n"
     ]
    }
   ],
   "source": [
    "#df_dates = df.groupby(df['SINISTER_DATE'].apply(lambda x : x.date()))\n",
    "#df_dates['SINISTER_DATE'].aggregate(len)\n",
    "\n",
    "df_dates = df['NSINIEST'].groupby(df['SINISTER_DATE'].map(lambda x: x.date())).agg(['count'])\n",
    "print(df_dates.head())"
   ]
  },
  {
   "cell_type": "code",
   "execution_count": 205,
   "metadata": {
    "collapsed": false
   },
   "outputs": [
    {
     "data": {
      "image/png": "[encoded data removed]",
      "text/plain": [
       "<matplotlib.figure.Figure at 0x234b06d8>"
      ]
     },
     "metadata": {},
     "output_type": "display_data"
    }
   ],
   "source": [
    "plt.figure(figsize=[15,5])\n",
    "plt.ylabel('Sinisters')\n",
    "plt.title('Number of Sinister')\n",
    "plt.bar(np.arange(df_dates.count()), df_dates['count'], width=.5)\n",
    "plt.show()"
   ]
  },
  {
   "cell_type": "code",
   "execution_count": 54,
   "metadata": {
    "collapsed": false
   },
   "outputs": [
    {
     "data": {
      "text/html": [
       "<div>\n",
       "<table border=\"1\" class=\"dataframe\">\n",
       "  <thead>\n",
       "    <tr style=\"text-align: right;\">\n",
       "      <th></th>\n",
       "      <th>count</th>\n",
       "    </tr>\n",
       "  </thead>\n",
       "  <tbody>\n",
       "    <tr>\n",
       "      <th>count</th>\n",
       "      <td>5979.000</td>\n",
       "    </tr>\n",
       "    <tr>\n",
       "      <th>mean</th>\n",
       "      <td>43.825</td>\n",
       "    </tr>\n",
       "    <tr>\n",
       "      <th>std</th>\n",
       "      <td>36.490</td>\n",
       "    </tr>\n",
       "    <tr>\n",
       "      <th>min</th>\n",
       "      <td>1.000</td>\n",
       "    </tr>\n",
       "    <tr>\n",
       "      <th>25%</th>\n",
       "      <td>20.000</td>\n",
       "    </tr>\n",
       "    <tr>\n",
       "      <th>50%</th>\n",
       "      <td>38.000</td>\n",
       "    </tr>\n",
       "    <tr>\n",
       "      <th>75%</th>\n",
       "      <td>60.000</td>\n",
       "    </tr>\n",
       "    <tr>\n",
       "      <th>max</th>\n",
       "      <td>986.000</td>\n",
       "    </tr>\n",
       "  </tbody>\n",
       "</table>\n",
       "</div>"
      ],
      "text/plain": [
       "          count\n",
       "count  5979.000\n",
       "mean     43.825\n",
       "std      36.490\n",
       "min       1.000\n",
       "25%      20.000\n",
       "50%      38.000\n",
       "75%      60.000\n",
       "max     986.000"
      ]
     },
     "execution_count": 54,
     "metadata": {},
     "output_type": "execute_result"
    }
   ],
   "source": [
    "df_dates.describe()"
   ]
  },
  {
   "cell_type": "markdown",
   "metadata": {},
   "source": [
    "First of all, the mean changes a lot"
   ]
  },
  {
   "cell_type": "code",
   "execution_count": null,
   "metadata": {
    "collapsed": true
   },
   "outputs": [],
   "source": []
  }
 ],
 "metadata": {
  "kernelspec": {
   "display_name": "Python 3",
   "language": "python",
   "name": "python3"
  },
  "language_info": {
   "codemirror_mode": {
    "name": "ipython",
    "version": 3
   },
   "file_extension": ".py",
   "mimetype": "text/x-python",
   "name": "python",
   "nbconvert_exporter": "python",
   "pygments_lexer": "ipython3",
   "version": "3.6.0"
  }
 },
 "nbformat": 4,
 "nbformat_minor": 2
}
