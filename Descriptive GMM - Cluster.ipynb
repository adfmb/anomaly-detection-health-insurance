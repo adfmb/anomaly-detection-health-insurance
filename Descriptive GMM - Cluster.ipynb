{
 "cells": [
  {
   "cell_type": "markdown",
   "metadata": {
    "collapsed": true
   },
   "source": [
    "### Anomalies Detection on Health Insurance Claims\n",
    "\n",
    "2. Training set integration\n",
    "    + Features ingeneering"
   ]
  },
  {
   "cell_type": "markdown",
   "metadata": {},
   "source": [
    "Se tratarán los modelos después de la segmentación"
   ]
  },
  {
   "cell_type": "markdown",
   "metadata": {},
   "source": [
    "### Sinister Dataset Predictive"
   ]
  },
  {
   "cell_type": "code",
   "execution_count": 1,
   "metadata": {
    "collapsed": true
   },
   "outputs": [],
   "source": [
    "import matplotlib as mpl\n",
    "import numpy as np\n",
    "import pandas as pd\n",
    "import matplotlib.pyplot as plt\n",
    "import matplotlib.dates as mdates\n",
    "from sklearn import preprocessing\n",
    "from pandas.tools.plotting import scatter_matrix\n",
    "mpl.style.use('ggplot')\n",
    "%matplotlib inline"
   ]
  },
  {
   "cell_type": "markdown",
   "metadata": {
    "collapsed": true
   },
   "source": [
    "We have to set the asumptions for te main query  \n",
    "There's some trouble about the connections, after analyzing the training dataset"
   ]
  },
  {
   "cell_type": "code",
   "execution_count": 2,
   "metadata": {
    "collapsed": false
   },
   "outputs": [
    {
     "name": "stdout",
     "output_type": "stream",
     "text": [
      "/c/Users/A2276061/Documents/GMM\n"
     ]
    }
   ],
   "source": [
    "!pwd"
   ]
  },
  {
   "cell_type": "code",
   "execution_count": 3,
   "metadata": {
    "collapsed": false
   },
   "outputs": [],
   "source": [
    "#df = pd.read_csv(\"Siniestros_Desc.csv\", parse_dates=True, encoding=\"latin1\")"
   ]
  },
  {
   "cell_type": "code",
   "execution_count": 263,
   "metadata": {
    "collapsed": false
   },
   "outputs": [
    {
     "name": "stdout",
     "output_type": "stream",
     "text": [
      "C:\\Users\\A2276061\\Documents\\GMM\n"
     ]
    }
   ],
   "source": [
    "import os\n",
    "\n",
    "file = \"C:\\\\Users\\A2276061\\Documents\\GMM\\Siniestros_Desc.csv\"\n",
    "pwd = os.getcwd()\n",
    "df = pd.read_csv(os.path.basename(file), parse_dates=True, encoding=\"latin1\")\n",
    "print(pwd)"
   ]
  },
  {
   "cell_type": "code",
   "execution_count": 264,
   "metadata": {
    "collapsed": false
   },
   "outputs": [],
   "source": [
    "#os.path.basename(file)"
   ]
  },
  {
   "cell_type": "code",
   "execution_count": 267,
   "metadata": {
    "collapsed": false
   },
   "outputs": [
    {
     "name": "stdout",
     "output_type": "stream",
     "text": [
      "     NSINIEST  NPOLIZA  RAMSUBRAMO RAMO        SUBRAMO DATE_INIT  INI_ANIO  \\\n",
      "272  12036775   671801       30041   AP   AP COLECTIVO  12/03/12         1   \n",
      "273  12043520     1019        1038  GMM  GMM COLECTIVO  15/05/12         1   \n",
      "274  12028046     1008        1038  GMM  GMM COLECTIVO  15/05/12         1   \n",
      "276  11018531   282610        1028  GMM  GMM COLECTIVO  01/06/11         9   \n",
      "279  10022000   315502        1026  GMM  GMM COLECTIVO  01/07/10         2   \n",
      "\n",
      "     INDIVIDUAL  EDO STATE_NAME  ...     AGE SINISTER_DATE TIPOSIN  \\\n",
      "272           1    9       CDMX  ...     9.0      23/05/12     300   \n",
      "273           2    9       CDMX  ...    56.0      02/08/12     100   \n",
      "274           2    9       CDMX  ...    47.0      13/06/12     100   \n",
      "276           2   19       N.L.  ...    49.0      02/06/11     100   \n",
      "279           1   19       N.L.  ...    34.0      04/08/10     200   \n",
      "\n",
      "    SIN_DECRIPTION                                    DIS_DESCRIPTION  COVERS  \\\n",
      "272      ACCIDENTE  TRAUMATISMO DE CADERA                         ...     3.0   \n",
      "273     ENFERMEDAD  ESPOLON CALCANEO                              ...     1.0   \n",
      "274     ENFERMEDAD  LITIASIS RENAL                                ...     1.0   \n",
      "276     ENFERMEDAD  CA DE MAMA                                    ...     1.0   \n",
      "279       EMBARAZO  EMB CESAREA                                   ...     2.0   \n",
      "\n",
      "     TOTAL_CLAIM  TOTAL_PAID  DIFF_MOUNT CLAIMS  \n",
      "272      90493.0    180986.0    271479.0      1  \n",
      "273    3023355.0   5865310.0   8888665.0      4  \n",
      "274     134400.0    134400.0    268800.0      1  \n",
      "276    3854796.0   7008716.0  10863512.0      7  \n",
      "279    2614088.0   4943900.0   7557988.0      1  \n",
      "\n",
      "[5 rows x 28 columns]\n"
     ]
    }
   ],
   "source": [
    "df=df.dropna(axis=0)\n",
    "print(df.head())"
   ]
  },
  {
   "cell_type": "code",
   "execution_count": 268,
   "metadata": {
    "collapsed": true
   },
   "outputs": [],
   "source": [
    "n_clust=4\n",
    "features = ['NSINIEST', 'NPOLIZA', 'RAMSUBRAMO', 'RAMO', 'SUBRAMO', 'DATE_INIT',\n",
    "       'INI_ANIO', 'INDIVIDUAL', 'EDO', 'STATE_NAME', 'CITY', 'CITY_NAME',\n",
    "       'NASEG', 'NOMBTIT', 'GENDER', 'CVNFUMA', 'RIESGOCUP', 'CVEDOCIV', 'AGE',\n",
    "       'SINISTER_DATE', 'TIPOSIN', 'SIN_DECRIPTION', 'DIS_DESCRIPTION',\n",
    "       'COVERS', 'TOTAL_CLAIM', 'TOTAL_PAID', 'DIFF_MOUNT', 'CLAIMS', 'PAGADO',\n",
    "       'GRUPO', 'TRAIN']"
   ]
  },
  {
   "cell_type": "code",
   "execution_count": 269,
   "metadata": {
    "collapsed": true
   },
   "outputs": [],
   "source": [
    "from sklearn.model_selection import train_test_split\n",
    "\n",
    "df_train, df_test = train_test_split(df, test_size=0.33, random_state=42)"
   ]
  },
  {
   "cell_type": "markdown",
   "metadata": {
    "collapsed": true
   },
   "source": [
    "- Se hace un paso de preprocesamiento de las variables  \n",
    "Lo que se busca es sean arreglos en lugar de dataframes y los pueda leer el modelo de clusterización  \n",
    "Posteriormente una transformación"
   ]
  },
  {
   "cell_type": "code",
   "execution_count": 270,
   "metadata": {
    "collapsed": true
   },
   "outputs": [],
   "source": [
    "#Se obtienen solo valores en el campo de los reales\n",
    "df_transformed = df._get_numeric_data()"
   ]
  },
  {
   "cell_type": "code",
   "execution_count": 271,
   "metadata": {
    "collapsed": false
   },
   "outputs": [
    {
     "name": "stderr",
     "output_type": "stream",
     "text": [
      "C:\\ProgramData\\Anaconda3\\lib\\site-packages\\sklearn\\utils\\validation.py:395: DeprecationWarning: Passing 1d arrays as data is deprecated in 0.17 and will raise ValueError in 0.19. Reshape your data either using X.reshape(-1, 1) if your data has a single feature or X.reshape(1, -1) if it contains a single sample.\n",
      "  DeprecationWarning)\n"
     ]
    },
    {
     "data": {
      "text/plain": [
       "array([[0, 0, 0, ..., 0, 0, 0]], dtype=int64)"
      ]
     },
     "execution_count": 271,
     "metadata": {},
     "output_type": "execute_result"
    }
   ],
   "source": [
    "binarizer = preprocessing.Binarizer(threshold=10)\n",
    "binarizer.transform(df_transformed['INI_ANIO'])"
   ]
  },
  {
   "cell_type": "code",
   "execution_count": 272,
   "metadata": {
    "collapsed": false
   },
   "outputs": [],
   "source": [
    "#df_transformed['INI_ANIO']=pd.DataFrame(np.transpose(new_anio))\n",
    "#df_transformed"
   ]
  },
  {
   "cell_type": "code",
   "execution_count": 273,
   "metadata": {
    "collapsed": false
   },
   "outputs": [],
   "source": [
    "#deprecate al escalamiento\n",
    "#X_scaled = preprocessing.scale(good_columns)\n",
    "#X_scaled"
   ]
  },
  {
   "cell_type": "code",
   "execution_count": 274,
   "metadata": {
    "collapsed": false
   },
   "outputs": [
    {
     "data": {
      "text/plain": [
       "array([[  9.98049450e-01,   5.57035101e-02,   2.49090006e-03, ...,\n",
       "          1.50067587e-02,   2.25101380e-02,   8.29166824e-08],\n",
       "       [  7.36228444e-01,   6.22921525e-05,   6.34536352e-05, ...,\n",
       "          3.58550329e-01,   5.43370045e-01,   2.44522679e-07],\n",
       "       [  9.99625636e-01,   8.37727625e-05,   8.62659995e-05, ...,\n",
       "          1.11697017e-02,   2.23394033e-02,   8.31078993e-08],\n",
       "       ..., \n",
       "       [  8.28107991e-01,   1.93292478e-02,   7.20609429e-05, ...,\n",
       "          2.97970899e-01,   4.49554530e-01,   2.75041767e-07],\n",
       "       [  9.99998702e-01,   9.73689669e-06,   9.87797777e-06, ...,\n",
       "          6.57720663e-04,   1.31544133e-03,   3.28860331e-10],\n",
       "       [  9.97248975e-01,   6.20625654e-02,   2.98689289e-03, ...,\n",
       "          2.16055333e-02,   3.24082999e-02,   9.94272125e-08]])"
      ]
     },
     "execution_count": 274,
     "metadata": {},
     "output_type": "execute_result"
    }
   ],
   "source": [
    "df_normalized = preprocessing.normalize(df_transformed, norm='l2')\n",
    "df_normalized "
   ]
  },
  {
   "cell_type": "code",
   "execution_count": 275,
   "metadata": {
    "collapsed": true
   },
   "outputs": [],
   "source": [
    "from sklearn.cluster import KMeans\n",
    "\n",
    "# Inicializamos con dos parámetros -- number of clusters and random state.\n",
    "kmeans_model = KMeans(n_clusters=4, random_state=1)"
   ]
  },
  {
   "cell_type": "code",
   "execution_count": 276,
   "metadata": {
    "collapsed": true
   },
   "outputs": [],
   "source": [
    "#Ajuste de modelo normalizado\n",
    "kmeans_model.fit(df_normalized)\n",
    "# Get the cluster assignments.\n",
    "labels = kmeans_model.labels_"
   ]
  },
  {
   "cell_type": "code",
   "execution_count": 277,
   "metadata": {
    "collapsed": false
   },
   "outputs": [
    {
     "data": {
      "text/plain": [
       "array([0, 2, 0, ..., 2, 0, 0])"
      ]
     },
     "execution_count": 277,
     "metadata": {},
     "output_type": "execute_result"
    }
   ],
   "source": [
    "labels"
   ]
  },
  {
   "cell_type": "code",
   "execution_count": 278,
   "metadata": {
    "collapsed": false
   },
   "outputs": [],
   "source": [
    "df['NUM_GRUPO']=pd.DataFrame(np.transpose(labels))\n",
    "df_transformed['NUM_GRUPO']=pd.DataFrame(np.transpose(labels))"
   ]
  },
  {
   "cell_type": "code",
   "execution_count": 279,
   "metadata": {
    "collapsed": false
   },
   "outputs": [
    {
     "data": {
      "text/html": [
       "<div>\n",
       "<table border=\"1\" class=\"dataframe\">\n",
       "  <thead>\n",
       "    <tr style=\"text-align: right;\">\n",
       "      <th></th>\n",
       "      <th>NSINIEST</th>\n",
       "      <th>NPOLIZA</th>\n",
       "      <th>RAMSUBRAMO</th>\n",
       "      <th>RAMO</th>\n",
       "      <th>SUBRAMO</th>\n",
       "      <th>DATE_INIT</th>\n",
       "      <th>INI_ANIO</th>\n",
       "      <th>INDIVIDUAL</th>\n",
       "      <th>EDO</th>\n",
       "      <th>STATE_NAME</th>\n",
       "      <th>...</th>\n",
       "      <th>SINISTER_DATE</th>\n",
       "      <th>TIPOSIN</th>\n",
       "      <th>SIN_DECRIPTION</th>\n",
       "      <th>DIS_DESCRIPTION</th>\n",
       "      <th>COVERS</th>\n",
       "      <th>TOTAL_CLAIM</th>\n",
       "      <th>TOTAL_PAID</th>\n",
       "      <th>DIFF_MOUNT</th>\n",
       "      <th>CLAIMS</th>\n",
       "      <th>NUM_GRUPO</th>\n",
       "    </tr>\n",
       "  </thead>\n",
       "  <tbody>\n",
       "    <tr>\n",
       "      <th>9528</th>\n",
       "      <td>12037348</td>\n",
       "      <td>441405</td>\n",
       "      <td>1052</td>\n",
       "      <td>GMM</td>\n",
       "      <td>GMM INDIVIDUAL</td>\n",
       "      <td>01/08/12</td>\n",
       "      <td>5</td>\n",
       "      <td>1</td>\n",
       "      <td>9</td>\n",
       "      <td>CDMX</td>\n",
       "      <td>...</td>\n",
       "      <td>05/08/12</td>\n",
       "      <td>100</td>\n",
       "      <td>ENFERMEDAD</td>\n",
       "      <td>CARCINOMA PAILAR SEROSO                       ...</td>\n",
       "      <td>3.0</td>\n",
       "      <td>192299715.0</td>\n",
       "      <td>372552769.0</td>\n",
       "      <td>5.648525e+08</td>\n",
       "      <td>276</td>\n",
       "      <td>1.0</td>\n",
       "    </tr>\n",
       "    <tr>\n",
       "      <th>21384</th>\n",
       "      <td>14035301</td>\n",
       "      <td>11302</td>\n",
       "      <td>1026</td>\n",
       "      <td>GMM</td>\n",
       "      <td>GMM COLECTIVO</td>\n",
       "      <td>16/03/14</td>\n",
       "      <td>2</td>\n",
       "      <td>2</td>\n",
       "      <td>19</td>\n",
       "      <td>N.L.</td>\n",
       "      <td>...</td>\n",
       "      <td>10/07/14</td>\n",
       "      <td>100</td>\n",
       "      <td>ENFERMEDAD</td>\n",
       "      <td>...</td>\n",
       "      <td>1.0</td>\n",
       "      <td>416753906.0</td>\n",
       "      <td>766599640.0</td>\n",
       "      <td>1.183354e+09</td>\n",
       "      <td>133</td>\n",
       "      <td>1.0</td>\n",
       "    </tr>\n",
       "    <tr>\n",
       "      <th>39002</th>\n",
       "      <td>14007793</td>\n",
       "      <td>13823</td>\n",
       "      <td>1059</td>\n",
       "      <td>GMM</td>\n",
       "      <td>GMM INDIVIDUAL</td>\n",
       "      <td>01/04/13</td>\n",
       "      <td>13</td>\n",
       "      <td>1</td>\n",
       "      <td>9</td>\n",
       "      <td>CDMX</td>\n",
       "      <td>...</td>\n",
       "      <td>11/02/14</td>\n",
       "      <td>100</td>\n",
       "      <td>ENFERMEDAD</td>\n",
       "      <td>CANCER DE OVARIO ESTADIO AVANZADO             ...</td>\n",
       "      <td>6.0</td>\n",
       "      <td>298611960.0</td>\n",
       "      <td>554708778.0</td>\n",
       "      <td>8.533207e+08</td>\n",
       "      <td>126</td>\n",
       "      <td>1.0</td>\n",
       "    </tr>\n",
       "    <tr>\n",
       "      <th>173337</th>\n",
       "      <td>11031549</td>\n",
       "      <td>628905</td>\n",
       "      <td>1052</td>\n",
       "      <td>GMM</td>\n",
       "      <td>GMM INDIVIDUAL</td>\n",
       "      <td>08/10/11</td>\n",
       "      <td>5</td>\n",
       "      <td>1</td>\n",
       "      <td>1</td>\n",
       "      <td>AGS</td>\n",
       "      <td>...</td>\n",
       "      <td>10/10/11</td>\n",
       "      <td>100</td>\n",
       "      <td>ENFERMEDAD</td>\n",
       "      <td>...</td>\n",
       "      <td>5.0</td>\n",
       "      <td>108299633.0</td>\n",
       "      <td>207593216.0</td>\n",
       "      <td>3.158928e+08</td>\n",
       "      <td>121</td>\n",
       "      <td>1.0</td>\n",
       "    </tr>\n",
       "    <tr>\n",
       "      <th>43632</th>\n",
       "      <td>13063002</td>\n",
       "      <td>11301</td>\n",
       "      <td>1026</td>\n",
       "      <td>GMM</td>\n",
       "      <td>GMM COLECTIVO</td>\n",
       "      <td>16/03/13</td>\n",
       "      <td>1</td>\n",
       "      <td>2</td>\n",
       "      <td>19</td>\n",
       "      <td>N.L.</td>\n",
       "      <td>...</td>\n",
       "      <td>09/09/13</td>\n",
       "      <td>100</td>\n",
       "      <td>ENFERMEDAD</td>\n",
       "      <td>TUMORACION VESICAL                            ...</td>\n",
       "      <td>1.0</td>\n",
       "      <td>96226366.0</td>\n",
       "      <td>174649682.0</td>\n",
       "      <td>2.708760e+08</td>\n",
       "      <td>107</td>\n",
       "      <td>1.0</td>\n",
       "    </tr>\n",
       "    <tr>\n",
       "      <th>67126</th>\n",
       "      <td>12011780</td>\n",
       "      <td>1043206</td>\n",
       "      <td>1052</td>\n",
       "      <td>GMM</td>\n",
       "      <td>GMM INDIVIDUAL</td>\n",
       "      <td>20/03/12</td>\n",
       "      <td>6</td>\n",
       "      <td>1</td>\n",
       "      <td>9</td>\n",
       "      <td>CDMX</td>\n",
       "      <td>...</td>\n",
       "      <td>25/03/12</td>\n",
       "      <td>100</td>\n",
       "      <td>ENFERMEDAD</td>\n",
       "      <td>CRISIS CONVULSIVAS FEBRILES,                  ...</td>\n",
       "      <td>2.0</td>\n",
       "      <td>117740057.0</td>\n",
       "      <td>210492936.0</td>\n",
       "      <td>3.282330e+08</td>\n",
       "      <td>105</td>\n",
       "      <td>1.0</td>\n",
       "    </tr>\n",
       "    <tr>\n",
       "      <th>79292</th>\n",
       "      <td>10020193</td>\n",
       "      <td>441403</td>\n",
       "      <td>1052</td>\n",
       "      <td>GMM</td>\n",
       "      <td>GMM INDIVIDUAL</td>\n",
       "      <td>01/08/10</td>\n",
       "      <td>3</td>\n",
       "      <td>1</td>\n",
       "      <td>9</td>\n",
       "      <td>CDMX</td>\n",
       "      <td>...</td>\n",
       "      <td>05/08/10</td>\n",
       "      <td>100</td>\n",
       "      <td>ENFERMEDAD</td>\n",
       "      <td>...</td>\n",
       "      <td>3.0</td>\n",
       "      <td>28753002.0</td>\n",
       "      <td>56731263.0</td>\n",
       "      <td>8.548426e+07</td>\n",
       "      <td>88</td>\n",
       "      <td>1.0</td>\n",
       "    </tr>\n",
       "  </tbody>\n",
       "</table>\n",
       "<p>7 rows × 29 columns</p>\n",
       "</div>"
      ],
      "text/plain": [
       "        NSINIEST  NPOLIZA  RAMSUBRAMO RAMO         SUBRAMO DATE_INIT  \\\n",
       "9528    12037348   441405        1052  GMM  GMM INDIVIDUAL  01/08/12   \n",
       "21384   14035301    11302        1026  GMM   GMM COLECTIVO  16/03/14   \n",
       "39002   14007793    13823        1059  GMM  GMM INDIVIDUAL  01/04/13   \n",
       "173337  11031549   628905        1052  GMM  GMM INDIVIDUAL  08/10/11   \n",
       "43632   13063002    11301        1026  GMM   GMM COLECTIVO  16/03/13   \n",
       "67126   12011780  1043206        1052  GMM  GMM INDIVIDUAL  20/03/12   \n",
       "79292   10020193   441403        1052  GMM  GMM INDIVIDUAL  01/08/10   \n",
       "\n",
       "        INI_ANIO  INDIVIDUAL  EDO STATE_NAME    ...     SINISTER_DATE TIPOSIN  \\\n",
       "9528           5           1    9       CDMX    ...          05/08/12     100   \n",
       "21384          2           2   19       N.L.    ...          10/07/14     100   \n",
       "39002         13           1    9       CDMX    ...          11/02/14     100   \n",
       "173337         5           1    1        AGS    ...          10/10/11     100   \n",
       "43632          1           2   19       N.L.    ...          09/09/13     100   \n",
       "67126          6           1    9       CDMX    ...          25/03/12     100   \n",
       "79292          3           1    9       CDMX    ...          05/08/10     100   \n",
       "\n",
       "       SIN_DECRIPTION                                    DIS_DESCRIPTION  \\\n",
       "9528       ENFERMEDAD  CARCINOMA PAILAR SEROSO                       ...   \n",
       "21384      ENFERMEDAD                                                ...   \n",
       "39002      ENFERMEDAD  CANCER DE OVARIO ESTADIO AVANZADO             ...   \n",
       "173337     ENFERMEDAD                                                ...   \n",
       "43632      ENFERMEDAD  TUMORACION VESICAL                            ...   \n",
       "67126      ENFERMEDAD  CRISIS CONVULSIVAS FEBRILES,                  ...   \n",
       "79292      ENFERMEDAD                                                ...   \n",
       "\n",
       "        COVERS  TOTAL_CLAIM   TOTAL_PAID    DIFF_MOUNT  CLAIMS NUM_GRUPO  \n",
       "9528       3.0  192299715.0  372552769.0  5.648525e+08     276       1.0  \n",
       "21384      1.0  416753906.0  766599640.0  1.183354e+09     133       1.0  \n",
       "39002      6.0  298611960.0  554708778.0  8.533207e+08     126       1.0  \n",
       "173337     5.0  108299633.0  207593216.0  3.158928e+08     121       1.0  \n",
       "43632      1.0   96226366.0  174649682.0  2.708760e+08     107       1.0  \n",
       "67126      2.0  117740057.0  210492936.0  3.282330e+08     105       1.0  \n",
       "79292      3.0   28753002.0   56731263.0  8.548426e+07      88       1.0  \n",
       "\n",
       "[7 rows x 29 columns]"
      ]
     },
     "execution_count": 279,
     "metadata": {},
     "output_type": "execute_result"
    }
   ],
   "source": [
    "df[df['NUM_GRUPO']==1].sort_values(['CLAIMS'], ascending=False).head(7)\n",
    "#Fecha y muchas reclamaciones"
   ]
  },
  {
   "cell_type": "code",
   "execution_count": 280,
   "metadata": {
    "collapsed": false
   },
   "outputs": [
    {
     "data": {
      "text/html": [
       "<div>\n",
       "<table border=\"1\" class=\"dataframe\">\n",
       "  <thead>\n",
       "    <tr style=\"text-align: right;\">\n",
       "      <th></th>\n",
       "      <th>NSINIEST</th>\n",
       "      <th>NPOLIZA</th>\n",
       "      <th>RAMSUBRAMO</th>\n",
       "      <th>RAMO</th>\n",
       "      <th>SUBRAMO</th>\n",
       "      <th>DATE_INIT</th>\n",
       "      <th>INI_ANIO</th>\n",
       "      <th>INDIVIDUAL</th>\n",
       "      <th>EDO</th>\n",
       "      <th>STATE_NAME</th>\n",
       "      <th>...</th>\n",
       "      <th>SINISTER_DATE</th>\n",
       "      <th>TIPOSIN</th>\n",
       "      <th>SIN_DECRIPTION</th>\n",
       "      <th>DIS_DESCRIPTION</th>\n",
       "      <th>COVERS</th>\n",
       "      <th>TOTAL_CLAIM</th>\n",
       "      <th>TOTAL_PAID</th>\n",
       "      <th>DIFF_MOUNT</th>\n",
       "      <th>CLAIMS</th>\n",
       "      <th>NUM_GRUPO</th>\n",
       "    </tr>\n",
       "  </thead>\n",
       "  <tbody>\n",
       "    <tr>\n",
       "      <th>112298</th>\n",
       "      <td>8032134</td>\n",
       "      <td>307101</td>\n",
       "      <td>1003</td>\n",
       "      <td>GMM</td>\n",
       "      <td>GMM COLECTIVO</td>\n",
       "      <td>01/01/08</td>\n",
       "      <td>1</td>\n",
       "      <td>2</td>\n",
       "      <td>33</td>\n",
       "      <td>EXTRA</td>\n",
       "      <td>...</td>\n",
       "      <td>21/07/08</td>\n",
       "      <td>100</td>\n",
       "      <td>ENFERMEDAD</td>\n",
       "      <td>ESTENOSIS LUMBAR Y ESPONDILOLISTESIS          ...</td>\n",
       "      <td>1.0</td>\n",
       "      <td>320943930.0</td>\n",
       "      <td>535634024.0</td>\n",
       "      <td>214690094.0</td>\n",
       "      <td>2</td>\n",
       "      <td>2.0</td>\n",
       "    </tr>\n",
       "    <tr>\n",
       "      <th>12314</th>\n",
       "      <td>3000683</td>\n",
       "      <td>221301</td>\n",
       "      <td>1003</td>\n",
       "      <td>GMM</td>\n",
       "      <td>GMM COLECTIVO</td>\n",
       "      <td>28/02/02</td>\n",
       "      <td>1</td>\n",
       "      <td>1</td>\n",
       "      <td>33</td>\n",
       "      <td>EXTRA</td>\n",
       "      <td>...</td>\n",
       "      <td>18/04/02</td>\n",
       "      <td>200</td>\n",
       "      <td>EMBARAZO</td>\n",
       "      <td>CESAREA                                       ...</td>\n",
       "      <td>2.0</td>\n",
       "      <td>2211300.0</td>\n",
       "      <td>2400000.0</td>\n",
       "      <td>4611300.0</td>\n",
       "      <td>1</td>\n",
       "      <td>2.0</td>\n",
       "    </tr>\n",
       "    <tr>\n",
       "      <th>29936</th>\n",
       "      <td>5010080</td>\n",
       "      <td>282601</td>\n",
       "      <td>1003</td>\n",
       "      <td>GMM</td>\n",
       "      <td>GMM COLECTIVO</td>\n",
       "      <td>01/05/05</td>\n",
       "      <td>1</td>\n",
       "      <td>2</td>\n",
       "      <td>33</td>\n",
       "      <td>EXTRA</td>\n",
       "      <td>...</td>\n",
       "      <td>02/05/05</td>\n",
       "      <td>100</td>\n",
       "      <td>ENFERMEDAD</td>\n",
       "      <td>INESTABILIDAD DE LA COLUMNA VERTEBRAL         ...</td>\n",
       "      <td>2.0</td>\n",
       "      <td>30584542.0</td>\n",
       "      <td>49333968.0</td>\n",
       "      <td>22690810.0</td>\n",
       "      <td>4</td>\n",
       "      <td>2.0</td>\n",
       "    </tr>\n",
       "    <tr>\n",
       "      <th>29900</th>\n",
       "      <td>5007004</td>\n",
       "      <td>282601</td>\n",
       "      <td>1003</td>\n",
       "      <td>GMM</td>\n",
       "      <td>GMM COLECTIVO</td>\n",
       "      <td>01/05/05</td>\n",
       "      <td>1</td>\n",
       "      <td>2</td>\n",
       "      <td>33</td>\n",
       "      <td>EXTRA</td>\n",
       "      <td>...</td>\n",
       "      <td>21/04/05</td>\n",
       "      <td>100</td>\n",
       "      <td>ENFERMEDAD</td>\n",
       "      <td>SINDROME GRIPAL (EXAMEN GRAL E NVESTIGACION)  ...</td>\n",
       "      <td>2.0</td>\n",
       "      <td>64284889.0</td>\n",
       "      <td>115470450.0</td>\n",
       "      <td>77902849.0</td>\n",
       "      <td>37</td>\n",
       "      <td>2.0</td>\n",
       "    </tr>\n",
       "    <tr>\n",
       "      <th>115170</th>\n",
       "      <td>12056608</td>\n",
       "      <td>1401</td>\n",
       "      <td>1032</td>\n",
       "      <td>GMM</td>\n",
       "      <td>GMM COLECTIVO</td>\n",
       "      <td>01/03/12</td>\n",
       "      <td>1</td>\n",
       "      <td>1</td>\n",
       "      <td>33</td>\n",
       "      <td>EXTRA</td>\n",
       "      <td>...</td>\n",
       "      <td>11/10/12</td>\n",
       "      <td>300</td>\n",
       "      <td>ACCIDENTE</td>\n",
       "      <td>FX DE FEMUR SEC A ACCIDENTE                   ...</td>\n",
       "      <td>3.0</td>\n",
       "      <td>111852137.0</td>\n",
       "      <td>205708313.0</td>\n",
       "      <td>156982240.0</td>\n",
       "      <td>10</td>\n",
       "      <td>2.0</td>\n",
       "    </tr>\n",
       "    <tr>\n",
       "      <th>151919</th>\n",
       "      <td>11030776</td>\n",
       "      <td>72001</td>\n",
       "      <td>1026</td>\n",
       "      <td>GMM</td>\n",
       "      <td>GMM COLECTIVO</td>\n",
       "      <td>15/08/11</td>\n",
       "      <td>1</td>\n",
       "      <td>1</td>\n",
       "      <td>33</td>\n",
       "      <td>EXTRA</td>\n",
       "      <td>...</td>\n",
       "      <td>18/09/11</td>\n",
       "      <td>100</td>\n",
       "      <td>ENFERMEDAD</td>\n",
       "      <td>APENDICITIS                                   ...</td>\n",
       "      <td>2.0</td>\n",
       "      <td>21725535.0</td>\n",
       "      <td>40502490.0</td>\n",
       "      <td>28561275.0</td>\n",
       "      <td>3</td>\n",
       "      <td>2.0</td>\n",
       "    </tr>\n",
       "    <tr>\n",
       "      <th>50919</th>\n",
       "      <td>12056723</td>\n",
       "      <td>1004</td>\n",
       "      <td>1038</td>\n",
       "      <td>GMM</td>\n",
       "      <td>GMM COLECTIVO</td>\n",
       "      <td>15/05/12</td>\n",
       "      <td>1</td>\n",
       "      <td>2</td>\n",
       "      <td>33</td>\n",
       "      <td>EXTRA</td>\n",
       "      <td>...</td>\n",
       "      <td>29/05/12</td>\n",
       "      <td>300</td>\n",
       "      <td>ACCIDENTE</td>\n",
       "      <td>CONTUSION TOBILLO DERECHO                     ...</td>\n",
       "      <td>1.0</td>\n",
       "      <td>465000.0</td>\n",
       "      <td>607195.0</td>\n",
       "      <td>142195.0</td>\n",
       "      <td>1</td>\n",
       "      <td>2.0</td>\n",
       "    </tr>\n",
       "  </tbody>\n",
       "</table>\n",
       "<p>7 rows × 29 columns</p>\n",
       "</div>"
      ],
      "text/plain": [
       "        NSINIEST  NPOLIZA  RAMSUBRAMO RAMO        SUBRAMO DATE_INIT  INI_ANIO  \\\n",
       "112298   8032134   307101        1003  GMM  GMM COLECTIVO  01/01/08         1   \n",
       "12314    3000683   221301        1003  GMM  GMM COLECTIVO  28/02/02         1   \n",
       "29936    5010080   282601        1003  GMM  GMM COLECTIVO  01/05/05         1   \n",
       "29900    5007004   282601        1003  GMM  GMM COLECTIVO  01/05/05         1   \n",
       "115170  12056608     1401        1032  GMM  GMM COLECTIVO  01/03/12         1   \n",
       "151919  11030776    72001        1026  GMM  GMM COLECTIVO  15/08/11         1   \n",
       "50919   12056723     1004        1038  GMM  GMM COLECTIVO  15/05/12         1   \n",
       "\n",
       "        INDIVIDUAL  EDO STATE_NAME    ...     SINISTER_DATE TIPOSIN  \\\n",
       "112298           2   33      EXTRA    ...          21/07/08     100   \n",
       "12314            1   33      EXTRA    ...          18/04/02     200   \n",
       "29936            2   33      EXTRA    ...          02/05/05     100   \n",
       "29900            2   33      EXTRA    ...          21/04/05     100   \n",
       "115170           1   33      EXTRA    ...          11/10/12     300   \n",
       "151919           1   33      EXTRA    ...          18/09/11     100   \n",
       "50919            2   33      EXTRA    ...          29/05/12     300   \n",
       "\n",
       "       SIN_DECRIPTION                                    DIS_DESCRIPTION  \\\n",
       "112298     ENFERMEDAD  ESTENOSIS LUMBAR Y ESPONDILOLISTESIS          ...   \n",
       "12314        EMBARAZO  CESAREA                                       ...   \n",
       "29936      ENFERMEDAD  INESTABILIDAD DE LA COLUMNA VERTEBRAL         ...   \n",
       "29900      ENFERMEDAD  SINDROME GRIPAL (EXAMEN GRAL E NVESTIGACION)  ...   \n",
       "115170      ACCIDENTE  FX DE FEMUR SEC A ACCIDENTE                   ...   \n",
       "151919     ENFERMEDAD  APENDICITIS                                   ...   \n",
       "50919       ACCIDENTE  CONTUSION TOBILLO DERECHO                     ...   \n",
       "\n",
       "        COVERS  TOTAL_CLAIM   TOTAL_PAID   DIFF_MOUNT  CLAIMS NUM_GRUPO  \n",
       "112298     1.0  320943930.0  535634024.0  214690094.0       2       2.0  \n",
       "12314      2.0    2211300.0    2400000.0    4611300.0       1       2.0  \n",
       "29936      2.0   30584542.0   49333968.0   22690810.0       4       2.0  \n",
       "29900      2.0   64284889.0  115470450.0   77902849.0      37       2.0  \n",
       "115170     3.0  111852137.0  205708313.0  156982240.0      10       2.0  \n",
       "151919     2.0   21725535.0   40502490.0   28561275.0       3       2.0  \n",
       "50919      1.0     465000.0     607195.0     142195.0       1       2.0  \n",
       "\n",
       "[7 rows x 29 columns]"
      ]
     },
     "execution_count": 280,
     "metadata": {},
     "output_type": "execute_result"
    }
   ],
   "source": [
    "df[df['NUM_GRUPO']==2].sort_values(['EDO'], ascending=False).head(7)\n",
    "#Extranjero"
   ]
  },
  {
   "cell_type": "code",
   "execution_count": 281,
   "metadata": {
    "collapsed": false
   },
   "outputs": [
    {
     "data": {
      "text/html": [
       "<div>\n",
       "<table border=\"1\" class=\"dataframe\">\n",
       "  <thead>\n",
       "    <tr style=\"text-align: right;\">\n",
       "      <th></th>\n",
       "      <th>NSINIEST</th>\n",
       "      <th>NPOLIZA</th>\n",
       "      <th>RAMSUBRAMO</th>\n",
       "      <th>RAMO</th>\n",
       "      <th>SUBRAMO</th>\n",
       "      <th>DATE_INIT</th>\n",
       "      <th>INI_ANIO</th>\n",
       "      <th>INDIVIDUAL</th>\n",
       "      <th>EDO</th>\n",
       "      <th>STATE_NAME</th>\n",
       "      <th>...</th>\n",
       "      <th>SINISTER_DATE</th>\n",
       "      <th>TIPOSIN</th>\n",
       "      <th>SIN_DECRIPTION</th>\n",
       "      <th>DIS_DESCRIPTION</th>\n",
       "      <th>COVERS</th>\n",
       "      <th>TOTAL_CLAIM</th>\n",
       "      <th>TOTAL_PAID</th>\n",
       "      <th>DIFF_MOUNT</th>\n",
       "      <th>CLAIMS</th>\n",
       "      <th>NUM_GRUPO</th>\n",
       "    </tr>\n",
       "  </thead>\n",
       "  <tbody>\n",
       "    <tr>\n",
       "      <th>348</th>\n",
       "      <td>8019491</td>\n",
       "      <td>99804</td>\n",
       "      <td>30040</td>\n",
       "      <td>AP</td>\n",
       "      <td>AP COLECTIVO</td>\n",
       "      <td>01/10/07</td>\n",
       "      <td>4</td>\n",
       "      <td>1</td>\n",
       "      <td>14</td>\n",
       "      <td>JAL</td>\n",
       "      <td>...</td>\n",
       "      <td>21/04/08</td>\n",
       "      <td>100</td>\n",
       "      <td>ENFERMEDAD</td>\n",
       "      <td>CANCER DE VIA BILIAR                          ...</td>\n",
       "      <td>1.0</td>\n",
       "      <td>2500000.0</td>\n",
       "      <td>5000000.0</td>\n",
       "      <td>7500000.0</td>\n",
       "      <td>1</td>\n",
       "      <td>3.0</td>\n",
       "    </tr>\n",
       "    <tr>\n",
       "      <th>407</th>\n",
       "      <td>9025346</td>\n",
       "      <td>9320020</td>\n",
       "      <td>1050</td>\n",
       "      <td>GMM</td>\n",
       "      <td>GMM INDIVIDUAL</td>\n",
       "      <td>04/03/09</td>\n",
       "      <td>2</td>\n",
       "      <td>1</td>\n",
       "      <td>5</td>\n",
       "      <td>COAH</td>\n",
       "      <td>...</td>\n",
       "      <td>04/09/09</td>\n",
       "      <td>300</td>\n",
       "      <td>ACCIDENTE</td>\n",
       "      <td>T.C.E.                                        ...</td>\n",
       "      <td>2.0</td>\n",
       "      <td>616881.0</td>\n",
       "      <td>1132786.0</td>\n",
       "      <td>1749667.0</td>\n",
       "      <td>2</td>\n",
       "      <td>3.0</td>\n",
       "    </tr>\n",
       "    <tr>\n",
       "      <th>480</th>\n",
       "      <td>11008678</td>\n",
       "      <td>624201</td>\n",
       "      <td>30041</td>\n",
       "      <td>AP</td>\n",
       "      <td>AP COLECTIVO</td>\n",
       "      <td>23/08/10</td>\n",
       "      <td>1</td>\n",
       "      <td>2</td>\n",
       "      <td>15</td>\n",
       "      <td>EDMEX</td>\n",
       "      <td>...</td>\n",
       "      <td>03/12/10</td>\n",
       "      <td>300</td>\n",
       "      <td>ACCIDENTE</td>\n",
       "      <td>...</td>\n",
       "      <td>3.0</td>\n",
       "      <td>138400.0</td>\n",
       "      <td>265952.0</td>\n",
       "      <td>404352.0</td>\n",
       "      <td>4</td>\n",
       "      <td>3.0</td>\n",
       "    </tr>\n",
       "    <tr>\n",
       "      <th>482</th>\n",
       "      <td>7015036</td>\n",
       "      <td>281902</td>\n",
       "      <td>1043</td>\n",
       "      <td>GMM</td>\n",
       "      <td>GMM COLECTIVO</td>\n",
       "      <td>01/01/07</td>\n",
       "      <td>2</td>\n",
       "      <td>1</td>\n",
       "      <td>9</td>\n",
       "      <td>CDMX</td>\n",
       "      <td>...</td>\n",
       "      <td>18/05/07</td>\n",
       "      <td>100</td>\n",
       "      <td>ENFERMEDAD</td>\n",
       "      <td>LESION MENISCAL LATERAL Y OSTEOCONDRAL        ...</td>\n",
       "      <td>2.0</td>\n",
       "      <td>7618005.0</td>\n",
       "      <td>10842760.0</td>\n",
       "      <td>18460765.0</td>\n",
       "      <td>1</td>\n",
       "      <td>3.0</td>\n",
       "    </tr>\n",
       "    <tr>\n",
       "      <th>486</th>\n",
       "      <td>11034214</td>\n",
       "      <td>396105</td>\n",
       "      <td>1052</td>\n",
       "      <td>GMM</td>\n",
       "      <td>GMM INDIVIDUAL</td>\n",
       "      <td>22/08/11</td>\n",
       "      <td>5</td>\n",
       "      <td>1</td>\n",
       "      <td>19</td>\n",
       "      <td>N.L.</td>\n",
       "      <td>...</td>\n",
       "      <td>20/09/11</td>\n",
       "      <td>200</td>\n",
       "      <td>EMBARAZO</td>\n",
       "      <td>EMB. PARTO                                    ...</td>\n",
       "      <td>3.0</td>\n",
       "      <td>1772171.0</td>\n",
       "      <td>3528906.0</td>\n",
       "      <td>5301077.0</td>\n",
       "      <td>2</td>\n",
       "      <td>3.0</td>\n",
       "    </tr>\n",
       "    <tr>\n",
       "      <th>524</th>\n",
       "      <td>7024026</td>\n",
       "      <td>271601</td>\n",
       "      <td>30033</td>\n",
       "      <td>AP</td>\n",
       "      <td>AP COLECTIVO</td>\n",
       "      <td>18/12/06</td>\n",
       "      <td>1</td>\n",
       "      <td>2</td>\n",
       "      <td>19</td>\n",
       "      <td>N.L.</td>\n",
       "      <td>...</td>\n",
       "      <td>01/10/07</td>\n",
       "      <td>300</td>\n",
       "      <td>ACCIDENTE</td>\n",
       "      <td>TRAUMA EN RODILLA IZQUIERDA                   ...</td>\n",
       "      <td>3.0</td>\n",
       "      <td>160000.0</td>\n",
       "      <td>280000.0</td>\n",
       "      <td>440000.0</td>\n",
       "      <td>1</td>\n",
       "      <td>3.0</td>\n",
       "    </tr>\n",
       "    <tr>\n",
       "      <th>532</th>\n",
       "      <td>12043758</td>\n",
       "      <td>5404708</td>\n",
       "      <td>1001</td>\n",
       "      <td>GMM</td>\n",
       "      <td>GMM INDIVIDUAL</td>\n",
       "      <td>01/04/12</td>\n",
       "      <td>12</td>\n",
       "      <td>1</td>\n",
       "      <td>9</td>\n",
       "      <td>CDMX</td>\n",
       "      <td>...</td>\n",
       "      <td>05/04/12</td>\n",
       "      <td>100</td>\n",
       "      <td>ENFERMEDAD</td>\n",
       "      <td>ADENOCARCINOMA DE COLON DERECHO               ...</td>\n",
       "      <td>2.0</td>\n",
       "      <td>12324405.0</td>\n",
       "      <td>18212658.0</td>\n",
       "      <td>30537063.0</td>\n",
       "      <td>5</td>\n",
       "      <td>3.0</td>\n",
       "    </tr>\n",
       "    <tr>\n",
       "      <th>548</th>\n",
       "      <td>5021101</td>\n",
       "      <td>280001</td>\n",
       "      <td>1043</td>\n",
       "      <td>GMM</td>\n",
       "      <td>GMM COLECTIVO</td>\n",
       "      <td>01/01/05</td>\n",
       "      <td>1</td>\n",
       "      <td>1</td>\n",
       "      <td>9</td>\n",
       "      <td>CDMX</td>\n",
       "      <td>...</td>\n",
       "      <td>06/06/05</td>\n",
       "      <td>100</td>\n",
       "      <td>ENFERMEDAD</td>\n",
       "      <td>REFLUJO ESOFAGICO GRADO 3                     ...</td>\n",
       "      <td>3.0</td>\n",
       "      <td>2590360.0</td>\n",
       "      <td>4480000.0</td>\n",
       "      <td>7070360.0</td>\n",
       "      <td>1</td>\n",
       "      <td>3.0</td>\n",
       "    </tr>\n",
       "    <tr>\n",
       "      <th>611</th>\n",
       "      <td>4005139</td>\n",
       "      <td>262103</td>\n",
       "      <td>1003</td>\n",
       "      <td>GMM</td>\n",
       "      <td>GMM COLECTIVO</td>\n",
       "      <td>21/08/03</td>\n",
       "      <td>3</td>\n",
       "      <td>1</td>\n",
       "      <td>8</td>\n",
       "      <td>CHIH</td>\n",
       "      <td>...</td>\n",
       "      <td>05/10/03</td>\n",
       "      <td>200</td>\n",
       "      <td>EMBARAZO</td>\n",
       "      <td>PARTO NORMAL                                  ...</td>\n",
       "      <td>2.0</td>\n",
       "      <td>2278455.0</td>\n",
       "      <td>3140176.0</td>\n",
       "      <td>1852681.0</td>\n",
       "      <td>1</td>\n",
       "      <td>3.0</td>\n",
       "    </tr>\n",
       "    <tr>\n",
       "      <th>623</th>\n",
       "      <td>7006192</td>\n",
       "      <td>6742602</td>\n",
       "      <td>1001</td>\n",
       "      <td>GMM</td>\n",
       "      <td>GMM INDIVIDUAL</td>\n",
       "      <td>11/08/06</td>\n",
       "      <td>3</td>\n",
       "      <td>1</td>\n",
       "      <td>1</td>\n",
       "      <td>AGS</td>\n",
       "      <td>...</td>\n",
       "      <td>01/12/06</td>\n",
       "      <td>100</td>\n",
       "      <td>ENFERMEDAD</td>\n",
       "      <td>LITIASIS URETERAL IZQUIERDA                   ...</td>\n",
       "      <td>4.0</td>\n",
       "      <td>3710846.0</td>\n",
       "      <td>5945580.0</td>\n",
       "      <td>9656426.0</td>\n",
       "      <td>1</td>\n",
       "      <td>3.0</td>\n",
       "    </tr>\n",
       "    <tr>\n",
       "      <th>654</th>\n",
       "      <td>11038674</td>\n",
       "      <td>649501</td>\n",
       "      <td>30041</td>\n",
       "      <td>AP</td>\n",
       "      <td>AP COLECTIVO</td>\n",
       "      <td>22/08/11</td>\n",
       "      <td>1</td>\n",
       "      <td>1</td>\n",
       "      <td>1</td>\n",
       "      <td>AGS</td>\n",
       "      <td>...</td>\n",
       "      <td>03/11/11</td>\n",
       "      <td>300</td>\n",
       "      <td>ACCIDENTE</td>\n",
       "      <td>...</td>\n",
       "      <td>3.0</td>\n",
       "      <td>144492.0</td>\n",
       "      <td>268984.0</td>\n",
       "      <td>413476.0</td>\n",
       "      <td>1</td>\n",
       "      <td>3.0</td>\n",
       "    </tr>\n",
       "    <tr>\n",
       "      <th>692</th>\n",
       "      <td>12018006</td>\n",
       "      <td>637901</td>\n",
       "      <td>30041</td>\n",
       "      <td>AP</td>\n",
       "      <td>AP COLECTIVO</td>\n",
       "      <td>15/08/11</td>\n",
       "      <td>1</td>\n",
       "      <td>1</td>\n",
       "      <td>5</td>\n",
       "      <td>COAH</td>\n",
       "      <td>...</td>\n",
       "      <td>17/02/12</td>\n",
       "      <td>300</td>\n",
       "      <td>ACCIDENTE</td>\n",
       "      <td>TRAUMATISMO FACIAL                            ...</td>\n",
       "      <td>3.0</td>\n",
       "      <td>121809.0</td>\n",
       "      <td>193436.0</td>\n",
       "      <td>315245.0</td>\n",
       "      <td>1</td>\n",
       "      <td>3.0</td>\n",
       "    </tr>\n",
       "    <tr>\n",
       "      <th>713</th>\n",
       "      <td>11027388</td>\n",
       "      <td>282609</td>\n",
       "      <td>1028</td>\n",
       "      <td>GMM</td>\n",
       "      <td>GMM COLECTIVO</td>\n",
       "      <td>01/06/10</td>\n",
       "      <td>8</td>\n",
       "      <td>2</td>\n",
       "      <td>19</td>\n",
       "      <td>N.L.</td>\n",
       "      <td>...</td>\n",
       "      <td>23/05/11</td>\n",
       "      <td>300</td>\n",
       "      <td>ACCIDENTE</td>\n",
       "      <td>ESGUINCE DE TOBILLO IZQUERDO                  ...</td>\n",
       "      <td>1.0</td>\n",
       "      <td>96870.0</td>\n",
       "      <td>149180.0</td>\n",
       "      <td>246050.0</td>\n",
       "      <td>2</td>\n",
       "      <td>3.0</td>\n",
       "    </tr>\n",
       "    <tr>\n",
       "      <th>715</th>\n",
       "      <td>9031610</td>\n",
       "      <td>92604</td>\n",
       "      <td>1052</td>\n",
       "      <td>GMM</td>\n",
       "      <td>GMM INDIVIDUAL</td>\n",
       "      <td>12/04/09</td>\n",
       "      <td>4</td>\n",
       "      <td>1</td>\n",
       "      <td>19</td>\n",
       "      <td>N.L.</td>\n",
       "      <td>...</td>\n",
       "      <td>10/11/09</td>\n",
       "      <td>100</td>\n",
       "      <td>ENFERMEDAD</td>\n",
       "      <td>BRONQUITIS AGUDA                              ...</td>\n",
       "      <td>1.0</td>\n",
       "      <td>3152440.0</td>\n",
       "      <td>4714074.0</td>\n",
       "      <td>7866514.0</td>\n",
       "      <td>2</td>\n",
       "      <td>3.0</td>\n",
       "    </tr>\n",
       "    <tr>\n",
       "      <th>735</th>\n",
       "      <td>6019450</td>\n",
       "      <td>200307</td>\n",
       "      <td>1043</td>\n",
       "      <td>GMM</td>\n",
       "      <td>GMM COLECTIVO</td>\n",
       "      <td>15/09/05</td>\n",
       "      <td>7</td>\n",
       "      <td>1</td>\n",
       "      <td>9</td>\n",
       "      <td>CDMX</td>\n",
       "      <td>...</td>\n",
       "      <td>18/08/06</td>\n",
       "      <td>100</td>\n",
       "      <td>ENFERMEDAD</td>\n",
       "      <td>VARICOCELE IZQ.                               ...</td>\n",
       "      <td>3.0</td>\n",
       "      <td>3134898.0</td>\n",
       "      <td>5916213.0</td>\n",
       "      <td>9051111.0</td>\n",
       "      <td>4</td>\n",
       "      <td>3.0</td>\n",
       "    </tr>\n",
       "    <tr>\n",
       "      <th>745</th>\n",
       "      <td>3020800167</td>\n",
       "      <td>81401</td>\n",
       "      <td>30033</td>\n",
       "      <td>AP</td>\n",
       "      <td>AP COLECTIVO</td>\n",
       "      <td>07/02/02</td>\n",
       "      <td>1</td>\n",
       "      <td>2</td>\n",
       "      <td>16</td>\n",
       "      <td>MICH</td>\n",
       "      <td>...</td>\n",
       "      <td>03/04/02</td>\n",
       "      <td>100</td>\n",
       "      <td>ENFERMEDAD</td>\n",
       "      <td>...</td>\n",
       "      <td>3.0</td>\n",
       "      <td>1326240.0</td>\n",
       "      <td>1226240.0</td>\n",
       "      <td>2552480.0</td>\n",
       "      <td>2</td>\n",
       "      <td>3.0</td>\n",
       "    </tr>\n",
       "    <tr>\n",
       "      <th>759</th>\n",
       "      <td>12012570</td>\n",
       "      <td>318003</td>\n",
       "      <td>1030</td>\n",
       "      <td>GMM</td>\n",
       "      <td>GMM COLECTIVO</td>\n",
       "      <td>01/01/12</td>\n",
       "      <td>3</td>\n",
       "      <td>2</td>\n",
       "      <td>14</td>\n",
       "      <td>JAL</td>\n",
       "      <td>...</td>\n",
       "      <td>11/01/12</td>\n",
       "      <td>300</td>\n",
       "      <td>ACCIDENTE</td>\n",
       "      <td>...</td>\n",
       "      <td>2.0</td>\n",
       "      <td>605259.0</td>\n",
       "      <td>1089466.0</td>\n",
       "      <td>1694725.0</td>\n",
       "      <td>1</td>\n",
       "      <td>3.0</td>\n",
       "    </tr>\n",
       "    <tr>\n",
       "      <th>783</th>\n",
       "      <td>14017742</td>\n",
       "      <td>100401</td>\n",
       "      <td>1038</td>\n",
       "      <td>GMM</td>\n",
       "      <td>GMM COLECTIVO</td>\n",
       "      <td>15/05/13</td>\n",
       "      <td>2</td>\n",
       "      <td>2</td>\n",
       "      <td>9</td>\n",
       "      <td>CDMX</td>\n",
       "      <td>...</td>\n",
       "      <td>25/03/14</td>\n",
       "      <td>100</td>\n",
       "      <td>ENFERMEDAD</td>\n",
       "      <td>HISTERECTOMIA LAPAROSCOPICA                   ...</td>\n",
       "      <td>1.0</td>\n",
       "      <td>34585385.0</td>\n",
       "      <td>57051686.0</td>\n",
       "      <td>91637071.0</td>\n",
       "      <td>6</td>\n",
       "      <td>3.0</td>\n",
       "    </tr>\n",
       "    <tr>\n",
       "      <th>790</th>\n",
       "      <td>12025628</td>\n",
       "      <td>115007</td>\n",
       "      <td>30041</td>\n",
       "      <td>AP</td>\n",
       "      <td>AP COLECTIVO</td>\n",
       "      <td>01/09/11</td>\n",
       "      <td>13</td>\n",
       "      <td>1</td>\n",
       "      <td>9</td>\n",
       "      <td>CDMX</td>\n",
       "      <td>...</td>\n",
       "      <td>08/06/12</td>\n",
       "      <td>300</td>\n",
       "      <td>ACCIDENTE</td>\n",
       "      <td>FX DE TERCER CU#A PIE IZQUIERDO               ...</td>\n",
       "      <td>3.0</td>\n",
       "      <td>489000.0</td>\n",
       "      <td>978000.0</td>\n",
       "      <td>1467000.0</td>\n",
       "      <td>1</td>\n",
       "      <td>3.0</td>\n",
       "    </tr>\n",
       "    <tr>\n",
       "      <th>804</th>\n",
       "      <td>14026264</td>\n",
       "      <td>317505</td>\n",
       "      <td>1032</td>\n",
       "      <td>GMM</td>\n",
       "      <td>GMM COLECTIVO</td>\n",
       "      <td>30/08/13</td>\n",
       "      <td>5</td>\n",
       "      <td>1</td>\n",
       "      <td>9</td>\n",
       "      <td>CDMX</td>\n",
       "      <td>...</td>\n",
       "      <td>22/05/14</td>\n",
       "      <td>100</td>\n",
       "      <td>ENFERMEDAD</td>\n",
       "      <td>HERNIA DISCAL CERVICAL DE C4 A C7 CON ABOMBAMI...</td>\n",
       "      <td>1.0</td>\n",
       "      <td>37157825.0</td>\n",
       "      <td>66756324.0</td>\n",
       "      <td>103914149.0</td>\n",
       "      <td>10</td>\n",
       "      <td>3.0</td>\n",
       "    </tr>\n",
       "    <tr>\n",
       "      <th>845</th>\n",
       "      <td>5011580</td>\n",
       "      <td>283101</td>\n",
       "      <td>1003</td>\n",
       "      <td>GMM</td>\n",
       "      <td>GMM COLECTIVO</td>\n",
       "      <td>30/04/05</td>\n",
       "      <td>1</td>\n",
       "      <td>2</td>\n",
       "      <td>9</td>\n",
       "      <td>CDMX</td>\n",
       "      <td>...</td>\n",
       "      <td>06/07/05</td>\n",
       "      <td>300</td>\n",
       "      <td>ACCIDENTE</td>\n",
       "      <td>LUXACION RECIVIDANTE DE HOMBRO DERECHO        ...</td>\n",
       "      <td>2.0</td>\n",
       "      <td>989680.0</td>\n",
       "      <td>989680.0</td>\n",
       "      <td>1979360.0</td>\n",
       "      <td>2</td>\n",
       "      <td>3.0</td>\n",
       "    </tr>\n",
       "    <tr>\n",
       "      <th>853</th>\n",
       "      <td>6000046</td>\n",
       "      <td>29609</td>\n",
       "      <td>30037</td>\n",
       "      <td>AP</td>\n",
       "      <td>AP COLECTIVO</td>\n",
       "      <td>01/01/05</td>\n",
       "      <td>9</td>\n",
       "      <td>2</td>\n",
       "      <td>10</td>\n",
       "      <td>DGO</td>\n",
       "      <td>...</td>\n",
       "      <td>04/05/05</td>\n",
       "      <td>500</td>\n",
       "      <td>PERD.ORG.</td>\n",
       "      <td>AMPURACION DE DEDO INDICE, MENIQUE, ANULAR Y M...</td>\n",
       "      <td>2.0</td>\n",
       "      <td>500000.0</td>\n",
       "      <td>1000000.0</td>\n",
       "      <td>1500000.0</td>\n",
       "      <td>1</td>\n",
       "      <td>3.0</td>\n",
       "    </tr>\n",
       "    <tr>\n",
       "      <th>854</th>\n",
       "      <td>13041258</td>\n",
       "      <td>100401</td>\n",
       "      <td>1038</td>\n",
       "      <td>GMM</td>\n",
       "      <td>GMM COLECTIVO</td>\n",
       "      <td>15/05/13</td>\n",
       "      <td>2</td>\n",
       "      <td>2</td>\n",
       "      <td>9</td>\n",
       "      <td>CDMX</td>\n",
       "      <td>...</td>\n",
       "      <td>30/07/13</td>\n",
       "      <td>100</td>\n",
       "      <td>ENFERMEDAD</td>\n",
       "      <td>SALMONELOSIS                                  ...</td>\n",
       "      <td>1.0</td>\n",
       "      <td>3579352.0</td>\n",
       "      <td>4368888.0</td>\n",
       "      <td>7948240.0</td>\n",
       "      <td>2</td>\n",
       "      <td>3.0</td>\n",
       "    </tr>\n",
       "    <tr>\n",
       "      <th>894</th>\n",
       "      <td>13027307</td>\n",
       "      <td>1013</td>\n",
       "      <td>1038</td>\n",
       "      <td>GMM</td>\n",
       "      <td>GMM COLECTIVO</td>\n",
       "      <td>15/05/12</td>\n",
       "      <td>1</td>\n",
       "      <td>1</td>\n",
       "      <td>9</td>\n",
       "      <td>CDMX</td>\n",
       "      <td>...</td>\n",
       "      <td>04/06/12</td>\n",
       "      <td>100</td>\n",
       "      <td>ENFERMEDAD</td>\n",
       "      <td>OTRAS ARTROSIS                                ...</td>\n",
       "      <td>1.0</td>\n",
       "      <td>3899428.0</td>\n",
       "      <td>6247700.0</td>\n",
       "      <td>10147128.0</td>\n",
       "      <td>4</td>\n",
       "      <td>3.0</td>\n",
       "    </tr>\n",
       "    <tr>\n",
       "      <th>969</th>\n",
       "      <td>14031216</td>\n",
       "      <td>100402</td>\n",
       "      <td>1038</td>\n",
       "      <td>GMM</td>\n",
       "      <td>GMM COLECTIVO</td>\n",
       "      <td>15/05/14</td>\n",
       "      <td>3</td>\n",
       "      <td>2</td>\n",
       "      <td>9</td>\n",
       "      <td>CDMX</td>\n",
       "      <td>...</td>\n",
       "      <td>23/06/14</td>\n",
       "      <td>100</td>\n",
       "      <td>ENFERMEDAD</td>\n",
       "      <td>DEFORMIDAD RINOSEPTAL + CONCHA BULLOSA DE CORN...</td>\n",
       "      <td>1.0</td>\n",
       "      <td>9277491.0</td>\n",
       "      <td>14287176.0</td>\n",
       "      <td>23564667.0</td>\n",
       "      <td>4</td>\n",
       "      <td>3.0</td>\n",
       "    </tr>\n",
       "    <tr>\n",
       "      <th>973</th>\n",
       "      <td>2005939</td>\n",
       "      <td>200802</td>\n",
       "      <td>1003</td>\n",
       "      <td>GMM</td>\n",
       "      <td>GMM COLECTIVO</td>\n",
       "      <td>30/07/02</td>\n",
       "      <td>2</td>\n",
       "      <td>1</td>\n",
       "      <td>9</td>\n",
       "      <td>CDMX</td>\n",
       "      <td>...</td>\n",
       "      <td>22/05/02</td>\n",
       "      <td>100</td>\n",
       "      <td>ENFERMEDAD</td>\n",
       "      <td>HIPERTENSION ARTERIAL SISTEMICA               ...</td>\n",
       "      <td>3.0</td>\n",
       "      <td>378575.0</td>\n",
       "      <td>481400.0</td>\n",
       "      <td>859975.0</td>\n",
       "      <td>1</td>\n",
       "      <td>3.0</td>\n",
       "    </tr>\n",
       "    <tr>\n",
       "      <th>981</th>\n",
       "      <td>6008538</td>\n",
       "      <td>268003</td>\n",
       "      <td>1002</td>\n",
       "      <td>GMM</td>\n",
       "      <td>GMM COLECTIVO</td>\n",
       "      <td>09/04/05</td>\n",
       "      <td>3</td>\n",
       "      <td>1</td>\n",
       "      <td>14</td>\n",
       "      <td>JAL</td>\n",
       "      <td>...</td>\n",
       "      <td>28/03/06</td>\n",
       "      <td>300</td>\n",
       "      <td>ACCIDENTE</td>\n",
       "      <td>LUXACION ACROMIO CLAVICULAR                   ...</td>\n",
       "      <td>4.0</td>\n",
       "      <td>5822990.0</td>\n",
       "      <td>9069526.0</td>\n",
       "      <td>14892516.0</td>\n",
       "      <td>5</td>\n",
       "      <td>3.0</td>\n",
       "    </tr>\n",
       "    <tr>\n",
       "      <th>990</th>\n",
       "      <td>12026238</td>\n",
       "      <td>647601</td>\n",
       "      <td>30041</td>\n",
       "      <td>AP</td>\n",
       "      <td>AP COLECTIVO</td>\n",
       "      <td>01/09/11</td>\n",
       "      <td>1</td>\n",
       "      <td>1</td>\n",
       "      <td>6</td>\n",
       "      <td>COLH</td>\n",
       "      <td>...</td>\n",
       "      <td>02/04/12</td>\n",
       "      <td>300</td>\n",
       "      <td>ACCIDENTE</td>\n",
       "      <td>...</td>\n",
       "      <td>3.0</td>\n",
       "      <td>134177.0</td>\n",
       "      <td>268354.0</td>\n",
       "      <td>402531.0</td>\n",
       "      <td>1</td>\n",
       "      <td>3.0</td>\n",
       "    </tr>\n",
       "    <tr>\n",
       "      <th>1014</th>\n",
       "      <td>13066015</td>\n",
       "      <td>115009</td>\n",
       "      <td>30041</td>\n",
       "      <td>AP</td>\n",
       "      <td>AP COLECTIVO</td>\n",
       "      <td>01/09/13</td>\n",
       "      <td>15</td>\n",
       "      <td>2</td>\n",
       "      <td>9</td>\n",
       "      <td>CDMX</td>\n",
       "      <td>...</td>\n",
       "      <td>04/12/13</td>\n",
       "      <td>300</td>\n",
       "      <td>ACCIDENTE</td>\n",
       "      <td>CONTUSION DE ARTICULACION TEMPOROMANDIBULAR  B...</td>\n",
       "      <td>3.0</td>\n",
       "      <td>250000.0</td>\n",
       "      <td>500000.0</td>\n",
       "      <td>750000.0</td>\n",
       "      <td>1</td>\n",
       "      <td>3.0</td>\n",
       "    </tr>\n",
       "    <tr>\n",
       "      <th>1066</th>\n",
       "      <td>12030768</td>\n",
       "      <td>117208</td>\n",
       "      <td>1052</td>\n",
       "      <td>GMM</td>\n",
       "      <td>GMM INDIVIDUAL</td>\n",
       "      <td>10/05/12</td>\n",
       "      <td>8</td>\n",
       "      <td>1</td>\n",
       "      <td>19</td>\n",
       "      <td>N.L.</td>\n",
       "      <td>...</td>\n",
       "      <td>28/06/12</td>\n",
       "      <td>300</td>\n",
       "      <td>ACCIDENTE</td>\n",
       "      <td>ESGUINCE TOBILLO IZQUIERDO                    ...</td>\n",
       "      <td>2.0</td>\n",
       "      <td>399001.0</td>\n",
       "      <td>730022.0</td>\n",
       "      <td>1129023.0</td>\n",
       "      <td>3</td>\n",
       "      <td>3.0</td>\n",
       "    </tr>\n",
       "    <tr>\n",
       "      <th>...</th>\n",
       "      <td>...</td>\n",
       "      <td>...</td>\n",
       "      <td>...</td>\n",
       "      <td>...</td>\n",
       "      <td>...</td>\n",
       "      <td>...</td>\n",
       "      <td>...</td>\n",
       "      <td>...</td>\n",
       "      <td>...</td>\n",
       "      <td>...</td>\n",
       "      <td>...</td>\n",
       "      <td>...</td>\n",
       "      <td>...</td>\n",
       "      <td>...</td>\n",
       "      <td>...</td>\n",
       "      <td>...</td>\n",
       "      <td>...</td>\n",
       "      <td>...</td>\n",
       "      <td>...</td>\n",
       "      <td>...</td>\n",
       "      <td>...</td>\n",
       "    </tr>\n",
       "    <tr>\n",
       "      <th>183906</th>\n",
       "      <td>14030563</td>\n",
       "      <td>228816</td>\n",
       "      <td>1044</td>\n",
       "      <td>GMM</td>\n",
       "      <td>GMM COLECTIVO</td>\n",
       "      <td>01/01/14</td>\n",
       "      <td>14</td>\n",
       "      <td>2</td>\n",
       "      <td>9</td>\n",
       "      <td>CDMX</td>\n",
       "      <td>...</td>\n",
       "      <td>03/07/14</td>\n",
       "      <td>300</td>\n",
       "      <td>ACCIDENTE</td>\n",
       "      <td>LESIAON RETINACULAR CON SUBLUXACION PATELAR, L...</td>\n",
       "      <td>2.0</td>\n",
       "      <td>14437302.0</td>\n",
       "      <td>26485664.0</td>\n",
       "      <td>40922966.0</td>\n",
       "      <td>9</td>\n",
       "      <td>3.0</td>\n",
       "    </tr>\n",
       "    <tr>\n",
       "      <th>183951</th>\n",
       "      <td>13034446</td>\n",
       "      <td>115008</td>\n",
       "      <td>30041</td>\n",
       "      <td>AP</td>\n",
       "      <td>AP COLECTIVO</td>\n",
       "      <td>01/09/12</td>\n",
       "      <td>14</td>\n",
       "      <td>1</td>\n",
       "      <td>24</td>\n",
       "      <td>SLP</td>\n",
       "      <td>...</td>\n",
       "      <td>18/06/13</td>\n",
       "      <td>300</td>\n",
       "      <td>ACCIDENTE</td>\n",
       "      <td>...</td>\n",
       "      <td>3.0</td>\n",
       "      <td>97276.0</td>\n",
       "      <td>170542.0</td>\n",
       "      <td>267818.0</td>\n",
       "      <td>1</td>\n",
       "      <td>3.0</td>\n",
       "    </tr>\n",
       "    <tr>\n",
       "      <th>183952</th>\n",
       "      <td>11013618</td>\n",
       "      <td>624201</td>\n",
       "      <td>30041</td>\n",
       "      <td>AP</td>\n",
       "      <td>AP COLECTIVO</td>\n",
       "      <td>23/08/10</td>\n",
       "      <td>1</td>\n",
       "      <td>2</td>\n",
       "      <td>15</td>\n",
       "      <td>EDMEX</td>\n",
       "      <td>...</td>\n",
       "      <td>23/03/11</td>\n",
       "      <td>300</td>\n",
       "      <td>ACCIDENTE</td>\n",
       "      <td>...</td>\n",
       "      <td>3.0</td>\n",
       "      <td>90400.0</td>\n",
       "      <td>180800.0</td>\n",
       "      <td>271200.0</td>\n",
       "      <td>1</td>\n",
       "      <td>3.0</td>\n",
       "    </tr>\n",
       "    <tr>\n",
       "      <th>184043</th>\n",
       "      <td>13008889</td>\n",
       "      <td>1501</td>\n",
       "      <td>1032</td>\n",
       "      <td>GMM</td>\n",
       "      <td>GMM COLECTIVO</td>\n",
       "      <td>01/03/12</td>\n",
       "      <td>1</td>\n",
       "      <td>1</td>\n",
       "      <td>9</td>\n",
       "      <td>CDMX</td>\n",
       "      <td>...</td>\n",
       "      <td>26/01/13</td>\n",
       "      <td>100</td>\n",
       "      <td>ENFERMEDAD</td>\n",
       "      <td>TRATAMIENTO ABIERTO DE FRACTURA ABIERTA DE RAD...</td>\n",
       "      <td>3.0</td>\n",
       "      <td>2780790.0</td>\n",
       "      <td>5441580.0</td>\n",
       "      <td>8222370.0</td>\n",
       "      <td>4</td>\n",
       "      <td>3.0</td>\n",
       "    </tr>\n",
       "    <tr>\n",
       "      <th>184055</th>\n",
       "      <td>5015106</td>\n",
       "      <td>228806</td>\n",
       "      <td>1043</td>\n",
       "      <td>GMM</td>\n",
       "      <td>GMM COLECTIVO</td>\n",
       "      <td>01/04/05</td>\n",
       "      <td>5</td>\n",
       "      <td>1</td>\n",
       "      <td>5</td>\n",
       "      <td>COAH</td>\n",
       "      <td>...</td>\n",
       "      <td>23/08/05</td>\n",
       "      <td>300</td>\n",
       "      <td>ACCIDENTE</td>\n",
       "      <td>RAUMA LUMBOSACRO CON RADICULOPATIA            ...</td>\n",
       "      <td>3.0</td>\n",
       "      <td>1220317.0</td>\n",
       "      <td>2216370.0</td>\n",
       "      <td>3436687.0</td>\n",
       "      <td>2</td>\n",
       "      <td>3.0</td>\n",
       "    </tr>\n",
       "    <tr>\n",
       "      <th>184059</th>\n",
       "      <td>13028819</td>\n",
       "      <td>693501</td>\n",
       "      <td>30041</td>\n",
       "      <td>AP</td>\n",
       "      <td>AP COLECTIVO</td>\n",
       "      <td>20/08/12</td>\n",
       "      <td>1</td>\n",
       "      <td>1</td>\n",
       "      <td>21</td>\n",
       "      <td>PUE</td>\n",
       "      <td>...</td>\n",
       "      <td>24/04/13</td>\n",
       "      <td>300</td>\n",
       "      <td>ACCIDENTE</td>\n",
       "      <td>...</td>\n",
       "      <td>3.0</td>\n",
       "      <td>135000.0</td>\n",
       "      <td>230000.0</td>\n",
       "      <td>365000.0</td>\n",
       "      <td>1</td>\n",
       "      <td>3.0</td>\n",
       "    </tr>\n",
       "    <tr>\n",
       "      <th>184075</th>\n",
       "      <td>9022143</td>\n",
       "      <td>298304</td>\n",
       "      <td>1003</td>\n",
       "      <td>GMM</td>\n",
       "      <td>GMM COLECTIVO</td>\n",
       "      <td>30/11/08</td>\n",
       "      <td>4</td>\n",
       "      <td>1</td>\n",
       "      <td>9</td>\n",
       "      <td>CDMX</td>\n",
       "      <td>...</td>\n",
       "      <td>08/07/09</td>\n",
       "      <td>100</td>\n",
       "      <td>ENFERMEDAD</td>\n",
       "      <td>CATARATA OJO IZQ.                             ...</td>\n",
       "      <td>2.0</td>\n",
       "      <td>2253136.0</td>\n",
       "      <td>2691634.0</td>\n",
       "      <td>4944770.0</td>\n",
       "      <td>1</td>\n",
       "      <td>3.0</td>\n",
       "    </tr>\n",
       "    <tr>\n",
       "      <th>184084</th>\n",
       "      <td>9015222</td>\n",
       "      <td>115004</td>\n",
       "      <td>30041</td>\n",
       "      <td>AP</td>\n",
       "      <td>AP COLECTIVO</td>\n",
       "      <td>01/09/08</td>\n",
       "      <td>10</td>\n",
       "      <td>1</td>\n",
       "      <td>9</td>\n",
       "      <td>CDMX</td>\n",
       "      <td>...</td>\n",
       "      <td>15/06/09</td>\n",
       "      <td>300</td>\n",
       "      <td>ACCIDENTE</td>\n",
       "      <td>FRACTURA TRANSVERSA EN UNION DE TERCIO MEDIO C...</td>\n",
       "      <td>3.0</td>\n",
       "      <td>1738646.0</td>\n",
       "      <td>2037565.0</td>\n",
       "      <td>3776211.0</td>\n",
       "      <td>3</td>\n",
       "      <td>3.0</td>\n",
       "    </tr>\n",
       "    <tr>\n",
       "      <th>184102</th>\n",
       "      <td>11027840</td>\n",
       "      <td>318002</td>\n",
       "      <td>1030</td>\n",
       "      <td>GMM</td>\n",
       "      <td>GMM COLECTIVO</td>\n",
       "      <td>01/01/11</td>\n",
       "      <td>2</td>\n",
       "      <td>2</td>\n",
       "      <td>14</td>\n",
       "      <td>JAL</td>\n",
       "      <td>...</td>\n",
       "      <td>03/08/11</td>\n",
       "      <td>300</td>\n",
       "      <td>ACCIDENTE</td>\n",
       "      <td>POLITRAUMATISMO                               ...</td>\n",
       "      <td>2.0</td>\n",
       "      <td>3996957.0</td>\n",
       "      <td>7368888.0</td>\n",
       "      <td>11365845.0</td>\n",
       "      <td>6</td>\n",
       "      <td>3.0</td>\n",
       "    </tr>\n",
       "    <tr>\n",
       "      <th>184128</th>\n",
       "      <td>13048980</td>\n",
       "      <td>746701</td>\n",
       "      <td>30041</td>\n",
       "      <td>AP</td>\n",
       "      <td>AP COLECTIVO</td>\n",
       "      <td>16/12/12</td>\n",
       "      <td>1</td>\n",
       "      <td>2</td>\n",
       "      <td>11</td>\n",
       "      <td>GTO</td>\n",
       "      <td>...</td>\n",
       "      <td>28/08/13</td>\n",
       "      <td>300</td>\n",
       "      <td>ACCIDENTE</td>\n",
       "      <td>...</td>\n",
       "      <td>3.0</td>\n",
       "      <td>165417.0</td>\n",
       "      <td>310834.0</td>\n",
       "      <td>476251.0</td>\n",
       "      <td>1</td>\n",
       "      <td>3.0</td>\n",
       "    </tr>\n",
       "    <tr>\n",
       "      <th>184197</th>\n",
       "      <td>11030747</td>\n",
       "      <td>1676802</td>\n",
       "      <td>1052</td>\n",
       "      <td>GMM</td>\n",
       "      <td>GMM INDIVIDUAL</td>\n",
       "      <td>06/09/11</td>\n",
       "      <td>2</td>\n",
       "      <td>1</td>\n",
       "      <td>19</td>\n",
       "      <td>N.L.</td>\n",
       "      <td>...</td>\n",
       "      <td>26/09/11</td>\n",
       "      <td>200</td>\n",
       "      <td>EMBARAZO</td>\n",
       "      <td>EMB. CESAREA                                  ...</td>\n",
       "      <td>4.0</td>\n",
       "      <td>6954169.0</td>\n",
       "      <td>8981066.0</td>\n",
       "      <td>15935235.0</td>\n",
       "      <td>3</td>\n",
       "      <td>3.0</td>\n",
       "    </tr>\n",
       "    <tr>\n",
       "      <th>184201</th>\n",
       "      <td>11001806</td>\n",
       "      <td>596203</td>\n",
       "      <td>1052</td>\n",
       "      <td>GMM</td>\n",
       "      <td>GMM INDIVIDUAL</td>\n",
       "      <td>05/10/10</td>\n",
       "      <td>3</td>\n",
       "      <td>1</td>\n",
       "      <td>19</td>\n",
       "      <td>N.L.</td>\n",
       "      <td>...</td>\n",
       "      <td>06/10/10</td>\n",
       "      <td>100</td>\n",
       "      <td>ENFERMEDAD</td>\n",
       "      <td>LUMBALGIA L5-S1                               ...</td>\n",
       "      <td>3.0</td>\n",
       "      <td>3234000.0</td>\n",
       "      <td>4190000.0</td>\n",
       "      <td>7424000.0</td>\n",
       "      <td>1</td>\n",
       "      <td>3.0</td>\n",
       "    </tr>\n",
       "    <tr>\n",
       "      <th>184214</th>\n",
       "      <td>9032606</td>\n",
       "      <td>4321908</td>\n",
       "      <td>1001</td>\n",
       "      <td>GMM</td>\n",
       "      <td>GMM INDIVIDUAL</td>\n",
       "      <td>11/08/09</td>\n",
       "      <td>9</td>\n",
       "      <td>1</td>\n",
       "      <td>1</td>\n",
       "      <td>AGS</td>\n",
       "      <td>...</td>\n",
       "      <td>13/11/09</td>\n",
       "      <td>100</td>\n",
       "      <td>ENFERMEDAD</td>\n",
       "      <td>DESVIACION SEPTAL                             ...</td>\n",
       "      <td>2.0</td>\n",
       "      <td>5274245.0</td>\n",
       "      <td>4996292.0</td>\n",
       "      <td>10270537.0</td>\n",
       "      <td>2</td>\n",
       "      <td>3.0</td>\n",
       "    </tr>\n",
       "    <tr>\n",
       "      <th>184231</th>\n",
       "      <td>6006260</td>\n",
       "      <td>1630049</td>\n",
       "      <td>1011</td>\n",
       "      <td>GMM</td>\n",
       "      <td>GMM INDIVIDUAL</td>\n",
       "      <td>13/12/05</td>\n",
       "      <td>1</td>\n",
       "      <td>1</td>\n",
       "      <td>28</td>\n",
       "      <td>TAMPS</td>\n",
       "      <td>...</td>\n",
       "      <td>07/03/06</td>\n",
       "      <td>100</td>\n",
       "      <td>ENFERMEDAD</td>\n",
       "      <td>I.V.U.                                        ...</td>\n",
       "      <td>1.0</td>\n",
       "      <td>1985510.0</td>\n",
       "      <td>3571020.0</td>\n",
       "      <td>5556530.0</td>\n",
       "      <td>4</td>\n",
       "      <td>3.0</td>\n",
       "    </tr>\n",
       "    <tr>\n",
       "      <th>184247</th>\n",
       "      <td>14011891</td>\n",
       "      <td>60101</td>\n",
       "      <td>1030</td>\n",
       "      <td>GMM</td>\n",
       "      <td>GMM COLECTIVO</td>\n",
       "      <td>01/01/14</td>\n",
       "      <td>2</td>\n",
       "      <td>2</td>\n",
       "      <td>14</td>\n",
       "      <td>JAL</td>\n",
       "      <td>...</td>\n",
       "      <td>05/03/14</td>\n",
       "      <td>100</td>\n",
       "      <td>ENFERMEDAD</td>\n",
       "      <td>LITIASIS RENAL Y URETERAL IZQUIERDA           ...</td>\n",
       "      <td>2.0</td>\n",
       "      <td>2623183.0</td>\n",
       "      <td>5175152.0</td>\n",
       "      <td>7798335.0</td>\n",
       "      <td>4</td>\n",
       "      <td>3.0</td>\n",
       "    </tr>\n",
       "    <tr>\n",
       "      <th>184252</th>\n",
       "      <td>7004781</td>\n",
       "      <td>115302</td>\n",
       "      <td>30041</td>\n",
       "      <td>AP</td>\n",
       "      <td>AP COLECTIVO</td>\n",
       "      <td>22/08/06</td>\n",
       "      <td>3</td>\n",
       "      <td>2</td>\n",
       "      <td>19</td>\n",
       "      <td>N.L.</td>\n",
       "      <td>...</td>\n",
       "      <td>22/02/07</td>\n",
       "      <td>300</td>\n",
       "      <td>ACCIDENTE</td>\n",
       "      <td>CONTUSION RODILLA IZQ                         ...</td>\n",
       "      <td>2.0</td>\n",
       "      <td>91305.0</td>\n",
       "      <td>182610.0</td>\n",
       "      <td>273915.0</td>\n",
       "      <td>1</td>\n",
       "      <td>3.0</td>\n",
       "    </tr>\n",
       "    <tr>\n",
       "      <th>184326</th>\n",
       "      <td>11010370</td>\n",
       "      <td>624201</td>\n",
       "      <td>30041</td>\n",
       "      <td>AP</td>\n",
       "      <td>AP COLECTIVO</td>\n",
       "      <td>23/08/10</td>\n",
       "      <td>1</td>\n",
       "      <td>2</td>\n",
       "      <td>15</td>\n",
       "      <td>EDMEX</td>\n",
       "      <td>...</td>\n",
       "      <td>18/03/11</td>\n",
       "      <td>300</td>\n",
       "      <td>ACCIDENTE</td>\n",
       "      <td>...</td>\n",
       "      <td>3.0</td>\n",
       "      <td>69350.0</td>\n",
       "      <td>138700.0</td>\n",
       "      <td>208050.0</td>\n",
       "      <td>1</td>\n",
       "      <td>3.0</td>\n",
       "    </tr>\n",
       "    <tr>\n",
       "      <th>184362</th>\n",
       "      <td>13057752</td>\n",
       "      <td>758601</td>\n",
       "      <td>30041</td>\n",
       "      <td>AP</td>\n",
       "      <td>AP COLECTIVO</td>\n",
       "      <td>01/08/13</td>\n",
       "      <td>1</td>\n",
       "      <td>2</td>\n",
       "      <td>11</td>\n",
       "      <td>GTO</td>\n",
       "      <td>...</td>\n",
       "      <td>24/10/13</td>\n",
       "      <td>300</td>\n",
       "      <td>ACCIDENTE</td>\n",
       "      <td>COTUSION DE AMBAS RODILLAS                    ...</td>\n",
       "      <td>3.0</td>\n",
       "      <td>301539.0</td>\n",
       "      <td>491406.0</td>\n",
       "      <td>792945.0</td>\n",
       "      <td>2</td>\n",
       "      <td>3.0</td>\n",
       "    </tr>\n",
       "    <tr>\n",
       "      <th>184367</th>\n",
       "      <td>9008916</td>\n",
       "      <td>44301</td>\n",
       "      <td>1051</td>\n",
       "      <td>GMM</td>\n",
       "      <td>GMM INDIVIDUAL</td>\n",
       "      <td>18/09/08</td>\n",
       "      <td>4</td>\n",
       "      <td>1</td>\n",
       "      <td>22</td>\n",
       "      <td>QRO</td>\n",
       "      <td>...</td>\n",
       "      <td>26/02/09</td>\n",
       "      <td>100</td>\n",
       "      <td>ENFERMEDAD</td>\n",
       "      <td>PIELONEFRITIS AGUDA                           ...</td>\n",
       "      <td>2.0</td>\n",
       "      <td>3375380.0</td>\n",
       "      <td>5303436.0</td>\n",
       "      <td>8678816.0</td>\n",
       "      <td>3</td>\n",
       "      <td>3.0</td>\n",
       "    </tr>\n",
       "    <tr>\n",
       "      <th>184450</th>\n",
       "      <td>6000479</td>\n",
       "      <td>265404</td>\n",
       "      <td>1002</td>\n",
       "      <td>GMM</td>\n",
       "      <td>GMM COLECTIVO</td>\n",
       "      <td>16/04/05</td>\n",
       "      <td>4</td>\n",
       "      <td>1</td>\n",
       "      <td>14</td>\n",
       "      <td>JAL</td>\n",
       "      <td>...</td>\n",
       "      <td>14/12/05</td>\n",
       "      <td>300</td>\n",
       "      <td>ACCIDENTE</td>\n",
       "      <td>ESGUINCE DE ARTICULACION METACARPO Y FALAGICA ...</td>\n",
       "      <td>3.0</td>\n",
       "      <td>117248.0</td>\n",
       "      <td>234496.0</td>\n",
       "      <td>351744.0</td>\n",
       "      <td>1</td>\n",
       "      <td>3.0</td>\n",
       "    </tr>\n",
       "    <tr>\n",
       "      <th>184460</th>\n",
       "      <td>12057738</td>\n",
       "      <td>697101</td>\n",
       "      <td>30041</td>\n",
       "      <td>AP</td>\n",
       "      <td>AP COLECTIVO</td>\n",
       "      <td>13/08/12</td>\n",
       "      <td>1</td>\n",
       "      <td>1</td>\n",
       "      <td>9</td>\n",
       "      <td>CDMX</td>\n",
       "      <td>...</td>\n",
       "      <td>21/11/12</td>\n",
       "      <td>300</td>\n",
       "      <td>ACCIDENTE</td>\n",
       "      <td>ESGUINCE TOBILLO DERECHO                      ...</td>\n",
       "      <td>3.0</td>\n",
       "      <td>472557.0</td>\n",
       "      <td>845114.0</td>\n",
       "      <td>1317671.0</td>\n",
       "      <td>2</td>\n",
       "      <td>3.0</td>\n",
       "    </tr>\n",
       "    <tr>\n",
       "      <th>184461</th>\n",
       "      <td>12009761</td>\n",
       "      <td>292203</td>\n",
       "      <td>1026</td>\n",
       "      <td>GMM</td>\n",
       "      <td>GMM COLECTIVO</td>\n",
       "      <td>19/06/11</td>\n",
       "      <td>3</td>\n",
       "      <td>2</td>\n",
       "      <td>19</td>\n",
       "      <td>N.L.</td>\n",
       "      <td>...</td>\n",
       "      <td>01/02/12</td>\n",
       "      <td>100</td>\n",
       "      <td>ENFERMEDAD</td>\n",
       "      <td>GASTROENTERITIS AGUDA                         ...</td>\n",
       "      <td>1.0</td>\n",
       "      <td>1204047.0</td>\n",
       "      <td>2408094.0</td>\n",
       "      <td>3612141.0</td>\n",
       "      <td>1</td>\n",
       "      <td>3.0</td>\n",
       "    </tr>\n",
       "    <tr>\n",
       "      <th>184480</th>\n",
       "      <td>13001516</td>\n",
       "      <td>1009</td>\n",
       "      <td>1038</td>\n",
       "      <td>GMM</td>\n",
       "      <td>GMM COLECTIVO</td>\n",
       "      <td>15/05/12</td>\n",
       "      <td>1</td>\n",
       "      <td>2</td>\n",
       "      <td>9</td>\n",
       "      <td>CDMX</td>\n",
       "      <td>...</td>\n",
       "      <td>07/11/12</td>\n",
       "      <td>100</td>\n",
       "      <td>ENFERMEDAD</td>\n",
       "      <td>HERNIA INGUINAL BILATERAL/HIDROCELE BILATERAL ...</td>\n",
       "      <td>1.0</td>\n",
       "      <td>6713290.0</td>\n",
       "      <td>13198216.0</td>\n",
       "      <td>19911506.0</td>\n",
       "      <td>5</td>\n",
       "      <td>3.0</td>\n",
       "    </tr>\n",
       "    <tr>\n",
       "      <th>184497</th>\n",
       "      <td>13028202</td>\n",
       "      <td>1044</td>\n",
       "      <td>1038</td>\n",
       "      <td>GMM</td>\n",
       "      <td>GMM COLECTIVO</td>\n",
       "      <td>15/05/12</td>\n",
       "      <td>1</td>\n",
       "      <td>2</td>\n",
       "      <td>9</td>\n",
       "      <td>CDMX</td>\n",
       "      <td>...</td>\n",
       "      <td>14/01/13</td>\n",
       "      <td>100</td>\n",
       "      <td>ENFERMEDAD</td>\n",
       "      <td>DILIPIDEMIA MIXTA/HIPERCOLESTEROLEMIA/HIPERTRI...</td>\n",
       "      <td>1.0</td>\n",
       "      <td>315864.0</td>\n",
       "      <td>631728.0</td>\n",
       "      <td>947592.0</td>\n",
       "      <td>1</td>\n",
       "      <td>3.0</td>\n",
       "    </tr>\n",
       "    <tr>\n",
       "      <th>184504</th>\n",
       "      <td>10006698</td>\n",
       "      <td>298305</td>\n",
       "      <td>1003</td>\n",
       "      <td>GMM</td>\n",
       "      <td>GMM COLECTIVO</td>\n",
       "      <td>30/11/09</td>\n",
       "      <td>5</td>\n",
       "      <td>1</td>\n",
       "      <td>9</td>\n",
       "      <td>CDMX</td>\n",
       "      <td>...</td>\n",
       "      <td>04/03/10</td>\n",
       "      <td>100</td>\n",
       "      <td>ENFERMEDAD</td>\n",
       "      <td>OSTEOPOROSIS                                  ...</td>\n",
       "      <td>2.0</td>\n",
       "      <td>375468.0</td>\n",
       "      <td>479760.0</td>\n",
       "      <td>855228.0</td>\n",
       "      <td>1</td>\n",
       "      <td>3.0</td>\n",
       "    </tr>\n",
       "    <tr>\n",
       "      <th>184505</th>\n",
       "      <td>6026258</td>\n",
       "      <td>276604</td>\n",
       "      <td>1003</td>\n",
       "      <td>GMM</td>\n",
       "      <td>GMM COLECTIVO</td>\n",
       "      <td>30/04/06</td>\n",
       "      <td>4</td>\n",
       "      <td>2</td>\n",
       "      <td>19</td>\n",
       "      <td>N.L.</td>\n",
       "      <td>...</td>\n",
       "      <td>15/12/06</td>\n",
       "      <td>300</td>\n",
       "      <td>ACCIDENTE</td>\n",
       "      <td>TRAUMATISMO PULGAR                            ...</td>\n",
       "      <td>2.0</td>\n",
       "      <td>84076.0</td>\n",
       "      <td>168152.0</td>\n",
       "      <td>252228.0</td>\n",
       "      <td>1</td>\n",
       "      <td>3.0</td>\n",
       "    </tr>\n",
       "    <tr>\n",
       "      <th>184549</th>\n",
       "      <td>7012750</td>\n",
       "      <td>6668302</td>\n",
       "      <td>1001</td>\n",
       "      <td>GMM</td>\n",
       "      <td>GMM INDIVIDUAL</td>\n",
       "      <td>15/10/06</td>\n",
       "      <td>3</td>\n",
       "      <td>1</td>\n",
       "      <td>19</td>\n",
       "      <td>N.L.</td>\n",
       "      <td>...</td>\n",
       "      <td>15/10/06</td>\n",
       "      <td>100</td>\n",
       "      <td>ENFERMEDAD</td>\n",
       "      <td>RINOPATIA                                     ...</td>\n",
       "      <td>2.0</td>\n",
       "      <td>3796229.0</td>\n",
       "      <td>7354772.0</td>\n",
       "      <td>11151001.0</td>\n",
       "      <td>8</td>\n",
       "      <td>3.0</td>\n",
       "    </tr>\n",
       "    <tr>\n",
       "      <th>184583</th>\n",
       "      <td>10034064</td>\n",
       "      <td>624201</td>\n",
       "      <td>30041</td>\n",
       "      <td>AP</td>\n",
       "      <td>AP COLECTIVO</td>\n",
       "      <td>23/08/10</td>\n",
       "      <td>1</td>\n",
       "      <td>2</td>\n",
       "      <td>15</td>\n",
       "      <td>EDMEX</td>\n",
       "      <td>...</td>\n",
       "      <td>30/11/10</td>\n",
       "      <td>300</td>\n",
       "      <td>ACCIDENTE</td>\n",
       "      <td>...</td>\n",
       "      <td>3.0</td>\n",
       "      <td>110200.0</td>\n",
       "      <td>220400.0</td>\n",
       "      <td>330600.0</td>\n",
       "      <td>1</td>\n",
       "      <td>3.0</td>\n",
       "    </tr>\n",
       "    <tr>\n",
       "      <th>184598</th>\n",
       "      <td>6001297</td>\n",
       "      <td>29609</td>\n",
       "      <td>30037</td>\n",
       "      <td>AP</td>\n",
       "      <td>AP COLECTIVO</td>\n",
       "      <td>01/01/05</td>\n",
       "      <td>9</td>\n",
       "      <td>2</td>\n",
       "      <td>14</td>\n",
       "      <td>JAL</td>\n",
       "      <td>...</td>\n",
       "      <td>22/09/05</td>\n",
       "      <td>401</td>\n",
       "      <td>MTE. ACC.</td>\n",
       "      <td>CONTUSION DE 3 ER GRADO EN TORAX Y DIFUSA DE C...</td>\n",
       "      <td>2.0</td>\n",
       "      <td>1000000.0</td>\n",
       "      <td>2000000.0</td>\n",
       "      <td>3000000.0</td>\n",
       "      <td>1</td>\n",
       "      <td>3.0</td>\n",
       "    </tr>\n",
       "    <tr>\n",
       "      <th>184601</th>\n",
       "      <td>11037617</td>\n",
       "      <td>115007</td>\n",
       "      <td>30041</td>\n",
       "      <td>AP</td>\n",
       "      <td>AP COLECTIVO</td>\n",
       "      <td>01/09/11</td>\n",
       "      <td>13</td>\n",
       "      <td>1</td>\n",
       "      <td>16</td>\n",
       "      <td>MICH</td>\n",
       "      <td>...</td>\n",
       "      <td>22/10/11</td>\n",
       "      <td>300</td>\n",
       "      <td>ACCIDENTE</td>\n",
       "      <td>...</td>\n",
       "      <td>3.0</td>\n",
       "      <td>80651.0</td>\n",
       "      <td>161302.0</td>\n",
       "      <td>241953.0</td>\n",
       "      <td>1</td>\n",
       "      <td>3.0</td>\n",
       "    </tr>\n",
       "  </tbody>\n",
       "</table>\n",
       "<p>6878 rows × 29 columns</p>\n",
       "</div>"
      ],
      "text/plain": [
       "          NSINIEST  NPOLIZA  RAMSUBRAMO RAMO         SUBRAMO DATE_INIT  \\\n",
       "348        8019491    99804       30040   AP    AP COLECTIVO  01/10/07   \n",
       "407        9025346  9320020        1050  GMM  GMM INDIVIDUAL  04/03/09   \n",
       "480       11008678   624201       30041   AP    AP COLECTIVO  23/08/10   \n",
       "482        7015036   281902        1043  GMM   GMM COLECTIVO  01/01/07   \n",
       "486       11034214   396105        1052  GMM  GMM INDIVIDUAL  22/08/11   \n",
       "524        7024026   271601       30033   AP    AP COLECTIVO  18/12/06   \n",
       "532       12043758  5404708        1001  GMM  GMM INDIVIDUAL  01/04/12   \n",
       "548        5021101   280001        1043  GMM   GMM COLECTIVO  01/01/05   \n",
       "611        4005139   262103        1003  GMM   GMM COLECTIVO  21/08/03   \n",
       "623        7006192  6742602        1001  GMM  GMM INDIVIDUAL  11/08/06   \n",
       "654       11038674   649501       30041   AP    AP COLECTIVO  22/08/11   \n",
       "692       12018006   637901       30041   AP    AP COLECTIVO  15/08/11   \n",
       "713       11027388   282609        1028  GMM   GMM COLECTIVO  01/06/10   \n",
       "715        9031610    92604        1052  GMM  GMM INDIVIDUAL  12/04/09   \n",
       "735        6019450   200307        1043  GMM   GMM COLECTIVO  15/09/05   \n",
       "745     3020800167    81401       30033   AP    AP COLECTIVO  07/02/02   \n",
       "759       12012570   318003        1030  GMM   GMM COLECTIVO  01/01/12   \n",
       "783       14017742   100401        1038  GMM   GMM COLECTIVO  15/05/13   \n",
       "790       12025628   115007       30041   AP    AP COLECTIVO  01/09/11   \n",
       "804       14026264   317505        1032  GMM   GMM COLECTIVO  30/08/13   \n",
       "845        5011580   283101        1003  GMM   GMM COLECTIVO  30/04/05   \n",
       "853        6000046    29609       30037   AP    AP COLECTIVO  01/01/05   \n",
       "854       13041258   100401        1038  GMM   GMM COLECTIVO  15/05/13   \n",
       "894       13027307     1013        1038  GMM   GMM COLECTIVO  15/05/12   \n",
       "969       14031216   100402        1038  GMM   GMM COLECTIVO  15/05/14   \n",
       "973        2005939   200802        1003  GMM   GMM COLECTIVO  30/07/02   \n",
       "981        6008538   268003        1002  GMM   GMM COLECTIVO  09/04/05   \n",
       "990       12026238   647601       30041   AP    AP COLECTIVO  01/09/11   \n",
       "1014      13066015   115009       30041   AP    AP COLECTIVO  01/09/13   \n",
       "1066      12030768   117208        1052  GMM  GMM INDIVIDUAL  10/05/12   \n",
       "...            ...      ...         ...  ...             ...       ...   \n",
       "183906    14030563   228816        1044  GMM   GMM COLECTIVO  01/01/14   \n",
       "183951    13034446   115008       30041   AP    AP COLECTIVO  01/09/12   \n",
       "183952    11013618   624201       30041   AP    AP COLECTIVO  23/08/10   \n",
       "184043    13008889     1501        1032  GMM   GMM COLECTIVO  01/03/12   \n",
       "184055     5015106   228806        1043  GMM   GMM COLECTIVO  01/04/05   \n",
       "184059    13028819   693501       30041   AP    AP COLECTIVO  20/08/12   \n",
       "184075     9022143   298304        1003  GMM   GMM COLECTIVO  30/11/08   \n",
       "184084     9015222   115004       30041   AP    AP COLECTIVO  01/09/08   \n",
       "184102    11027840   318002        1030  GMM   GMM COLECTIVO  01/01/11   \n",
       "184128    13048980   746701       30041   AP    AP COLECTIVO  16/12/12   \n",
       "184197    11030747  1676802        1052  GMM  GMM INDIVIDUAL  06/09/11   \n",
       "184201    11001806   596203        1052  GMM  GMM INDIVIDUAL  05/10/10   \n",
       "184214     9032606  4321908        1001  GMM  GMM INDIVIDUAL  11/08/09   \n",
       "184231     6006260  1630049        1011  GMM  GMM INDIVIDUAL  13/12/05   \n",
       "184247    14011891    60101        1030  GMM   GMM COLECTIVO  01/01/14   \n",
       "184252     7004781   115302       30041   AP    AP COLECTIVO  22/08/06   \n",
       "184326    11010370   624201       30041   AP    AP COLECTIVO  23/08/10   \n",
       "184362    13057752   758601       30041   AP    AP COLECTIVO  01/08/13   \n",
       "184367     9008916    44301        1051  GMM  GMM INDIVIDUAL  18/09/08   \n",
       "184450     6000479   265404        1002  GMM   GMM COLECTIVO  16/04/05   \n",
       "184460    12057738   697101       30041   AP    AP COLECTIVO  13/08/12   \n",
       "184461    12009761   292203        1026  GMM   GMM COLECTIVO  19/06/11   \n",
       "184480    13001516     1009        1038  GMM   GMM COLECTIVO  15/05/12   \n",
       "184497    13028202     1044        1038  GMM   GMM COLECTIVO  15/05/12   \n",
       "184504    10006698   298305        1003  GMM   GMM COLECTIVO  30/11/09   \n",
       "184505     6026258   276604        1003  GMM   GMM COLECTIVO  30/04/06   \n",
       "184549     7012750  6668302        1001  GMM  GMM INDIVIDUAL  15/10/06   \n",
       "184583    10034064   624201       30041   AP    AP COLECTIVO  23/08/10   \n",
       "184598     6001297    29609       30037   AP    AP COLECTIVO  01/01/05   \n",
       "184601    11037617   115007       30041   AP    AP COLECTIVO  01/09/11   \n",
       "\n",
       "        INI_ANIO  INDIVIDUAL  EDO STATE_NAME    ...     SINISTER_DATE TIPOSIN  \\\n",
       "348            4           1   14        JAL    ...          21/04/08     100   \n",
       "407            2           1    5       COAH    ...          04/09/09     300   \n",
       "480            1           2   15      EDMEX    ...          03/12/10     300   \n",
       "482            2           1    9       CDMX    ...          18/05/07     100   \n",
       "486            5           1   19       N.L.    ...          20/09/11     200   \n",
       "524            1           2   19       N.L.    ...          01/10/07     300   \n",
       "532           12           1    9       CDMX    ...          05/04/12     100   \n",
       "548            1           1    9       CDMX    ...          06/06/05     100   \n",
       "611            3           1    8       CHIH    ...          05/10/03     200   \n",
       "623            3           1    1        AGS    ...          01/12/06     100   \n",
       "654            1           1    1        AGS    ...          03/11/11     300   \n",
       "692            1           1    5       COAH    ...          17/02/12     300   \n",
       "713            8           2   19       N.L.    ...          23/05/11     300   \n",
       "715            4           1   19       N.L.    ...          10/11/09     100   \n",
       "735            7           1    9       CDMX    ...          18/08/06     100   \n",
       "745            1           2   16       MICH    ...          03/04/02     100   \n",
       "759            3           2   14        JAL    ...          11/01/12     300   \n",
       "783            2           2    9       CDMX    ...          25/03/14     100   \n",
       "790           13           1    9       CDMX    ...          08/06/12     300   \n",
       "804            5           1    9       CDMX    ...          22/05/14     100   \n",
       "845            1           2    9       CDMX    ...          06/07/05     300   \n",
       "853            9           2   10        DGO    ...          04/05/05     500   \n",
       "854            2           2    9       CDMX    ...          30/07/13     100   \n",
       "894            1           1    9       CDMX    ...          04/06/12     100   \n",
       "969            3           2    9       CDMX    ...          23/06/14     100   \n",
       "973            2           1    9       CDMX    ...          22/05/02     100   \n",
       "981            3           1   14        JAL    ...          28/03/06     300   \n",
       "990            1           1    6       COLH    ...          02/04/12     300   \n",
       "1014          15           2    9       CDMX    ...          04/12/13     300   \n",
       "1066           8           1   19       N.L.    ...          28/06/12     300   \n",
       "...          ...         ...  ...        ...    ...               ...     ...   \n",
       "183906        14           2    9       CDMX    ...          03/07/14     300   \n",
       "183951        14           1   24        SLP    ...          18/06/13     300   \n",
       "183952         1           2   15      EDMEX    ...          23/03/11     300   \n",
       "184043         1           1    9       CDMX    ...          26/01/13     100   \n",
       "184055         5           1    5       COAH    ...          23/08/05     300   \n",
       "184059         1           1   21        PUE    ...          24/04/13     300   \n",
       "184075         4           1    9       CDMX    ...          08/07/09     100   \n",
       "184084        10           1    9       CDMX    ...          15/06/09     300   \n",
       "184102         2           2   14        JAL    ...          03/08/11     300   \n",
       "184128         1           2   11        GTO    ...          28/08/13     300   \n",
       "184197         2           1   19       N.L.    ...          26/09/11     200   \n",
       "184201         3           1   19       N.L.    ...          06/10/10     100   \n",
       "184214         9           1    1        AGS    ...          13/11/09     100   \n",
       "184231         1           1   28      TAMPS    ...          07/03/06     100   \n",
       "184247         2           2   14        JAL    ...          05/03/14     100   \n",
       "184252         3           2   19       N.L.    ...          22/02/07     300   \n",
       "184326         1           2   15      EDMEX    ...          18/03/11     300   \n",
       "184362         1           2   11        GTO    ...          24/10/13     300   \n",
       "184367         4           1   22        QRO    ...          26/02/09     100   \n",
       "184450         4           1   14        JAL    ...          14/12/05     300   \n",
       "184460         1           1    9       CDMX    ...          21/11/12     300   \n",
       "184461         3           2   19       N.L.    ...          01/02/12     100   \n",
       "184480         1           2    9       CDMX    ...          07/11/12     100   \n",
       "184497         1           2    9       CDMX    ...          14/01/13     100   \n",
       "184504         5           1    9       CDMX    ...          04/03/10     100   \n",
       "184505         4           2   19       N.L.    ...          15/12/06     300   \n",
       "184549         3           1   19       N.L.    ...          15/10/06     100   \n",
       "184583         1           2   15      EDMEX    ...          30/11/10     300   \n",
       "184598         9           2   14        JAL    ...          22/09/05     401   \n",
       "184601        13           1   16       MICH    ...          22/10/11     300   \n",
       "\n",
       "       SIN_DECRIPTION                                    DIS_DESCRIPTION  \\\n",
       "348        ENFERMEDAD  CANCER DE VIA BILIAR                          ...   \n",
       "407         ACCIDENTE  T.C.E.                                        ...   \n",
       "480         ACCIDENTE                                                ...   \n",
       "482        ENFERMEDAD  LESION MENISCAL LATERAL Y OSTEOCONDRAL        ...   \n",
       "486          EMBARAZO  EMB. PARTO                                    ...   \n",
       "524         ACCIDENTE  TRAUMA EN RODILLA IZQUIERDA                   ...   \n",
       "532        ENFERMEDAD  ADENOCARCINOMA DE COLON DERECHO               ...   \n",
       "548        ENFERMEDAD  REFLUJO ESOFAGICO GRADO 3                     ...   \n",
       "611          EMBARAZO  PARTO NORMAL                                  ...   \n",
       "623        ENFERMEDAD  LITIASIS URETERAL IZQUIERDA                   ...   \n",
       "654         ACCIDENTE                                                ...   \n",
       "692         ACCIDENTE  TRAUMATISMO FACIAL                            ...   \n",
       "713         ACCIDENTE  ESGUINCE DE TOBILLO IZQUERDO                  ...   \n",
       "715        ENFERMEDAD  BRONQUITIS AGUDA                              ...   \n",
       "735        ENFERMEDAD  VARICOCELE IZQ.                               ...   \n",
       "745        ENFERMEDAD                                                ...   \n",
       "759         ACCIDENTE                                                ...   \n",
       "783        ENFERMEDAD  HISTERECTOMIA LAPAROSCOPICA                   ...   \n",
       "790         ACCIDENTE  FX DE TERCER CU#A PIE IZQUIERDO               ...   \n",
       "804        ENFERMEDAD  HERNIA DISCAL CERVICAL DE C4 A C7 CON ABOMBAMI...   \n",
       "845         ACCIDENTE  LUXACION RECIVIDANTE DE HOMBRO DERECHO        ...   \n",
       "853         PERD.ORG.  AMPURACION DE DEDO INDICE, MENIQUE, ANULAR Y M...   \n",
       "854        ENFERMEDAD  SALMONELOSIS                                  ...   \n",
       "894        ENFERMEDAD  OTRAS ARTROSIS                                ...   \n",
       "969        ENFERMEDAD  DEFORMIDAD RINOSEPTAL + CONCHA BULLOSA DE CORN...   \n",
       "973        ENFERMEDAD  HIPERTENSION ARTERIAL SISTEMICA               ...   \n",
       "981         ACCIDENTE  LUXACION ACROMIO CLAVICULAR                   ...   \n",
       "990         ACCIDENTE                                                ...   \n",
       "1014        ACCIDENTE  CONTUSION DE ARTICULACION TEMPOROMANDIBULAR  B...   \n",
       "1066        ACCIDENTE  ESGUINCE TOBILLO IZQUIERDO                    ...   \n",
       "...               ...                                                ...   \n",
       "183906      ACCIDENTE  LESIAON RETINACULAR CON SUBLUXACION PATELAR, L...   \n",
       "183951      ACCIDENTE                                                ...   \n",
       "183952      ACCIDENTE                                                ...   \n",
       "184043     ENFERMEDAD  TRATAMIENTO ABIERTO DE FRACTURA ABIERTA DE RAD...   \n",
       "184055      ACCIDENTE  RAUMA LUMBOSACRO CON RADICULOPATIA            ...   \n",
       "184059      ACCIDENTE                                                ...   \n",
       "184075     ENFERMEDAD  CATARATA OJO IZQ.                             ...   \n",
       "184084      ACCIDENTE  FRACTURA TRANSVERSA EN UNION DE TERCIO MEDIO C...   \n",
       "184102      ACCIDENTE  POLITRAUMATISMO                               ...   \n",
       "184128      ACCIDENTE                                                ...   \n",
       "184197       EMBARAZO  EMB. CESAREA                                  ...   \n",
       "184201     ENFERMEDAD  LUMBALGIA L5-S1                               ...   \n",
       "184214     ENFERMEDAD  DESVIACION SEPTAL                             ...   \n",
       "184231     ENFERMEDAD  I.V.U.                                        ...   \n",
       "184247     ENFERMEDAD  LITIASIS RENAL Y URETERAL IZQUIERDA           ...   \n",
       "184252      ACCIDENTE  CONTUSION RODILLA IZQ                         ...   \n",
       "184326      ACCIDENTE                                                ...   \n",
       "184362      ACCIDENTE  COTUSION DE AMBAS RODILLAS                    ...   \n",
       "184367     ENFERMEDAD  PIELONEFRITIS AGUDA                           ...   \n",
       "184450      ACCIDENTE  ESGUINCE DE ARTICULACION METACARPO Y FALAGICA ...   \n",
       "184460      ACCIDENTE  ESGUINCE TOBILLO DERECHO                      ...   \n",
       "184461     ENFERMEDAD  GASTROENTERITIS AGUDA                         ...   \n",
       "184480     ENFERMEDAD  HERNIA INGUINAL BILATERAL/HIDROCELE BILATERAL ...   \n",
       "184497     ENFERMEDAD  DILIPIDEMIA MIXTA/HIPERCOLESTEROLEMIA/HIPERTRI...   \n",
       "184504     ENFERMEDAD  OSTEOPOROSIS                                  ...   \n",
       "184505      ACCIDENTE  TRAUMATISMO PULGAR                            ...   \n",
       "184549     ENFERMEDAD  RINOPATIA                                     ...   \n",
       "184583      ACCIDENTE                                                ...   \n",
       "184598      MTE. ACC.  CONTUSION DE 3 ER GRADO EN TORAX Y DIFUSA DE C...   \n",
       "184601      ACCIDENTE                                                ...   \n",
       "\n",
       "        COVERS  TOTAL_CLAIM  TOTAL_PAID   DIFF_MOUNT  CLAIMS NUM_GRUPO  \n",
       "348        1.0    2500000.0   5000000.0    7500000.0       1       3.0  \n",
       "407        2.0     616881.0   1132786.0    1749667.0       2       3.0  \n",
       "480        3.0     138400.0    265952.0     404352.0       4       3.0  \n",
       "482        2.0    7618005.0  10842760.0   18460765.0       1       3.0  \n",
       "486        3.0    1772171.0   3528906.0    5301077.0       2       3.0  \n",
       "524        3.0     160000.0    280000.0     440000.0       1       3.0  \n",
       "532        2.0   12324405.0  18212658.0   30537063.0       5       3.0  \n",
       "548        3.0    2590360.0   4480000.0    7070360.0       1       3.0  \n",
       "611        2.0    2278455.0   3140176.0    1852681.0       1       3.0  \n",
       "623        4.0    3710846.0   5945580.0    9656426.0       1       3.0  \n",
       "654        3.0     144492.0    268984.0     413476.0       1       3.0  \n",
       "692        3.0     121809.0    193436.0     315245.0       1       3.0  \n",
       "713        1.0      96870.0    149180.0     246050.0       2       3.0  \n",
       "715        1.0    3152440.0   4714074.0    7866514.0       2       3.0  \n",
       "735        3.0    3134898.0   5916213.0    9051111.0       4       3.0  \n",
       "745        3.0    1326240.0   1226240.0    2552480.0       2       3.0  \n",
       "759        2.0     605259.0   1089466.0    1694725.0       1       3.0  \n",
       "783        1.0   34585385.0  57051686.0   91637071.0       6       3.0  \n",
       "790        3.0     489000.0    978000.0    1467000.0       1       3.0  \n",
       "804        1.0   37157825.0  66756324.0  103914149.0      10       3.0  \n",
       "845        2.0     989680.0    989680.0    1979360.0       2       3.0  \n",
       "853        2.0     500000.0   1000000.0    1500000.0       1       3.0  \n",
       "854        1.0    3579352.0   4368888.0    7948240.0       2       3.0  \n",
       "894        1.0    3899428.0   6247700.0   10147128.0       4       3.0  \n",
       "969        1.0    9277491.0  14287176.0   23564667.0       4       3.0  \n",
       "973        3.0     378575.0    481400.0     859975.0       1       3.0  \n",
       "981        4.0    5822990.0   9069526.0   14892516.0       5       3.0  \n",
       "990        3.0     134177.0    268354.0     402531.0       1       3.0  \n",
       "1014       3.0     250000.0    500000.0     750000.0       1       3.0  \n",
       "1066       2.0     399001.0    730022.0    1129023.0       3       3.0  \n",
       "...        ...          ...         ...          ...     ...       ...  \n",
       "183906     2.0   14437302.0  26485664.0   40922966.0       9       3.0  \n",
       "183951     3.0      97276.0    170542.0     267818.0       1       3.0  \n",
       "183952     3.0      90400.0    180800.0     271200.0       1       3.0  \n",
       "184043     3.0    2780790.0   5441580.0    8222370.0       4       3.0  \n",
       "184055     3.0    1220317.0   2216370.0    3436687.0       2       3.0  \n",
       "184059     3.0     135000.0    230000.0     365000.0       1       3.0  \n",
       "184075     2.0    2253136.0   2691634.0    4944770.0       1       3.0  \n",
       "184084     3.0    1738646.0   2037565.0    3776211.0       3       3.0  \n",
       "184102     2.0    3996957.0   7368888.0   11365845.0       6       3.0  \n",
       "184128     3.0     165417.0    310834.0     476251.0       1       3.0  \n",
       "184197     4.0    6954169.0   8981066.0   15935235.0       3       3.0  \n",
       "184201     3.0    3234000.0   4190000.0    7424000.0       1       3.0  \n",
       "184214     2.0    5274245.0   4996292.0   10270537.0       2       3.0  \n",
       "184231     1.0    1985510.0   3571020.0    5556530.0       4       3.0  \n",
       "184247     2.0    2623183.0   5175152.0    7798335.0       4       3.0  \n",
       "184252     2.0      91305.0    182610.0     273915.0       1       3.0  \n",
       "184326     3.0      69350.0    138700.0     208050.0       1       3.0  \n",
       "184362     3.0     301539.0    491406.0     792945.0       2       3.0  \n",
       "184367     2.0    3375380.0   5303436.0    8678816.0       3       3.0  \n",
       "184450     3.0     117248.0    234496.0     351744.0       1       3.0  \n",
       "184460     3.0     472557.0    845114.0    1317671.0       2       3.0  \n",
       "184461     1.0    1204047.0   2408094.0    3612141.0       1       3.0  \n",
       "184480     1.0    6713290.0  13198216.0   19911506.0       5       3.0  \n",
       "184497     1.0     315864.0    631728.0     947592.0       1       3.0  \n",
       "184504     2.0     375468.0    479760.0     855228.0       1       3.0  \n",
       "184505     2.0      84076.0    168152.0     252228.0       1       3.0  \n",
       "184549     2.0    3796229.0   7354772.0   11151001.0       8       3.0  \n",
       "184583     3.0     110200.0    220400.0     330600.0       1       3.0  \n",
       "184598     2.0    1000000.0   2000000.0    3000000.0       1       3.0  \n",
       "184601     3.0      80651.0    161302.0     241953.0       1       3.0  \n",
       "\n",
       "[6878 rows x 29 columns]"
      ]
     },
     "execution_count": 281,
     "metadata": {},
     "output_type": "execute_result"
    }
   ],
   "source": [
    "df[df['NUM_GRUPO']==3]#.sort_values(['EDO'], ascending=False).head(7)"
   ]
  },
  {
   "cell_type": "markdown",
   "metadata": {},
   "source": [
    "Se hace una descomposición PCA para poder visualizar los clusters y tener una idea de como se dividen los grupos que los k-means predijeron"
   ]
  },
  {
   "cell_type": "code",
   "execution_count": 282,
   "metadata": {
    "collapsed": false
   },
   "outputs": [],
   "source": [
    "from sklearn.decomposition import PCA\n",
    "\n",
    "# Create a PCA model.\n",
    "pca_2 = PCA(2)\n",
    "# Fit the PCA model on the numeric columns from earlier.\n",
    "plot_columns = pca_2.fit_transform(df_normalized)"
   ]
  },
  {
   "cell_type": "code",
   "execution_count": 283,
   "metadata": {
    "collapsed": false
   },
   "outputs": [
    {
     "data": {
      "image/png": "[encoded data removed]",
      "text/plain": [
       "<matplotlib.figure.Figure at 0x2e02cef0>"
      ]
     },
     "metadata": {},
     "output_type": "display_data"
    }
   ],
   "source": [
    "# Make a scatter plot of each group, shaded according to cluster assignment.\n",
    "plt.scatter(x=plot_columns[:,0], y=plot_columns[:,1], c=labels)\n",
    "plt.scatter(x=plot_columns[:,0], y=plot_columns[:,1], marker='o', s = 500, linewidths=2, c='none')\n",
    "plt.show()"
   ]
  },
  {
   "cell_type": "code",
   "execution_count": null,
   "metadata": {
    "collapsed": false
   },
   "outputs": [
    {
     "ename": "MemoryError",
     "evalue": "",
     "output_type": "error",
     "traceback": [
      "\u001b[0;31m---------------------------------------------------------------------------\u001b[0m",
      "\u001b[0;31mMemoryError\u001b[0m                               Traceback (most recent call last)",
      "\u001b[0;32m<ipython-input-17-e66906acaf0d>\u001b[0m in \u001b[0;36m<module>\u001b[0;34m()\u001b[0m\n\u001b[1;32m      2\u001b[0m \u001b[1;32mfrom\u001b[0m \u001b[0msklearn\u001b[0m \u001b[1;32mimport\u001b[0m \u001b[0mmetrics\u001b[0m\u001b[1;33m\u001b[0m\u001b[0m\n\u001b[1;32m      3\u001b[0m \u001b[1;33m\u001b[0m\u001b[0m\n\u001b[0;32m----> 4\u001b[0;31m \u001b[0mdb\u001b[0m \u001b[1;33m=\u001b[0m \u001b[0mDBSCAN\u001b[0m\u001b[1;33m(\u001b[0m\u001b[0meps\u001b[0m\u001b[1;33m=\u001b[0m\u001b[1;36m0.3\u001b[0m\u001b[1;33m,\u001b[0m \u001b[0mmin_samples\u001b[0m\u001b[1;33m=\u001b[0m\u001b[1;36m10\u001b[0m\u001b[1;33m)\u001b[0m\u001b[1;33m.\u001b[0m\u001b[0mfit\u001b[0m\u001b[1;33m(\u001b[0m\u001b[0mX_normalized\u001b[0m\u001b[1;33m)\u001b[0m\u001b[1;33m\u001b[0m\u001b[0m\n\u001b[0m\u001b[1;32m      5\u001b[0m \u001b[0mcore_samples_mask\u001b[0m \u001b[1;33m=\u001b[0m \u001b[0mnp\u001b[0m\u001b[1;33m.\u001b[0m\u001b[0mzeros_like\u001b[0m\u001b[1;33m(\u001b[0m\u001b[0mdb\u001b[0m\u001b[1;33m.\u001b[0m\u001b[0mlabels_\u001b[0m\u001b[1;33m,\u001b[0m \u001b[0mdtype\u001b[0m\u001b[1;33m=\u001b[0m\u001b[0mbool\u001b[0m\u001b[1;33m)\u001b[0m\u001b[1;33m\u001b[0m\u001b[0m\n\u001b[1;32m      6\u001b[0m \u001b[0mcore_samples_mask\u001b[0m\u001b[1;33m[\u001b[0m\u001b[0mdb\u001b[0m\u001b[1;33m.\u001b[0m\u001b[0mcore_sample_indices_\u001b[0m\u001b[1;33m]\u001b[0m \u001b[1;33m=\u001b[0m \u001b[1;32mTrue\u001b[0m\u001b[1;33m\u001b[0m\u001b[0m\n",
      "\u001b[0;32mC:\\ProgramData\\Anaconda3\\lib\\site-packages\\sklearn\\cluster\\dbscan_.py\u001b[0m in \u001b[0;36mfit\u001b[0;34m(self, X, y, sample_weight)\u001b[0m\n\u001b[1;32m    264\u001b[0m         \u001b[0mX\u001b[0m \u001b[1;33m=\u001b[0m \u001b[0mcheck_array\u001b[0m\u001b[1;33m(\u001b[0m\u001b[0mX\u001b[0m\u001b[1;33m,\u001b[0m \u001b[0maccept_sparse\u001b[0m\u001b[1;33m=\u001b[0m\u001b[1;34m'csr'\u001b[0m\u001b[1;33m)\u001b[0m\u001b[1;33m\u001b[0m\u001b[0m\n\u001b[1;32m    265\u001b[0m         clust = dbscan(X, sample_weight=sample_weight,\n\u001b[0;32m--> 266\u001b[0;31m                        **self.get_params())\n\u001b[0m\u001b[1;32m    267\u001b[0m         \u001b[0mself\u001b[0m\u001b[1;33m.\u001b[0m\u001b[0mcore_sample_indices_\u001b[0m\u001b[1;33m,\u001b[0m \u001b[0mself\u001b[0m\u001b[1;33m.\u001b[0m\u001b[0mlabels_\u001b[0m \u001b[1;33m=\u001b[0m \u001b[0mclust\u001b[0m\u001b[1;33m\u001b[0m\u001b[0m\n\u001b[1;32m    268\u001b[0m         \u001b[1;32mif\u001b[0m \u001b[0mlen\u001b[0m\u001b[1;33m(\u001b[0m\u001b[0mself\u001b[0m\u001b[1;33m.\u001b[0m\u001b[0mcore_sample_indices_\u001b[0m\u001b[1;33m)\u001b[0m\u001b[1;33m:\u001b[0m\u001b[1;33m\u001b[0m\u001b[0m\n",
      "\u001b[0;32mC:\\ProgramData\\Anaconda3\\lib\\site-packages\\sklearn\\cluster\\dbscan_.py\u001b[0m in \u001b[0;36mdbscan\u001b[0;34m(X, eps, min_samples, metric, algorithm, leaf_size, p, sample_weight, n_jobs)\u001b[0m\n\u001b[1;32m    136\u001b[0m         \u001b[1;31m# This has worst case O(n^2) memory complexity\u001b[0m\u001b[1;33m\u001b[0m\u001b[1;33m\u001b[0m\u001b[0m\n\u001b[1;32m    137\u001b[0m         neighborhoods = neighbors_model.radius_neighbors(X, eps,\n\u001b[0;32m--> 138\u001b[0;31m                                                          return_distance=False)\n\u001b[0m\u001b[1;32m    139\u001b[0m \u001b[1;33m\u001b[0m\u001b[0m\n\u001b[1;32m    140\u001b[0m     \u001b[1;32mif\u001b[0m \u001b[0msample_weight\u001b[0m \u001b[1;32mis\u001b[0m \u001b[1;32mNone\u001b[0m\u001b[1;33m:\u001b[0m\u001b[1;33m\u001b[0m\u001b[0m\n",
      "\u001b[0;32mC:\\ProgramData\\Anaconda3\\lib\\site-packages\\sklearn\\neighbors\\base.py\u001b[0m in \u001b[0;36mradius_neighbors\u001b[0;34m(self, X, radius, return_distance)\u001b[0m\n\u001b[1;32m    619\u001b[0m                     \"or set algorithm='brute'\" % self._fit_method)\n\u001b[1;32m    620\u001b[0m             results = self._tree.query_radius(X, radius,\n\u001b[0;32m--> 621\u001b[0;31m                                               return_distance=return_distance)\n\u001b[0m\u001b[1;32m    622\u001b[0m             \u001b[1;32mif\u001b[0m \u001b[0mreturn_distance\u001b[0m\u001b[1;33m:\u001b[0m\u001b[1;33m\u001b[0m\u001b[0m\n\u001b[1;32m    623\u001b[0m                 \u001b[0mresults\u001b[0m \u001b[1;33m=\u001b[0m \u001b[0mresults\u001b[0m\u001b[1;33m[\u001b[0m\u001b[1;33m:\u001b[0m\u001b[1;33m:\u001b[0m\u001b[1;33m-\u001b[0m\u001b[1;36m1\u001b[0m\u001b[1;33m]\u001b[0m\u001b[1;33m\u001b[0m\u001b[0m\n",
      "\u001b[0;32msklearn\\neighbors\\binary_tree.pxi\u001b[0m in \u001b[0;36msklearn.neighbors.kd_tree.BinaryTree.query_radius (sklearn\\neighbors\\kd_tree.c:13414)\u001b[0;34m()\u001b[0m\n",
      "\u001b[0;31mMemoryError\u001b[0m: "
     ]
    }
   ],
   "source": [
    "#no corrio\n",
    "from sklearn.cluster import DBSCAN\n",
    "from sklearn import metrics\n",
    "\n",
    "db = DBSCAN(eps=0.2, min_samples=5).fit(df_normalized)\n",
    "core_samples_mask = np.zeros_like(db.labels_, dtype=bool)\n",
    "core_samples_mask[db.core_sample_indices_] = True\n",
    "labels = db.labels_"
   ]
  },
  {
   "cell_type": "markdown",
   "metadata": {},
   "source": [
    "- Probar modelado LDA y NMF para identificar agrupaciones en las enfermedades y tipos de siniestros"
   ]
  },
  {
   "cell_type": "code",
   "execution_count": 284,
   "metadata": {
    "collapsed": false
   },
   "outputs": [
    {
     "data": {
      "text/plain": [
       "Index(['NSINIEST', 'NPOLIZA', 'RAMSUBRAMO', 'RAMO', 'SUBRAMO', 'DATE_INIT',\n",
       "       'INI_ANIO', 'INDIVIDUAL', 'EDO', 'STATE_NAME', 'CITY', 'CITY_NAME',\n",
       "       'NASEG', 'NOMBTIT', 'GENDER', 'CVNFUMA', 'RIESGOCUP', 'CVEDOCIV', 'AGE',\n",
       "       'SINISTER_DATE', 'TIPOSIN', 'SIN_DECRIPTION', 'DIS_DESCRIPTION',\n",
       "       'COVERS', 'TOTAL_CLAIM', 'TOTAL_PAID', 'DIFF_MOUNT', 'CLAIMS',\n",
       "       'NUM_GRUPO'],\n",
       "      dtype='object')"
      ]
     },
     "execution_count": 284,
     "metadata": {},
     "output_type": "execute_result"
    }
   ],
   "source": [
    "df.columns"
   ]
  },
  {
   "cell_type": "code",
   "execution_count": 285,
   "metadata": {
    "collapsed": false
   },
   "outputs": [],
   "source": [
    "features=['NSINIEST', 'NPOLIZA', 'RAMSUBRAMO', 'INI_ANIO', 'INDIVIDUAL', 'EDO',\n",
    "       'CITY', 'GENDER', 'CVNFUMA', 'RIESGOCUP', 'CVEDOCIV', 'AGE', 'TIPOSIN',\n",
    "       'COVERS', 'TOTAL_CLAIM', 'TOTAL_PAID', 'DIFF_MOUNT']\n",
    "#No entragrupo por que tiene NAs"
   ]
  },
  {
   "cell_type": "code",
   "execution_count": 286,
   "metadata": {
    "collapsed": false
   },
   "outputs": [],
   "source": [
    "features_train, features_test, claims_train, claims_test = train_test_split(df_transformed[features], \n",
    "                                                                            df_transformed['CLAIMS'], \n",
    "                                                                            test_size=0.33, random_state=42)"
   ]
  },
  {
   "cell_type": "markdown",
   "metadata": {},
   "source": [
    "- Basados en los datos transformados y los grupos del cluster hacer prediccón de reclamaciones usando Regresion con Cross Validation\n",
    "- Se suponen 10 validaciones cruzadas, 1 CV por cada 20k datos"
   ]
  },
  {
   "cell_type": "code",
   "execution_count": 287,
   "metadata": {
    "collapsed": true
   },
   "outputs": [],
   "source": [
    "from sklearn import linear_model as lm\n",
    "lr = lm.LinearRegression()"
   ]
  },
  {
   "cell_type": "code",
   "execution_count": 288,
   "metadata": {
    "collapsed": false
   },
   "outputs": [],
   "source": [
    "#hacer validación cruzada y predice\n",
    "from sklearn.model_selection import cross_val_predict\n",
    "pred = cross_val_predict(lr, features_train, claims_train, cv=10)"
   ]
  },
  {
   "cell_type": "code",
   "execution_count": 289,
   "metadata": {
    "collapsed": false,
    "scrolled": true
   },
   "outputs": [
    {
     "data": {
      "image/png": "[encoded data removed]",
      "text/plain": [
       "<matplotlib.figure.Figure at 0x2e0d7940>"
      ]
     },
     "metadata": {},
     "output_type": "display_data"
    }
   ],
   "source": [
    "fig, ax = plt.subplots()\n",
    "ax.scatter(claims_train, pred)\n",
    "ax.plot([claims_train.min(), claims_train.max()], [claims_train.min(), claims_train.max()], 'k--', lw=4)\n",
    "ax.set_xlabel('Reclamaciones')\n",
    "ax.set_ylabel('Predicciones')\n",
    "plt.show()"
   ]
  },
  {
   "cell_type": "markdown",
   "metadata": {},
   "source": [
    "Se ve mas o menos hacemos una prueba rápida"
   ]
  },
  {
   "cell_type": "code",
   "execution_count": 290,
   "metadata": {
    "collapsed": false
   },
   "outputs": [
    {
     "name": "stdout",
     "output_type": "stream",
     "text": [
      "Mean squared error: 10.20\n"
     ]
    }
   ],
   "source": [
    "# The mean squared error\n",
    "print(\"Mean squared error: %.2f\"\n",
    "      % np.mean((pred - claims_train) ** 2))\n",
    "#tiene que tender a cero"
   ]
  },
  {
   "cell_type": "code",
   "execution_count": 291,
   "metadata": {
    "collapsed": false
   },
   "outputs": [
    {
     "name": "stdout",
     "output_type": "stream",
     "text": [
      "[ 126.84247142]\n"
     ]
    },
    {
     "name": "stderr",
     "output_type": "stream",
     "text": [
      "C:\\ProgramData\\Anaconda3\\lib\\site-packages\\sklearn\\utils\\validation.py:395: DeprecationWarning: Passing 1d arrays as data is deprecated in 0.17 and will raise ValueError in 0.19. Reshape your data either using X.reshape(-1, 1) if your data has a single feature or X.reshape(1, -1) if it contains a single sample.\n",
      "  DeprecationWarning)\n",
      "C:\\ProgramData\\Anaconda3\\lib\\site-packages\\sklearn\\utils\\validation.py:395: DeprecationWarning: Passing 1d arrays as data is deprecated in 0.17 and will raise ValueError in 0.19. Reshape your data either using X.reshape(-1, 1) if your data has a single feature or X.reshape(1, -1) if it contains a single sample.\n",
      "  DeprecationWarning)\n"
     ]
    }
   ],
   "source": [
    "#Ahora intentar con modelo polinomial\n",
    "from sklearn.preprocessing import PolynomialFeatures\n",
    "\n",
    "X = [[0.44, 0.68], [0.99, 0.23]]\n",
    "vector = [109.85, 155.72]\n",
    "predict= [0.49, 0.18]\n",
    "\n",
    "poly = PolynomialFeatures(degree=2)\n",
    "X_ = poly.fit_transform(X)\n",
    "predict_ = poly.fit_transform(predict)\n",
    "\n",
    "clf = lm.LinearRegression()\n",
    "clf.fit(X_, vector)\n",
    "print (clf.predict(predict_))\n",
    "\n",
    "#El polinomial falla por que n oestán bien definidas las dimensiones"
   ]
  },
  {
   "cell_type": "markdown",
   "metadata": {
    "collapsed": true
   },
   "source": [
    "- Por último se prueba un random forest y se compara"
   ]
  },
  {
   "cell_type": "code",
   "execution_count": 292,
   "metadata": {
    "collapsed": false
   },
   "outputs": [],
   "source": [
    "from sklearn.ensemble import RandomForestRegressor\n",
    "from sklearn.model_selection import train_test_split\n",
    "from sklearn.multioutput import MultiOutputRegressor"
   ]
  },
  {
   "cell_type": "code",
   "execution_count": 293,
   "metadata": {
    "collapsed": false
   },
   "outputs": [
    {
     "data": {
      "text/plain": [
       "Index(['NSINIEST', 'NPOLIZA', 'RAMSUBRAMO', 'INI_ANIO', 'INDIVIDUAL', 'EDO',\n",
       "       'CITY', 'GENDER', 'CVNFUMA', 'RIESGOCUP', 'CVEDOCIV', 'AGE', 'TIPOSIN',\n",
       "       'COVERS', 'TOTAL_CLAIM', 'TOTAL_PAID', 'DIFF_MOUNT', 'CLAIMS',\n",
       "       'NUM_GRUPO'],\n",
       "      dtype='object')"
      ]
     },
     "execution_count": 293,
     "metadata": {},
     "output_type": "execute_result"
    }
   ],
   "source": [
    "df_transformed.columns"
   ]
  },
  {
   "cell_type": "code",
   "execution_count": 294,
   "metadata": {
    "collapsed": false
   },
   "outputs": [],
   "source": [
    "#feat_rf=['INI_ANIO', 'AGE','CLAIMS']\n",
    "X = df_normalized[:,17] #coverturas\n",
    "X = np.array(X)"
   ]
  },
  {
   "cell_type": "code",
   "execution_count": 295,
   "metadata": {
    "collapsed": false
   },
   "outputs": [],
   "source": [
    "array_mount = df_normalized[:,11] #edad\n",
    "array_claims = df_normalized[:,5] #edo\n",
    "y = []\n",
    "y = [[array_mount[ix] , array_claims[ix]] for ix in range(len(array_mount))]\n",
    "y = np.array(y)"
   ]
  },
  {
   "cell_type": "code",
   "execution_count": 296,
   "metadata": {
    "collapsed": false
   },
   "outputs": [],
   "source": [
    "# Configura los niveles de los arboles\n",
    "rng = np.random.RandomState(1)\n",
    "X = np.sort(200 * rng.rand(600, 1) - 100, axis=0)\n",
    "y = np.array([np.pi * np.sin(X).ravel(), np.pi * np.cos(X).ravel()]).T\n",
    "y += (0.5 - rng.rand(*y.shape))"
   ]
  },
  {
   "cell_type": "code",
   "execution_count": 297,
   "metadata": {
    "collapsed": true
   },
   "outputs": [],
   "source": [
    "X_train, X_test, y_train, y_test = train_test_split(X, y, test_size=0.33,random_state=4)"
   ]
  },
  {
   "cell_type": "code",
   "execution_count": 298,
   "metadata": {
    "collapsed": false
   },
   "outputs": [
    {
     "data": {
      "text/plain": [
       "RandomForestRegressor(bootstrap=True, criterion='mse', max_depth=10,\n",
       "           max_features='auto', max_leaf_nodes=None,\n",
       "           min_impurity_split=1e-07, min_samples_leaf=1,\n",
       "           min_samples_split=2, min_weight_fraction_leaf=0.0,\n",
       "           n_estimators=10, n_jobs=1, oob_score=False, random_state=2,\n",
       "           verbose=0, warm_start=False)"
      ]
     },
     "execution_count": 298,
     "metadata": {},
     "output_type": "execute_result"
    }
   ],
   "source": [
    "max_depth = 10\n",
    "regr_multirf = MultiOutputRegressor(RandomForestRegressor(max_depth=max_depth, random_state=0))\n",
    "regr_multirf.fit(X_train, y_train)\n",
    "regr_rf = RandomForestRegressor(max_depth=max_depth, random_state=2)\n",
    "regr_rf.fit(X_train, y_train)"
   ]
  },
  {
   "cell_type": "code",
   "execution_count": 299,
   "metadata": {
    "collapsed": true
   },
   "outputs": [],
   "source": [
    "y_multirf = regr_multirf.predict(X_test)\n",
    "y_rf = regr_rf.predict(X_test)"
   ]
  },
  {
   "cell_type": "code",
   "execution_count": 300,
   "metadata": {
    "collapsed": false
   },
   "outputs": [
    {
     "data": {
      "image/png": "[encoded data removed]",
      "text/plain": [
       "<matplotlib.figure.Figure at 0x2e175c88>"
      ]
     },
     "metadata": {},
     "output_type": "display_data"
    }
   ],
   "source": [
    "#Comparativo de predicción\n",
    "plt.figure()\n",
    "plt.scatter(y_test[:, 0], y_test[:, 1],\n",
    "            c=\"navy\", s=50, marker=\"s\", alpha=a, label=\"Data\")\n",
    "plt.scatter(y_multirf[:, 0], y_multirf[:, 1],\n",
    "            c=\"gold\", s=50, alpha=a,\n",
    "            label=\"Reg CV score=%.2f\" % regr_multirf.score(X_test, y_test))\n",
    "plt.scatter(y_rf[:, 0], y_rf[:, 1],\n",
    "            c=\"c\", s=50, marker=\"^\", alpha=0.4,\n",
    "            label=\"RF score=%.2f\" % regr_rf.score(X_test, y_test))\n",
    "plt.xlim([-6, 6])\n",
    "plt.ylim([-6, 6])\n",
    "plt.xlabel(\"Reclam 1\")\n",
    "plt.ylabel(\"Reclam 2\")\n",
    "plt.title(\"Compara random forests y Regresion Cross Validation\")\n",
    "plt.legend()\n",
    "plt.show()"
   ]
  },
  {
   "cell_type": "markdown",
   "metadata": {},
   "source": [
    "- Es claro que las segmentaciones y subsets tienen que ser más estructuradas, se llava a cabo un analisis de enfermedades"
   ]
  },
  {
   "cell_type": "code",
   "execution_count": 301,
   "metadata": {
    "collapsed": false
   },
   "outputs": [],
   "source": [
    "df['GRUPO'] = df['DIS_DESCRIPTION'].str.split().str.get(0)\n",
    "#df.head()"
   ]
  },
  {
   "cell_type": "code",
   "execution_count": 302,
   "metadata": {
    "collapsed": false,
    "scrolled": true
   },
   "outputs": [],
   "source": [
    "df['PAGADO'] = df['TOTAL_PAID']/100"
   ]
  },
  {
   "cell_type": "code",
   "execution_count": 303,
   "metadata": {
    "collapsed": false
   },
   "outputs": [],
   "source": [
    "enf_desc = df.groupby('GRUPO').sum()\n",
    "enf_desc = enf_desc[['CLAIMS','PAGADO']]"
   ]
  },
  {
   "cell_type": "code",
   "execution_count": 304,
   "metadata": {
    "collapsed": false
   },
   "outputs": [],
   "source": [
    "enf_desc['AVG_RECLAM'] = enf_desc['PAGADO']/enf_desc['CLAIMS']\n",
    "enf_desc = enf_desc.sort_values(by='AVG_RECLAM', ascending=False)"
   ]
  },
  {
   "cell_type": "code",
   "execution_count": 333,
   "metadata": {
    "collapsed": false
   },
   "outputs": [
    {
     "name": "stdout",
     "output_type": "stream",
     "text": [
      "                       CLAIMS       PAGADO    AVG_RECLAM\n",
      "GRUPO                                                   \n",
      "PLOITRAMATISMO              1   2000000.00  2.000000e+06\n",
      "TETRALOGIA                  8   5055537.31  6.319422e+05\n",
      "SCASEST                     1    498620.54  4.986205e+05\n",
      "POLITRAUMATIZADO-           3   1452900.04  4.843000e+05\n",
      "COXARTOSIS                  1    432068.66  4.320687e+05\n",
      "RUOTURA                     1    427973.94  4.279739e+05\n",
      "FALLECIMIENTO               3   1084774.46  3.615915e+05\n",
      "HEMODINAMIA                 2    718025.50  3.590128e+05\n",
      "TRANSPLANTE                14   4712168.86  3.365835e+05\n",
      "HEMOTIMPANO                 2    651630.20  3.258151e+05\n",
      "MIELOMENIGNUCELE            7   2237621.64  3.196602e+05\n",
      "MUERTE                     49  15276698.12  3.117693e+05\n",
      "EVC,                       11   3158256.58  2.871142e+05\n",
      "POLICONTIUNDIDO             2    500000.00  2.500000e+05\n",
      "POLITRAUMATIZADO:           3    699422.68  2.331409e+05\n",
      "ESPONDILOLISTESIS,          2    460735.38  2.303677e+05\n",
      "LUMBAR,                     5   1133813.98  2.267628e+05\n",
      "LACERECION                  2    450000.00  2.250000e+05\n",
      "AMILOIDOSOS                 9   2002450.38  2.224945e+05\n",
      "IAM+REVASCULARIZACION       2    440864.28  2.204321e+05\n",
      "HICROCEFALIA                5   1090181.98  2.180364e+05\n",
      "CIA,                        2    402832.12  2.014161e+05\n",
      "ATROPELLADA,                1    200000.00  2.000000e+05\n",
      "INGRESA                     8   1563133.44  1.953917e+05\n",
      "PROYECTIL                   2    370000.00  1.850000e+05\n",
      "STDB                        7   1221776.66  1.745395e+05\n",
      "EMPIEMA                    15   2616747.52  1.744498e+05\n",
      "PREMATUREZ-DIFICULTAD       3    514603.86  1.715346e+05\n",
      "ADENOCARCONOMA              3    514092.78  1.713643e+05\n",
      "CIRROSIS                  337  55749695.26  1.654294e+05\n"
     ]
    }
   ],
   "source": [
    "# Promedios de reclamación\n",
    "print(enf_desc.head(30))"
   ]
  },
  {
   "cell_type": "code",
   "execution_count": 411,
   "metadata": {
    "collapsed": false
   },
   "outputs": [
    {
     "name": "stdout",
     "output_type": "stream",
     "text": [
      "                 CLAIMS        PAGADO    AVG_RECLAM\n",
      "GRUPO                                              \n",
      "ESGUINCE          28946  1.356752e+08   4687.183621\n",
      "FRACTURA          18605  2.623691e+08  14102.072219\n",
      "EMBARAZO          15444  2.951436e+08  19110.567449\n",
      "CONTUSION         12544  4.993131e+07   3980.493668\n",
      "HERNIA            11792  3.075001e+08  26077.010773\n",
      "LESION             8986  1.785976e+08  19875.099422\n",
      "TRAUMATISMO        8416  6.931000e+07   8235.503752\n",
      "FX                 8386  9.026516e+07  10763.792380\n",
      "HERIDA             8006  4.488575e+07   5606.513923\n",
      "CESAREA            6720  1.040156e+08  15478.514310\n",
      "LITIASIS           6637  1.488788e+08  22431.645867\n",
      "COLECISTITIS       6317  1.807367e+08  28611.161080\n",
      "APENDICITIS        6298  1.639702e+08  26035.288350\n",
      "GASTROENTERITIS    6241  8.626284e+07  13821.958287\n",
      "DIABETES           5933  8.444101e+07  14232.430519\n",
      "MIOMATOSIS         5904  1.326659e+08  22470.506557\n",
      "DESVIACION         5812  9.985020e+07  17180.006488\n",
      "ENFERMEDAD         5389  1.561632e+08  28978.132937\n",
      "TUMOR              4749  1.679169e+08  35358.379015\n",
      "QUISTE             4421  8.088169e+07  18294.886100\n"
     ]
    }
   ],
   "source": [
    "# Lo que más se reclama\n",
    "enf_desc_top = enf_desc.sort_values(by='CLAIMS', ascending=False).head(12)\n",
    "print(enf_desc.sort_values(by='CLAIMS', ascending=False).head(20))"
   ]
  },
  {
   "cell_type": "code",
   "execution_count": 412,
   "metadata": {
    "collapsed": false
   },
   "outputs": [
    {
     "data": {
      "text/plain": [
       "16831.66084925169"
      ]
     },
     "execution_count": 412,
     "metadata": {},
     "output_type": "execute_result"
    }
   ],
   "source": [
    "#quitando arriba de 500k\n",
    "enf_desc[enf_desc['AVG_RECLAM']<100000]['AVG_RECLAM'].mean()\n",
    "# Promedio global de las recamaciones"
   ]
  },
  {
   "cell_type": "code",
   "execution_count": 413,
   "metadata": {
    "collapsed": false
   },
   "outputs": [
    {
     "data": {
      "image/png": "[encoded data removed]",
      "text/plain": [
       "<matplotlib.figure.Figure at 0x28805400>"
      ]
     },
     "metadata": {},
     "output_type": "display_data"
    }
   ],
   "source": [
    "plt.figure(figsize=[15,5])\n",
    "axx=np.arange(12)\n",
    "plt.xticks(axx, ('ESGUINCE','FRACTURA','EMBARAZO','CONTUSION','HERNIA','LESION','TRAUMATISMO','FX','HERIDA','CESAREA',\n",
    "                 'LITIASIS','COLECISTITIS','APENDICITIS','GASTROENTERITIS','DIABETES','MIOMATOSIS','DESVIACION','ENFERMEDAD','TUMOR','QUISTE'))\n",
    "plt.title('Promedio de Reclamación')\n",
    "plt.bar(axx, np.array(enf_desc_top['AVG_RECLAM']), width=.5)\n",
    "plt.show()"
   ]
  },
  {
   "cell_type": "markdown",
   "metadata": {},
   "source": [
    "Toca clasificar cosas anómalas"
   ]
  },
  {
   "cell_type": "code",
   "execution_count": 313,
   "metadata": {
    "collapsed": false
   },
   "outputs": [
    {
     "data": {
      "text/plain": [
       "Index(['NSINIEST', 'NPOLIZA', 'RAMSUBRAMO', 'RAMO', 'SUBRAMO', 'DATE_INIT',\n",
       "       'INI_ANIO', 'INDIVIDUAL', 'EDO', 'STATE_NAME', 'CITY', 'CITY_NAME',\n",
       "       'NASEG', 'NOMBTIT', 'GENDER', 'CVNFUMA', 'RIESGOCUP', 'CVEDOCIV', 'AGE',\n",
       "       'SINISTER_DATE', 'TIPOSIN', 'SIN_DECRIPTION', 'DIS_DESCRIPTION',\n",
       "       'COVERS', 'TOTAL_CLAIM', 'TOTAL_PAID', 'DIFF_MOUNT', 'CLAIMS',\n",
       "       'NUM_GRUPO', 'GRUPO', 'PAGADO'],\n",
       "      dtype='object')"
      ]
     },
     "execution_count": 313,
     "metadata": {},
     "output_type": "execute_result"
    }
   ],
   "source": [
    "df.columns"
   ]
  },
  {
   "cell_type": "code",
   "execution_count": null,
   "metadata": {
    "collapsed": true
   },
   "outputs": [],
   "source": [
    "anomalias1 = df[(df['GRUPO']=='EMBARAZO') & (df['GENDER']== 1)]\n",
    "anomalias1['ANOMALIAS1'] = 1"
   ]
  },
  {
   "cell_type": "code",
   "execution_count": 315,
   "metadata": {
    "collapsed": false
   },
   "outputs": [],
   "source": [
    "df = pd.merge(df, anomalias1[['NSINIEST', 'ANOMALIAS1']], on='NSINIEST', how='left')"
   ]
  },
  {
   "cell_type": "code",
   "execution_count": 317,
   "metadata": {
    "collapsed": false
   },
   "outputs": [],
   "source": [
    "df['ANOMALIAS1'].fillna(0, inplace=True)"
   ]
  },
  {
   "cell_type": "code",
   "execution_count": 321,
   "metadata": {
    "collapsed": false
   },
   "outputs": [
    {
     "data": {
      "text/plain": [
       "77.0"
      ]
     },
     "execution_count": 321,
     "metadata": {},
     "output_type": "execute_result"
    }
   ],
   "source": [
    "df['ANOMALIAS1'].sum()"
   ]
  },
  {
   "cell_type": "code",
   "execution_count": 324,
   "metadata": {
    "collapsed": false
   },
   "outputs": [
    {
     "name": "stderr",
     "output_type": "stream",
     "text": [
      "C:\\ProgramData\\Anaconda3\\lib\\site-packages\\ipykernel\\__main__.py:3: SettingWithCopyWarning: \n",
      "A value is trying to be set on a copy of a slice from a DataFrame.\n",
      "Try using .loc[row_indexer,col_indexer] = value instead\n",
      "\n",
      "See the caveats in the documentation: http://pandas.pydata.org/pandas-docs/stable/indexing.html#indexing-view-versus-copy\n",
      "  app.launch_new_instance()\n"
     ]
    }
   ],
   "source": [
    "#embarazos con menos de 13 y mayores de 60\n",
    "anomalias2 = df[(df['GRUPO']=='EMBARAZO') & (df['AGE']< 15) & (df['AGE'] < 60)]\n",
    "anomalias2['ANOMALIAS2'] = 1"
   ]
  },
  {
   "cell_type": "code",
   "execution_count": 325,
   "metadata": {
    "collapsed": true
   },
   "outputs": [],
   "source": [
    "df = pd.merge(df, anomalias2[['NSINIEST', 'ANOMALIAS2']], on='NSINIEST', how='left')"
   ]
  },
  {
   "cell_type": "code",
   "execution_count": 327,
   "metadata": {
    "collapsed": true
   },
   "outputs": [],
   "source": [
    "df['ANOMALIAS2'].fillna(0, inplace=True)"
   ]
  },
  {
   "cell_type": "code",
   "execution_count": 328,
   "metadata": {
    "collapsed": false,
    "scrolled": true
   },
   "outputs": [
    {
     "data": {
      "text/plain": [
       "14.0"
      ]
     },
     "execution_count": 328,
     "metadata": {},
     "output_type": "execute_result"
    }
   ],
   "source": [
    "df['ANOMALIAS2'].sum()"
   ]
  },
  {
   "cell_type": "code",
   "execution_count": 329,
   "metadata": {
    "collapsed": false
   },
   "outputs": [
    {
     "name": "stderr",
     "output_type": "stream",
     "text": [
      "C:\\ProgramData\\Anaconda3\\lib\\site-packages\\ipykernel\\__main__.py:3: SettingWithCopyWarning: \n",
      "A value is trying to be set on a copy of a slice from a DataFrame.\n",
      "Try using .loc[row_indexer,col_indexer] = value instead\n",
      "\n",
      "See the caveats in the documentation: http://pandas.pydata.org/pandas-docs/stable/indexing.html#indexing-view-versus-copy\n",
      "  app.launch_new_instance()\n"
     ]
    }
   ],
   "source": [
    "#cualquier siniestro con edad mayor a 100\n",
    "anomalias3 = df[df['AGE'] > 99]\n",
    "anomalias3['ANOMALIAS3'] = 1"
   ]
  },
  {
   "cell_type": "code",
   "execution_count": 330,
   "metadata": {
    "collapsed": true
   },
   "outputs": [],
   "source": [
    "df = pd.merge(df, anomalias3[['NSINIEST', 'ANOMALIAS3']], on='NSINIEST', how='left')"
   ]
  },
  {
   "cell_type": "code",
   "execution_count": 331,
   "metadata": {
    "collapsed": true
   },
   "outputs": [],
   "source": [
    "df['ANOMALIAS3'].fillna(0, inplace=True)"
   ]
  },
  {
   "cell_type": "code",
   "execution_count": 332,
   "metadata": {
    "collapsed": false,
    "scrolled": true
   },
   "outputs": [
    {
     "data": {
      "text/plain": [
       "436.0"
      ]
     },
     "execution_count": 332,
     "metadata": {},
     "output_type": "execute_result"
    }
   ],
   "source": [
    "df['ANOMALIAS3'].sum()"
   ]
  },
  {
   "cell_type": "code",
   "execution_count": 344,
   "metadata": {
    "collapsed": false
   },
   "outputs": [
    {
     "name": "stderr",
     "output_type": "stream",
     "text": [
      "C:\\ProgramData\\Anaconda3\\lib\\site-packages\\ipykernel\\__main__.py:3: SettingWithCopyWarning: \n",
      "A value is trying to be set on a copy of a slice from a DataFrame.\n",
      "Try using .loc[row_indexer,col_indexer] = value instead\n",
      "\n",
      "See the caveats in the documentation: http://pandas.pydata.org/pandas-docs/stable/indexing.html#indexing-view-versus-copy\n",
      "  app.launch_new_instance()\n"
     ]
    }
   ],
   "source": [
    "#enfermedades que se reclaman poco pero mucho en cantidad monetaria\n",
    "anomalias4 = df[(df['PAGADO'] > 200000) & (df['CLAIMS'] < 2)]\n",
    "anomalias4['ANOMALIAS4'] = 1"
   ]
  },
  {
   "cell_type": "code",
   "execution_count": 345,
   "metadata": {
    "collapsed": true
   },
   "outputs": [],
   "source": [
    "df = pd.merge(df, anomalias4[['NSINIEST', 'ANOMALIAS4']], on='NSINIEST', how='left')"
   ]
  },
  {
   "cell_type": "code",
   "execution_count": 346,
   "metadata": {
    "collapsed": true
   },
   "outputs": [],
   "source": [
    "df['ANOMALIAS4'].fillna(0, inplace=True)"
   ]
  },
  {
   "cell_type": "code",
   "execution_count": 347,
   "metadata": {
    "collapsed": false,
    "scrolled": true
   },
   "outputs": [
    {
     "data": {
      "text/plain": [
       "514.0"
      ]
     },
     "execution_count": 347,
     "metadata": {},
     "output_type": "execute_result"
    }
   ],
   "source": [
    "df['ANOMALIAS4'].sum()"
   ]
  },
  {
   "cell_type": "code",
   "execution_count": 352,
   "metadata": {
    "collapsed": false
   },
   "outputs": [
    {
     "data": {
      "text/plain": [
       "ANOMALIAS1     77.0\n",
       "ANOMALIAS2     14.0\n",
       "ANOMALIAS3    440.0\n",
       "ANOMALIAS4    514.0\n",
       "dtype: float64"
      ]
     },
     "execution_count": 352,
     "metadata": {},
     "output_type": "execute_result"
    }
   ],
   "source": [
    "df[['ANOMALIAS1','ANOMALIAS2','ANOMALIAS3','ANOMALIAS4']].sum()"
   ]
  },
  {
   "cell_type": "code",
   "execution_count": 353,
   "metadata": {
    "collapsed": true
   },
   "outputs": [],
   "source": [
    "df['ANOM']=df[['ANOMALIAS1','ANOMALIAS2','ANOMALIAS3','ANOMALIAS4']].sum(axis=1)"
   ]
  },
  {
   "cell_type": "code",
   "execution_count": 354,
   "metadata": {
    "collapsed": false
   },
   "outputs": [
    {
     "data": {
      "text/plain": [
       "1045.0"
      ]
     },
     "execution_count": 354,
     "metadata": {},
     "output_type": "execute_result"
    }
   ],
   "source": [
    "df['ANOM'].sum()"
   ]
  },
  {
   "cell_type": "code",
   "execution_count": null,
   "metadata": {
    "collapsed": true
   },
   "outputs": [],
   "source": []
  },
  {
   "cell_type": "code",
   "execution_count": 355,
   "metadata": {
    "collapsed": true
   },
   "outputs": [],
   "source": [
    "from sklearn.ensemble import RandomForestClassifier"
   ]
  },
  {
   "cell_type": "code",
   "execution_count": 356,
   "metadata": {
    "collapsed": false
   },
   "outputs": [],
   "source": [
    "df['TRAIN'] = np.random.uniform(0, 1, len(df)) <= .75\n",
    "# View the top 5 rows\n",
    "train, test = df[df['TRAIN']==True], df[df['TRAIN']==False]"
   ]
  },
  {
   "cell_type": "code",
   "execution_count": 357,
   "metadata": {
    "collapsed": false
   },
   "outputs": [
    {
     "name": "stdout",
     "output_type": "stream",
     "text": [
      "Datos en entrenamiento: 138403\n",
      "Datos en prueba: 46289\n"
     ]
    }
   ],
   "source": [
    "print('Datos en entrenamiento:', len(train))\n",
    "print('Datos en prueba:',len(test))"
   ]
  },
  {
   "cell_type": "code",
   "execution_count": 359,
   "metadata": {
    "collapsed": false
   },
   "outputs": [],
   "source": [
    "features_clf = ['RAMSUBRAMO'#,'RAMO','SUBRAMO',\n",
    "                ,'INI_ANIO','EDO',\n",
    "                   'GENDER','CVNFUMA','RIESGOCUP','AGE','TIPOSIN','COVERS','PAGADO']"
   ]
  },
  {
   "cell_type": "code",
   "execution_count": 362,
   "metadata": {
    "collapsed": false
   },
   "outputs": [
    {
     "data": {
      "text/plain": [
       "RandomForestClassifier(bootstrap=True, class_weight=None, criterion='gini',\n",
       "            max_depth=None, max_features='auto', max_leaf_nodes=None,\n",
       "            min_impurity_split=1e-07, min_samples_leaf=1,\n",
       "            min_samples_split=2, min_weight_fraction_leaf=0.0,\n",
       "            n_estimators=10, n_jobs=2, oob_score=False, random_state=None,\n",
       "            verbose=0, warm_start=False)"
      ]
     },
     "execution_count": 362,
     "metadata": {},
     "output_type": "execute_result"
    }
   ],
   "source": [
    "# Create a random forest classifier. By convention, clf means 'classifier'\n",
    "clf = RandomForestClassifier(n_jobs=2)\n",
    "\n",
    "# Train the classifier to take the training features and learn how they relate\n",
    "# to the training y (the species)\n",
    "clf.fit(train[features_clf], train['ANOM'])"
   ]
  },
  {
   "cell_type": "code",
   "execution_count": 368,
   "metadata": {
    "collapsed": true
   },
   "outputs": [],
   "source": [
    "clf_pred = clf.fit(train[features_clf], train['ANOM'])"
   ]
  },
  {
   "cell_type": "code",
   "execution_count": 415,
   "metadata": {
    "collapsed": false
   },
   "outputs": [
    {
     "name": "stdout",
     "output_type": "stream",
     "text": [
      "RandomForest con 10 estimadorestiene un score de 0.997429194841\n"
     ]
    }
   ],
   "source": [
    "#clf = clf.fit(X, y)\n",
    "\n",
    "scores = clf_pred.score(test[features_clf], test['ANOM'])\n",
    "# Create a title for each column and the console by using str() and\n",
    "# slicing away useless parts of the string\n",
    "model_title = str(type(clf)).split(\".\")[-1][:-2][:-len(\"Classifier\")]\n",
    "model_details = model_title\n",
    "if hasattr(clf, \"estimators_\"):\n",
    "    model_details += \" con {} estimadores\".format(len(clf.estimators_))\n",
    "print( model_details + \"tiene un score de\", scores )"
   ]
  },
  {
   "cell_type": "code",
   "execution_count": 416,
   "metadata": {
    "collapsed": false
   },
   "outputs": [
    {
     "data": {
      "text/plain": [
       "RandomForestClassifier(bootstrap=True, class_weight=None, criterion='gini',\n",
       "            max_depth=None, max_features='auto', max_leaf_nodes=None,\n",
       "            min_impurity_split=1e-07, min_samples_leaf=1,\n",
       "            min_samples_split=2, min_weight_fraction_leaf=0.0,\n",
       "            n_estimators=10, n_jobs=2, oob_score=False, random_state=None,\n",
       "            verbose=0, warm_start=False)"
      ]
     },
     "execution_count": 416,
     "metadata": {},
     "output_type": "execute_result"
    }
   ],
   "source": [
    "clf_pred"
   ]
  },
  {
   "cell_type": "code",
   "execution_count": 419,
   "metadata": {
    "collapsed": false
   },
   "outputs": [
    {
     "data": {
      "text/plain": [
       "<bound method ForestClassifier.predict of RandomForestClassifier(bootstrap=True, class_weight=None, criterion='gini',\n",
       "            max_depth=None, max_features='auto', max_leaf_nodes=None,\n",
       "            min_impurity_split=1e-07, min_samples_leaf=1,\n",
       "            min_samples_split=2, min_weight_fraction_leaf=0.0,\n",
       "            n_estimators=10, n_jobs=2, oob_score=False, random_state=None,\n",
       "            verbose=0, warm_start=False)>"
      ]
     },
     "execution_count": 419,
     "metadata": {},
     "output_type": "execute_result"
    }
   ],
   "source": [
    "clf_pred.predict"
   ]
  },
  {
   "cell_type": "code",
   "execution_count": 418,
   "metadata": {
    "collapsed": false
   },
   "outputs": [
    {
     "ename": "TypeError",
     "evalue": "float() argument must be a string or a number, not 'method'",
     "output_type": "error",
     "traceback": [
      "\u001b[0;31m---------------------------------------------------------------------------\u001b[0m",
      "\u001b[0;31mTypeError\u001b[0m                                 Traceback (most recent call last)",
      "\u001b[0;32m<ipython-input-418-99d5cd4678af>\u001b[0m in \u001b[0;36m<module>\u001b[0;34m()\u001b[0m\n\u001b[1;32m      1\u001b[0m \u001b[0mplt\u001b[0m\u001b[1;33m.\u001b[0m\u001b[0mfigure\u001b[0m\u001b[1;33m(\u001b[0m\u001b[0mfigsize\u001b[0m\u001b[1;33m=\u001b[0m\u001b[1;33m[\u001b[0m\u001b[1;36m15\u001b[0m\u001b[1;33m,\u001b[0m\u001b[1;36m5\u001b[0m\u001b[1;33m]\u001b[0m\u001b[1;33m)\u001b[0m\u001b[1;33m\u001b[0m\u001b[0m\n\u001b[0;32m----> 2\u001b[0;31m \u001b[0mplt\u001b[0m\u001b[1;33m.\u001b[0m\u001b[0mscatter\u001b[0m\u001b[1;33m(\u001b[0m \u001b[0mtrain\u001b[0m\u001b[1;33m[\u001b[0m\u001b[1;34m'ANOM'\u001b[0m\u001b[1;33m]\u001b[0m\u001b[1;33m,\u001b[0m  \u001b[0mtrain\u001b[0m\u001b[1;33m[\u001b[0m\u001b[1;34m'ANOM'\u001b[0m\u001b[1;33m]\u001b[0m\u001b[1;33m,\u001b[0m \u001b[0mc\u001b[0m\u001b[1;33m=\u001b[0m\u001b[0mclf_pred\u001b[0m\u001b[1;33m.\u001b[0m\u001b[0mpredict\u001b[0m\u001b[1;33m)\u001b[0m\u001b[1;33m\u001b[0m\u001b[0m\n\u001b[0m\u001b[1;32m      3\u001b[0m \u001b[1;31m#plt.title(\"Anisotropicly Distributed Blobs\")\u001b[0m\u001b[1;33m\u001b[0m\u001b[1;33m\u001b[0m\u001b[0m\n\u001b[1;32m      4\u001b[0m \u001b[0mplt\u001b[0m\u001b[1;33m.\u001b[0m\u001b[0mshow\u001b[0m\u001b[1;33m(\u001b[0m\u001b[1;33m)\u001b[0m\u001b[1;33m\u001b[0m\u001b[0m\n",
      "\u001b[0;32mC:\\ProgramData\\Anaconda3\\lib\\site-packages\\matplotlib\\pyplot.py\u001b[0m in \u001b[0;36mscatter\u001b[0;34m(x, y, s, c, marker, cmap, norm, vmin, vmax, alpha, linewidths, verts, edgecolors, hold, data, **kwargs)\u001b[0m\n\u001b[1;32m   3433\u001b[0m                          \u001b[0mvmin\u001b[0m\u001b[1;33m=\u001b[0m\u001b[0mvmin\u001b[0m\u001b[1;33m,\u001b[0m \u001b[0mvmax\u001b[0m\u001b[1;33m=\u001b[0m\u001b[0mvmax\u001b[0m\u001b[1;33m,\u001b[0m \u001b[0malpha\u001b[0m\u001b[1;33m=\u001b[0m\u001b[0malpha\u001b[0m\u001b[1;33m,\u001b[0m\u001b[1;33m\u001b[0m\u001b[0m\n\u001b[1;32m   3434\u001b[0m                          \u001b[0mlinewidths\u001b[0m\u001b[1;33m=\u001b[0m\u001b[0mlinewidths\u001b[0m\u001b[1;33m,\u001b[0m \u001b[0mverts\u001b[0m\u001b[1;33m=\u001b[0m\u001b[0mverts\u001b[0m\u001b[1;33m,\u001b[0m\u001b[1;33m\u001b[0m\u001b[0m\n\u001b[0;32m-> 3435\u001b[0;31m                          edgecolors=edgecolors, data=data, **kwargs)\n\u001b[0m\u001b[1;32m   3436\u001b[0m     \u001b[1;32mfinally\u001b[0m\u001b[1;33m:\u001b[0m\u001b[1;33m\u001b[0m\u001b[0m\n\u001b[1;32m   3437\u001b[0m         \u001b[0max\u001b[0m\u001b[1;33m.\u001b[0m\u001b[0m_hold\u001b[0m \u001b[1;33m=\u001b[0m \u001b[0mwashold\u001b[0m\u001b[1;33m\u001b[0m\u001b[0m\n",
      "\u001b[0;32mC:\\ProgramData\\Anaconda3\\lib\\site-packages\\matplotlib\\__init__.py\u001b[0m in \u001b[0;36minner\u001b[0;34m(ax, *args, **kwargs)\u001b[0m\n\u001b[1;32m   1889\u001b[0m                     warnings.warn(msg % (label_namer, func.__name__),\n\u001b[1;32m   1890\u001b[0m                                   RuntimeWarning, stacklevel=2)\n\u001b[0;32m-> 1891\u001b[0;31m             \u001b[1;32mreturn\u001b[0m \u001b[0mfunc\u001b[0m\u001b[1;33m(\u001b[0m\u001b[0max\u001b[0m\u001b[1;33m,\u001b[0m \u001b[1;33m*\u001b[0m\u001b[0margs\u001b[0m\u001b[1;33m,\u001b[0m \u001b[1;33m**\u001b[0m\u001b[0mkwargs\u001b[0m\u001b[1;33m)\u001b[0m\u001b[1;33m\u001b[0m\u001b[0m\n\u001b[0m\u001b[1;32m   1892\u001b[0m         \u001b[0mpre_doc\u001b[0m \u001b[1;33m=\u001b[0m \u001b[0minner\u001b[0m\u001b[1;33m.\u001b[0m\u001b[0m__doc__\u001b[0m\u001b[1;33m\u001b[0m\u001b[0m\n\u001b[1;32m   1893\u001b[0m         \u001b[1;32mif\u001b[0m \u001b[0mpre_doc\u001b[0m \u001b[1;32mis\u001b[0m \u001b[1;32mNone\u001b[0m\u001b[1;33m:\u001b[0m\u001b[1;33m\u001b[0m\u001b[0m\n",
      "\u001b[0;32mC:\\ProgramData\\Anaconda3\\lib\\site-packages\\matplotlib\\axes\\_axes.py\u001b[0m in \u001b[0;36mscatter\u001b[0;34m(self, x, y, s, c, marker, cmap, norm, vmin, vmax, alpha, linewidths, verts, edgecolors, **kwargs)\u001b[0m\n\u001b[1;32m   3974\u001b[0m         \u001b[1;32melse\u001b[0m\u001b[1;33m:\u001b[0m\u001b[1;33m\u001b[0m\u001b[0m\n\u001b[1;32m   3975\u001b[0m             \u001b[1;32mtry\u001b[0m\u001b[1;33m:\u001b[0m\u001b[1;33m\u001b[0m\u001b[0m\n\u001b[0;32m-> 3976\u001b[0;31m                 \u001b[0mc_array\u001b[0m \u001b[1;33m=\u001b[0m \u001b[0mnp\u001b[0m\u001b[1;33m.\u001b[0m\u001b[0masanyarray\u001b[0m\u001b[1;33m(\u001b[0m\u001b[0mc\u001b[0m\u001b[1;33m,\u001b[0m \u001b[0mdtype\u001b[0m\u001b[1;33m=\u001b[0m\u001b[0mfloat\u001b[0m\u001b[1;33m)\u001b[0m\u001b[1;33m\u001b[0m\u001b[0m\n\u001b[0m\u001b[1;32m   3977\u001b[0m                 \u001b[1;32mif\u001b[0m \u001b[0mc_array\u001b[0m\u001b[1;33m.\u001b[0m\u001b[0msize\u001b[0m \u001b[1;33m==\u001b[0m \u001b[0mx\u001b[0m\u001b[1;33m.\u001b[0m\u001b[0msize\u001b[0m\u001b[1;33m:\u001b[0m\u001b[1;33m\u001b[0m\u001b[0m\n\u001b[1;32m   3978\u001b[0m                     \u001b[0mc\u001b[0m \u001b[1;33m=\u001b[0m \u001b[0mnp\u001b[0m\u001b[1;33m.\u001b[0m\u001b[0mma\u001b[0m\u001b[1;33m.\u001b[0m\u001b[0mravel\u001b[0m\u001b[1;33m(\u001b[0m\u001b[0mc_array\u001b[0m\u001b[1;33m)\u001b[0m\u001b[1;33m\u001b[0m\u001b[0m\n",
      "\u001b[0;32mC:\\ProgramData\\Anaconda3\\lib\\site-packages\\numpy\\core\\numeric.py\u001b[0m in \u001b[0;36masanyarray\u001b[0;34m(a, dtype, order)\u001b[0m\n\u001b[1;32m    531\u001b[0m \u001b[1;33m\u001b[0m\u001b[0m\n\u001b[1;32m    532\u001b[0m     \"\"\"\n\u001b[0;32m--> 533\u001b[0;31m     \u001b[1;32mreturn\u001b[0m \u001b[0marray\u001b[0m\u001b[1;33m(\u001b[0m\u001b[0ma\u001b[0m\u001b[1;33m,\u001b[0m \u001b[0mdtype\u001b[0m\u001b[1;33m,\u001b[0m \u001b[0mcopy\u001b[0m\u001b[1;33m=\u001b[0m\u001b[1;32mFalse\u001b[0m\u001b[1;33m,\u001b[0m \u001b[0morder\u001b[0m\u001b[1;33m=\u001b[0m\u001b[0morder\u001b[0m\u001b[1;33m,\u001b[0m \u001b[0msubok\u001b[0m\u001b[1;33m=\u001b[0m\u001b[1;32mTrue\u001b[0m\u001b[1;33m)\u001b[0m\u001b[1;33m\u001b[0m\u001b[0m\n\u001b[0m\u001b[1;32m    534\u001b[0m \u001b[1;33m\u001b[0m\u001b[0m\n\u001b[1;32m    535\u001b[0m \u001b[1;32mdef\u001b[0m \u001b[0mascontiguousarray\u001b[0m\u001b[1;33m(\u001b[0m\u001b[0ma\u001b[0m\u001b[1;33m,\u001b[0m \u001b[0mdtype\u001b[0m\u001b[1;33m=\u001b[0m\u001b[1;32mNone\u001b[0m\u001b[1;33m)\u001b[0m\u001b[1;33m:\u001b[0m\u001b[1;33m\u001b[0m\u001b[0m\n",
      "\u001b[0;31mTypeError\u001b[0m: float() argument must be a string or a number, not 'method'"
     ]
    },
    {
     "data": {
      "image/png": "[encoded data removed]",
      "text/plain": [
       "<matplotlib.figure.Figure at 0x2874f7f0>"
      ]
     },
     "metadata": {},
     "output_type": "display_data"
    }
   ],
   "source": [
    "plt.figure(figsize=[15,5])\n",
    "plt.scatter( train['ANOM'],  train['ANOM'], c=clf_pred.predict)\n",
    "#plt.title(\"Anisotropicly Distributed Blobs\")\n",
    "plt.show()"
   ]
  },
  {
   "cell_type": "code",
   "execution_count": 423,
   "metadata": {
    "collapsed": false
   },
   "outputs": [
    {
     "name": "stdout",
     "output_type": "stream",
     "text": [
      "Points on flag:\n",
      "color\n",
      "green    10291\n",
      "red       4709\n",
      "dtype: int64\n"
     ]
    },
    {
     "ename": "NameError",
     "evalue": "name 'figure' is not defined",
     "output_type": "error",
     "traceback": [
      "\u001b[0;31m---------------------------------------------------------------------------\u001b[0m",
      "\u001b[0;31mNameError\u001b[0m                                 Traceback (most recent call last)",
      "\u001b[0;32m<ipython-input-423-13207500a81d>\u001b[0m in \u001b[0;36m<module>\u001b[0;34m()\u001b[0m\n\u001b[1;32m     24\u001b[0m \u001b[1;32mfor\u001b[0m \u001b[0mcolor\u001b[0m \u001b[1;32min\u001b[0m \u001b[0mdf\u001b[0m\u001b[1;33m.\u001b[0m\u001b[0mcolor\u001b[0m\u001b[1;33m.\u001b[0m\u001b[0munique\u001b[0m\u001b[1;33m(\u001b[0m\u001b[1;33m)\u001b[0m\u001b[1;33m:\u001b[0m\u001b[1;33m\u001b[0m\u001b[0m\n\u001b[1;32m     25\u001b[0m     \u001b[0midx\u001b[0m \u001b[1;33m=\u001b[0m \u001b[0mdf\u001b[0m\u001b[1;33m.\u001b[0m\u001b[0mcolor\u001b[0m\u001b[1;33m==\u001b[0m\u001b[0mcolor\u001b[0m\u001b[1;33m\u001b[0m\u001b[0m\n\u001b[0;32m---> 26\u001b[0;31m     \u001b[0mpl\u001b[0m\u001b[1;33m.\u001b[0m\u001b[0msubplot\u001b[0m\u001b[1;33m(\u001b[0m\u001b[1;36m2\u001b[0m\u001b[1;33m,\u001b[0m \u001b[1;36m2\u001b[0m\u001b[1;33m,\u001b[0m \u001b[0mfigure\u001b[0m\u001b[1;33m)\u001b[0m\u001b[1;33m\u001b[0m\u001b[0m\n\u001b[0m\u001b[1;32m     27\u001b[0m     \u001b[0mpl\u001b[0m\u001b[1;33m.\u001b[0m\u001b[0mscatter\u001b[0m\u001b[1;33m(\u001b[0m\u001b[0mdf\u001b[0m\u001b[1;33m[\u001b[0m\u001b[0midx\u001b[0m\u001b[1;33m]\u001b[0m\u001b[1;33m.\u001b[0m\u001b[0mx\u001b[0m\u001b[1;33m,\u001b[0m \u001b[0mdf\u001b[0m\u001b[1;33m[\u001b[0m\u001b[0midx\u001b[0m\u001b[1;33m]\u001b[0m\u001b[1;33m.\u001b[0m\u001b[0my\u001b[0m\u001b[1;33m,\u001b[0m \u001b[0mcolor\u001b[0m\u001b[1;33m=\u001b[0m\u001b[0mcolor\u001b[0m\u001b[1;33m)\u001b[0m\u001b[1;33m\u001b[0m\u001b[0m\n\u001b[1;32m     28\u001b[0m     \u001b[0mpl\u001b[0m\u001b[1;33m.\u001b[0m\u001b[0mtitle\u001b[0m\u001b[1;33m(\u001b[0m\u001b[1;34m'Actual'\u001b[0m\u001b[1;33m)\u001b[0m\u001b[1;33m\u001b[0m\u001b[0m\n",
      "\u001b[0;31mNameError\u001b[0m: name 'figure' is not defined"
     ]
    }
   ],
   "source": [
    "from sklearn import svm\n",
    "from sklearn import linear_model\n",
    "from sklearn import tree\n",
    "import pylab as pl\n",
    "\n",
    "from sklearn.metrics import confusion_matrix\n",
    "\n",
    "x_min, x_max = 0, 15\n",
    "y_min, y_max = 0, 10\n",
    "step = .1\n",
    "# to plot the boundary, we're going to create a matrix of every possible point\n",
    "# then label each point as a wolf or cow using our classifier\n",
    "xx, yy = np.meshgrid(np.arange(x_min, x_max, step), np.arange(y_min, y_max, step))\n",
    "\n",
    "df = pd.DataFrame(data={'x': xx.ravel(), 'y': yy.ravel()})\n",
    "\n",
    "df['color_gauge'] = (df.x-7.5)**2 + (df.y-5)**2\n",
    "df['color'] = df.color_gauge.apply(lambda x: \"red\" if x <= 15 else \"green\")\n",
    "df['color_as_int'] = df.color.apply(lambda x: 0 if x==\"red\" else 1)\n",
    "\n",
    "print (\"Points on flag:\")\n",
    "print( df.groupby('color').size())\n",
    "# plot a figure for the entire dataset\n",
    "for color in df.color.unique():\n",
    "    idx = df.color==color\n",
    "    pl.subplot(2, 2, figure)\n",
    "    pl.scatter(df[idx].x, df[idx].y, color=color)\n",
    "    pl.title('Actual')\n",
    "\n",
    "\n",
    "train_idx = df.x < 10\n",
    "\n",
    "train = df[train_idx]\n",
    "test = df[-train_idx]\n",
    "\n",
    "\n",
    "print (\"Training Set Size: %d\" % len(train))\n",
    "print (\"Test Set Size: %d\" % len(test))\n",
    "\n",
    "# train using the x and y position coordiantes\n",
    "cols = [\"x\", \"y\"]\n",
    "\n",
    "clfs = {\n",
    "    \"SVM\": svm.SVC(degree=0.5),\n",
    "    \"Logistic\" : linear_model.LogisticRegression(),\n",
    "    \"Decision Tree\": tree.DecisionTreeClassifier()\n",
    "}\n",
    "\n",
    "\n",
    "# racehorse different classifiers and plot the results\n",
    "for clf_name, clf in clfs.iteritems():\n",
    "    figure += 1\n",
    "\n",
    "    # train the classifier\n",
    "    clf.fit(train[cols], train.color_as_int)\n",
    "\n",
    "    # get the predicted values from the test set\n",
    "    test['predicted_color_as_int'] = clf.predict(test[cols])\n",
    "    test['pred_color'] = test.predicted_color_as_int.apply(lambda x: \"red\" if x==0 else \"green\")\n",
    "    \n",
    "    # create a new subplot on the plot\n",
    "    pl.subplot(2, 2, figure)\n",
    "    # plot each predicted color\n",
    "    for color in test.pred_color.unique():\n",
    "        # plot only rows where pred_color is equal to color\n",
    "        idx = test.pred_color==color\n",
    "        pl.scatter(test[idx].x, test[idx].y, color=color)\n",
    "\n",
    "    # plot the training set as well\n",
    "    for color in train.color.unique():\n",
    "        idx = train.color==color\n",
    "        pl.scatter(train[idx].x, train[idx].y, color=color)\n",
    "\n",
    "    # add a dotted line to show the boundary between the training and test set\n",
    "    # (everything to the right of the line is in the test set)\n",
    "    #this plots a vertical line\n",
    "    train_line_y = np.linspace(y_min, y_max) #evenly spaced array from 0 to 10\n",
    "    train_line_x = np.repeat(10, len(train_line_y)) #repeat 10 (threshold for traininset) n times\n",
    "    # add a black, dotted line to the subplot\n",
    "    pl.plot(train_line_x, train_line_y, 'k--', color=\"black\")\n",
    "    \n",
    "    pl.title(clf_name)\n",
    "\n",
    "    print (\"Confusion Matrix for %s:\" % clf_name)\n",
    "    print (confusion_matrix(test.color, test.pred_color))\n",
    "pl.show()\n"
   ]
  },
  {
   "cell_type": "code",
   "execution_count": null,
   "metadata": {
    "collapsed": true
   },
   "outputs": [],
   "source": []
  },
  {
   "cell_type": "code",
   "execution_count": null,
   "metadata": {
    "collapsed": true
   },
   "outputs": [],
   "source": []
  },
  {
   "cell_type": "code",
   "execution_count": 52,
   "metadata": {
    "collapsed": false
   },
   "outputs": [
    {
     "name": "stdout",
     "output_type": "stream",
     "text": [
      "               count\n",
      "SINISTER_DATE       \n",
      "2000-01-01        12\n",
      "2000-01-02         3\n",
      "2000-01-03         3\n",
      "2000-01-04         7\n",
      "2000-01-05         4\n"
     ]
    }
   ],
   "source": [
    "#df_dates = df.groupby(df['SINISTER_DATE'].apply(lambda x : x.date()))\n",
    "#df_dates['SINISTER_DATE'].aggregate(len)\n",
    "\n",
    "df_dates = df['NSINIEST'].groupby(df['SINISTER_DATE'].map(lambda x: x.date())).agg(['count'])\n",
    "print(df_dates.head())"
   ]
  },
  {
   "cell_type": "code",
   "execution_count": 205,
   "metadata": {
    "collapsed": false
   },
   "outputs": [
    {
     "data": {
      "image/png": "[encoded data removed]",
      "text/plain": [
       "<matplotlib.figure.Figure at 0x234b06d8>"
      ]
     },
     "metadata": {},
     "output_type": "display_data"
    }
   ],
   "source": [
    "plt.figure(figsize=[15,5])\n",
    "plt.ylabel('Sinisters')\n",
    "plt.title('Number of Sinister')\n",
    "plt.bar(np.arange(df_dates.count()), df_dates['count'], width=.5)\n",
    "plt.show()"
   ]
  },
  {
   "cell_type": "code",
   "execution_count": 54,
   "metadata": {
    "collapsed": false
   },
   "outputs": [
    {
     "data": {
      "text/html": [
       "<div>\n",
       "<table border=\"1\" class=\"dataframe\">\n",
       "  <thead>\n",
       "    <tr style=\"text-align: right;\">\n",
       "      <th></th>\n",
       "      <th>count</th>\n",
       "    </tr>\n",
       "  </thead>\n",
       "  <tbody>\n",
       "    <tr>\n",
       "      <th>count</th>\n",
       "      <td>5979.000</td>\n",
       "    </tr>\n",
       "    <tr>\n",
       "      <th>mean</th>\n",
       "      <td>43.825</td>\n",
       "    </tr>\n",
       "    <tr>\n",
       "      <th>std</th>\n",
       "      <td>36.490</td>\n",
       "    </tr>\n",
       "    <tr>\n",
       "      <th>min</th>\n",
       "      <td>1.000</td>\n",
       "    </tr>\n",
       "    <tr>\n",
       "      <th>25%</th>\n",
       "      <td>20.000</td>\n",
       "    </tr>\n",
       "    <tr>\n",
       "      <th>50%</th>\n",
       "      <td>38.000</td>\n",
       "    </tr>\n",
       "    <tr>\n",
       "      <th>75%</th>\n",
       "      <td>60.000</td>\n",
       "    </tr>\n",
       "    <tr>\n",
       "      <th>max</th>\n",
       "      <td>986.000</td>\n",
       "    </tr>\n",
       "  </tbody>\n",
       "</table>\n",
       "</div>"
      ],
      "text/plain": [
       "          count\n",
       "count  5979.000\n",
       "mean     43.825\n",
       "std      36.490\n",
       "min       1.000\n",
       "25%      20.000\n",
       "50%      38.000\n",
       "75%      60.000\n",
       "max     986.000"
      ]
     },
     "execution_count": 54,
     "metadata": {},
     "output_type": "execute_result"
    }
   ],
   "source": [
    "df_dates.describe()"
   ]
  },
  {
   "cell_type": "markdown",
   "metadata": {},
   "source": [
    "First of all, the mean changes a lot"
   ]
  },
  {
   "cell_type": "code",
   "execution_count": null,
   "metadata": {
    "collapsed": true
   },
   "outputs": [],
   "source": []
  }
 ],
 "metadata": {
  "kernelspec": {
   "display_name": "Python 3",
   "language": "python",
   "name": "python3"
  },
  "language_info": {
   "codemirror_mode": {
    "name": "ipython",
    "version": 3
   },
   "file_extension": ".py",
   "mimetype": "text/x-python",
   "name": "python",
   "nbconvert_exporter": "python",
   "pygments_lexer": "ipython3",
   "version": "3.6.0"
  }
 },
 "nbformat": 4,
 "nbformat_minor": 2
}
