{
 "cells": [
  {
   "cell_type": "markdown",
   "metadata": {
    "collapsed": true
   },
   "source": [
    "### Anomalies Detection on Health Insurance Claims\n",
    "\n",
    "1. Exploratory Data Analysis\n",
    "    + Features knowledge"
   ]
  },
  {
   "cell_type": "markdown",
   "metadata": {},
   "source": [
    "EDA driven on Sinister dataset, followed over some assumptions"
   ]
  },
  {
   "cell_type": "markdown",
   "metadata": {},
   "source": [
    "### Sinister Dataset Analysis"
   ]
  },
  {
   "cell_type": "code",
   "execution_count": 2,
   "metadata": {
    "collapsed": true
   },
   "outputs": [],
   "source": [
    "import matplotlib as mpl\n",
    "import numpy as np\n",
    "import pandas as pd\n",
    "import matplotlib.pyplot as plt\n",
    "import matplotlib.dates as mdates\n",
    "from pandas.tools.plotting import scatter_matrix\n",
    "mpl.style.use('ggplot')\n",
    "%matplotlib inline"
   ]
  },
  {
   "cell_type": "markdown",
   "metadata": {
    "collapsed": true
   },
   "source": [
    "We have to set the asumptions for te main query  \n",
    "There's some trouble about the connections, after analyzing the training dataset"
   ]
  },
  {
   "cell_type": "code",
   "execution_count": 3,
   "metadata": {
    "collapsed": false
   },
   "outputs": [
    {
     "name": "stdout",
     "output_type": "stream",
     "text": [
      "/c/Users/A2276061/Documents/GMM\n"
     ]
    }
   ],
   "source": [
    "!pwd"
   ]
  },
  {
   "cell_type": "code",
   "execution_count": 4,
   "metadata": {
    "collapsed": false
   },
   "outputs": [],
   "source": [
    "df = pd.read_csv(\"Siniestros_Desc.csv\", parse_dates=True, encoding=\"latin1\")"
   ]
  },
  {
   "cell_type": "code",
   "execution_count": 97,
   "metadata": {
    "collapsed": false
   },
   "outputs": [
    {
     "name": "stdout",
     "output_type": "stream",
     "text": [
      "C:\\Users\\A2276061\\Documents\\GMM\n"
     ]
    }
   ],
   "source": [
    "import os\n",
    "\n",
    "file = \"C:\\\\Users\\A2276061\\Documents\\GMM\\Siniestros_Desc.csv\"\n",
    "pwd = os.getcwd()\n",
    "test = pd.read_csv(os.path.basename(file), parse_dates=True, encoding=\"latin1\")\n",
    "print(pwd)"
   ]
  },
  {
   "cell_type": "code",
   "execution_count": 19,
   "metadata": {
    "collapsed": false
   },
   "outputs": [],
   "source": [
    "#os.path.basename(file)"
   ]
  },
  {
   "cell_type": "code",
   "execution_count": 20,
   "metadata": {
    "collapsed": false
   },
   "outputs": [
    {
     "name": "stdout",
     "output_type": "stream",
     "text": [
      "   NSINIEST  NPOLIZA  RAMSUBRAMO RAMO        SUBRAMO DATE_INIT  INI_ANIO  \\\n",
      "0  16039182     1011        1035  GMM  GMM COLECTIVO  01/08/15         1   \n",
      "1  17003837   610201        1035  GMM  GMM COLECTIVO  30/09/16         2   \n",
      "2  16051270   101101        1030  GMM  GMM COLECTIVO  01/05/16         2   \n",
      "3  16039194    22201        1026  GMM  GMM COLECTIVO  28/09/15         1   \n",
      "4  16046314    80102        1032  GMM  GMM COLECTIVO  01/04/16         1   \n",
      "\n",
      "   INDIVIDUAL  EDO STATE_NAME  ...    AGE SINISTER_DATE TIPOSIN  \\\n",
      "0           1   19       N.L.  ...    NaN      16/08/16     300   \n",
      "1           2   14        JAL  ...    NaN      01/01/12     100   \n",
      "2           2   11        GTO  ...    NaN      25/11/16     100   \n",
      "3           2    8       CHIH  ...    NaN      18/08/16     100   \n",
      "4           2   15      EDMEX  ...    NaN      25/10/16     300   \n",
      "\n",
      "  SIN_DECRIPTION                                    DIS_DESCRIPTION  COVERS  \\\n",
      "0      ACCIDENTE  RUPTURA DE MENISCO MEDIAL + LISTESIS OSEA RODI...     NaN   \n",
      "1     ENFERMEDAD  FISTULA ANAL CRIPTOGLANDULAR                  ...     NaN   \n",
      "2     ENFERMEDAD  PARAFIMOSIS Y BALANITIS                       ...     NaN   \n",
      "3     ENFERMEDAD  SD PINZAMIENTO + TENDINOSIS PORCION LARGA DE B...     NaN   \n",
      "4      ACCIDENTE  DESGARRO DEL MENISCO MEDIAL                   ...     NaN   \n",
      "\n",
      "   TOTAL_CLAIM  TOTAL_PAID  DIFF_MOUNT CLAIMS  \n",
      "0          NaN         NaN         NaN      2  \n",
      "1          NaN         NaN         NaN      2  \n",
      "2          NaN         NaN         NaN      6  \n",
      "3          NaN         NaN         NaN      3  \n",
      "4          NaN         NaN         NaN      2  \n",
      "\n",
      "[5 rows x 28 columns]\n"
     ]
    }
   ],
   "source": [
    "print(df.head())\n",
    "#this time we parse from the begining"
   ]
  },
  {
   "cell_type": "code",
   "execution_count": 21,
   "metadata": {
    "collapsed": false
   },
   "outputs": [],
   "source": [
    "def missing_values_table(df): \n",
    "        mis_val = df.isnull().sum()\n",
    "        mis_val_percent = 100 * df.isnull().sum()/len(df)\n",
    "        mis_val_table = pd.concat([mis_val, mis_val_percent], axis=1)\n",
    "        mis_val_table = mis_val_table.rename(columns = {0 : 'Missing Values', 1 : '% of Total Values'})\n",
    "        return mis_val_table"
   ]
  },
  {
   "cell_type": "code",
   "execution_count": 22,
   "metadata": {
    "collapsed": false
   },
   "outputs": [
    {
     "name": "stdout",
     "output_type": "stream",
     "text": [
      "             Missing Values  % of Total Values\n",
      "STATE_NAME            23622           9.015033\n",
      "CITY                  23622           9.015033\n",
      "CITY_NAME             23622           9.015033\n",
      "NASEG                     6           0.002290\n",
      "GENDER                17663           6.740857\n",
      "CVNFUMA               17663           6.740857\n",
      "RIESGOCUP             17663           6.740857\n",
      "CVEDOCIV              17663           6.740857\n",
      "AGE                   17663           6.740857\n",
      "COVERS                44887          17.130547\n",
      "TOTAL_CLAIM           20155           7.691897\n",
      "TOTAL_PAID            20155           7.691897\n",
      "DIFF_MOUNT            20155           7.691897\n"
     ]
    }
   ],
   "source": [
    "missing = missing_values_table(df)\n",
    "missing = missing[missing['Missing Values'] > 0] #showing only all those are not zero\n",
    "print(missing)"
   ]
  },
  {
   "cell_type": "code",
   "execution_count": 23,
   "metadata": {
    "collapsed": false
   },
   "outputs": [
    {
     "data": {
      "image/png": "[encoded data removed]",
      "text/plain": [
       "<matplotlib.figure.Figure at 0x9dd5b00>"
      ]
     },
     "metadata": {},
     "output_type": "display_data"
    }
   ],
   "source": [
    "fig = plt.figure(figsize=[12, 6])\n",
    "\n",
    "ax = missing['% of Total Values'].plot(kind='bar', width=0.8, alpha=0.5, color='#003399', edgecolor='#333333')\n",
    "ax.yaxis.grid(True)\n",
    "ax.set_title('% Missing Values')\n",
    "ax.set_ylabel('Percentage')\n",
    "\n",
    "fig.tight_layout() #for some reason this line should stay here\n",
    "plt.show()"
   ]
  },
  {
   "cell_type": "markdown",
   "metadata": {},
   "source": [
    "As we see the missing values are not gonna represent an important issue for data analysis, we have to decide as well\n",
    "+ Imputation methods\n",
    "+ Excusion methods"
   ]
  },
  {
   "cell_type": "code",
   "execution_count": 24,
   "metadata": {
    "collapsed": false
   },
   "outputs": [
    {
     "data": {
      "text/plain": [
       "2.3002919748367736"
      ]
     },
     "execution_count": 24,
     "metadata": {},
     "output_type": "execute_result"
    }
   ],
   "source": [
    "#Filling Na??\n",
    "df['COVERS'].fillna(df['COVERS'].mean()).mean()"
   ]
  },
  {
   "cell_type": "code",
   "execution_count": 25,
   "metadata": {
    "collapsed": false
   },
   "outputs": [
    {
     "data": {
      "text/plain": [
       "NSINIEST             int64\n",
       "NPOLIZA              int64\n",
       "RAMSUBRAMO           int64\n",
       "RAMO                object\n",
       "SUBRAMO             object\n",
       "DATE_INIT           object\n",
       "INI_ANIO             int64\n",
       "INDIVIDUAL           int64\n",
       "EDO                  int64\n",
       "STATE_NAME          object\n",
       "CITY               float64\n",
       "CITY_NAME           object\n",
       "NASEG               object\n",
       "NOMBTIT             object\n",
       "GENDER             float64\n",
       "CVNFUMA            float64\n",
       "RIESGOCUP          float64\n",
       "CVEDOCIV           float64\n",
       "AGE                float64\n",
       "SINISTER_DATE       object\n",
       "TIPOSIN              int64\n",
       "SIN_DECRIPTION      object\n",
       "DIS_DESCRIPTION     object\n",
       "COVERS             float64\n",
       "TOTAL_CLAIM        float64\n",
       "TOTAL_PAID         float64\n",
       "DIFF_MOUNT         float64\n",
       "CLAIMS               int64\n",
       "dtype: object"
      ]
     },
     "execution_count": 25,
     "metadata": {},
     "output_type": "execute_result"
    }
   ],
   "source": [
    "#columns and data types\n",
    "df.dtypes "
   ]
  },
  {
   "cell_type": "code",
   "execution_count": 26,
   "metadata": {
    "collapsed": false
   },
   "outputs": [
    {
     "name": "stdout",
     "output_type": "stream",
     "text": [
      "        INI_ANIO         CITY_NAME                              NOMBTIT   AGE  \\\n",
      "9528           5  CIUDAD DE MEXICO                 FELIPE SIADE BARQUET  59.0   \n",
      "165409         7         MONTERREY                  ALDO GUTIERREZ VEGA  46.0   \n",
      "31382          6         MONTERREY  DIANA FERNANDA DE LA ROSA RODRIGUEZ   1.0   \n",
      "95031          1         MONTERREY     ALVARADO QUIROZ FRANCISCO JAVIER  38.0   \n",
      "69731          1         MONTERREY                 SILVA CHAIREZ FABIAN  29.0   \n",
      "226153         1       GUADALAJARA                  GARCIA LEAL GERARDO  45.0   \n",
      "139524         1         MONTERREY          RUBEN DARIO MARTINEZ CASTRO  39.0   \n",
      "215633         2  CIUDAD DE MEXICO                 FELIPE SIADE BARQUET  56.0   \n",
      "219437         1         MONTERREY     MARIA DEL SAGRARIO BARREDA PEREZ  54.0   \n",
      "247177        10     CIUDAD JUAREZ              SAMUEL MIRANDA MARTINEZ  43.0   \n",
      "21384          2         MONTERREY       GUAJARDO ELIZONDO LUIS GERARDO  47.0   \n",
      "54371          1         MONTERREY       ALMARAZ MARINES ARNOLDO EGLAIN  17.0   \n",
      "207553         1  CIUDAD DE MEXICO                 FELIPE SIADE BARQUET  54.0   \n",
      "48238          1           ZAPOPAN   JOSE DE JESUS UGALDE VILLAVISENCIO  13.0   \n",
      "253924         6         MONTERREY          ROSA MARTHA GARCIA ELIZONDO  24.0   \n",
      "39002         13  CIUDAD DE MEXICO        MARIA EUGENIA MORALES ZERME&O  61.0   \n",
      "173337         5    AGUASCALIENTES         EDITH SILVIA YANEZ HERNANDEZ  52.0   \n",
      "252952         6         MONTERREY     JUAN BERNARDO GUERRERO VELAZQUEZ  40.0   \n",
      "37072         12  CIUDAD DE MEXICO     PAOLO MATTEI-GENTILLI PADELLETTI  66.0   \n",
      "199950         2         MONTERREY        IRIS DEYANIRA GARZA RODRIGUEZ   1.0   \n",
      "\n",
      "       SINISTER_DATE SIN_DECRIPTION    TOTAL_PAID  CLAIMS  \n",
      "9528        05/08/12     ENFERMEDAD  3.725528e+08     276  \n",
      "165409      05/07/12     ENFERMEDAD  1.172354e+09     228  \n",
      "31382       10/09/14     ENFERMEDAD  2.415588e+09     209  \n",
      "95031       27/06/14     ENFERMEDAD  2.970640e+08     173  \n",
      "69731       16/03/13     ENFERMEDAD  7.280194e+08     148  \n",
      "226153      10/12/13     ENFERMEDAD  5.269155e+08     144  \n",
      "139524      20/01/07      ACCIDENTE  6.917249e+08     143  \n",
      "215633      01/08/09     ENFERMEDAD  1.721935e+08     142  \n",
      "219437      03/09/12     ENFERMEDAD  1.269985e+09     140  \n",
      "247177      12/07/13     ENFERMEDAD  1.629586e+09     134  \n",
      "21384       10/07/14     ENFERMEDAD  7.665996e+08     133  \n",
      "54371       05/07/14     ENFERMEDAD  1.020716e+09     131  \n",
      "207553      01/01/08     ENFERMEDAD  2.740794e+08     130  \n",
      "48238       20/04/15     ENFERMEDAD  8.223057e+08     129  \n",
      "253924      03/07/12     ENFERMEDAD  3.033467e+08     127  \n",
      "39002       11/02/14     ENFERMEDAD  5.547088e+08     126  \n",
      "173337      10/10/11     ENFERMEDAD  2.075932e+08     121  \n",
      "252952      16/05/14     ENFERMEDAD  1.845372e+08     120  \n",
      "37072       14/01/12     ENFERMEDAD  2.766120e+08     120  \n",
      "199950      15/03/13     ENFERMEDAD  3.593525e+08     115  \n"
     ]
    }
   ],
   "source": [
    "df_head = df.sort_values(['CLAIMS'], ascending=False).head(20)\n",
    "print(df_head[['INI_ANIO','CITY_NAME','NOMBTIT','AGE','SINISTER_DATE','SIN_DECRIPTION','TOTAL_PAID','CLAIMS']])"
   ]
  },
  {
   "cell_type": "markdown",
   "metadata": {},
   "source": [
    "What happen with the cases like FELIPE SIADE BARQUET where we found is showing more than once\n",
    "+ Let's check the policy number, whats wrong?\n",
    "+ Why the calculated age is diferent?"
   ]
  },
  {
   "cell_type": "code",
   "execution_count": 27,
   "metadata": {
    "collapsed": false
   },
   "outputs": [
    {
     "data": {
      "text/plain": [
       "(262029, 28)"
      ]
     },
     "execution_count": 27,
     "metadata": {},
     "output_type": "execute_result"
    }
   ],
   "source": [
    "df.shape"
   ]
  },
  {
   "cell_type": "code",
   "execution_count": 28,
   "metadata": {
    "collapsed": false
   },
   "outputs": [
    {
     "data": {
      "text/html": [
       "<div>\n",
       "<table border=\"1\" class=\"dataframe\">\n",
       "  <thead>\n",
       "    <tr style=\"text-align: right;\">\n",
       "      <th></th>\n",
       "      <th>NSINIEST</th>\n",
       "      <th>NPOLIZA</th>\n",
       "      <th>RAMSUBRAMO</th>\n",
       "      <th>INI_ANIO</th>\n",
       "      <th>INDIVIDUAL</th>\n",
       "      <th>EDO</th>\n",
       "      <th>CITY</th>\n",
       "      <th>GENDER</th>\n",
       "      <th>CVNFUMA</th>\n",
       "      <th>RIESGOCUP</th>\n",
       "      <th>CVEDOCIV</th>\n",
       "      <th>AGE</th>\n",
       "      <th>TIPOSIN</th>\n",
       "      <th>COVERS</th>\n",
       "      <th>TOTAL_CLAIM</th>\n",
       "      <th>TOTAL_PAID</th>\n",
       "      <th>DIFF_MOUNT</th>\n",
       "      <th>CLAIMS</th>\n",
       "    </tr>\n",
       "  </thead>\n",
       "  <tbody>\n",
       "    <tr>\n",
       "      <th>count</th>\n",
       "      <td>2.620e+05</td>\n",
       "      <td>2.620e+05</td>\n",
       "      <td>262029.000</td>\n",
       "      <td>262029.000</td>\n",
       "      <td>262029.000</td>\n",
       "      <td>262029.000</td>\n",
       "      <td>238407.000</td>\n",
       "      <td>244366.000</td>\n",
       "      <td>244366.000</td>\n",
       "      <td>244366.000</td>\n",
       "      <td>244366.000</td>\n",
       "      <td>244366.000</td>\n",
       "      <td>262029.000</td>\n",
       "      <td>217142.000</td>\n",
       "      <td>2.419e+05</td>\n",
       "      <td>2.419e+05</td>\n",
       "      <td>2.419e+05</td>\n",
       "      <td>262029.000</td>\n",
       "    </tr>\n",
       "    <tr>\n",
       "      <th>mean</th>\n",
       "      <td>3.215e+07</td>\n",
       "      <td>7.073e+05</td>\n",
       "      <td>9840.941</td>\n",
       "      <td>3.703</td>\n",
       "      <td>1.413</td>\n",
       "      <td>13.598</td>\n",
       "      <td>5.159</td>\n",
       "      <td>1.313</td>\n",
       "      <td>0.115</td>\n",
       "      <td>0.054</td>\n",
       "      <td>0.301</td>\n",
       "      <td>25.394</td>\n",
       "      <td>198.264</td>\n",
       "      <td>2.300</td>\n",
       "      <td>3.263e+06</td>\n",
       "      <td>5.550e+06</td>\n",
       "      <td>8.702e+06</td>\n",
       "      <td>2.639</td>\n",
       "    </tr>\n",
       "    <tr>\n",
       "      <th>std</th>\n",
       "      <td>2.419e+08</td>\n",
       "      <td>1.492e+06</td>\n",
       "      <td>13343.930</td>\n",
       "      <td>3.608</td>\n",
       "      <td>0.492</td>\n",
       "      <td>7.541</td>\n",
       "      <td>4.163</td>\n",
       "      <td>0.657</td>\n",
       "      <td>0.319</td>\n",
       "      <td>0.431</td>\n",
       "      <td>0.646</td>\n",
       "      <td>19.355</td>\n",
       "      <td>100.290</td>\n",
       "      <td>1.078</td>\n",
       "      <td>1.322e+07</td>\n",
       "      <td>2.244e+07</td>\n",
       "      <td>3.323e+07</td>\n",
       "      <td>3.873</td>\n",
       "    </tr>\n",
       "    <tr>\n",
       "      <th>min</th>\n",
       "      <td>1.100e+02</td>\n",
       "      <td>1.300e+01</td>\n",
       "      <td>110.000</td>\n",
       "      <td>1.000</td>\n",
       "      <td>1.000</td>\n",
       "      <td>0.000</td>\n",
       "      <td>1.000</td>\n",
       "      <td>0.000</td>\n",
       "      <td>0.000</td>\n",
       "      <td>0.000</td>\n",
       "      <td>0.000</td>\n",
       "      <td>0.000</td>\n",
       "      <td>100.000</td>\n",
       "      <td>1.000</td>\n",
       "      <td>1.000e+00</td>\n",
       "      <td>0.000e+00</td>\n",
       "      <td>0.000e+00</td>\n",
       "      <td>1.000</td>\n",
       "    </tr>\n",
       "    <tr>\n",
       "      <th>25%</th>\n",
       "      <td>7.028e+06</td>\n",
       "      <td>1.134e+05</td>\n",
       "      <td>1021.000</td>\n",
       "      <td>1.000</td>\n",
       "      <td>1.000</td>\n",
       "      <td>9.000</td>\n",
       "      <td>1.000</td>\n",
       "      <td>1.000</td>\n",
       "      <td>0.000</td>\n",
       "      <td>0.000</td>\n",
       "      <td>0.000</td>\n",
       "      <td>10.000</td>\n",
       "      <td>100.000</td>\n",
       "      <td>1.000</td>\n",
       "      <td>2.410e+05</td>\n",
       "      <td>4.095e+05</td>\n",
       "      <td>6.603e+05</td>\n",
       "      <td>1.000</td>\n",
       "    </tr>\n",
       "    <tr>\n",
       "      <th>50%</th>\n",
       "      <td>1.101e+07</td>\n",
       "      <td>2.771e+05</td>\n",
       "      <td>1046.000</td>\n",
       "      <td>2.000</td>\n",
       "      <td>1.000</td>\n",
       "      <td>14.000</td>\n",
       "      <td>6.000</td>\n",
       "      <td>1.000</td>\n",
       "      <td>0.000</td>\n",
       "      <td>0.000</td>\n",
       "      <td>0.000</td>\n",
       "      <td>25.000</td>\n",
       "      <td>200.000</td>\n",
       "      <td>2.000</td>\n",
       "      <td>9.657e+05</td>\n",
       "      <td>1.571e+06</td>\n",
       "      <td>2.559e+06</td>\n",
       "      <td>2.000</td>\n",
       "    </tr>\n",
       "    <tr>\n",
       "      <th>75%</th>\n",
       "      <td>1.306e+07</td>\n",
       "      <td>6.242e+05</td>\n",
       "      <td>30041.000</td>\n",
       "      <td>5.000</td>\n",
       "      <td>2.000</td>\n",
       "      <td>19.000</td>\n",
       "      <td>7.000</td>\n",
       "      <td>2.000</td>\n",
       "      <td>0.000</td>\n",
       "      <td>0.000</td>\n",
       "      <td>0.000</td>\n",
       "      <td>39.000</td>\n",
       "      <td>300.000</td>\n",
       "      <td>3.000</td>\n",
       "      <td>2.856e+06</td>\n",
       "      <td>4.749e+06</td>\n",
       "      <td>7.523e+06</td>\n",
       "      <td>3.000</td>\n",
       "    </tr>\n",
       "    <tr>\n",
       "      <th>max</th>\n",
       "      <td>3.051e+09</td>\n",
       "      <td>9.970e+06</td>\n",
       "      <td>30053.000</td>\n",
       "      <td>97.000</td>\n",
       "      <td>2.000</td>\n",
       "      <td>33.000</td>\n",
       "      <td>23.000</td>\n",
       "      <td>2.000</td>\n",
       "      <td>2.000</td>\n",
       "      <td>7.000</td>\n",
       "      <td>4.000</td>\n",
       "      <td>113.000</td>\n",
       "      <td>800.000</td>\n",
       "      <td>6.000</td>\n",
       "      <td>1.414e+09</td>\n",
       "      <td>2.416e+09</td>\n",
       "      <td>3.799e+09</td>\n",
       "      <td>276.000</td>\n",
       "    </tr>\n",
       "  </tbody>\n",
       "</table>\n",
       "</div>"
      ],
      "text/plain": [
       "        NSINIEST    NPOLIZA  RAMSUBRAMO    INI_ANIO  INDIVIDUAL         EDO        CITY  \\\n",
       "count  2.620e+05  2.620e+05  262029.000  262029.000  262029.000  262029.000  238407.000   \n",
       "mean   3.215e+07  7.073e+05    9840.941       3.703       1.413      13.598       5.159   \n",
       "std    2.419e+08  1.492e+06   13343.930       3.608       0.492       7.541       4.163   \n",
       "min    1.100e+02  1.300e+01     110.000       1.000       1.000       0.000       1.000   \n",
       "25%    7.028e+06  1.134e+05    1021.000       1.000       1.000       9.000       1.000   \n",
       "50%    1.101e+07  2.771e+05    1046.000       2.000       1.000      14.000       6.000   \n",
       "75%    1.306e+07  6.242e+05   30041.000       5.000       2.000      19.000       7.000   \n",
       "max    3.051e+09  9.970e+06   30053.000      97.000       2.000      33.000      23.000   \n",
       "\n",
       "           GENDER     CVNFUMA   RIESGOCUP    CVEDOCIV         AGE     TIPOSIN      COVERS  \\\n",
       "count  244366.000  244366.000  244366.000  244366.000  244366.000  262029.000  217142.000   \n",
       "mean        1.313       0.115       0.054       0.301      25.394     198.264       2.300   \n",
       "std         0.657       0.319       0.431       0.646      19.355     100.290       1.078   \n",
       "min         0.000       0.000       0.000       0.000       0.000     100.000       1.000   \n",
       "25%         1.000       0.000       0.000       0.000      10.000     100.000       1.000   \n",
       "50%         1.000       0.000       0.000       0.000      25.000     200.000       2.000   \n",
       "75%         2.000       0.000       0.000       0.000      39.000     300.000       3.000   \n",
       "max         2.000       2.000       7.000       4.000     113.000     800.000       6.000   \n",
       "\n",
       "       TOTAL_CLAIM  TOTAL_PAID  DIFF_MOUNT      CLAIMS  \n",
       "count    2.419e+05   2.419e+05   2.419e+05  262029.000  \n",
       "mean     3.263e+06   5.550e+06   8.702e+06       2.639  \n",
       "std      1.322e+07   2.244e+07   3.323e+07       3.873  \n",
       "min      1.000e+00   0.000e+00   0.000e+00       1.000  \n",
       "25%      2.410e+05   4.095e+05   6.603e+05       1.000  \n",
       "50%      9.657e+05   1.571e+06   2.559e+06       2.000  \n",
       "75%      2.856e+06   4.749e+06   7.523e+06       3.000  \n",
       "max      1.414e+09   2.416e+09   3.799e+09     276.000  "
      ]
     },
     "execution_count": 28,
     "metadata": {},
     "output_type": "execute_result"
    }
   ],
   "source": [
    "pd.set_option('display.width', 100)\n",
    "pd.set_option('precision', 3)\n",
    "df.describe()"
   ]
  },
  {
   "cell_type": "markdown",
   "metadata": {},
   "source": [
    "The matrix shape is logical?:\n",
    "- 1 \n",
    "- 2 "
   ]
  },
  {
   "cell_type": "code",
   "execution_count": 29,
   "metadata": {
    "collapsed": false
   },
   "outputs": [
    {
     "data": {
      "text/plain": [
       "MONTERREY           71282\n",
       "CIUDAD DE MEXICO    60772\n",
       "GUADALAJARA         16813\n",
       "AGUASCALIENTES       5226\n",
       "CIUDAD JUAREZ        5200\n",
       "QUERETARO            4947\n",
       "TAMPICO              4725\n",
       "TORREON              4649\n",
       "TOLUCA DE LERDO      4398\n",
       "SALTILLO             4266\n",
       "Name: CITY_NAME, dtype: int64"
      ]
     },
     "execution_count": 29,
     "metadata": {},
     "output_type": "execute_result"
    }
   ],
   "source": [
    "df['CITY_NAME'].str.upper().value_counts().head(10) #equivalent grouping"
   ]
  },
  {
   "cell_type": "code",
   "execution_count": 32,
   "metadata": {
    "collapsed": false
   },
   "outputs": [
    {
     "name": "stdout",
     "output_type": "stream",
     "text": [
      "SIN_DECRIPTION\n",
      "ACC TRANS        752\n",
      "ACCIDENTE     112348\n",
      "DESEMPLEO          3\n",
      "EMBARAZO       16659\n",
      "ENFERMEDAD    127810\n",
      "GTOS.FUNE.        12\n",
      "INV.TOTAL         52\n",
      "MA X VIOLE       693\n",
      "MTE. ACC.       2652\n",
      "MUERTE           772\n",
      "PERD.ORG.        271\n",
      "SUICIDIO           5\n",
      "dtype: int64\n"
     ]
    }
   ],
   "source": [
    "#In case we have classes\n",
    "sin_desc = df.groupby('SIN_DECRIPTION').size()\n",
    "print(sin_desc)"
   ]
  },
  {
   "cell_type": "code",
   "execution_count": 38,
   "metadata": {
    "collapsed": false
   },
   "outputs": [
    {
     "name": "stdout",
     "output_type": "stream",
     "text": [
      "             INI_ANIO    AGE  COVERS  TOTAL_CLAIM  TOTAL_PAID  DIFF_MOUNT  CLAIMS\n",
      "INI_ANIO        1.000  0.149   0.088        0.021       0.018       0.020   0.016\n",
      "AGE             0.149  1.000   0.056        0.158       0.153       0.164   0.204\n",
      "COVERS          0.088  0.056   1.000       -0.021      -0.024      -0.023   0.036\n",
      "TOTAL_CLAIM     0.021  0.158  -0.021        1.000       0.967       0.950   0.557\n",
      "TOTAL_PAID      0.018  0.153  -0.024        0.967       1.000       0.963   0.585\n",
      "DIFF_MOUNT      0.020  0.164  -0.023        0.950       0.963       1.000   0.594\n",
      "CLAIMS          0.016  0.204   0.036        0.557       0.585       0.594   1.000\n"
     ]
    }
   ],
   "source": [
    "#correlations\n",
    "numeric_features = df[['INI_ANIO','AGE','COVERS','TOTAL_CLAIM','TOTAL_PAID','DIFF_MOUNT','CLAIMS']]\n",
    "correlations = numeric_features.corr(method='pearson')\n",
    "print(correlations)"
   ]
  },
  {
   "cell_type": "code",
   "execution_count": 40,
   "metadata": {
    "collapsed": false
   },
   "outputs": [
    {
     "data": {
      "image/png": "[encoded data removed]",
      "text/plain": [
       "<matplotlib.figure.Figure at 0xb0d6550>"
      ]
     },
     "metadata": {},
     "output_type": "display_data"
    }
   ],
   "source": [
    "index=list(numeric_features.columns.values)\n",
    "columns=list(numeric_features.columns.values)\n",
    "\n",
    "plt.figure(figsize=[10,10])\n",
    "plt.yticks(np.arange(0.5, len(correlations.index), 1), correlations.index)\n",
    "plt.xticks(np.arange(0.5, len(correlations.columns), 1), correlations.columns)\n",
    "plt.imshow(correlations,cmap='hot',interpolation='nearest')\n",
    "plt.show()"
   ]
  },
  {
   "cell_type": "code",
   "execution_count": 60,
   "metadata": {
    "collapsed": false
   },
   "outputs": [
    {
     "data": {
      "text/plain": [
       "<matplotlib.figure.Figure at 0x1291a0b8>"
      ]
     },
     "metadata": {},
     "output_type": "display_data"
    },
    {
     "data": {
      "image/png": "[encoded data removed]",
      "text/plain": [
       "<matplotlib.figure.Figure at 0x1138bd30>"
      ]
     },
     "metadata": {},
     "output_type": "display_data"
    }
   ],
   "source": [
    "plt.figure(figsize=[10,10])\n",
    "scatter_matrix(numeric_features, alpha=0.2, figsize=(6, 6), diagonal='kde')\n",
    "plt.show()"
   ]
  },
  {
   "cell_type": "code",
   "execution_count": 41,
   "metadata": {
    "collapsed": false
   },
   "outputs": [
    {
     "name": "stdout",
     "output_type": "stream",
     "text": [
      "INI_ANIO        3.010\n",
      "AGE             0.606\n",
      "COVERS          0.680\n",
      "TOTAL_CLAIM    38.438\n",
      "TOTAL_PAID     36.022\n",
      "DIFF_MOUNT     33.608\n",
      "CLAIMS         12.714\n",
      "dtype: float64\n"
     ]
    }
   ],
   "source": [
    "skew = numeric_features.skew()\n",
    "print(skew)"
   ]
  },
  {
   "cell_type": "markdown",
   "metadata": {},
   "source": [
    "---\n",
    "Is clear we need to scalate and normalize"
   ]
  },
  {
   "cell_type": "markdown",
   "metadata": {},
   "source": [
    "##### Time Serires\n",
    "\n",
    "For this dataset we are analysing the sinisters global, the natural approach is visualize the time series envolved  \n",
    "\n",
    "The fisrt thing we have to do is convert date fields on data type, because as we see on dtypes is not clear"
   ]
  },
  {
   "cell_type": "code",
   "execution_count": 42,
   "metadata": {
    "collapsed": false
   },
   "outputs": [
    {
     "data": {
      "text/html": [
       "<div>\n",
       "<table border=\"1\" class=\"dataframe\">\n",
       "  <thead>\n",
       "    <tr style=\"text-align: right;\">\n",
       "      <th></th>\n",
       "      <th>NSINIEST</th>\n",
       "      <th>NPOLIZA</th>\n",
       "      <th>RAMSUBRAMO</th>\n",
       "      <th>RAMO</th>\n",
       "      <th>SUBRAMO</th>\n",
       "      <th>DATE_INIT</th>\n",
       "      <th>INI_ANIO</th>\n",
       "      <th>INDIVIDUAL</th>\n",
       "      <th>EDO</th>\n",
       "      <th>STATE_NAME</th>\n",
       "      <th>...</th>\n",
       "      <th>AGE</th>\n",
       "      <th>SINISTER_DATE</th>\n",
       "      <th>TIPOSIN</th>\n",
       "      <th>SIN_DECRIPTION</th>\n",
       "      <th>DIS_DESCRIPTION</th>\n",
       "      <th>COVERS</th>\n",
       "      <th>TOTAL_CLAIM</th>\n",
       "      <th>TOTAL_PAID</th>\n",
       "      <th>DIFF_MOUNT</th>\n",
       "      <th>CLAIMS</th>\n",
       "    </tr>\n",
       "  </thead>\n",
       "  <tbody>\n",
       "    <tr>\n",
       "      <th>0</th>\n",
       "      <td>16039182</td>\n",
       "      <td>1011</td>\n",
       "      <td>1035</td>\n",
       "      <td>GMM</td>\n",
       "      <td>GMM COLECTIVO</td>\n",
       "      <td>2015-01-08</td>\n",
       "      <td>1</td>\n",
       "      <td>1</td>\n",
       "      <td>19</td>\n",
       "      <td>N.L.</td>\n",
       "      <td>...</td>\n",
       "      <td>NaN</td>\n",
       "      <td>2016-08-16</td>\n",
       "      <td>300</td>\n",
       "      <td>ACCIDENTE</td>\n",
       "      <td>RUPTURA DE MENISCO MEDIAL + LISTESIS OSEA RODI...</td>\n",
       "      <td>NaN</td>\n",
       "      <td>NaN</td>\n",
       "      <td>NaN</td>\n",
       "      <td>NaN</td>\n",
       "      <td>2</td>\n",
       "    </tr>\n",
       "    <tr>\n",
       "      <th>1</th>\n",
       "      <td>17003837</td>\n",
       "      <td>610201</td>\n",
       "      <td>1035</td>\n",
       "      <td>GMM</td>\n",
       "      <td>GMM COLECTIVO</td>\n",
       "      <td>2016-09-30</td>\n",
       "      <td>2</td>\n",
       "      <td>2</td>\n",
       "      <td>14</td>\n",
       "      <td>JAL</td>\n",
       "      <td>...</td>\n",
       "      <td>NaN</td>\n",
       "      <td>2012-01-01</td>\n",
       "      <td>100</td>\n",
       "      <td>ENFERMEDAD</td>\n",
       "      <td>FISTULA ANAL CRIPTOGLANDULAR                  ...</td>\n",
       "      <td>NaN</td>\n",
       "      <td>NaN</td>\n",
       "      <td>NaN</td>\n",
       "      <td>NaN</td>\n",
       "      <td>2</td>\n",
       "    </tr>\n",
       "    <tr>\n",
       "      <th>2</th>\n",
       "      <td>16051270</td>\n",
       "      <td>101101</td>\n",
       "      <td>1030</td>\n",
       "      <td>GMM</td>\n",
       "      <td>GMM COLECTIVO</td>\n",
       "      <td>2016-01-05</td>\n",
       "      <td>2</td>\n",
       "      <td>2</td>\n",
       "      <td>11</td>\n",
       "      <td>GTO</td>\n",
       "      <td>...</td>\n",
       "      <td>NaN</td>\n",
       "      <td>2016-11-25</td>\n",
       "      <td>100</td>\n",
       "      <td>ENFERMEDAD</td>\n",
       "      <td>PARAFIMOSIS Y BALANITIS                       ...</td>\n",
       "      <td>NaN</td>\n",
       "      <td>NaN</td>\n",
       "      <td>NaN</td>\n",
       "      <td>NaN</td>\n",
       "      <td>6</td>\n",
       "    </tr>\n",
       "    <tr>\n",
       "      <th>3</th>\n",
       "      <td>16039194</td>\n",
       "      <td>22201</td>\n",
       "      <td>1026</td>\n",
       "      <td>GMM</td>\n",
       "      <td>GMM COLECTIVO</td>\n",
       "      <td>2015-09-28</td>\n",
       "      <td>1</td>\n",
       "      <td>2</td>\n",
       "      <td>8</td>\n",
       "      <td>CHIH</td>\n",
       "      <td>...</td>\n",
       "      <td>NaN</td>\n",
       "      <td>2016-08-18</td>\n",
       "      <td>100</td>\n",
       "      <td>ENFERMEDAD</td>\n",
       "      <td>SD PINZAMIENTO + TENDINOSIS PORCION LARGA DE B...</td>\n",
       "      <td>NaN</td>\n",
       "      <td>NaN</td>\n",
       "      <td>NaN</td>\n",
       "      <td>NaN</td>\n",
       "      <td>3</td>\n",
       "    </tr>\n",
       "    <tr>\n",
       "      <th>4</th>\n",
       "      <td>16046314</td>\n",
       "      <td>80102</td>\n",
       "      <td>1032</td>\n",
       "      <td>GMM</td>\n",
       "      <td>GMM COLECTIVO</td>\n",
       "      <td>2016-01-04</td>\n",
       "      <td>1</td>\n",
       "      <td>2</td>\n",
       "      <td>15</td>\n",
       "      <td>EDMEX</td>\n",
       "      <td>...</td>\n",
       "      <td>NaN</td>\n",
       "      <td>2016-10-25</td>\n",
       "      <td>300</td>\n",
       "      <td>ACCIDENTE</td>\n",
       "      <td>DESGARRO DEL MENISCO MEDIAL                   ...</td>\n",
       "      <td>NaN</td>\n",
       "      <td>NaN</td>\n",
       "      <td>NaN</td>\n",
       "      <td>NaN</td>\n",
       "      <td>2</td>\n",
       "    </tr>\n",
       "  </tbody>\n",
       "</table>\n",
       "<p>5 rows × 28 columns</p>\n",
       "</div>"
      ],
      "text/plain": [
       "   NSINIEST  NPOLIZA  RAMSUBRAMO RAMO        SUBRAMO  DATE_INIT  INI_ANIO  INDIVIDUAL  EDO  \\\n",
       "0  16039182     1011        1035  GMM  GMM COLECTIVO 2015-01-08         1           1   19   \n",
       "1  17003837   610201        1035  GMM  GMM COLECTIVO 2016-09-30         2           2   14   \n",
       "2  16051270   101101        1030  GMM  GMM COLECTIVO 2016-01-05         2           2   11   \n",
       "3  16039194    22201        1026  GMM  GMM COLECTIVO 2015-09-28         1           2    8   \n",
       "4  16046314    80102        1032  GMM  GMM COLECTIVO 2016-01-04         1           2   15   \n",
       "\n",
       "  STATE_NAME  ...    AGE SINISTER_DATE TIPOSIN SIN_DECRIPTION  \\\n",
       "0       N.L.  ...    NaN    2016-08-16     300      ACCIDENTE   \n",
       "1        JAL  ...    NaN    2012-01-01     100     ENFERMEDAD   \n",
       "2        GTO  ...    NaN    2016-11-25     100     ENFERMEDAD   \n",
       "3       CHIH  ...    NaN    2016-08-18     100     ENFERMEDAD   \n",
       "4      EDMEX  ...    NaN    2016-10-25     300      ACCIDENTE   \n",
       "\n",
       "                                     DIS_DESCRIPTION  COVERS  TOTAL_CLAIM  TOTAL_PAID  DIFF_MOUNT  \\\n",
       "0  RUPTURA DE MENISCO MEDIAL + LISTESIS OSEA RODI...     NaN          NaN         NaN         NaN   \n",
       "1  FISTULA ANAL CRIPTOGLANDULAR                  ...     NaN          NaN         NaN         NaN   \n",
       "2  PARAFIMOSIS Y BALANITIS                       ...     NaN          NaN         NaN         NaN   \n",
       "3  SD PINZAMIENTO + TENDINOSIS PORCION LARGA DE B...     NaN          NaN         NaN         NaN   \n",
       "4  DESGARRO DEL MENISCO MEDIAL                   ...     NaN          NaN         NaN         NaN   \n",
       "\n",
       "  CLAIMS  \n",
       "0      2  \n",
       "1      2  \n",
       "2      6  \n",
       "3      3  \n",
       "4      2  \n",
       "\n",
       "[5 rows x 28 columns]"
      ]
     },
     "execution_count": 42,
     "metadata": {},
     "output_type": "execute_result"
    }
   ],
   "source": [
    "#Beging of \n",
    "df['SINISTER_DATE']=pd.to_datetime(df['SINISTER_DATE'])\n",
    "df['DATE_INIT']=pd.to_datetime(df['DATE_INIT'])\n",
    "df.head()"
   ]
  },
  {
   "cell_type": "code",
   "execution_count": 43,
   "metadata": {
    "collapsed": false
   },
   "outputs": [
    {
     "data": {
      "text/plain": [
       "SINISTER_DATE    datetime64[ns]\n",
       "DATE_INIT        datetime64[ns]\n",
       "dtype: object"
      ]
     },
     "execution_count": 43,
     "metadata": {},
     "output_type": "execute_result"
    }
   ],
   "source": [
    "df[['SINISTER_DATE','DATE_INIT']].dtypes"
   ]
  },
  {
   "cell_type": "code",
   "execution_count": 44,
   "metadata": {
    "collapsed": false
   },
   "outputs": [
    {
     "name": "stdout",
     "output_type": "stream",
     "text": [
      "               count\n",
      "SINISTER_DATE       \n",
      "2000             546\n",
      "2001            4784\n",
      "2002            5021\n",
      "2003            5148\n",
      "2004            7511\n"
     ]
    }
   ],
   "source": [
    "#take the fisrt column . groupby () and measure of aggregation\n",
    "# like agg(['mean', 'count'])\n",
    "dfy = df['NSINIEST'].groupby(df['SINISTER_DATE'].map(lambda x: x.year)).agg(['count'])\n",
    "print(dfy.head())"
   ]
  },
  {
   "cell_type": "code",
   "execution_count": 45,
   "metadata": {
    "collapsed": false
   },
   "outputs": [],
   "source": [
    "#test[['NSINIEST','AGE']].groupby(test['SINISTER_DATE'].map(lambda x: x.year)).agg(['count','mean'])\n",
    "#this is just another approach of agregation"
   ]
  },
  {
   "cell_type": "code",
   "execution_count": 46,
   "metadata": {
    "collapsed": false
   },
   "outputs": [
    {
     "data": {
      "text/plain": [
       "count    int64\n",
       "dtype: object"
      ]
     },
     "execution_count": 46,
     "metadata": {},
     "output_type": "execute_result"
    }
   ],
   "source": [
    "dfy.columns\n",
    "dfy.dtypes"
   ]
  },
  {
   "cell_type": "code",
   "execution_count": 47,
   "metadata": {
    "collapsed": false
   },
   "outputs": [
    {
     "data": {
      "text/plain": [
       "count    16968\n",
       "dtype: int32"
      ]
     },
     "execution_count": 47,
     "metadata": {},
     "output_type": "execute_result"
    }
   ],
   "source": [
    "#The rule we gonna use is excluding all the data with days more than 2 estandart deviatin_\n",
    "two_dev = 2*dfy.std().astype(int)\n",
    "two_dev"
   ]
  },
  {
   "cell_type": "code",
   "execution_count": 48,
   "metadata": {
    "collapsed": false,
    "scrolled": true
   },
   "outputs": [
    {
     "data": {
      "image/png": "[encoded data removed]",
      "text/plain": [
       "<matplotlib.figure.Figure at 0xa05ac18>"
      ]
     },
     "metadata": {},
     "output_type": "display_data"
    }
   ],
   "source": [
    "plt.figure(figsize=[15, 5])\n",
    "plt.plot(dfy, color='red') \n",
    "plt.title(\"Number of Sinister\")\n",
    "plt.ylabel('Sinister')\n",
    "plt.show()"
   ]
  },
  {
   "cell_type": "markdown",
   "metadata": {},
   "source": [
    "+ Can we find something seasonal?\n",
    "+ Sinister by month it matters? Let's make a plot by month"
   ]
  },
  {
   "cell_type": "code",
   "execution_count": 49,
   "metadata": {
    "collapsed": false
   },
   "outputs": [
    {
     "name": "stdout",
     "output_type": "stream",
     "text": [
      "               count\n",
      "SINISTER_DATE       \n",
      "1              30094\n",
      "2              21938\n",
      "3              22344\n",
      "4              21623\n",
      "5              24100\n"
     ]
    }
   ],
   "source": [
    "dfm = df['NSINIEST'].groupby(df['SINISTER_DATE'].map(lambda x: x.month)).agg(['count'])\n",
    "print(dfm.head())"
   ]
  },
  {
   "cell_type": "code",
   "execution_count": 50,
   "metadata": {
    "collapsed": false
   },
   "outputs": [
    {
     "data": {
      "text/plain": [
       "count    16968\n",
       "dtype: int32"
      ]
     },
     "execution_count": 50,
     "metadata": {},
     "output_type": "execute_result"
    }
   ],
   "source": [
    "two_dev = 2*dfy.std().astype(int)\n",
    "two_dev"
   ]
  },
  {
   "cell_type": "code",
   "execution_count": 51,
   "metadata": {
    "collapsed": false
   },
   "outputs": [
    {
     "data": {
      "image/png": "[encoded data removed]",
      "text/plain": [
       "<matplotlib.figure.Figure at 0xac648d0>"
      ]
     },
     "metadata": {},
     "output_type": "display_data"
    }
   ],
   "source": [
    "plt.figure(figsize=[15,5])\n",
    "axx=np.arange(dfm.count())\n",
    "plt.xticks(axx, ('January', 'February', 'March', 'April', 'May', \n",
    "            'June', 'July', 'August', 'September', 'October', 'November', 'Dicember'))\n",
    "plt.ylabel('Sinisters')\n",
    "plt.title('Number of Sinister')\n",
    "plt.bar(axx, dfm['count'], width=.5)\n",
    "plt.show()"
   ]
  },
  {
   "cell_type": "markdown",
   "metadata": {},
   "source": [
    "The best approach is convert this to series, and take out the outliers"
   ]
  },
  {
   "cell_type": "code",
   "execution_count": 52,
   "metadata": {
    "collapsed": false
   },
   "outputs": [
    {
     "name": "stdout",
     "output_type": "stream",
     "text": [
      "               count\n",
      "SINISTER_DATE       \n",
      "2000-01-01        12\n",
      "2000-01-02         3\n",
      "2000-01-03         3\n",
      "2000-01-04         7\n",
      "2000-01-05         4\n"
     ]
    }
   ],
   "source": [
    "#df_dates = df.groupby(df['SINISTER_DATE'].apply(lambda x : x.date()))\n",
    "#df_dates['SINISTER_DATE'].aggregate(len)\n",
    "\n",
    "df_dates = df['NSINIEST'].groupby(df['SINISTER_DATE'].map(lambda x: x.date())).agg(['count'])\n",
    "print(df_dates.head())"
   ]
  },
  {
   "cell_type": "code",
   "execution_count": 205,
   "metadata": {
    "collapsed": false
   },
   "outputs": [
    {
     "data": {
      "image/png": "[encoded data removed]",
      "text/plain": [
       "<matplotlib.figure.Figure at 0x234b06d8>"
      ]
     },
     "metadata": {},
     "output_type": "display_data"
    }
   ],
   "source": [
    "plt.figure(figsize=[15,5])\n",
    "plt.ylabel('Sinisters')\n",
    "plt.title('Number of Sinister')\n",
    "plt.bar(np.arange(df_dates.count()), df_dates['count'], width=.5)\n",
    "plt.show()"
   ]
  },
  {
   "cell_type": "code",
   "execution_count": 54,
   "metadata": {
    "collapsed": false
   },
   "outputs": [
    {
     "data": {
      "text/html": [
       "<div>\n",
       "<table border=\"1\" class=\"dataframe\">\n",
       "  <thead>\n",
       "    <tr style=\"text-align: right;\">\n",
       "      <th></th>\n",
       "      <th>count</th>\n",
       "    </tr>\n",
       "  </thead>\n",
       "  <tbody>\n",
       "    <tr>\n",
       "      <th>count</th>\n",
       "      <td>5979.000</td>\n",
       "    </tr>\n",
       "    <tr>\n",
       "      <th>mean</th>\n",
       "      <td>43.825</td>\n",
       "    </tr>\n",
       "    <tr>\n",
       "      <th>std</th>\n",
       "      <td>36.490</td>\n",
       "    </tr>\n",
       "    <tr>\n",
       "      <th>min</th>\n",
       "      <td>1.000</td>\n",
       "    </tr>\n",
       "    <tr>\n",
       "      <th>25%</th>\n",
       "      <td>20.000</td>\n",
       "    </tr>\n",
       "    <tr>\n",
       "      <th>50%</th>\n",
       "      <td>38.000</td>\n",
       "    </tr>\n",
       "    <tr>\n",
       "      <th>75%</th>\n",
       "      <td>60.000</td>\n",
       "    </tr>\n",
       "    <tr>\n",
       "      <th>max</th>\n",
       "      <td>986.000</td>\n",
       "    </tr>\n",
       "  </tbody>\n",
       "</table>\n",
       "</div>"
      ],
      "text/plain": [
       "          count\n",
       "count  5979.000\n",
       "mean     43.825\n",
       "std      36.490\n",
       "min       1.000\n",
       "25%      20.000\n",
       "50%      38.000\n",
       "75%      60.000\n",
       "max     986.000"
      ]
     },
     "execution_count": 54,
     "metadata": {},
     "output_type": "execute_result"
    }
   ],
   "source": [
    "df_dates.describe()"
   ]
  },
  {
   "cell_type": "markdown",
   "metadata": {},
   "source": [
    "First of all, the mean changes a lot"
   ]
  },
  {
   "cell_type": "code",
   "execution_count": null,
   "metadata": {
    "collapsed": true
   },
   "outputs": [],
   "source": []
  }
 ],
 "metadata": {
  "kernelspec": {
   "display_name": "Python 3",
   "language": "python",
   "name": "python3"
  },
  "language_info": {
   "codemirror_mode": {
    "name": "ipython",
    "version": 3
   },
   "file_extension": ".py",
   "mimetype": "text/x-python",
   "name": "python",
   "nbconvert_exporter": "python",
   "pygments_lexer": "ipython3",
   "version": "3.6.0"
  }
 },
 "nbformat": 4,
 "nbformat_minor": 2
}
