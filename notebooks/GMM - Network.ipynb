{
 "cells": [
  {
   "cell_type": "markdown",
   "metadata": {},
   "source": [
    "### Anomalies Detection on Health Insurance Claims\n",
    "\n",
    "1. Exploratory Data Analysis\n",
    "    + Features knowledge"
   ]
  },
  {
   "cell_type": "markdown",
   "metadata": {},
   "source": [
    "EDA driven on Sinister dataset, followed over some assumptions"
   ]
  },
  {
   "cell_type": "markdown",
   "metadata": {},
   "source": [
    "### Análisis de Conexiones"
   ]
  },
  {
   "cell_type": "code",
   "execution_count": 1,
   "metadata": {
    "collapsed": true
   },
   "outputs": [],
   "source": [
    "import matplotlib as mpl\n",
    "import numpy as np\n",
    "import pandas as pd\n",
    "import matplotlib.pyplot as plt\n",
    "import matplotlib.dates as mdates\n",
    "from pandas.tools.plotting import scatter_matrix\n",
    "mpl.style.use('ggplot')\n",
    "%matplotlib inline"
   ]
  },
  {
   "cell_type": "markdown",
   "metadata": {},
   "source": [
    "En base a los actores y participantes en un siniestro se construyen sus relaciones en un meta grafo, cabe mencionar que se trata de un grafo dirigido finito, en el que se observan 7 tipos de nodos y 3 tipos de relaciones"
   ]
  },
  {
   "cell_type": "markdown",
   "metadata": {},
   "source": [
    "![](meta-graph.png)"
   ]
  },
  {
   "cell_type": "code",
   "execution_count": 2,
   "metadata": {
    "collapsed": false
   },
   "outputs": [
    {
     "name": "stdout",
     "output_type": "stream",
     "text": [
      "/c/Users/A2276061/Documents/GMM\n"
     ]
    }
   ],
   "source": [
    "!pwd"
   ]
  },
  {
   "cell_type": "code",
   "execution_count": 59,
   "metadata": {
    "collapsed": false
   },
   "outputs": [],
   "source": [
    "df_grados = pd.read_csv(\"grados-grafo.csv\", parse_dates=True, encoding=\"latin1\")"
   ]
  },
  {
   "cell_type": "code",
   "execution_count": 60,
   "metadata": {
    "collapsed": true
   },
   "outputs": [],
   "source": [
    "df_nodos = pd.read_csv(\"nodes-relations.csv\", parse_dates=True, encoding=\"latin1\")"
   ]
  },
  {
   "cell_type": "markdown",
   "metadata": {},
   "source": [
    "    //Grados Totales del Grafo\n",
    "    MATCH (n)-[r]-()\n",
    "    RETURN n.Name, count(distinct r) as Degree\n",
    "    ORDER BY Degree DESC"
   ]
  },
  {
   "cell_type": "code",
   "execution_count": 56,
   "metadata": {
    "collapsed": false
   },
   "outputs": [
    {
     "name": "stdout",
     "output_type": "stream",
     "text": [
      "                                         n.Name  Degree\n",
      "0       UNIVERSIDAD NACIONAL AUTONOMA DE MEXICO     391\n",
      "1                  GOBIERNO DEL EDO. DE JALISCO     280\n",
      "2                                  IHO890607N67     116\n",
      "3                     ASTRAZENECA, S.A. DE C.V.      69\n",
      "4                                 HCO730301UB7B      68\n",
      "5                                 HCO730301UB7A      65\n",
      "6                                  AMS0310307G0      61\n",
      "7   ASOCIACION EDUCACIONAL MEXICO CENTRAL, A.C.      59\n",
      "8               COLEGIO CERVANTES PRIMARIA A.C.      55\n",
      "9                                 FAGA760725EC7      55\n",
      "10                                        SABES      48\n",
      "11                                 HCO000119IS6      48\n",
      "12                                 MSU820125T58      48\n",
      "13                                 OHM060822EG1      48\n",
      "14                                IAML6108233Q0      43\n",
      "15                                 CSA030923LB3      41\n",
      "16                 ABC AEROLINEAS, S.A. DE C.V.      40\n",
      "17                                CMS051026K6AG      40\n",
      "18                     ASEGURADO MODELO ALUMNOS      38\n",
      "19                                 FSG7712283P5      36\n",
      "20                                 LLC000307TNA      35\n",
      "21                                 JHE0708256W0      34\n",
      "22           CALSONICKANSEI MEXICANA S.A DE C.V      34\n",
      "23                                OOVL7103209A9      33\n",
      "24           UNIVERSIDAD AUTONOMA METROPOLITANA      32\n",
      "25            MINDSHARE DE MEXICO, S.A. DE C.V.      31\n",
      "26                                 HSM721001KQ2      30\n",
      "27                                 HTE7901285Y7      29\n",
      "28                GOBIERNO DEL ESTADO DE MEXICO      28\n",
      "29           VIAKABLE OPERACIONES, S.A. DE C.V.      28\n"
     ]
    }
   ],
   "source": [
    "print(df_grados.head(30))"
   ]
  },
  {
   "cell_type": "code",
   "execution_count": 63,
   "metadata": {
    "collapsed": false
   },
   "outputs": [
    {
     "data": {
      "text/plain": [
       "4941"
      ]
     },
     "execution_count": 63,
     "metadata": {},
     "output_type": "execute_result"
    }
   ],
   "source": [
    "df_grados['Degree'].count()"
   ]
  },
  {
   "cell_type": "markdown",
   "metadata": {},
   "source": [
    "Conocer el grado de las conexiones nos ayuda a conocer el \"peso\" en las relaciones que tienen los distintos actores en un siniestro. \n",
    "\n",
    "Adicionalmente a esto se observó anteriormente los casos atípicos que se deben considerar con una etiqueta distinta o un dataset diferente, con la finalidad de que si tenemos un actor en el tiempo y tiene mayor grado que el esperado entonces es un punto de observación"
   ]
  },
  {
   "cell_type": "code",
   "execution_count": 67,
   "metadata": {
    "collapsed": false
   },
   "outputs": [
    {
     "data": {
      "text/plain": [
       "<matplotlib.figure.Figure at 0x101f0710>"
      ]
     },
     "metadata": {},
     "output_type": "display_data"
    },
    {
     "data": {
      "image/png": "[encoded data removed]",
      "text/plain": [
       "<matplotlib.figure.Figure at 0x101defd0>"
      ]
     },
     "metadata": {},
     "output_type": "display_data"
    }
   ],
   "source": [
    "plt.figure()\n",
    "df_grados[df_grados['Degree']<10].hist(bins=10)\n",
    "plt.show()"
   ]
  },
  {
   "cell_type": "code",
   "execution_count": 70,
   "metadata": {
    "collapsed": false
   },
   "outputs": [
    {
     "data": {
      "text/plain": [
       "3.5019226877150373"
      ]
     },
     "execution_count": 70,
     "metadata": {},
     "output_type": "execute_result"
    }
   ],
   "source": [
    "df_grados['Degree'].mean()"
   ]
  },
  {
   "cell_type": "markdown",
   "metadata": {},
   "source": [
    "### Grafo 7 tipos de nodo 2 tipos de relaciones"
   ]
  },
  {
   "cell_type": "markdown",
   "metadata": {},
   "source": [
    "![](graph-all-3k.png) [Todos los Nodos](graph-all-3k.png)"
   ]
  },
  {
   "cell_type": "markdown",
   "metadata": {},
   "source": [
    "Después de tener un panorama general de las comunidades influyentes en el grafo, se observa que la inercia va dirigida a los hospitales y las oficinas, por lo que se analizará por separado la relación \"work\" para tener una idea de como los agentes se relacinan con los prestadores de servicios"
   ]
  },
  {
   "cell_type": "markdown",
   "metadata": {},
   "source": [
    "    MATCH p=()-[r:Work]->() RETURN p"
   ]
  },
  {
   "cell_type": "markdown",
   "metadata": {},
   "source": [
    "### Grafo 4 tipos de nodo 1 tipo de relacion"
   ]
  },
  {
   "cell_type": "markdown",
   "metadata": {},
   "source": [
    "![](graph-place-ralation.png)  [Nodos tipo lugar](graph-place-ralation.png)"
   ]
  },
  {
   "cell_type": "markdown",
   "metadata": {},
   "source": [
    "Hay una mejor visualización de comunidades y su influencia en el peso del grafo"
   ]
  },
  {
   "cell_type": "code",
   "execution_count": 54,
   "metadata": {
    "collapsed": false
   },
   "outputs": [
    {
     "data": {
      "text/html": [
       "<div>\n",
       "<table border=\"1\" class=\"dataframe\">\n",
       "  <thead>\n",
       "    <tr style=\"text-align: right;\">\n",
       "      <th></th>\n",
       "      <th></th>\n",
       "      <th></th>\n",
       "    </tr>\n",
       "    <tr>\n",
       "      <th>HOSP_NAME</th>\n",
       "      <th>OFFICE_NAME</th>\n",
       "      <th>POLICY_NAME</th>\n",
       "    </tr>\n",
       "  </thead>\n",
       "  <tbody>\n",
       "    <tr>\n",
       "      <th rowspan=\"61\" valign=\"top\">CENTRO MEDICO DALINDE</th>\n",
       "      <th>AARCO AGENTE DE SEGUROS Y DE FIANZAS SA DE CV</th>\n",
       "      <th>CH2M HILL, S.A. DE C.V.</th>\n",
       "    </tr>\n",
       "    <tr>\n",
       "      <th>ANDREA CORONA ESPINOZA</th>\n",
       "      <th>A.C.J. DE LA CIUDAD DE MEXICO YMCA, A.C.</th>\n",
       "    </tr>\n",
       "    <tr>\n",
       "      <th>AON MEXICO LINEAS PERSONALES BANORTE JALISCO</th>\n",
       "      <th>ASTRAZENECA, S.A. DE C.V.</th>\n",
       "    </tr>\n",
       "    <tr>\n",
       "      <th>AON MEXICO LINEAS PERSONALES BANORTE MEXICO</th>\n",
       "      <th>ASTRAZENECA, S.A. DE C.V.</th>\n",
       "    </tr>\n",
       "    <tr>\n",
       "      <th>AON MEXICO LINEAS PERSONALES BANORTE RESTO DE LA R</th>\n",
       "      <th>ASTRAZENECA, S.A. DE C.V.</th>\n",
       "    </tr>\n",
       "    <tr>\n",
       "      <th>ARMANDO ILESCA MIGUEL</th>\n",
       "      <th>A.C.J. DE LA CIUDAD DE MEXICO YMCA, A.C.</th>\n",
       "    </tr>\n",
       "    <tr>\n",
       "      <th>ASOC EDUCACIONAL MEXICO CENTRAL AC CVE4576</th>\n",
       "      <th>ASOCIACION EDUCACIONAL MEXICO CENTRAL, A.C.</th>\n",
       "    </tr>\n",
       "    <tr>\n",
       "      <th rowspan=\"2\" valign=\"top\">BITUAJ (MERCADOS MASIVOS)</th>\n",
       "      <th>ABC AEROLINEAS, S.A. DE C.V.</th>\n",
       "    </tr>\n",
       "    <tr>\n",
       "      <th>SERVICIOS ADMINISTRATIVOS VOLARIS, S.A. DE C.V.</th>\n",
       "    </tr>\n",
       "    <tr>\n",
       "      <th rowspan=\"2\" valign=\"top\">BITUAJ AGENTE DE SEGUROS Y DE FIANZAS SA</th>\n",
       "      <th>ABC AEROLINEAS, S.A. DE C.V.</th>\n",
       "    </tr>\n",
       "    <tr>\n",
       "      <th>SERVICIOS ADMINISTRATIVOS VOLARIS, S.A. DE C.V.</th>\n",
       "    </tr>\n",
       "    <tr>\n",
       "      <th>CANCUN</th>\n",
       "      <th>CH2M HILL, S.A. DE C.V.</th>\n",
       "    </tr>\n",
       "    <tr>\n",
       "      <th rowspan=\"2\" valign=\"top\">CFE</th>\n",
       "      <th>UNIVERSIDAD AUTONOMA METROPOLITANA</th>\n",
       "    </tr>\n",
       "    <tr>\n",
       "      <th>UNIVERSIDAD NACIONAL AUTONOMA DE MEXICO</th>\n",
       "    </tr>\n",
       "    <tr>\n",
       "      <th>CHIHUAHUA</th>\n",
       "      <th>CH2M HILL, S.A. DE C.V.</th>\n",
       "    </tr>\n",
       "    <tr>\n",
       "      <th>CLAUDIA LIMON GONZALEZ</th>\n",
       "      <th>A.C.J. DE LA CIUDAD DE MEXICO YMCA, A.C.</th>\n",
       "    </tr>\n",
       "    <tr>\n",
       "      <th rowspan=\"2\" valign=\"top\">CLICK SEGUROS (CVE2742) CARGA MASIVA</th>\n",
       "      <th>ABC AEROLINEAS, S.A. DE C.V.</th>\n",
       "    </tr>\n",
       "    <tr>\n",
       "      <th>SERVICIOS ADMINISTRATIVOS VOLARIS, S.A. DE C.V.</th>\n",
       "    </tr>\n",
       "    <tr>\n",
       "      <th rowspan=\"2\" valign=\"top\">CLICK SEGUROS 1 (CVE2742)</th>\n",
       "      <th>ABC AEROLINEAS, S.A. DE C.V.</th>\n",
       "    </tr>\n",
       "    <tr>\n",
       "      <th>SERVICIOS ADMINISTRATIVOS VOLARIS, S.A. DE C.V.</th>\n",
       "    </tr>\n",
       "    <tr>\n",
       "      <th rowspan=\"2\" valign=\"top\">CLICK SEGUROS 2 (CVE2742)</th>\n",
       "      <th>ABC AEROLINEAS, S.A. DE C.V.</th>\n",
       "    </tr>\n",
       "    <tr>\n",
       "      <th>SERVICIOS ADMINISTRATIVOS VOLARIS, S.A. DE C.V.</th>\n",
       "    </tr>\n",
       "    <tr>\n",
       "      <th rowspan=\"2\" valign=\"top\">CORCAM EMPLEADOS (CVE4792)</th>\n",
       "      <th>SIEMENS ENTERPRISE COMMUNICATIONS SERVICIOS, S.A DE C.V</th>\n",
       "    </tr>\n",
       "    <tr>\n",
       "      <th>SONY COMERCIO DE MEXICO, S.A. DE C.V.</th>\n",
       "    </tr>\n",
       "    <tr>\n",
       "      <th>DANIEL ANTONIO NUNEZ RUBIO</th>\n",
       "      <th>A.C.J. DE LA CIUDAD DE MEXICO YMCA, A.C.</th>\n",
       "    </tr>\n",
       "    <tr>\n",
       "      <th rowspan=\"2\" valign=\"top\">FLOTILLA EMPLEADOS CARVAJAL (CVE4792)</th>\n",
       "      <th>SIEMENS ENTERPRISE COMMUNICATIONS SERVICIOS, S.A DE C.V</th>\n",
       "    </tr>\n",
       "    <tr>\n",
       "      <th>SONY COMERCIO DE MEXICO, S.A. DE C.V.</th>\n",
       "    </tr>\n",
       "    <tr>\n",
       "      <th rowspan=\"2\" valign=\"top\">FLOTILLA EMPLEADOS HENKEL MEXICANA</th>\n",
       "      <th>SIEMENS ENTERPRISE COMMUNICATIONS SERVICIOS, S.A DE C.V</th>\n",
       "    </tr>\n",
       "    <tr>\n",
       "      <th>SONY COMERCIO DE MEXICO, S.A. DE C.V.</th>\n",
       "    </tr>\n",
       "    <tr>\n",
       "      <th>FLOTILLA EMPLEADOS PROYECTO MAQUILAS (CVE4792)</th>\n",
       "      <th>SIEMENS ENTERPRISE COMMUNICATIONS SERVICIOS, S.A DE C.V</th>\n",
       "    </tr>\n",
       "    <tr>\n",
       "      <th>FLOTILLA EMPLEADOS PROYECTO MAQUILAS (CVE4792)</th>\n",
       "      <th>...</th>\n",
       "    </tr>\n",
       "    <tr>\n",
       "      <th>JOSE LUIS MORA GAYTAN (PUEBLA)</th>\n",
       "      <th>A.C.J. DE LA CIUDAD DE MEXICO YMCA, A.C.</th>\n",
       "    </tr>\n",
       "    <tr>\n",
       "      <th>JOSE LUIS MORA GAYTAN (TAPACHULA 7166)</th>\n",
       "      <th>A.C.J. DE LA CIUDAD DE MEXICO YMCA, A.C.</th>\n",
       "    </tr>\n",
       "    <tr>\n",
       "      <th>JOSE LUIS MORA GAYTAN (TOLUCA)</th>\n",
       "      <th>A.C.J. DE LA CIUDAD DE MEXICO YMCA, A.C.</th>\n",
       "    </tr>\n",
       "    <tr>\n",
       "      <th>JOSE LUIS MORA GAYTAN (TORREON 1202)</th>\n",
       "      <th>A.C.J. DE LA CIUDAD DE MEXICO YMCA, A.C.</th>\n",
       "    </tr>\n",
       "    <tr>\n",
       "      <th>JOSE LUIS MORA GAYTAN (TORREON)</th>\n",
       "      <th>A.C.J. DE LA CIUDAD DE MEXICO YMCA, A.C.</th>\n",
       "    </tr>\n",
       "    <tr>\n",
       "      <th>JOSE LUIS MORA GAYTAN (VERACRUZ)</th>\n",
       "      <th>A.C.J. DE LA CIUDAD DE MEXICO YMCA, A.C.</th>\n",
       "    </tr>\n",
       "    <tr>\n",
       "      <th>JOSE LUIS MORA GAYTAN (VILLAHERMOSA)</th>\n",
       "      <th>A.C.J. DE LA CIUDAD DE MEXICO YMCA, A.C.</th>\n",
       "    </tr>\n",
       "    <tr>\n",
       "      <th>JOSE LUIS MORA GAYTAN TOLUCA (1016)</th>\n",
       "      <th>A.C.J. DE LA CIUDAD DE MEXICO YMCA, A.C.</th>\n",
       "    </tr>\n",
       "    <tr>\n",
       "      <th>JOSE LUIS MORA GAYTAN TULA HIDALGO</th>\n",
       "      <th>A.C.J. DE LA CIUDAD DE MEXICO YMCA, A.C.</th>\n",
       "    </tr>\n",
       "    <tr>\n",
       "      <th>JUAN JOSE CABRERA ZAMORA</th>\n",
       "      <th>A.C.J. DE LA CIUDAD DE MEXICO YMCA, A.C.</th>\n",
       "    </tr>\n",
       "    <tr>\n",
       "      <th rowspan=\"2\" valign=\"top\">MAIZ FRITO SA DE CV (CMAS CVE 4792)</th>\n",
       "      <th>SIEMENS ENTERPRISE COMMUNICATIONS SERVICIOS, S.A DE C.V</th>\n",
       "    </tr>\n",
       "    <tr>\n",
       "      <th>SONY COMERCIO DE MEXICO, S.A. DE C.V.</th>\n",
       "    </tr>\n",
       "    <tr>\n",
       "      <th>MANUEL SALAZAR HERNANDEZ</th>\n",
       "      <th>A.C.J. DE LA CIUDAD DE MEXICO YMCA, A.C.</th>\n",
       "    </tr>\n",
       "    <tr>\n",
       "      <th rowspan=\"2\" valign=\"top\">MARSH BROCKMAN Y SCHUH</th>\n",
       "      <th>SIEMENS ENTERPRISE COMMUNICATIONS SERVICIOS, S.A DE C.V</th>\n",
       "    </tr>\n",
       "    <tr>\n",
       "      <th>SONY COMERCIO DE MEXICO, S.A. DE C.V.</th>\n",
       "    </tr>\n",
       "    <tr>\n",
       "      <th rowspan=\"2\" valign=\"top\">MARSH BROCKMAN Y SCHUH AGENTE DE SEGUROS</th>\n",
       "      <th>SIEMENS ENTERPRISE COMMUNICATIONS SERVICIOS, S.A DE C.V</th>\n",
       "    </tr>\n",
       "    <tr>\n",
       "      <th>SONY COMERCIO DE MEXICO, S.A. DE C.V.</th>\n",
       "    </tr>\n",
       "    <tr>\n",
       "      <th rowspan=\"2\" valign=\"top\">MARSH SIMPLE (CVE 12053)</th>\n",
       "      <th>SIEMENS ENTERPRISE COMMUNICATIONS SERVICIOS, S.A DE C.V</th>\n",
       "    </tr>\n",
       "    <tr>\n",
       "      <th>SONY COMERCIO DE MEXICO, S.A. DE C.V.</th>\n",
       "    </tr>\n",
       "    <tr>\n",
       "      <th>MATTEI GENTILI PADELLETTI PAOLO</th>\n",
       "      <th>FUJI SERVICIOS, S.A. DE C.V.</th>\n",
       "    </tr>\n",
       "    <tr>\n",
       "      <th>MCGRAW HILL INTERAMERICANA EDITORES SA DE CV</th>\n",
       "      <th>ASTRAZENECA, S.A. DE C.V.</th>\n",
       "    </tr>\n",
       "    <tr>\n",
       "      <th rowspan=\"2\" valign=\"top\">MONTEMEX (CVE4792)</th>\n",
       "      <th>SIEMENS ENTERPRISE COMMUNICATIONS SERVICIOS, S.A DE C.V</th>\n",
       "    </tr>\n",
       "    <tr>\n",
       "      <th>SONY COMERCIO DE MEXICO, S.A. DE C.V.</th>\n",
       "    </tr>\n",
       "    <tr>\n",
       "      <th rowspan=\"2\" valign=\"top\">OSCAR JIMENEZ Y ASOCIADOS SC</th>\n",
       "      <th>ASOC. MEXICANA DE LA INDUSTRIA DE TECNOLOGIAS DE INFORM</th>\n",
       "    </tr>\n",
       "    <tr>\n",
       "      <th>EPI USE MEXICO S.A. DE C.V.</th>\n",
       "    </tr>\n",
       "    <tr>\n",
       "      <th rowspan=\"2\" valign=\"top\">SAGARPA</th>\n",
       "      <th>UNIVERSIDAD AUTONOMA METROPOLITANA</th>\n",
       "    </tr>\n",
       "    <tr>\n",
       "      <th>UNIVERSIDAD NACIONAL AUTONOMA DE MEXICO</th>\n",
       "    </tr>\n",
       "    <tr>\n",
       "      <th rowspan=\"2\" valign=\"top\">SEMARNAT</th>\n",
       "      <th>UNIVERSIDAD AUTONOMA METROPOLITANA</th>\n",
       "    </tr>\n",
       "    <tr>\n",
       "      <th>UNIVERSIDAD NACIONAL AUTONOMA DE MEXICO</th>\n",
       "    </tr>\n",
       "    <tr>\n",
       "      <th>TIJUANA</th>\n",
       "      <th>CH2M HILL, S.A. DE C.V.</th>\n",
       "    </tr>\n",
       "  </tbody>\n",
       "</table>\n",
       "<p>91 rows × 0 columns</p>\n",
       "</div>"
      ],
      "text/plain": [
       "Empty DataFrame\n",
       "Columns: []\n",
       "Index: [(CENTRO MEDICO DALINDE, AARCO AGENTE DE SEGUROS Y DE FIANZAS SA DE CV     , CH2M HILL, S.A. DE C.V.), (CENTRO MEDICO DALINDE, ANDREA CORONA ESPINOZA                            , A.C.J. DE LA CIUDAD DE MEXICO YMCA, A.C.), (CENTRO MEDICO DALINDE, AON MEXICO LINEAS PERSONALES BANORTE JALISCO      , ASTRAZENECA, S.A. DE C.V.), (CENTRO MEDICO DALINDE, AON MEXICO LINEAS PERSONALES BANORTE MEXICO       , ASTRAZENECA, S.A. DE C.V.), (CENTRO MEDICO DALINDE, AON MEXICO LINEAS PERSONALES BANORTE RESTO DE LA R, ASTRAZENECA, S.A. DE C.V.), (CENTRO MEDICO DALINDE, ARMANDO ILESCA MIGUEL                             , A.C.J. DE LA CIUDAD DE MEXICO YMCA, A.C.), (CENTRO MEDICO DALINDE, ASOC EDUCACIONAL MEXICO CENTRAL AC CVE4576        , ASOCIACION EDUCACIONAL MEXICO CENTRAL, A.C.), (CENTRO MEDICO DALINDE, BITUAJ (MERCADOS MASIVOS)                         , ABC AEROLINEAS, S.A. DE C.V.), (CENTRO MEDICO DALINDE, BITUAJ (MERCADOS MASIVOS)                         , SERVICIOS ADMINISTRATIVOS VOLARIS, S.A. DE C.V.), (CENTRO MEDICO DALINDE, BITUAJ AGENTE DE SEGUROS Y DE FIANZAS SA          , ABC AEROLINEAS, S.A. DE C.V.), (CENTRO MEDICO DALINDE, BITUAJ AGENTE DE SEGUROS Y DE FIANZAS SA          , SERVICIOS ADMINISTRATIVOS VOLARIS, S.A. DE C.V.), (CENTRO MEDICO DALINDE, CANCUN                                            , CH2M HILL, S.A. DE C.V.), (CENTRO MEDICO DALINDE, CFE                                               , UNIVERSIDAD AUTONOMA METROPOLITANA), (CENTRO MEDICO DALINDE, CFE                                               , UNIVERSIDAD NACIONAL AUTONOMA DE MEXICO), (CENTRO MEDICO DALINDE, CHIHUAHUA                                         , CH2M HILL, S.A. DE C.V.), (CENTRO MEDICO DALINDE, CLAUDIA LIMON GONZALEZ                            , A.C.J. DE LA CIUDAD DE MEXICO YMCA, A.C.), (CENTRO MEDICO DALINDE, CLICK SEGUROS (CVE2742) CARGA MASIVA              , ABC AEROLINEAS, S.A. DE C.V.), (CENTRO MEDICO DALINDE, CLICK SEGUROS (CVE2742) CARGA MASIVA              , SERVICIOS ADMINISTRATIVOS VOLARIS, S.A. DE C.V.), (CENTRO MEDICO DALINDE, CLICK SEGUROS 1 (CVE2742)                         , ABC AEROLINEAS, S.A. DE C.V.), (CENTRO MEDICO DALINDE, CLICK SEGUROS 1 (CVE2742)                         , SERVICIOS ADMINISTRATIVOS VOLARIS, S.A. DE C.V.), (CENTRO MEDICO DALINDE, CLICK SEGUROS 2 (CVE2742)                         , ABC AEROLINEAS, S.A. DE C.V.), (CENTRO MEDICO DALINDE, CLICK SEGUROS 2 (CVE2742)                         , SERVICIOS ADMINISTRATIVOS VOLARIS, S.A. DE C.V.), (CENTRO MEDICO DALINDE, CORCAM EMPLEADOS (CVE4792)                        , SIEMENS ENTERPRISE COMMUNICATIONS SERVICIOS, S.A DE C.V), (CENTRO MEDICO DALINDE, CORCAM EMPLEADOS (CVE4792)                        , SONY COMERCIO DE MEXICO, S.A. DE C.V.), (CENTRO MEDICO DALINDE, DANIEL ANTONIO NUNEZ RUBIO                        , A.C.J. DE LA CIUDAD DE MEXICO YMCA, A.C.), (CENTRO MEDICO DALINDE, FLOTILLA EMPLEADOS CARVAJAL (CVE4792)             , SIEMENS ENTERPRISE COMMUNICATIONS SERVICIOS, S.A DE C.V), (CENTRO MEDICO DALINDE, FLOTILLA EMPLEADOS CARVAJAL (CVE4792)             , SONY COMERCIO DE MEXICO, S.A. DE C.V.), (CENTRO MEDICO DALINDE, FLOTILLA EMPLEADOS HENKEL MEXICANA                , SIEMENS ENTERPRISE COMMUNICATIONS SERVICIOS, S.A DE C.V), (CENTRO MEDICO DALINDE, FLOTILLA EMPLEADOS HENKEL MEXICANA                , SONY COMERCIO DE MEXICO, S.A. DE C.V.), (CENTRO MEDICO DALINDE, FLOTILLA EMPLEADOS PROYECTO MAQUILAS (CVE4792)    , SIEMENS ENTERPRISE COMMUNICATIONS SERVICIOS, S.A DE C.V), (CENTRO MEDICO DALINDE, FLOTILLA EMPLEADOS PROYECTO MAQUILAS (CVE4792)    , SONY COMERCIO DE MEXICO, S.A. DE C.V.), (CENTRO MEDICO DALINDE, FLOTILLA EMPLEADOS UNIFY COMUNICATIONS            , SIEMENS ENTERPRISE COMMUNICATIONS SERVICIOS, S.A DE C.V), (CENTRO MEDICO DALINDE, FLOTILLA EMPLEADOS UNIFY COMUNICATIONS            , SONY COMERCIO DE MEXICO, S.A. DE C.V.), (CENTRO MEDICO DALINDE, FRANCISCO JONATHAN MARTINEZ                       , A.C.J. DE LA CIUDAD DE MEXICO YMCA, A.C.), (CENTRO MEDICO DALINDE, GSI ASESORES PROFESIONALES SA DE CV               , A.C.J. DE LA CIUDAD DE MEXICO YMCA, A.C.), (CENTRO MEDICO DALINDE, HOSPIRA S DE RL DE CV (CMAS CVE4792)              , SIEMENS ENTERPRISE COMMUNICATIONS SERVICIOS, S.A DE C.V), (CENTRO MEDICO DALINDE, HOSPIRA S DE RL DE CV (CMAS CVE4792)              , SONY COMERCIO DE MEXICO, S.A. DE C.V.), (CENTRO MEDICO DALINDE, IL SERVICIOS SA DE CV CVE4792 CMASIVA             , SIEMENS ENTERPRISE COMMUNICATIONS SERVICIOS, S.A DE C.V), (CENTRO MEDICO DALINDE, IL SERVICIOS SA DE CV CVE4792 CMASIVA             , SONY COMERCIO DE MEXICO, S.A. DE C.V.), (CENTRO MEDICO DALINDE, INTERTEC AGENTE DE SEGUROS Y FIANZAS S.A          , SERVICIOS Y ASISTENCIA TOTAL NR, S.A DE C.V.), (CENTRO MEDICO DALINDE, ISAAC DANIEL RUIZ JARQUIN                         , A.C.J. DE LA CIUDAD DE MEXICO YMCA, A.C.), (CENTRO MEDICO DALINDE, JESUS ARTURO PENALOZA GARCIA                      , MINDSHARE DE MEXICO, S.A. DE C.V.), (CENTRO MEDICO DALINDE, JESUS MATADAMAS HERNANDEZ                         , A.C.J. DE LA CIUDAD DE MEXICO YMCA, A.C.), (CENTRO MEDICO DALINDE, JOSE LUIS MORA GAYTAN                             , A.C.J. DE LA CIUDAD DE MEXICO YMCA, A.C.), (CENTRO MEDICO DALINDE, JOSE LUIS MORA GAYTAN (1398)                      , A.C.J. DE LA CIUDAD DE MEXICO YMCA, A.C.), (CENTRO MEDICO DALINDE, JOSE LUIS MORA GAYTAN (2171)                      , A.C.J. DE LA CIUDAD DE MEXICO YMCA, A.C.), (CENTRO MEDICO DALINDE, JOSE LUIS MORA GAYTAN (2605)                      , A.C.J. DE LA CIUDAD DE MEXICO YMCA, A.C.), (CENTRO MEDICO DALINDE, JOSE LUIS MORA GAYTAN (3001)                      , A.C.J. DE LA CIUDAD DE MEXICO YMCA, A.C.), (CENTRO MEDICO DALINDE, JOSE LUIS MORA GAYTAN (4252 D.F.)                 , A.C.J. DE LA CIUDAD DE MEXICO YMCA, A.C.), (CENTRO MEDICO DALINDE, JOSE LUIS MORA GAYTAN (7160)                      , A.C.J. DE LA CIUDAD DE MEXICO YMCA, A.C.), (CENTRO MEDICO DALINDE, JOSE LUIS MORA GAYTAN (7270)                      , A.C.J. DE LA CIUDAD DE MEXICO YMCA, A.C.), (CENTRO MEDICO DALINDE, JOSE LUIS MORA GAYTAN (7496)                      , A.C.J. DE LA CIUDAD DE MEXICO YMCA, A.C.), (CENTRO MEDICO DALINDE, JOSE LUIS MORA GAYTAN (8020)                      , A.C.J. DE LA CIUDAD DE MEXICO YMCA, A.C.), (CENTRO MEDICO DALINDE, JOSE LUIS MORA GAYTAN (ACAPULCO 1542)             , A.C.J. DE LA CIUDAD DE MEXICO YMCA, A.C.), (CENTRO MEDICO DALINDE, JOSE LUIS MORA GAYTAN (C ABASTOS MEX)             , A.C.J. DE LA CIUDAD DE MEXICO YMCA, A.C.), (CENTRO MEDICO DALINDE, JOSE LUIS MORA GAYTAN (CVE 2386)                  , A.C.J. DE LA CIUDAD DE MEXICO YMCA, A.C.), (CENTRO MEDICO DALINDE, JOSE LUIS MORA GAYTAN (D.F MA. E IBANEZ)          , A.C.J. DE LA CIUDAD DE MEXICO YMCA, A.C.), (CENTRO MEDICO DALINDE, JOSE LUIS MORA GAYTAN (D.F O. RUIZ)               , A.C.J. DE LA CIUDAD DE MEXICO YMCA, A.C.), (CENTRO MEDICO DALINDE, JOSE LUIS MORA GAYTAN (D.F. 7691)                 , A.C.J. DE LA CIUDAD DE MEXICO YMCA, A.C.), (CENTRO MEDICO DALINDE, JOSE LUIS MORA GAYTAN (GOMEZ PALACIO DGO          , A.C.J. DE LA CIUDAD DE MEXICO YMCA, A.C.), (CENTRO MEDICO DALINDE, JOSE LUIS MORA GAYTAN (PACHUCA 7207)              , A.C.J. DE LA CIUDAD DE MEXICO YMCA, A.C.), (CENTRO MEDICO DALINDE, JOSE LUIS MORA GAYTAN (PUEBLA)                    , A.C.J. DE LA CIUDAD DE MEXICO YMCA, A.C.), (CENTRO MEDICO DALINDE, JOSE LUIS MORA GAYTAN (TAPACHULA 7166)            , A.C.J. DE LA CIUDAD DE MEXICO YMCA, A.C.), (CENTRO MEDICO DALINDE, JOSE LUIS MORA GAYTAN (TOLUCA)                    , A.C.J. DE LA CIUDAD DE MEXICO YMCA, A.C.), (CENTRO MEDICO DALINDE, JOSE LUIS MORA GAYTAN (TORREON 1202)              , A.C.J. DE LA CIUDAD DE MEXICO YMCA, A.C.), (CENTRO MEDICO DALINDE, JOSE LUIS MORA GAYTAN (TORREON)                   , A.C.J. DE LA CIUDAD DE MEXICO YMCA, A.C.), (CENTRO MEDICO DALINDE, JOSE LUIS MORA GAYTAN (VERACRUZ)                  , A.C.J. DE LA CIUDAD DE MEXICO YMCA, A.C.), (CENTRO MEDICO DALINDE, JOSE LUIS MORA GAYTAN (VILLAHERMOSA)              , A.C.J. DE LA CIUDAD DE MEXICO YMCA, A.C.), (CENTRO MEDICO DALINDE, JOSE LUIS MORA GAYTAN TOLUCA (1016)               , A.C.J. DE LA CIUDAD DE MEXICO YMCA, A.C.), (CENTRO MEDICO DALINDE, JOSE LUIS MORA GAYTAN TULA HIDALGO                , A.C.J. DE LA CIUDAD DE MEXICO YMCA, A.C.), (CENTRO MEDICO DALINDE, JUAN JOSE CABRERA ZAMORA                          , A.C.J. DE LA CIUDAD DE MEXICO YMCA, A.C.), (CENTRO MEDICO DALINDE, MAIZ FRITO SA DE CV (CMAS CVE 4792)               , SIEMENS ENTERPRISE COMMUNICATIONS SERVICIOS, S.A DE C.V), (CENTRO MEDICO DALINDE, MAIZ FRITO SA DE CV (CMAS CVE 4792)               , SONY COMERCIO DE MEXICO, S.A. DE C.V.), (CENTRO MEDICO DALINDE, MANUEL SALAZAR HERNANDEZ                          , A.C.J. DE LA CIUDAD DE MEXICO YMCA, A.C.), (CENTRO MEDICO DALINDE, MARSH BROCKMAN Y SCHUH                            , SIEMENS ENTERPRISE COMMUNICATIONS SERVICIOS, S.A DE C.V), (CENTRO MEDICO DALINDE, MARSH BROCKMAN Y SCHUH                            , SONY COMERCIO DE MEXICO, S.A. DE C.V.), (CENTRO MEDICO DALINDE, MARSH BROCKMAN Y SCHUH AGENTE DE SEGUROS          , SIEMENS ENTERPRISE COMMUNICATIONS SERVICIOS, S.A DE C.V), (CENTRO MEDICO DALINDE, MARSH BROCKMAN Y SCHUH AGENTE DE SEGUROS          , SONY COMERCIO DE MEXICO, S.A. DE C.V.), (CENTRO MEDICO DALINDE, MARSH SIMPLE (CVE 12053)                          , SIEMENS ENTERPRISE COMMUNICATIONS SERVICIOS, S.A DE C.V), (CENTRO MEDICO DALINDE, MARSH SIMPLE (CVE 12053)                          , SONY COMERCIO DE MEXICO, S.A. DE C.V.), (CENTRO MEDICO DALINDE, MATTEI GENTILI PADELLETTI PAOLO                   , FUJI SERVICIOS, S.A. DE C.V.), (CENTRO MEDICO DALINDE, MCGRAW HILL INTERAMERICANA EDITORES SA DE CV      , ASTRAZENECA, S.A. DE C.V.), (CENTRO MEDICO DALINDE, MONTEMEX (CVE4792)                                , SIEMENS ENTERPRISE COMMUNICATIONS SERVICIOS, S.A DE C.V), (CENTRO MEDICO DALINDE, MONTEMEX (CVE4792)                                , SONY COMERCIO DE MEXICO, S.A. DE C.V.), (CENTRO MEDICO DALINDE, OSCAR JIMENEZ Y ASOCIADOS SC                      , ASOC. MEXICANA DE LA INDUSTRIA DE TECNOLOGIAS DE INFORM), (CENTRO MEDICO DALINDE, OSCAR JIMENEZ Y ASOCIADOS SC                      , EPI USE MEXICO S.A. DE C.V.), (CENTRO MEDICO DALINDE, SAGARPA                                           , UNIVERSIDAD AUTONOMA METROPOLITANA), (CENTRO MEDICO DALINDE, SAGARPA                                           , UNIVERSIDAD NACIONAL AUTONOMA DE MEXICO), (CENTRO MEDICO DALINDE, SEMARNAT                                          , UNIVERSIDAD AUTONOMA METROPOLITANA), (CENTRO MEDICO DALINDE, SEMARNAT                                          , UNIVERSIDAD NACIONAL AUTONOMA DE MEXICO), (CENTRO MEDICO DALINDE, TIJUANA                                           , CH2M HILL, S.A. DE C.V.)]\n",
       "\n",
       "[91 rows x 0 columns]"
      ]
     },
     "execution_count": 54,
     "metadata": {},
     "output_type": "execute_result"
    }
   ],
   "source": [
    "hosp1=df_nodos[df_nodos['HOSP_ID'] =='IHO890607N67']\n",
    "hosp1[['HOSP_NAME','OFFICE_NAME','POLICY_NAME']].groupby(['HOSP_NAME','OFFICE_NAME','POLICY_NAME']).count()"
   ]
  },
  {
   "cell_type": "code",
   "execution_count": 75,
   "metadata": {
    "collapsed": false
   },
   "outputs": [
    {
     "data": {
      "text/html": [
       "<div>\n",
       "<table border=\"1\" class=\"dataframe\">\n",
       "  <thead>\n",
       "    <tr style=\"text-align: right;\">\n",
       "      <th></th>\n",
       "      <th></th>\n",
       "      <th></th>\n",
       "    </tr>\n",
       "    <tr>\n",
       "      <th>HOSP_NAME</th>\n",
       "      <th>OFFICE_NAME</th>\n",
       "      <th>POLICY_NAME</th>\n",
       "    </tr>\n",
       "  </thead>\n",
       "  <tbody>\n",
       "    <tr>\n",
       "      <th rowspan=\"36\" valign=\"top\">ASISTENCIA MEDICA SM SINERGIA SC</th>\n",
       "      <th rowspan=\"2\" valign=\"top\">AON MEXICO LINEAS PERSONALES BANORTE JALISCO</th>\n",
       "      <th>ASTRAZENECA, S.A. DE C.V.</th>\n",
       "    </tr>\n",
       "    <tr>\n",
       "      <th>PHILIPS LIGHTING ELECTROMAGNETICS S.A. DE C.V.</th>\n",
       "    </tr>\n",
       "    <tr>\n",
       "      <th rowspan=\"2\" valign=\"top\">AON MEXICO LINEAS PERSONALES BANORTE MEXICO</th>\n",
       "      <th>ASTRAZENECA, S.A. DE C.V.</th>\n",
       "    </tr>\n",
       "    <tr>\n",
       "      <th>PHILIPS LIGHTING ELECTROMAGNETICS S.A. DE C.V.</th>\n",
       "    </tr>\n",
       "    <tr>\n",
       "      <th rowspan=\"2\" valign=\"top\">AON MEXICO LINEAS PERSONALES BANORTE RESTO DE LA R</th>\n",
       "      <th>ASTRAZENECA, S.A. DE C.V.</th>\n",
       "    </tr>\n",
       "    <tr>\n",
       "      <th>PHILIPS LIGHTING ELECTROMAGNETICS S.A. DE C.V.</th>\n",
       "    </tr>\n",
       "    <tr>\n",
       "      <th rowspan=\"2\" valign=\"top\">BITUAJ (MERCADOS MASIVOS)</th>\n",
       "      <th>ABC AEROLINEAS, S.A. DE C.V.</th>\n",
       "    </tr>\n",
       "    <tr>\n",
       "      <th>SERVICIOS ADMINISTRATIVOS VOLARIS, S.A. DE C.V.</th>\n",
       "    </tr>\n",
       "    <tr>\n",
       "      <th rowspan=\"2\" valign=\"top\">BITUAJ AGENTE DE SEGUROS Y DE FIANZAS SA</th>\n",
       "      <th>ABC AEROLINEAS, S.A. DE C.V.</th>\n",
       "    </tr>\n",
       "    <tr>\n",
       "      <th>SERVICIOS ADMINISTRATIVOS VOLARIS, S.A. DE C.V.</th>\n",
       "    </tr>\n",
       "    <tr>\n",
       "      <th>CERRITO AUTOS</th>\n",
       "      <th>COLEGIO DE INGENIEROS CIVILES DEL ESTADO DE MEXICO,A.C.</th>\n",
       "    </tr>\n",
       "    <tr>\n",
       "      <th>CERRITO VIGENCIA MENSUAL</th>\n",
       "      <th>COLEGIO DE INGENIEROS CIVILES DEL ESTADO DE MEXICO,A.C.</th>\n",
       "    </tr>\n",
       "    <tr>\n",
       "      <th>CFE</th>\n",
       "      <th>UNIVERSIDAD NACIONAL AUTONOMA DE MEXICO</th>\n",
       "    </tr>\n",
       "    <tr>\n",
       "      <th>CFE WYL ROMO RODRIGUEZ</th>\n",
       "      <th>HERRERA LOPEZ FRANCISCO VENTURA</th>\n",
       "    </tr>\n",
       "    <tr>\n",
       "      <th>CHG CONSULTORES SC</th>\n",
       "      <th>GOBIERNO DEL ESTADO DE JALISCO / DESCUENTO POR NOMINA</th>\n",
       "    </tr>\n",
       "    <tr>\n",
       "      <th>CLAVE DIRECTA AGUASCALIENTES</th>\n",
       "      <th>CALSONIC KANSEI MEXICANA S.A DE C.V</th>\n",
       "    </tr>\n",
       "    <tr>\n",
       "      <th rowspan=\"2\" valign=\"top\">CLICK SEGUROS (CVE2742) CARGA MASIVA</th>\n",
       "      <th>ABC AEROLINEAS, S.A. DE C.V.</th>\n",
       "    </tr>\n",
       "    <tr>\n",
       "      <th>SERVICIOS ADMINISTRATIVOS VOLARIS, S.A. DE C.V.</th>\n",
       "    </tr>\n",
       "    <tr>\n",
       "      <th rowspan=\"2\" valign=\"top\">CLICK SEGUROS 1 (CVE2742)</th>\n",
       "      <th>ABC AEROLINEAS, S.A. DE C.V.</th>\n",
       "    </tr>\n",
       "    <tr>\n",
       "      <th>SERVICIOS ADMINISTRATIVOS VOLARIS, S.A. DE C.V.</th>\n",
       "    </tr>\n",
       "    <tr>\n",
       "      <th rowspan=\"2\" valign=\"top\">CLICK SEGUROS 2 (CVE2742)</th>\n",
       "      <th>ABC AEROLINEAS, S.A. DE C.V.</th>\n",
       "    </tr>\n",
       "    <tr>\n",
       "      <th>SERVICIOS ADMINISTRATIVOS VOLARIS, S.A. DE C.V.</th>\n",
       "    </tr>\n",
       "    <tr>\n",
       "      <th>DXN EMPLEADOS DE GOBIERNO DEL EDO DE JALISCO</th>\n",
       "      <th>GOBIERNO DEL ESTADO DE JALISCO / DESCUENTO POR NOMINA</th>\n",
       "    </tr>\n",
       "    <tr>\n",
       "      <th>FAMILIARES DE EMPLEADOS DEL GOBIERNO DEL EDO JALIS</th>\n",
       "      <th>GOBIERNO DEL ESTADO DE JALISCO / DESCUENTO POR NOMINA</th>\n",
       "    </tr>\n",
       "    <tr>\n",
       "      <th>FRIEDICH WILHELM RANSOM BECKER</th>\n",
       "      <th>STRATTEC DE MEXICO, S.A. DE C.V.</th>\n",
       "    </tr>\n",
       "    <tr>\n",
       "      <th>GRUFESA (GRUPO FARMACOS ESPECIALIZADOS SA DE CV)</th>\n",
       "      <th>ADM SERVICIOS, S.A. DE C.V.</th>\n",
       "    </tr>\n",
       "    <tr>\n",
       "      <th>GUSTAVO MEDINA REYNAGA</th>\n",
       "      <th>YOROZU MEXICANA, S.A. DE C.V.</th>\n",
       "    </tr>\n",
       "    <tr>\n",
       "      <th>INTERPROTECCION AGENTE D SEGUROS Y D F</th>\n",
       "      <th>ADM SERVICIOS, S.A. DE C.V.</th>\n",
       "    </tr>\n",
       "    <tr>\n",
       "      <th rowspan=\"2\" valign=\"top\">MCGRAW HILL INTERAMERICANA EDITORES SA DE CV</th>\n",
       "      <th>ASTRAZENECA, S.A. DE C.V.</th>\n",
       "    </tr>\n",
       "    <tr>\n",
       "      <th>PHILIPS LIGHTING ELECTROMAGNETICS S.A. DE C.V.</th>\n",
       "    </tr>\n",
       "    <tr>\n",
       "      <th>PEDRO HECTOR QUIMBAR DOMINGUEZ</th>\n",
       "      <th>COLEGIO DE INGENIEROS CIVILES DEL ESTADO DE MEXICO,A.C.</th>\n",
       "    </tr>\n",
       "    <tr>\n",
       "      <th>ROSAURA TRINIDAD RAMIREZ OBREGON</th>\n",
       "      <th>COLEGIO MUNDIAL DE PUEBLA A.C.</th>\n",
       "    </tr>\n",
       "    <tr>\n",
       "      <th>SAGARPA</th>\n",
       "      <th>UNIVERSIDAD NACIONAL AUTONOMA DE MEXICO</th>\n",
       "    </tr>\n",
       "    <tr>\n",
       "      <th>SEMARNAT</th>\n",
       "      <th>UNIVERSIDAD NACIONAL AUTONOMA DE MEXICO</th>\n",
       "    </tr>\n",
       "    <tr>\n",
       "      <th>TRANSPORTES AGUILERA DE CARGA GRAL (CMAS4766</th>\n",
       "      <th>ADM SERVICIOS, S.A. DE C.V.</th>\n",
       "    </tr>\n",
       "    <tr>\n",
       "      <th>UNIFIN FINANCIERA S.A.P.I.</th>\n",
       "      <th>ADM SERVICIOS, S.A. DE C.V.</th>\n",
       "    </tr>\n",
       "  </tbody>\n",
       "</table>\n",
       "</div>"
      ],
      "text/plain": [
       "Empty DataFrame\n",
       "Columns: []\n",
       "Index: [(ASISTENCIA MEDICA SM SINERGIA SC, AON MEXICO LINEAS PERSONALES BANORTE JALISCO      , ASTRAZENECA, S.A. DE C.V.), (ASISTENCIA MEDICA SM SINERGIA SC, AON MEXICO LINEAS PERSONALES BANORTE JALISCO      , PHILIPS LIGHTING ELECTROMAGNETICS S.A. DE C.V.), (ASISTENCIA MEDICA SM SINERGIA SC, AON MEXICO LINEAS PERSONALES BANORTE MEXICO       , ASTRAZENECA, S.A. DE C.V.), (ASISTENCIA MEDICA SM SINERGIA SC, AON MEXICO LINEAS PERSONALES BANORTE MEXICO       , PHILIPS LIGHTING ELECTROMAGNETICS S.A. DE C.V.), (ASISTENCIA MEDICA SM SINERGIA SC, AON MEXICO LINEAS PERSONALES BANORTE RESTO DE LA R, ASTRAZENECA, S.A. DE C.V.), (ASISTENCIA MEDICA SM SINERGIA SC, AON MEXICO LINEAS PERSONALES BANORTE RESTO DE LA R, PHILIPS LIGHTING ELECTROMAGNETICS S.A. DE C.V.), (ASISTENCIA MEDICA SM SINERGIA SC, BITUAJ (MERCADOS MASIVOS)                         , ABC AEROLINEAS, S.A. DE C.V.), (ASISTENCIA MEDICA SM SINERGIA SC, BITUAJ (MERCADOS MASIVOS)                         , SERVICIOS ADMINISTRATIVOS VOLARIS, S.A. DE C.V.), (ASISTENCIA MEDICA SM SINERGIA SC, BITUAJ AGENTE DE SEGUROS Y DE FIANZAS SA          , ABC AEROLINEAS, S.A. DE C.V.), (ASISTENCIA MEDICA SM SINERGIA SC, BITUAJ AGENTE DE SEGUROS Y DE FIANZAS SA          , SERVICIOS ADMINISTRATIVOS VOLARIS, S.A. DE C.V.), (ASISTENCIA MEDICA SM SINERGIA SC, CERRITO AUTOS                                     , COLEGIO DE INGENIEROS CIVILES DEL ESTADO DE MEXICO,A.C.), (ASISTENCIA MEDICA SM SINERGIA SC, CERRITO VIGENCIA MENSUAL                          , COLEGIO DE INGENIEROS CIVILES DEL ESTADO DE MEXICO,A.C.), (ASISTENCIA MEDICA SM SINERGIA SC, CFE                                               , UNIVERSIDAD NACIONAL AUTONOMA DE MEXICO), (ASISTENCIA MEDICA SM SINERGIA SC, CFE WYL ROMO RODRIGUEZ                            , HERRERA LOPEZ FRANCISCO VENTURA), (ASISTENCIA MEDICA SM SINERGIA SC, CHG CONSULTORES SC                                , GOBIERNO DEL ESTADO DE JALISCO / DESCUENTO POR NOMINA), (ASISTENCIA MEDICA SM SINERGIA SC, CLAVE DIRECTA AGUASCALIENTES                      , CALSONIC KANSEI MEXICANA S.A DE C.V), (ASISTENCIA MEDICA SM SINERGIA SC, CLICK SEGUROS (CVE2742) CARGA MASIVA              , ABC AEROLINEAS, S.A. DE C.V.), (ASISTENCIA MEDICA SM SINERGIA SC, CLICK SEGUROS (CVE2742) CARGA MASIVA              , SERVICIOS ADMINISTRATIVOS VOLARIS, S.A. DE C.V.), (ASISTENCIA MEDICA SM SINERGIA SC, CLICK SEGUROS 1 (CVE2742)                         , ABC AEROLINEAS, S.A. DE C.V.), (ASISTENCIA MEDICA SM SINERGIA SC, CLICK SEGUROS 1 (CVE2742)                         , SERVICIOS ADMINISTRATIVOS VOLARIS, S.A. DE C.V.), (ASISTENCIA MEDICA SM SINERGIA SC, CLICK SEGUROS 2 (CVE2742)                         , ABC AEROLINEAS, S.A. DE C.V.), (ASISTENCIA MEDICA SM SINERGIA SC, CLICK SEGUROS 2 (CVE2742)                         , SERVICIOS ADMINISTRATIVOS VOLARIS, S.A. DE C.V.), (ASISTENCIA MEDICA SM SINERGIA SC, DXN EMPLEADOS DE GOBIERNO DEL EDO DE JALISCO      , GOBIERNO DEL ESTADO DE JALISCO / DESCUENTO POR NOMINA), (ASISTENCIA MEDICA SM SINERGIA SC, FAMILIARES DE EMPLEADOS DEL GOBIERNO DEL EDO JALIS, GOBIERNO DEL ESTADO DE JALISCO / DESCUENTO POR NOMINA), (ASISTENCIA MEDICA SM SINERGIA SC, FRIEDICH WILHELM RANSOM BECKER                    , STRATTEC DE MEXICO, S.A. DE C.V.), (ASISTENCIA MEDICA SM SINERGIA SC, GRUFESA (GRUPO FARMACOS ESPECIALIZADOS SA DE CV)  , ADM SERVICIOS, S.A. DE C.V.), (ASISTENCIA MEDICA SM SINERGIA SC, GUSTAVO MEDINA REYNAGA                            , YOROZU MEXICANA, S.A. DE C.V.), (ASISTENCIA MEDICA SM SINERGIA SC, INTERPROTECCION AGENTE D SEGUROS Y D F            , ADM SERVICIOS, S.A. DE C.V.), (ASISTENCIA MEDICA SM SINERGIA SC, MCGRAW HILL INTERAMERICANA EDITORES SA DE CV      , ASTRAZENECA, S.A. DE C.V.), (ASISTENCIA MEDICA SM SINERGIA SC, MCGRAW HILL INTERAMERICANA EDITORES SA DE CV      , PHILIPS LIGHTING ELECTROMAGNETICS S.A. DE C.V.), (ASISTENCIA MEDICA SM SINERGIA SC, PEDRO HECTOR QUIMBAR DOMINGUEZ                    , COLEGIO DE INGENIEROS CIVILES DEL ESTADO DE MEXICO,A.C.), (ASISTENCIA MEDICA SM SINERGIA SC, ROSAURA TRINIDAD RAMIREZ OBREGON                  , COLEGIO MUNDIAL DE PUEBLA A.C.), (ASISTENCIA MEDICA SM SINERGIA SC, SAGARPA                                           , UNIVERSIDAD NACIONAL AUTONOMA DE MEXICO), (ASISTENCIA MEDICA SM SINERGIA SC, SEMARNAT                                          , UNIVERSIDAD NACIONAL AUTONOMA DE MEXICO), (ASISTENCIA MEDICA SM SINERGIA SC, TRANSPORTES AGUILERA DE CARGA GRAL (CMAS4766      , ADM SERVICIOS, S.A. DE C.V.), (ASISTENCIA MEDICA SM SINERGIA SC, UNIFIN FINANCIERA S.A.P.I.                        , ADM SERVICIOS, S.A. DE C.V.)]"
      ]
     },
     "execution_count": 75,
     "metadata": {},
     "output_type": "execute_result"
    }
   ],
   "source": [
    "hosp2=df_nodos[df_nodos['HOSP_ID'] =='AMS0310307G0']\n",
    "hosp2[['HOSP_NAME','OFFICE_NAME','POLICY_NAME']].groupby(['HOSP_NAME','OFFICE_NAME','POLICY_NAME']).count()"
   ]
  },
  {
   "cell_type": "code",
   "execution_count": 76,
   "metadata": {
    "collapsed": false
   },
   "outputs": [
    {
     "data": {
      "text/html": [
       "<div>\n",
       "<table border=\"1\" class=\"dataframe\">\n",
       "  <thead>\n",
       "    <tr style=\"text-align: right;\">\n",
       "      <th></th>\n",
       "      <th></th>\n",
       "      <th></th>\n",
       "    </tr>\n",
       "    <tr>\n",
       "      <th>HOSP_NAME</th>\n",
       "      <th>OFFICE_NAME</th>\n",
       "      <th>POLICY_NAME</th>\n",
       "    </tr>\n",
       "  </thead>\n",
       "  <tbody>\n",
       "    <tr>\n",
       "      <th rowspan=\"61\" valign=\"top\">HOSPITAL Y CLINICA OCA S.A. DE C.V.</th>\n",
       "      <th rowspan=\"12\" valign=\"top\">ALTERNATIVAS EN RIESGOS AGENTE DE SEGUROS</th>\n",
       "      <th>BOTANAS Y DERIVADOS, S.A DE C.V.</th>\n",
       "    </tr>\n",
       "    <tr>\n",
       "      <th>CONTROL LOCURA, S.A. DE C.V.</th>\n",
       "    </tr>\n",
       "    <tr>\n",
       "      <th>HOME INTERIORS SERVICES DE MEXICO, S.A. DE C.V.</th>\n",
       "    </tr>\n",
       "    <tr>\n",
       "      <th>PROLEC GE INDUSTRIAS, S.A DE C.V.</th>\n",
       "    </tr>\n",
       "    <tr>\n",
       "      <th>SEMLAB, S.A. DE C.V.</th>\n",
       "    </tr>\n",
       "    <tr>\n",
       "      <th>SERVICIOS CORPORATIVOS CONTROL, S.A. DE C.V.</th>\n",
       "    </tr>\n",
       "    <tr>\n",
       "      <th>SERVICIOS CORPORATIVOS INGENIOS SANTOS S DE RL DE C.V.</th>\n",
       "    </tr>\n",
       "    <tr>\n",
       "      <th>SERVICIOS EJECUTIVOS DE TIENDA, S.A. DE  C.V.</th>\n",
       "    </tr>\n",
       "    <tr>\n",
       "      <th>SERVICIOS VALLE DEL CAMPESTRE, S.A. DE C.V.</th>\n",
       "    </tr>\n",
       "    <tr>\n",
       "      <th>SOPORTE MAXIMO, S.A. DE C.V.</th>\n",
       "    </tr>\n",
       "    <tr>\n",
       "      <th>VIAKABLE OPERACIONES, S.A. DE C.V.</th>\n",
       "    </tr>\n",
       "    <tr>\n",
       "      <th>XIGNUX CORPORATIVO, S.A DE C.V.</th>\n",
       "    </tr>\n",
       "    <tr>\n",
       "      <th>AON MEXICO LINEAS PERSONALES BANORTE JALISCO</th>\n",
       "      <th>PHILIPS LUMINARIAS DE MEXICO, S.A. DE C.V.</th>\n",
       "    </tr>\n",
       "    <tr>\n",
       "      <th>AON MEXICO LINEAS PERSONALES BANORTE MEXICO</th>\n",
       "      <th>PHILIPS LUMINARIAS DE MEXICO, S.A. DE C.V.</th>\n",
       "    </tr>\n",
       "    <tr>\n",
       "      <th>AON MEXICO LINEAS PERSONALES BANORTE RESTO DE LA R</th>\n",
       "      <th>PHILIPS LUMINARIAS DE MEXICO, S.A. DE C.V.</th>\n",
       "    </tr>\n",
       "    <tr>\n",
       "      <th rowspan=\"12\" valign=\"top\">ARRENDADORA DATA MOVIL SA DE CV (CVE7205)CMA</th>\n",
       "      <th>BOTANAS Y DERIVADOS, S.A DE C.V.</th>\n",
       "    </tr>\n",
       "    <tr>\n",
       "      <th>CONTROL LOCURA, S.A. DE C.V.</th>\n",
       "    </tr>\n",
       "    <tr>\n",
       "      <th>HOME INTERIORS SERVICES DE MEXICO, S.A. DE C.V.</th>\n",
       "    </tr>\n",
       "    <tr>\n",
       "      <th>PROLEC GE INDUSTRIAS, S.A DE C.V.</th>\n",
       "    </tr>\n",
       "    <tr>\n",
       "      <th>SEMLAB, S.A. DE C.V.</th>\n",
       "    </tr>\n",
       "    <tr>\n",
       "      <th>SERVICIOS CORPORATIVOS CONTROL, S.A. DE C.V.</th>\n",
       "    </tr>\n",
       "    <tr>\n",
       "      <th>SERVICIOS CORPORATIVOS INGENIOS SANTOS S DE RL DE C.V.</th>\n",
       "    </tr>\n",
       "    <tr>\n",
       "      <th>SERVICIOS EJECUTIVOS DE TIENDA, S.A. DE  C.V.</th>\n",
       "    </tr>\n",
       "    <tr>\n",
       "      <th>SERVICIOS VALLE DEL CAMPESTRE, S.A. DE C.V.</th>\n",
       "    </tr>\n",
       "    <tr>\n",
       "      <th>SOPORTE MAXIMO, S.A. DE C.V.</th>\n",
       "    </tr>\n",
       "    <tr>\n",
       "      <th>VIAKABLE OPERACIONES, S.A. DE C.V.</th>\n",
       "    </tr>\n",
       "    <tr>\n",
       "      <th>XIGNUX CORPORATIVO, S.A DE C.V.</th>\n",
       "    </tr>\n",
       "    <tr>\n",
       "      <th rowspan=\"3\" valign=\"top\">ARRENDADORA DATA MOVIL SA DE CV VC10</th>\n",
       "      <th>BOTANAS Y DERIVADOS, S.A DE C.V.</th>\n",
       "    </tr>\n",
       "    <tr>\n",
       "      <th>CONTROL LOCURA, S.A. DE C.V.</th>\n",
       "    </tr>\n",
       "    <tr>\n",
       "      <th>HOME INTERIORS SERVICES DE MEXICO, S.A. DE C.V.</th>\n",
       "    </tr>\n",
       "    <tr>\n",
       "      <th>ARRENDADORA DATA MOVIL SA DE CV VC10</th>\n",
       "      <th>...</th>\n",
       "    </tr>\n",
       "    <tr>\n",
       "      <th rowspan=\"30\" valign=\"top\">UANL</th>\n",
       "      <th>(796117)BENAVIDES CUEVAS  ALEJANDRO</th>\n",
       "    </tr>\n",
       "    <tr>\n",
       "      <th>(878915)MARTINEZ DIAZ REYNOL SANTOS</th>\n",
       "    </tr>\n",
       "    <tr>\n",
       "      <th>(932067)RODRIGUEZ DE LA ROSA  IGNACIO</th>\n",
       "    </tr>\n",
       "    <tr>\n",
       "      <th>(968144)RODRIGUEZ GUERRA  MARTHA MARGARITA</th>\n",
       "    </tr>\n",
       "    <tr>\n",
       "      <th>(968223)RAMIREZ RODRIGUEZ  JESUS GABRIEL</th>\n",
       "    </tr>\n",
       "    <tr>\n",
       "      <th>(9A5217)SALAZAR PE?A  ANA ISABEL</th>\n",
       "    </tr>\n",
       "    <tr>\n",
       "      <th>(9A5ET1)FONG SANCHEZ  EDUARDO</th>\n",
       "    </tr>\n",
       "    <tr>\n",
       "      <th>(9AFJ06)IBARRA RODRIGUEZ  JAIME</th>\n",
       "    </tr>\n",
       "    <tr>\n",
       "      <th>(9AFRX7)ALVARADO CAMPOS  ROSA ISELA</th>\n",
       "    </tr>\n",
       "    <tr>\n",
       "      <th>(9AG967)NAVARRO CASTRO  MARIA GUADALUPE</th>\n",
       "    </tr>\n",
       "    <tr>\n",
       "      <th>(9AG976)ROBLEDO DAVILA  LAURA GUADALUPE</th>\n",
       "    </tr>\n",
       "    <tr>\n",
       "      <th>(9AG9J2)SALAZAR HERNANDEZ  GUADALUPE BEATRIZ</th>\n",
       "    </tr>\n",
       "    <tr>\n",
       "      <th>(9AGBV3)GONZALEZ LOPEZ  MIGUEL ANGEL</th>\n",
       "    </tr>\n",
       "    <tr>\n",
       "      <th>(9APFP6)AGUILAR RODRIGUEZ  DIANA AIDE</th>\n",
       "    </tr>\n",
       "    <tr>\n",
       "      <th>(9AXTB2)LOPEZ RIVERA  JOEL EDUARDO</th>\n",
       "    </tr>\n",
       "    <tr>\n",
       "      <th>(9AY6R2)MARTINEZ SAUCEDA  JOSE LUIS</th>\n",
       "    </tr>\n",
       "    <tr>\n",
       "      <th>(9B3F73)GUTIERREZ SALINAS  NIDIA</th>\n",
       "    </tr>\n",
       "    <tr>\n",
       "      <th>(9B3K36)URE?A OLIVARES  FERNANDO</th>\n",
       "    </tr>\n",
       "    <tr>\n",
       "      <th>(9BK074)PE&amp;A TREVI&amp;O  JOSE GUADALUPE</th>\n",
       "    </tr>\n",
       "    <tr>\n",
       "      <th>(9EF233)MALDONADO TREVIÂ¥O  BLANCA VERONICA</th>\n",
       "    </tr>\n",
       "    <tr>\n",
       "      <th>(9EF9H3)DEYANIRA SANTANA RODRIGUEZ</th>\n",
       "    </tr>\n",
       "    <tr>\n",
       "      <th>(9EVYE7)GARZA GONZALEZ  OSCAR ADAN</th>\n",
       "    </tr>\n",
       "    <tr>\n",
       "      <th>(C523L3)SANTANA GUERRA  JUAN MANUEL</th>\n",
       "    </tr>\n",
       "    <tr>\n",
       "      <th>(U33476)GONZALEZ GARZA  CESAR AUGUSTO</th>\n",
       "    </tr>\n",
       "    <tr>\n",
       "      <th>(U85032)CANTU PORTO  ALBA ELIZABETH</th>\n",
       "    </tr>\n",
       "    <tr>\n",
       "      <th>(U86021)SANCHEZ SANTIBA&amp;EZ  ARMANDO</th>\n",
       "    </tr>\n",
       "    <tr>\n",
       "      <th>JOEL EDUARDO LOPEZ RIVERA</th>\n",
       "    </tr>\n",
       "    <tr>\n",
       "      <th>MA. DE JESUS ALVARADO FLORES</th>\n",
       "    </tr>\n",
       "    <tr>\n",
       "      <th>RAFAEL ALEJANDRO ESTRELLA QUIROGA</th>\n",
       "    </tr>\n",
       "    <tr>\n",
       "      <th>SINDICATO NACIONAL DE TRABAJADORES DE LA EDUCACION # 21</th>\n",
       "    </tr>\n",
       "  </tbody>\n",
       "</table>\n",
       "<p>837 rows × 0 columns</p>\n",
       "</div>"
      ],
      "text/plain": [
       "Empty DataFrame\n",
       "Columns: []\n",
       "Index: [(HOSPITAL Y CLINICA OCA S.A. DE C.V., ALTERNATIVAS EN RIESGOS AGENTE DE SEGUROS         , BOTANAS Y DERIVADOS, S.A DE C.V.), (HOSPITAL Y CLINICA OCA S.A. DE C.V., ALTERNATIVAS EN RIESGOS AGENTE DE SEGUROS         , CONTROL LOCURA, S.A. DE C.V.), (HOSPITAL Y CLINICA OCA S.A. DE C.V., ALTERNATIVAS EN RIESGOS AGENTE DE SEGUROS         , HOME INTERIORS SERVICES DE MEXICO, S.A. DE C.V.), (HOSPITAL Y CLINICA OCA S.A. DE C.V., ALTERNATIVAS EN RIESGOS AGENTE DE SEGUROS         , PROLEC GE INDUSTRIAS, S.A DE C.V.), (HOSPITAL Y CLINICA OCA S.A. DE C.V., ALTERNATIVAS EN RIESGOS AGENTE DE SEGUROS         , SEMLAB, S.A. DE C.V.), (HOSPITAL Y CLINICA OCA S.A. DE C.V., ALTERNATIVAS EN RIESGOS AGENTE DE SEGUROS         , SERVICIOS CORPORATIVOS CONTROL, S.A. DE C.V.), (HOSPITAL Y CLINICA OCA S.A. DE C.V., ALTERNATIVAS EN RIESGOS AGENTE DE SEGUROS         , SERVICIOS CORPORATIVOS INGENIOS SANTOS S DE RL DE C.V.), (HOSPITAL Y CLINICA OCA S.A. DE C.V., ALTERNATIVAS EN RIESGOS AGENTE DE SEGUROS         , SERVICIOS EJECUTIVOS DE TIENDA, S.A. DE  C.V.), (HOSPITAL Y CLINICA OCA S.A. DE C.V., ALTERNATIVAS EN RIESGOS AGENTE DE SEGUROS         , SERVICIOS VALLE DEL CAMPESTRE, S.A. DE C.V.), (HOSPITAL Y CLINICA OCA S.A. DE C.V., ALTERNATIVAS EN RIESGOS AGENTE DE SEGUROS         , SOPORTE MAXIMO, S.A. DE C.V.), (HOSPITAL Y CLINICA OCA S.A. DE C.V., ALTERNATIVAS EN RIESGOS AGENTE DE SEGUROS         , VIAKABLE OPERACIONES, S.A. DE C.V.), (HOSPITAL Y CLINICA OCA S.A. DE C.V., ALTERNATIVAS EN RIESGOS AGENTE DE SEGUROS         , XIGNUX CORPORATIVO, S.A DE C.V.), (HOSPITAL Y CLINICA OCA S.A. DE C.V., AON MEXICO LINEAS PERSONALES BANORTE JALISCO      , PHILIPS LUMINARIAS DE MEXICO, S.A. DE C.V.), (HOSPITAL Y CLINICA OCA S.A. DE C.V., AON MEXICO LINEAS PERSONALES BANORTE MEXICO       , PHILIPS LUMINARIAS DE MEXICO, S.A. DE C.V.), (HOSPITAL Y CLINICA OCA S.A. DE C.V., AON MEXICO LINEAS PERSONALES BANORTE RESTO DE LA R, PHILIPS LUMINARIAS DE MEXICO, S.A. DE C.V.), (HOSPITAL Y CLINICA OCA S.A. DE C.V., ARRENDADORA DATA MOVIL SA DE CV (CVE7205)CMA      , BOTANAS Y DERIVADOS, S.A DE C.V.), (HOSPITAL Y CLINICA OCA S.A. DE C.V., ARRENDADORA DATA MOVIL SA DE CV (CVE7205)CMA      , CONTROL LOCURA, S.A. DE C.V.), (HOSPITAL Y CLINICA OCA S.A. DE C.V., ARRENDADORA DATA MOVIL SA DE CV (CVE7205)CMA      , HOME INTERIORS SERVICES DE MEXICO, S.A. DE C.V.), (HOSPITAL Y CLINICA OCA S.A. DE C.V., ARRENDADORA DATA MOVIL SA DE CV (CVE7205)CMA      , PROLEC GE INDUSTRIAS, S.A DE C.V.), (HOSPITAL Y CLINICA OCA S.A. DE C.V., ARRENDADORA DATA MOVIL SA DE CV (CVE7205)CMA      , SEMLAB, S.A. DE C.V.), (HOSPITAL Y CLINICA OCA S.A. DE C.V., ARRENDADORA DATA MOVIL SA DE CV (CVE7205)CMA      , SERVICIOS CORPORATIVOS CONTROL, S.A. DE C.V.), (HOSPITAL Y CLINICA OCA S.A. DE C.V., ARRENDADORA DATA MOVIL SA DE CV (CVE7205)CMA      , SERVICIOS CORPORATIVOS INGENIOS SANTOS S DE RL DE C.V.), (HOSPITAL Y CLINICA OCA S.A. DE C.V., ARRENDADORA DATA MOVIL SA DE CV (CVE7205)CMA      , SERVICIOS EJECUTIVOS DE TIENDA, S.A. DE  C.V.), (HOSPITAL Y CLINICA OCA S.A. DE C.V., ARRENDADORA DATA MOVIL SA DE CV (CVE7205)CMA      , SERVICIOS VALLE DEL CAMPESTRE, S.A. DE C.V.), (HOSPITAL Y CLINICA OCA S.A. DE C.V., ARRENDADORA DATA MOVIL SA DE CV (CVE7205)CMA      , SOPORTE MAXIMO, S.A. DE C.V.), (HOSPITAL Y CLINICA OCA S.A. DE C.V., ARRENDADORA DATA MOVIL SA DE CV (CVE7205)CMA      , VIAKABLE OPERACIONES, S.A. DE C.V.), (HOSPITAL Y CLINICA OCA S.A. DE C.V., ARRENDADORA DATA MOVIL SA DE CV (CVE7205)CMA      , XIGNUX CORPORATIVO, S.A DE C.V.), (HOSPITAL Y CLINICA OCA S.A. DE C.V., ARRENDADORA DATA MOVIL SA DE CV VC10              , BOTANAS Y DERIVADOS, S.A DE C.V.), (HOSPITAL Y CLINICA OCA S.A. DE C.V., ARRENDADORA DATA MOVIL SA DE CV VC10              , CONTROL LOCURA, S.A. DE C.V.), (HOSPITAL Y CLINICA OCA S.A. DE C.V., ARRENDADORA DATA MOVIL SA DE CV VC10              , HOME INTERIORS SERVICES DE MEXICO, S.A. DE C.V.), (HOSPITAL Y CLINICA OCA S.A. DE C.V., ARRENDADORA DATA MOVIL SA DE CV VC10              , PROLEC GE INDUSTRIAS, S.A DE C.V.), (HOSPITAL Y CLINICA OCA S.A. DE C.V., ARRENDADORA DATA MOVIL SA DE CV VC10              , SEMLAB, S.A. DE C.V.), (HOSPITAL Y CLINICA OCA S.A. DE C.V., ARRENDADORA DATA MOVIL SA DE CV VC10              , SERVICIOS CORPORATIVOS CONTROL, S.A. DE C.V.), (HOSPITAL Y CLINICA OCA S.A. DE C.V., ARRENDADORA DATA MOVIL SA DE CV VC10              , SERVICIOS CORPORATIVOS INGENIOS SANTOS S DE RL DE C.V.), (HOSPITAL Y CLINICA OCA S.A. DE C.V., ARRENDADORA DATA MOVIL SA DE CV VC10              , SERVICIOS EJECUTIVOS DE TIENDA, S.A. DE  C.V.), (HOSPITAL Y CLINICA OCA S.A. DE C.V., ARRENDADORA DATA MOVIL SA DE CV VC10              , SERVICIOS VALLE DEL CAMPESTRE, S.A. DE C.V.), (HOSPITAL Y CLINICA OCA S.A. DE C.V., ARRENDADORA DATA MOVIL SA DE CV VC10              , SOPORTE MAXIMO, S.A. DE C.V.), (HOSPITAL Y CLINICA OCA S.A. DE C.V., ARRENDADORA DATA MOVIL SA DE CV VC10              , VIAKABLE OPERACIONES, S.A. DE C.V.), (HOSPITAL Y CLINICA OCA S.A. DE C.V., ARRENDADORA DATA MOVIL SA DE CV VC10              , XIGNUX CORPORATIVO, S.A DE C.V.), (HOSPITAL Y CLINICA OCA S.A. DE C.V., ASIA MOTORS SA DE CV CVE 7645                     , REKARSA SA DE CV), (HOSPITAL Y CLINICA OCA S.A. DE C.V., AUTOS VALLE ORIENTE SA DE CV CVE7645              , REKARSA SA DE CV), (HOSPITAL Y CLINICA OCA S.A. DE C.V., BITUAJ (MERCADOS MASIVOS)                         , COSMETICA, S.A. DE C.V.), (HOSPITAL Y CLINICA OCA S.A. DE C.V., BITUAJ AGENTE DE SEGUROS Y DE FIANZAS SA          , COSMETICA, S.A. DE C.V.), (HOSPITAL Y CLINICA OCA S.A. DE C.V., CAJA SAN NICOLAS                                  , BOTANAS Y DERIVADOS, S.A DE C.V.), (HOSPITAL Y CLINICA OCA S.A. DE C.V., CAJA SAN NICOLAS                                  , CONTROL LOCURA, S.A. DE C.V.), (HOSPITAL Y CLINICA OCA S.A. DE C.V., CAJA SAN NICOLAS                                  , HOME INTERIORS SERVICES DE MEXICO, S.A. DE C.V.), (HOSPITAL Y CLINICA OCA S.A. DE C.V., CAJA SAN NICOLAS                                  , PROLEC GE INDUSTRIAS, S.A DE C.V.), (HOSPITAL Y CLINICA OCA S.A. DE C.V., CAJA SAN NICOLAS                                  , SEMLAB, S.A. DE C.V.), (HOSPITAL Y CLINICA OCA S.A. DE C.V., CAJA SAN NICOLAS                                  , SERVICIOS CORPORATIVOS CONTROL, S.A. DE C.V.), (HOSPITAL Y CLINICA OCA S.A. DE C.V., CAJA SAN NICOLAS                                  , SERVICIOS CORPORATIVOS INGENIOS SANTOS S DE RL DE C.V.), (HOSPITAL Y CLINICA OCA S.A. DE C.V., CAJA SAN NICOLAS                                  , SERVICIOS EJECUTIVOS DE TIENDA, S.A. DE  C.V.), (HOSPITAL Y CLINICA OCA S.A. DE C.V., CAJA SAN NICOLAS                                  , SERVICIOS VALLE DEL CAMPESTRE, S.A. DE C.V.), (HOSPITAL Y CLINICA OCA S.A. DE C.V., CAJA SAN NICOLAS                                  , SOPORTE MAXIMO, S.A. DE C.V.), (HOSPITAL Y CLINICA OCA S.A. DE C.V., CAJA SAN NICOLAS                                  , VIAKABLE OPERACIONES, S.A. DE C.V.), (HOSPITAL Y CLINICA OCA S.A. DE C.V., CAJA SAN NICOLAS                                  , XIGNUX CORPORATIVO, S.A DE C.V.), (HOSPITAL Y CLINICA OCA S.A. DE C.V., CFE                                               , (     )GUILLERMO MARTINEZ SALINAS), (HOSPITAL Y CLINICA OCA S.A. DE C.V., CFE                                               , (  ) JOSE ALBERTO SEPULVEDA TREVI&O), (HOSPITAL Y CLINICA OCA S.A. DE C.V., CFE                                               , () VICTOR GARZA GODINEZ), (HOSPITAL Y CLINICA OCA S.A. DE C.V., CFE                                               , ()JAVIER GARCIA AGUIRRE), (HOSPITAL Y CLINICA OCA S.A. DE C.V., CFE                                               , (523904)VILLARREAL ALANIS SALVADOR MIGUEL), (HOSPITAL Y CLINICA OCA S.A. DE C.V., CFE                                               , (547914)MEDINA CASTILLO  ESTHER), (HOSPITAL Y CLINICA OCA S.A. DE C.V., CFE                                               , (550863)SANCHEZ HERRERA  CARMEN ALEJANDRO), (HOSPITAL Y CLINICA OCA S.A. DE C.V., CFE                                               , (554686)PEÂ¥A MOYA  ANTONIO RENE), (HOSPITAL Y CLINICA OCA S.A. DE C.V., CFE                                               , (558134)GARZA GARZA  LEOBARDO), (HOSPITAL Y CLINICA OCA S.A. DE C.V., CFE                                               , (560672)MUNIZ CASTANEDA  LEONOR), (HOSPITAL Y CLINICA OCA S.A. DE C.V., CFE                                               , (560785)VILLARREAL VILLARREAL  JUAN ANTONIO), (HOSPITAL Y CLINICA OCA S.A. DE C.V., CFE                                               , (561257)OBREGON MARTINEZ  ROBERTO), (HOSPITAL Y CLINICA OCA S.A. DE C.V., CFE                                               , (568442)CANTU AGUILLON  CUAHUTEMOC), (HOSPITAL Y CLINICA OCA S.A. DE C.V., CFE                                               , (571197)SALAZAR TORRES  RENE), (HOSPITAL Y CLINICA OCA S.A. DE C.V., CFE                                               , (578057)SOLIS GONZALEZ  ARTURO), (HOSPITAL Y CLINICA OCA S.A. DE C.V., CFE                                               , (579091)CUELLAR VILLALOBOS  MA MODESTA), (HOSPITAL Y CLINICA OCA S.A. DE C.V., CFE                                               , (579667)AVITI LUNA  ARLENE NATALY), (HOSPITAL Y CLINICA OCA S.A. DE C.V., CFE                                               , (7)TOBIAS ZAMARRON  VIVIANY MARIBEL), (HOSPITAL Y CLINICA OCA S.A. DE C.V., CFE                                               , (796117)BENAVIDES CUEVAS  ALEJANDRO), (HOSPITAL Y CLINICA OCA S.A. DE C.V., CFE                                               , (878915)MARTINEZ DIAZ REYNOL SANTOS), (HOSPITAL Y CLINICA OCA S.A. DE C.V., CFE                                               , (932067)RODRIGUEZ DE LA ROSA  IGNACIO), (HOSPITAL Y CLINICA OCA S.A. DE C.V., CFE                                               , (968144)RODRIGUEZ GUERRA  MARTHA MARGARITA), (HOSPITAL Y CLINICA OCA S.A. DE C.V., CFE                                               , (968223)RAMIREZ RODRIGUEZ  JESUS GABRIEL), (HOSPITAL Y CLINICA OCA S.A. DE C.V., CFE                                               , (9A5217)SALAZAR PE?A  ANA ISABEL), (HOSPITAL Y CLINICA OCA S.A. DE C.V., CFE                                               , (9A5ET1)FONG SANCHEZ  EDUARDO), (HOSPITAL Y CLINICA OCA S.A. DE C.V., CFE                                               , (9AFJ06)IBARRA RODRIGUEZ  JAIME), (HOSPITAL Y CLINICA OCA S.A. DE C.V., CFE                                               , (9AFRX7)ALVARADO CAMPOS  ROSA ISELA), (HOSPITAL Y CLINICA OCA S.A. DE C.V., CFE                                               , (9AG967)NAVARRO CASTRO  MARIA GUADALUPE), (HOSPITAL Y CLINICA OCA S.A. DE C.V., CFE                                               , (9AG976)ROBLEDO DAVILA  LAURA GUADALUPE), (HOSPITAL Y CLINICA OCA S.A. DE C.V., CFE                                               , (9AG9J2)SALAZAR HERNANDEZ  GUADALUPE BEATRIZ), (HOSPITAL Y CLINICA OCA S.A. DE C.V., CFE                                               , (9AGBV3)GONZALEZ LOPEZ  MIGUEL ANGEL), (HOSPITAL Y CLINICA OCA S.A. DE C.V., CFE                                               , (9APFP6)AGUILAR RODRIGUEZ  DIANA AIDE), (HOSPITAL Y CLINICA OCA S.A. DE C.V., CFE                                               , (9AXTB2)LOPEZ RIVERA  JOEL EDUARDO), (HOSPITAL Y CLINICA OCA S.A. DE C.V., CFE                                               , (9AY6R2)MARTINEZ SAUCEDA  JOSE LUIS), (HOSPITAL Y CLINICA OCA S.A. DE C.V., CFE                                               , (9B3F73)GUTIERREZ SALINAS  NIDIA), (HOSPITAL Y CLINICA OCA S.A. DE C.V., CFE                                               , (9B3K36)URE?A OLIVARES  FERNANDO), (HOSPITAL Y CLINICA OCA S.A. DE C.V., CFE                                               , (9BK074)PE&A TREVI&O  JOSE GUADALUPE), (HOSPITAL Y CLINICA OCA S.A. DE C.V., CFE                                               , (9EF233)MALDONADO TREVIÂ¥O  BLANCA VERONICA), (HOSPITAL Y CLINICA OCA S.A. DE C.V., CFE                                               , (9EF9H3)DEYANIRA SANTANA RODRIGUEZ), (HOSPITAL Y CLINICA OCA S.A. DE C.V., CFE                                               , (9EVYE7)GARZA GONZALEZ  OSCAR ADAN), (HOSPITAL Y CLINICA OCA S.A. DE C.V., CFE                                               , (C523L3)SANTANA GUERRA  JUAN MANUEL), (HOSPITAL Y CLINICA OCA S.A. DE C.V., CFE                                               , (U33476)GONZALEZ GARZA  CESAR AUGUSTO), (HOSPITAL Y CLINICA OCA S.A. DE C.V., CFE                                               , (U85032)CANTU PORTO  ALBA ELIZABETH), (HOSPITAL Y CLINICA OCA S.A. DE C.V., CFE                                               , (U86021)SANCHEZ SANTIBA&EZ  ARMANDO), (HOSPITAL Y CLINICA OCA S.A. DE C.V., CFE                                               , JOEL EDUARDO LOPEZ RIVERA), ...]\n",
       "\n",
       "[837 rows x 0 columns]"
      ]
     },
     "execution_count": 76,
     "metadata": {},
     "output_type": "execute_result"
    }
   ],
   "source": [
    "hosp2=df_nodos[df_nodos['HOSP_ID'] =='HCO730301UB7B']\n",
    "hosp2[['HOSP_NAME','OFFICE_NAME','POLICY_NAME']].groupby(['HOSP_NAME','OFFICE_NAME','POLICY_NAME']).count()"
   ]
  },
  {
   "cell_type": "code",
   "execution_count": 77,
   "metadata": {
    "collapsed": false
   },
   "outputs": [
    {
     "data": {
      "text/html": [
       "<div>\n",
       "<table border=\"1\" class=\"dataframe\">\n",
       "  <thead>\n",
       "    <tr style=\"text-align: right;\">\n",
       "      <th></th>\n",
       "      <th></th>\n",
       "      <th></th>\n",
       "    </tr>\n",
       "    <tr>\n",
       "      <th>HOSP_NAME</th>\n",
       "      <th>OFFICE_NAME</th>\n",
       "      <th>POLICY_NAME</th>\n",
       "    </tr>\n",
       "  </thead>\n",
       "  <tbody>\n",
       "    <tr>\n",
       "      <th rowspan=\"14\" valign=\"top\">MEDYARTHROS SA DE CV</th>\n",
       "      <th rowspan=\"2\" valign=\"top\">CHG CONSULTORES SC</th>\n",
       "      <th>GOBIERNO DEL EDO. DE JALISCO</th>\n",
       "    </tr>\n",
       "    <tr>\n",
       "      <th>GOBIERNO DEL ESTADO DE JALISCO</th>\n",
       "    </tr>\n",
       "    <tr>\n",
       "      <th rowspan=\"2\" valign=\"top\">DXN EMPLEADOS DE GOBIERNO DEL EDO DE JALISCO</th>\n",
       "      <th>GOBIERNO DEL EDO. DE JALISCO</th>\n",
       "    </tr>\n",
       "    <tr>\n",
       "      <th>GOBIERNO DEL ESTADO DE JALISCO</th>\n",
       "    </tr>\n",
       "    <tr>\n",
       "      <th rowspan=\"2\" valign=\"top\">FAMILIARES DE EMPLEADOS DEL GOBIERNO DEL EDO JALIS</th>\n",
       "      <th>GOBIERNO DEL EDO. DE JALISCO</th>\n",
       "    </tr>\n",
       "    <tr>\n",
       "      <th>GOBIERNO DEL ESTADO DE JALISCO</th>\n",
       "    </tr>\n",
       "    <tr>\n",
       "      <th rowspan=\"2\" valign=\"top\">OML AGENTE DE SEGUROS S.A DE C.V.</th>\n",
       "      <th>OML AGENTE DE SEGUROS Y DE FIANZAS S.A DE C.V.</th>\n",
       "    </tr>\n",
       "    <tr>\n",
       "      <th>OMNIHUMANA, S.A. DE C.V.</th>\n",
       "    </tr>\n",
       "    <tr>\n",
       "      <th rowspan=\"2\" valign=\"top\">OML EMPLEADOS (CVE 1442)</th>\n",
       "      <th>OML AGENTE DE SEGUROS Y DE FIANZAS S.A DE C.V.</th>\n",
       "    </tr>\n",
       "    <tr>\n",
       "      <th>OMNIHUMANA, S.A. DE C.V.</th>\n",
       "    </tr>\n",
       "    <tr>\n",
       "      <th rowspan=\"2\" valign=\"top\">OMNILIFE DE MEXICO (CVE1442)</th>\n",
       "      <th>OML AGENTE DE SEGUROS Y DE FIANZAS S.A DE C.V.</th>\n",
       "    </tr>\n",
       "    <tr>\n",
       "      <th>OMNIHUMANA, S.A. DE C.V.</th>\n",
       "    </tr>\n",
       "    <tr>\n",
       "      <th rowspan=\"2\" valign=\"top\">OMNILIFE DXN (CVE 1442 CMAS)</th>\n",
       "      <th>OML AGENTE DE SEGUROS Y DE FIANZAS S.A DE C.V.</th>\n",
       "    </tr>\n",
       "    <tr>\n",
       "      <th>OMNIHUMANA, S.A. DE C.V.</th>\n",
       "    </tr>\n",
       "  </tbody>\n",
       "</table>\n",
       "</div>"
      ],
      "text/plain": [
       "Empty DataFrame\n",
       "Columns: []\n",
       "Index: [(MEDYARTHROS SA DE CV, CHG CONSULTORES SC                                , GOBIERNO DEL EDO. DE JALISCO), (MEDYARTHROS SA DE CV, CHG CONSULTORES SC                                , GOBIERNO DEL ESTADO DE JALISCO), (MEDYARTHROS SA DE CV, DXN EMPLEADOS DE GOBIERNO DEL EDO DE JALISCO      , GOBIERNO DEL EDO. DE JALISCO), (MEDYARTHROS SA DE CV, DXN EMPLEADOS DE GOBIERNO DEL EDO DE JALISCO      , GOBIERNO DEL ESTADO DE JALISCO), (MEDYARTHROS SA DE CV, FAMILIARES DE EMPLEADOS DEL GOBIERNO DEL EDO JALIS, GOBIERNO DEL EDO. DE JALISCO), (MEDYARTHROS SA DE CV, FAMILIARES DE EMPLEADOS DEL GOBIERNO DEL EDO JALIS, GOBIERNO DEL ESTADO DE JALISCO), (MEDYARTHROS SA DE CV, OML AGENTE DE SEGUROS S.A DE C.V.                 , OML AGENTE DE SEGUROS Y DE FIANZAS S.A DE C.V.), (MEDYARTHROS SA DE CV, OML AGENTE DE SEGUROS S.A DE C.V.                 , OMNIHUMANA, S.A. DE C.V.), (MEDYARTHROS SA DE CV, OML EMPLEADOS (CVE 1442)                          , OML AGENTE DE SEGUROS Y DE FIANZAS S.A DE C.V.), (MEDYARTHROS SA DE CV, OML EMPLEADOS (CVE 1442)                          , OMNIHUMANA, S.A. DE C.V.), (MEDYARTHROS SA DE CV, OMNILIFE DE MEXICO (CVE1442)                      , OML AGENTE DE SEGUROS Y DE FIANZAS S.A DE C.V.), (MEDYARTHROS SA DE CV, OMNILIFE DE MEXICO (CVE1442)                      , OMNIHUMANA, S.A. DE C.V.), (MEDYARTHROS SA DE CV, OMNILIFE DXN (CVE 1442 CMAS)                      , OML AGENTE DE SEGUROS Y DE FIANZAS S.A DE C.V.), (MEDYARTHROS SA DE CV, OMNILIFE DXN (CVE 1442 CMAS)                      , OMNIHUMANA, S.A. DE C.V.)]"
      ]
     },
     "execution_count": 77,
     "metadata": {},
     "output_type": "execute_result"
    }
   ],
   "source": [
    "hosp3=df_nodos[df_nodos['HOSP_ID'] =='MED071211LQ2']\n",
    "hosp3[['HOSP_NAME','OFFICE_NAME','POLICY_NAME']].groupby(['HOSP_NAME','OFFICE_NAME','POLICY_NAME']).count()"
   ]
  },
  {
   "cell_type": "code",
   "execution_count": null,
   "metadata": {
    "collapsed": true
   },
   "outputs": [],
   "source": []
  }
 ],
 "metadata": {
  "kernelspec": {
   "display_name": "Python 3",
   "language": "python",
   "name": "python3"
  },
  "language_info": {
   "codemirror_mode": {
    "name": "ipython",
    "version": 3
   },
   "file_extension": ".py",
   "mimetype": "text/x-python",
   "name": "python",
   "nbconvert_exporter": "python",
   "pygments_lexer": "ipython3",
   "version": "3.6.5"
  }
 },
 "nbformat": 4,
 "nbformat_minor": 2
}
