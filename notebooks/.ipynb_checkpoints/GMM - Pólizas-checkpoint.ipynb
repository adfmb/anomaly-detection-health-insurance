{
 "cells": [
  {
   "cell_type": "markdown",
   "metadata": {},
   "source": [
    "### Descriptive Analysis on Health Insurance Policies\n",
    "\n",
    "1. Exploratory Data Analysis\n",
    "    + Features knowledge"
   ]
  },
  {
   "cell_type": "markdown",
   "metadata": {},
   "source": [
    "EDA driven on Sinister dataset, followed over some assumptions"
   ]
  },
  {
   "cell_type": "markdown",
   "metadata": {},
   "source": [
    "### Policy Dataset Analysis"
   ]
  },
  {
   "cell_type": "code",
   "execution_count": 1,
   "metadata": {
    "collapsed": true
   },
   "outputs": [],
   "source": [
    "import matplotlib as mpl\n",
    "import numpy as np\n",
    "import pandas as pd\n",
    "import matplotlib.pyplot as plt\n",
    "import matplotlib.dates as mdates\n",
    "from pandas.tools.plotting import scatter_matrix\n",
    "mpl.style.use('ggplot')\n",
    "%matplotlib inline"
   ]
  },
  {
   "cell_type": "markdown",
   "metadata": {},
   "source": [
    "Lo que se pretende aquí es hacer una inspección de la naturaleza de las pólizas de GMM, señalando todas las variables pertinentes y posteriormente ver como se distribuye la cartera en los descriptivos de Tableau y la segmentación de los datasets"
   ]
  },
  {
   "cell_type": "code",
   "execution_count": 3,
   "metadata": {},
   "outputs": [],
   "source": [
    "df = pd.read_csv(\"polizas-prima.csv\", parse_dates=True, encoding=\"latin1\")"
   ]
  },
  {
   "cell_type": "code",
   "execution_count": 4,
   "metadata": {},
   "outputs": [
    {
     "name": "stdout",
     "output_type": "stream",
     "text": [
      "   RAMSUBRAMO  NPOLIZA ID_CONTRATANTE                        CONTRATANTE  \\\n",
      "0         110       11  MARL610905CK8      LUIS FERNANDO MALDONADO ROJAS   \n",
      "1         110       12  VILM601031941             MIRNA VILLARREAL LOPEZ   \n",
      "2         110       13     SACB890421  BRENDA ELIZABETH SANCHEZ CORONADO   \n",
      "3         110       14  GUAA571105LS0        ALEJANDRO GUERRERO ALVARADO   \n",
      "4         110       15  GUAA571105LS0        ALEJANDRO GUERRERO ALVARADO   \n",
      "\n",
      "   ID_AGENTE  PMAANUAL  FINIVIG  STPOLIZA       POBLACION  CODPOST  EDO  \\\n",
      "0        270    923.46  1100319         4       MONTERREY    64105   19   \n",
      "1        270    923.46  1100319         4       MONTERREY    64710   19   \n",
      "2        270    923.46  1100322         4  SANTA CATARINA    66149   19   \n",
      "3        270    923.46  1100322         4        SANTIAGO    67300   19   \n",
      "4        270    923.46  1100322         4        SANTIAGO    67300   19   \n",
      "\n",
      "   NUM_ASEG        SUBRAMO  SA  \n",
      "0       1.0  AP INDIVIDUAL NaN  \n",
      "1       1.0  AP INDIVIDUAL NaN  \n",
      "2       1.0  AP INDIVIDUAL NaN  \n",
      "3       1.0  AP INDIVIDUAL NaN  \n",
      "4       1.0  AP INDIVIDUAL NaN  \n"
     ]
    }
   ],
   "source": [
    "print(df.head())\n",
    "#this time we parse from the begining"
   ]
  },
  {
   "cell_type": "code",
   "execution_count": 5,
   "metadata": {},
   "outputs": [],
   "source": [
    "def missing_values_table(df): \n",
    "        mis_val = df.isnull().sum()\n",
    "        mis_val_percent = 100 * df.isnull().sum()/len(df)\n",
    "        mis_val_table = pd.concat([mis_val, mis_val_percent], axis=1)\n",
    "        mis_val_table = mis_val_table.rename(columns = {0 : 'Missing Values', 1 : '% of Total Values'})\n",
    "        return mis_val_table"
   ]
  },
  {
   "cell_type": "code",
   "execution_count": 6,
   "metadata": {},
   "outputs": [
    {
     "name": "stdout",
     "output_type": "stream",
     "text": [
      "                Missing Values  % of Total Values\n",
      "ID_CONTRATANTE            3979           0.293851\n",
      "CONTRATANTE                  6           0.000443\n",
      "POBLACION                 4678           0.345473\n",
      "NUM_ASEG                 25009           1.846928\n",
      "SA                      615088          45.424589\n"
     ]
    }
   ],
   "source": [
    "missing = missing_values_table(df)\n",
    "missing = missing[missing['Missing Values'] > 0] #showing only all those are not zero\n",
    "print(missing)"
   ]
  },
  {
   "cell_type": "code",
   "execution_count": 7,
   "metadata": {},
   "outputs": [
    {
     "data": {
      "text/plain": [
       "RAMSUBRAMO          int64\n",
       "NPOLIZA             int64\n",
       "ID_CONTRATANTE     object\n",
       "CONTRATANTE        object\n",
       "ID_AGENTE           int64\n",
       "PMAANUAL          float64\n",
       "FINIVIG             int64\n",
       "STPOLIZA            int64\n",
       "POBLACION          object\n",
       "CODPOST             int64\n",
       "EDO                 int64\n",
       "NUM_ASEG          float64\n",
       "SUBRAMO            object\n",
       "SA                float64\n",
       "dtype: object"
      ]
     },
     "execution_count": 7,
     "metadata": {},
     "output_type": "execute_result"
    }
   ],
   "source": [
    "#columns and data types\n",
    "df.dtypes "
   ]
  },
  {
   "cell_type": "code",
   "execution_count": 8,
   "metadata": {},
   "outputs": [],
   "source": [
    "#quita nulos de contratantes\n",
    "df = df[df['CONTRATANTE'].notnull()]"
   ]
  },
  {
   "cell_type": "code",
   "execution_count": 9,
   "metadata": {},
   "outputs": [],
   "source": [
    "#los casos positivos\n",
    "df = df[(df['NUM_ASEG'] > 0) & (df['PMAANUAL'] > 0)]"
   ]
  },
  {
   "cell_type": "code",
   "execution_count": 10,
   "metadata": {},
   "outputs": [],
   "source": [
    "#Se parsean las fechas\n",
    "df = df[(df['FINIVIG']-1000000+20000000) >=20000000]"
   ]
  },
  {
   "cell_type": "code",
   "execution_count": 11,
   "metadata": {},
   "outputs": [],
   "source": [
    "df['FINIVIG'] = pd.to_datetime((df['FINIVIG']-1000000+20000000).astype(str), format='%Y%m%d', errors='coerce')"
   ]
  },
  {
   "cell_type": "code",
   "execution_count": 12,
   "metadata": {},
   "outputs": [],
   "source": [
    "#Suma asegurada\n",
    "df['SA'] = df['SA'].fillna(df['SA'].mean())"
   ]
  },
  {
   "cell_type": "code",
   "execution_count": 13,
   "metadata": {
    "collapsed": true
   },
   "outputs": [],
   "source": [
    "#Número de asegurados por póliza\n",
    "df['NUM_ASEG'] = df['NUM_ASEG'].fillna(df['NUM_ASEG'].mean())"
   ]
  },
  {
   "cell_type": "code",
   "execution_count": 14,
   "metadata": {},
   "outputs": [],
   "source": [
    "#Si no tienen RFC se usa su nombre\n",
    "df['ID_CONTRATANTE'] = df['ID_CONTRATANTE'].fillna(df['CONTRATANTE'])"
   ]
  },
  {
   "cell_type": "code",
   "execution_count": 15,
   "metadata": {
    "collapsed": true
   },
   "outputs": [],
   "source": [
    "#Bandera de póliza vigente\n",
    "df['POLIZA_VIGENTE'] = np.where(df['STPOLIZA']==3, 1, 0)"
   ]
  },
  {
   "cell_type": "markdown",
   "metadata": {},
   "source": [
    "Un vistazo de los datos transformados"
   ]
  },
  {
   "cell_type": "code",
   "execution_count": 16,
   "metadata": {},
   "outputs": [
    {
     "name": "stdout",
     "output_type": "stream",
     "text": [
      "         RAMSUBRAMO  NPOLIZA ID_CONTRATANTE                       CONTRATANTE  \\\n",
      "860727         1005   167201  AEM-790919-HP   ASOC. EDUCACIONAL MEX. CENTRAL,   \n",
      "1240466        1036   100103   CJF950204TL0  CONSEJO DE LA JUDICATURA FEDERAL   \n",
      "1336835        1036   100105   CJF950204TL0  CONSEJO DE LA JUDICATURA FEDERAL   \n",
      "1284232        1036   100104   CJF950204TL0  CONSEJO DE LA JUDICATURA FEDERAL   \n",
      "1240970        1036   100203   CJF950204TL0  CONSEJO DE LA JUDICATURA FEDERAL   \n",
      "\n",
      "         ID_AGENTE      PMAANUAL    FINIVIG  STPOLIZA               POBLACION  \\\n",
      "860727        4576  4.722794e+08 2000-09-01         3                  MEXICO   \n",
      "1240466      12216  3.953211e+08 2014-12-31         3  ALVARO OBREGON, MEXICO   \n",
      "1336835      12216  3.550067e+08 2016-12-31         3  ALVARO OBREGON, MEXICO   \n",
      "1284232      12216  3.474278e+08 2015-12-31         3  ALVARO OBREGON, MEXICO   \n",
      "1240970      12216  3.407775e+08 2014-12-31         3                  MEXICO   \n",
      "\n",
      "         CODPOST  EDO  NUM_ASEG        SUBRAMO            SA  POLIZA_VIGENTE  \n",
      "860727      3100    0       1.0   AP COLECTIVO  1.675302e+06               1  \n",
      "1240466     1000    9   59997.0  GMM COLECTIVO  1.110000e+02               1  \n",
      "1336835     1000    9   53885.0  GMM COLECTIVO  1.110000e+02               1  \n",
      "1284232     1000    9   62908.0  GMM COLECTIVO  1.110000e+02               1  \n",
      "1240970     1000    9   46798.0  GMM COLECTIVO  3.330000e+02               1  \n"
     ]
    }
   ],
   "source": [
    "df_head = df.sort_values(['PMAANUAL'], ascending=False).head(5)\n",
    "print(df_head)"
   ]
  },
  {
   "cell_type": "markdown",
   "metadata": {},
   "source": [
    "Hay pólizas con el mismo contratante, hay que agrupar a los contratantes, hay que ver si los nombres y los ids corresponden"
   ]
  },
  {
   "cell_type": "code",
   "execution_count": 17,
   "metadata": {},
   "outputs": [
    {
     "data": {
      "text/plain": [
       "(1329010, 15)"
      ]
     },
     "execution_count": 17,
     "metadata": {},
     "output_type": "execute_result"
    }
   ],
   "source": [
    "df.shape"
   ]
  },
  {
   "cell_type": "code",
   "execution_count": 18,
   "metadata": {},
   "outputs": [
    {
     "data": {
      "text/html": [
       "<div>\n",
       "<table border=\"1\" class=\"dataframe\">\n",
       "  <thead>\n",
       "    <tr style=\"text-align: right;\">\n",
       "      <th></th>\n",
       "      <th>PMAANUAL</th>\n",
       "      <th>NUM_ASEG</th>\n",
       "      <th>SA</th>\n",
       "    </tr>\n",
       "  </thead>\n",
       "  <tbody>\n",
       "    <tr>\n",
       "      <th>count</th>\n",
       "      <td>1.329e+06</td>\n",
       "      <td>1.329e+06</td>\n",
       "      <td>1.329e+06</td>\n",
       "    </tr>\n",
       "    <tr>\n",
       "      <th>mean</th>\n",
       "      <td>1.421e+04</td>\n",
       "      <td>1.064e+01</td>\n",
       "      <td>1.675e+06</td>\n",
       "    </tr>\n",
       "    <tr>\n",
       "      <th>std</th>\n",
       "      <td>1.114e+06</td>\n",
       "      <td>1.280e+03</td>\n",
       "      <td>6.724e+06</td>\n",
       "    </tr>\n",
       "    <tr>\n",
       "      <th>min</th>\n",
       "      <td>3.636e+01</td>\n",
       "      <td>1.000e+00</td>\n",
       "      <td>1.110e+02</td>\n",
       "    </tr>\n",
       "    <tr>\n",
       "      <th>25%</th>\n",
       "      <td>1.019e+03</td>\n",
       "      <td>1.000e+00</td>\n",
       "      <td>2.500e+05</td>\n",
       "    </tr>\n",
       "    <tr>\n",
       "      <th>50%</th>\n",
       "      <td>1.616e+03</td>\n",
       "      <td>1.000e+00</td>\n",
       "      <td>1.500e+06</td>\n",
       "    </tr>\n",
       "    <tr>\n",
       "      <th>75%</th>\n",
       "      <td>1.925e+03</td>\n",
       "      <td>1.000e+00</td>\n",
       "      <td>1.675e+06</td>\n",
       "    </tr>\n",
       "    <tr>\n",
       "      <th>max</th>\n",
       "      <td>4.723e+08</td>\n",
       "      <td>5.039e+05</td>\n",
       "      <td>4.100e+08</td>\n",
       "    </tr>\n",
       "  </tbody>\n",
       "</table>\n",
       "</div>"
      ],
      "text/plain": [
       "        PMAANUAL   NUM_ASEG         SA\n",
       "count  1.329e+06  1.329e+06  1.329e+06\n",
       "mean   1.421e+04  1.064e+01  1.675e+06\n",
       "std    1.114e+06  1.280e+03  6.724e+06\n",
       "min    3.636e+01  1.000e+00  1.110e+02\n",
       "25%    1.019e+03  1.000e+00  2.500e+05\n",
       "50%    1.616e+03  1.000e+00  1.500e+06\n",
       "75%    1.925e+03  1.000e+00  1.675e+06\n",
       "max    4.723e+08  5.039e+05  4.100e+08"
      ]
     },
     "execution_count": 18,
     "metadata": {},
     "output_type": "execute_result"
    }
   ],
   "source": [
    "pd.set_option('display.width', 100)\n",
    "pd.set_option('precision', 3)\n",
    "df[['PMAANUAL','NUM_ASEG','SA']].describe()"
   ]
  },
  {
   "cell_type": "code",
   "execution_count": 19,
   "metadata": {},
   "outputs": [],
   "source": [
    "df_poliza = df.groupby('CONTRATANTE')['PMAANUAL'].sum()"
   ]
  },
  {
   "cell_type": "code",
   "execution_count": 20,
   "metadata": {},
   "outputs": [
    {
     "name": "stdout",
     "output_type": "stream",
     "text": [
      "CONTRATANTE\n",
      "CONSEJO DE LA JUDICATURA FEDERAL                           4.959e+09\n",
      "BANCO MERCANTIL DEL NORTE  S.A. INST. DE BANCA MULTIPE     7.455e+08\n",
      "UNIVERSIDAD NACIONAL AUTONOMA DE MEXICO                    6.300e+08\n",
      "BANCO MERCANTIL DEL NORTE, S.A.                            6.253e+08\n",
      "BANCO MERCANTIL DEL NORTE  S.A. INST. DE BANCA MULTIPLE    5.049e+08\n",
      "SUPREMA CORTE DE JUSTICIA DE LA NACION                     4.877e+08\n",
      "ASOC. EDUCACIONAL MEX. CENTRAL,                            4.723e+08\n",
      "GOBIERNO DEL EDO. DE JALISCO                               2.797e+08\n",
      "ASESORIA DE EMPRESAS, S.A. DE C.V.                         2.737e+08\n",
      "UNIVERSIDAD AUTONOMA METROPOLITANA                         2.647e+08\n",
      "TRIBUNAL ELECTORAL DEL PODER JUDICIAL DE LA FEDERACION     2.386e+08\n",
      "COOPERATIVA LA CRUZ AZUL, S.C.L.                           1.914e+08\n",
      "GENERAL MOTORS DE MEXICO S DE RL DE CV                     1.549e+08\n",
      "WFO, S.A. DE C.V.                                          1.368e+08\n",
      "IXE BANCO, S.A., INSTITUCION DE BANCA MULTIPLE, GFB        1.360e+08\n",
      "ABC AEROLINEAS, S.A. DE C.V.                               1.124e+08\n",
      "GOBIERNO DEL ESTADO DE NUEVO LEON                          1.121e+08\n",
      "INFRA, S.A. DE C.V.                                        9.537e+07\n",
      "MINDSHARE DE MEXICO, S.A. DE C.V.                          8.955e+07\n",
      "ASOCIACION EDUCACIONAL MEXICO CENTRAL, A.C.                8.702e+07\n",
      "Name: PMAANUAL, dtype: float64\n"
     ]
    }
   ],
   "source": [
    "print(df_poliza.sort_values(ascending=False).head(20))"
   ]
  },
  {
   "cell_type": "markdown",
   "metadata": {},
   "source": [
    "Descriptivos de las variables continuas"
   ]
  },
  {
   "cell_type": "code",
   "execution_count": 21,
   "metadata": {},
   "outputs": [
    {
     "name": "stdout",
     "output_type": "stream",
     "text": [
      "          PMAANUAL  NUM_ASEG\n",
      "PMAANUAL     1.000     0.155\n",
      "NUM_ASEG     0.155     1.000\n"
     ]
    }
   ],
   "source": [
    "#correlations\n",
    "numeric_features = df[['PMAANUAL','NUM_ASEG']]\n",
    "correlations = numeric_features.corr(method='pearson')\n",
    "print(correlations)"
   ]
  },
  {
   "cell_type": "code",
   "execution_count": 20,
   "metadata": {},
   "outputs": [
    {
     "data": {
      "text/plain": [
       "<matplotlib.figure.Figure at 0x15865518>"
      ]
     },
     "metadata": {},
     "output_type": "display_data"
    },
    {
     "data": {
      "image/png": "[encoded data removed]",
      "text/plain": [
       "<matplotlib.figure.Figure at 0x1585fef0>"
      ]
     },
     "metadata": {},
     "output_type": "display_data"
    }
   ],
   "source": [
    "plt.figure(figsize=[10,10])\n",
    "scatter_matrix(numeric_features, alpha=0.2, figsize=(6, 6), diagonal='kde')\n",
    "plt.show()"
   ]
  },
  {
   "cell_type": "code",
   "execution_count": 22,
   "metadata": {},
   "outputs": [
    {
     "name": "stdout",
     "output_type": "stream",
     "text": [
      "PMAANUAL    261.337\n",
      "NUM_ASEG    252.030\n",
      "dtype: float64\n"
     ]
    }
   ],
   "source": [
    "skew = numeric_features.skew()\n",
    "print(skew)"
   ]
  },
  {
   "cell_type": "code",
   "execution_count": 23,
   "metadata": {
    "collapsed": true
   },
   "outputs": [],
   "source": [
    "#df['GRUPO'] = df['DIS_DESCRIPTION'].str.split().str.get(0)\n",
    "#df.head() \n",
    "#it gets the fisrt string"
   ]
  },
  {
   "cell_type": "code",
   "execution_count": 24,
   "metadata": {},
   "outputs": [
    {
     "data": {
      "text/plain": [
       "1329010"
      ]
     },
     "execution_count": 24,
     "metadata": {},
     "output_type": "execute_result"
    }
   ],
   "source": [
    "df['CONTRATANTE'].count()"
   ]
  },
  {
   "cell_type": "code",
   "execution_count": 25,
   "metadata": {},
   "outputs": [],
   "source": [
    "clientes=[]\n",
    "contratantes=df['CONTRATANTE']\n",
    "\n",
    "for registro in contratantes:\n",
    "    if ('BANORTE' in registro or 'MERCANTIL' in registro):\n",
    "        clientes.append('BANORTE')\n",
    "    elif ('JUDICATURA' in registro): \n",
    "        clientes.append('JUDICATURA')\n",
    "    elif ('PETRO' in registro or 'PEMEX' in registro): \n",
    "        clientes.append('PEMEX')\n",
    "    elif ('UNIVERSIDAD' in registro or 'COLEGIO' in registro or 'SUPERIOR' in registro): \n",
    "        clientes.append('UNIVERSIDADES')\n",
    "    elif ('SINDICATO' in registro or 'S.U.T.' in registro or 'SIND' in registro or 'SUT' in registro or 'SNTE' in registro or 'S.T.I.R.T.' in registro or 'C.T.M.' in registro): \n",
    "        clientes.append('SINDICATOS')\n",
    "    elif ('SECRETARIA' in registro or 'GOBIERNO' in registro or 'MUNICIPIO' in registro or 'FISCAL' in registro or 'TRIBUNAL' in registro or 'AYUNTAMIENTO' in registro or 'ESTATAL' in registro or 'JUSTICIA' in registro): \n",
    "        clientes.append('GOBIERNO')\n",
    "    else: clientes.append('OTRO')"
   ]
  },
  {
   "cell_type": "code",
   "execution_count": 26,
   "metadata": {},
   "outputs": [
    {
     "data": {
      "text/plain": [
       "1329010"
      ]
     },
     "execution_count": 26,
     "metadata": {},
     "output_type": "execute_result"
    }
   ],
   "source": [
    "len(clientes)"
   ]
  },
  {
   "cell_type": "code",
   "execution_count": 27,
   "metadata": {},
   "outputs": [
    {
     "data": {
      "text/plain": [
       "1329010"
      ]
     },
     "execution_count": 27,
     "metadata": {},
     "output_type": "execute_result"
    }
   ],
   "source": [
    "df['CLIENTES']=clientes\n",
    "df['CLIENTES'].count()"
   ]
  },
  {
   "cell_type": "code",
   "execution_count": 28,
   "metadata": {},
   "outputs": [
    {
     "data": {
      "text/plain": [
       "CLIENTES\n",
       "BANORTE             3077\n",
       "GOBIERNO            1493\n",
       "JUDICATURA           277\n",
       "OTRO             1320373\n",
       "PEMEX                233\n",
       "SINDICATOS          1618\n",
       "UNIVERSIDADES       1939\n",
       "dtype: int64"
      ]
     },
     "execution_count": 28,
     "metadata": {},
     "output_type": "execute_result"
    }
   ],
   "source": [
    "df.groupby('CLIENTES').size()"
   ]
  },
  {
   "cell_type": "code",
   "execution_count": 30,
   "metadata": {},
   "outputs": [],
   "source": [
    "#df['CONTRATANTE'].str.contains(\"BANORTE\") | df['CONTRATANTE'].str.contains(\"MERCANTIL\")"
   ]
  },
  {
   "cell_type": "code",
   "execution_count": 79,
   "metadata": {},
   "outputs": [],
   "source": [
    "df_banorte = df[(df['CONTRATANTE'].str.contains(\"BANORTE\")) | (df['CONTRATANTE'].str.contains(\"MERCANTIL\"))]"
   ]
  },
  {
   "cell_type": "code",
   "execution_count": 79,
   "metadata": {},
   "outputs": [
    {
     "data": {
      "text/plain": [
       "24.53073476842062"
      ]
     },
     "execution_count": 79,
     "metadata": {},
     "output_type": "execute_result"
    }
   ],
   "source": [
    "#lo que representa en cartera las pólizas de la empresa\n",
    "df_banorte['PMAANUAL'].sum()/df['PMAANUAL'].sum()*100"
   ]
  },
  {
   "cell_type": "code",
   "execution_count": 80,
   "metadata": {},
   "outputs": [],
   "source": [
    "df_judicatura = df[df['CONTRATANTE'].str.contains(\"JUDICATURA\")]"
   ]
  },
  {
   "cell_type": "code",
   "execution_count": 80,
   "metadata": {},
   "outputs": [
    {
     "data": {
      "text/plain": [
       "12.524202827433015"
      ]
     },
     "execution_count": 80,
     "metadata": {},
     "output_type": "execute_result"
    }
   ],
   "source": [
    "df_judicatura['PMAANUAL'].sum()/df['PMAANUAL'].sum()*100"
   ]
  },
  {
   "cell_type": "code",
   "execution_count": 81,
   "metadata": {},
   "outputs": [],
   "source": [
    "df_pemex = df[(df['CONTRATANTE'].str.contains(\"PETROLEOS\")) | (df['CONTRATANTE'].str.contains(\"PEMEX\"))]"
   ]
  },
  {
   "cell_type": "code",
   "execution_count": 82,
   "metadata": {},
   "outputs": [
    {
     "data": {
      "text/plain": [
       "6.160917954162783"
      ]
     },
     "execution_count": 82,
     "metadata": {},
     "output_type": "execute_result"
    }
   ],
   "source": [
    "df_pemex['PMAANUAL'].sum()/df['PMAANUAL'].sum()*100"
   ]
  },
  {
   "cell_type": "code",
   "execution_count": 77,
   "metadata": {},
   "outputs": [],
   "source": [
    "df_uni = df[(df['CONTRATANTE'].str.contains(\"UNIVER\")) \n",
    "   | (df['CONTRATANTE'].str.contains(\"COLEGIO\"))\n",
    "   | (df['CONTRATANTE'].str.contains(\"SUPERIOR\"))]"
   ]
  },
  {
   "cell_type": "code",
   "execution_count": 83,
   "metadata": {},
   "outputs": [
    {
     "data": {
      "text/plain": [
       "2.4015403642680595"
      ]
     },
     "execution_count": 83,
     "metadata": {},
     "output_type": "execute_result"
    }
   ],
   "source": [
    "df_uni['PMAANUAL'].sum()/df['PMAANUAL'].sum()*100"
   ]
  },
  {
   "cell_type": "code",
   "execution_count": 86,
   "metadata": {},
   "outputs": [],
   "source": [
    "df_sind = df[(df['CONTRATANTE'].str.contains(\"SINDICATO\")) \n",
    "   | (df['CONTRATANTE'].str.contains(\"S.U.T.\"))\n",
    "   | (df['CONTRATANTE'].str.contains(\"SIND\"))\n",
    "   | (df['CONTRATANTE'].str.contains(\"SUT\"))\n",
    "   | (df['CONTRATANTE'].str.contains(\"SNTE\"))\n",
    "   | (df['CONTRATANTE'].str.contains(\"S.T.I.R.T.\"))\n",
    "   | (df['CONTRATANTE'].str.contains(\"C.T.M.\"))]"
   ]
  },
  {
   "cell_type": "code",
   "execution_count": 87,
   "metadata": {},
   "outputs": [
    {
     "data": {
      "text/plain": [
       "14.425230559406769"
      ]
     },
     "execution_count": 87,
     "metadata": {},
     "output_type": "execute_result"
    }
   ],
   "source": [
    "df_sind['PMAANUAL'].sum()/df['PMAANUAL'].sum()*100"
   ]
  },
  {
   "cell_type": "code",
   "execution_count": 88,
   "metadata": {
    "collapsed": true
   },
   "outputs": [],
   "source": [
    "df_gob = df[(df['CONTRATANTE'].str.contains(\"SECRETARIA\")) \n",
    "   | (df['CONTRATANTE'].str.contains(\"GOBIERNO\"))\n",
    "   | (df['CONTRATANTE'].str.contains(\"MUNICIPIO\"))\n",
    "   | (df['CONTRATANTE'].str.contains(\"FISCAL\"))\n",
    "   | (df['CONTRATANTE'].str.contains(\"TRIBUNAL\"))\n",
    "   | (df['CONTRATANTE'].str.contains(\"AYUNTAMIENTO\"))\n",
    "   | (df['CONTRATANTE'].str.contains(\"ESTATAL\"))\n",
    "   | (df['CONTRATANTE'].str.contains(\"JUSTICIA\"))   ]"
   ]
  },
  {
   "cell_type": "code",
   "execution_count": 89,
   "metadata": {},
   "outputs": [
    {
     "data": {
      "text/plain": [
       "12.05661472790776"
      ]
     },
     "execution_count": 89,
     "metadata": {},
     "output_type": "execute_result"
    }
   ],
   "source": [
    "df_gob['PMAANUAL'].sum()/df['PMAANUAL'].sum()*100"
   ]
  },
  {
   "cell_type": "code",
   "execution_count": null,
   "metadata": {
    "collapsed": true
   },
   "outputs": [],
   "source": []
  },
  {
   "cell_type": "code",
   "execution_count": null,
   "metadata": {
    "collapsed": true
   },
   "outputs": [],
   "source": []
  },
  {
   "cell_type": "markdown",
   "metadata": {},
   "source": [
    "+ Hacer un dataset de las cuentas más grandes, mayor número de prima y asegurados\n",
    "+ Hacer la etiquetación de las cuentas"
   ]
  },
  {
   "cell_type": "code",
   "execution_count": 29,
   "metadata": {},
   "outputs": [
    {
     "name": "stdout",
     "output_type": "stream",
     "text": [
      "         RAMSUBRAMO  NPOLIZA                 ID_CONTRATANTE  \\\n",
      "0               110       11                  MARL610905CK8   \n",
      "1               110       12                  VILM601031941   \n",
      "2               110       13                     SACB890421   \n",
      "3               110       14                  GUAA571105LS0   \n",
      "4               110       15                  GUAA571105LS0   \n",
      "5               110       16                     MULG710813   \n",
      "6               110       17                     PESE780208   \n",
      "7               110       18                  CARG561022IH7   \n",
      "8               110       19                     GAGE470506   \n",
      "9               110       20                     HEFR661221   \n",
      "10              110       21                     RICB570414   \n",
      "11              110       22                  GAML8112139U5   \n",
      "12              110        6                  MASJ770726Q15   \n",
      "13              110        7                  CAGL800527931   \n",
      "14              110        8                  MARL610905CK8   \n",
      "15              110        9                  MARL610905CK8   \n",
      "16              110       10                  MARL610905CK8   \n",
      "17              110       47                     FUGM510705   \n",
      "18              110       48                     MIRA890303   \n",
      "19              110       49                  SOGF570915IA8   \n",
      "20              110       50                     ROPP700613   \n",
      "21              110       51                     AAZA590804   \n",
      "22              110       52                  HESR631202P73   \n",
      "23              110       53                     CEMV871105   \n",
      "24              110       54                  ROOS7211213GA   \n",
      "25              110       23                  GOBJ640515GM4   \n",
      "26              110       24                     AAGM640615   \n",
      "27              110       25                  AAGL721221PC8   \n",
      "28              110       26                     JIQH721114   \n",
      "29              110       27                  CACD700112DXA   \n",
      "...             ...      ...                            ...   \n",
      "1354056        1031   370108                  IEC031007-C95   \n",
      "1354057        1031  4010102                   MQU220926DZA   \n",
      "1354058        1001  1121614                  DIVE630515NZ4   \n",
      "1354059       30032   517501    NOE ROMERO RAMIREZ BENDIMEZ   \n",
      "1354060       30032   517601                     VICJ560912   \n",
      "1354061       30032   517701                     VICJ560912   \n",
      "1354062       30049    82401                   IPE0102095U3   \n",
      "1354063        1059    21129                  LEHG731212111   \n",
      "1354064        1059  2071201                     CAVM871227   \n",
      "1354065        1057    15322                     JAEE840216   \n",
      "1354066        1057    15323                  CAEM560721EF9   \n",
      "1354067        1057    15324                     MISO880422   \n",
      "1354068        1057    15325                  OIAL6504272L2   \n",
      "1354069        1032  8010201                   INF891031LT4   \n",
      "1354070        1035    70100                   TMS970917M33   \n",
      "1354071        1035   190203                   ESN830815628   \n",
      "1354072        1035   420203                   FCI990216D71   \n",
      "1354073        1058  1317701                  MABP720829MP0   \n",
      "1354074        1058  1317801                     RAMM800827   \n",
      "1354075        1058  1318301                  SASO831207354   \n",
      "1354076        1058  1318401                  ROFR501201E96   \n",
      "1354077        1001  4357515                   DGN811026BU6   \n",
      "1354078        1021  1099404                  AARR590402U84   \n",
      "1354079        1021  1112903                  SACP820202TL4   \n",
      "1354080        1021  1113703  ROSA ELENA TURRUBIARTES GARZA   \n",
      "1354081        1021  1113803                  PIGE730512B59   \n",
      "1354082        1057  1423501                  MOOD9403265Z0   \n",
      "1354083        1057  1423601                   MVE080526PD5   \n",
      "1354084        1057  1423701                  LECA690509411   \n",
      "1354085        1057  1424101                  GALA830802GC8   \n",
      "\n",
      "                                               CONTRATANTE  ID_AGENTE   PMAANUAL    FINIVIG  \\\n",
      "0                            LUIS FERNANDO MALDONADO ROJAS        270  9.235e+02 2010-03-19   \n",
      "1                                   MIRNA VILLARREAL LOPEZ        270  9.235e+02 2010-03-19   \n",
      "2                        BRENDA ELIZABETH SANCHEZ CORONADO        270  9.235e+02 2010-03-22   \n",
      "3                              ALEJANDRO GUERRERO ALVARADO        270  9.235e+02 2010-03-22   \n",
      "4                              ALEJANDRO GUERRERO ALVARADO        270  9.235e+02 2010-03-22   \n",
      "5                                          GEMA MU IZ LEAL        270  9.235e+02 2010-03-23   \n",
      "6                                       ELSA PEREZ SANCHEZ        270  9.235e+02 2010-03-23   \n",
      "7                          MARIA GUADALUPE CAMPA A RAMIREZ        270  9.235e+02 2010-03-23   \n",
      "8                                        ELOY GARCIA GARZA        270  9.235e+02 2010-03-25   \n",
      "9                             ROGELIO HERMOSILLO FERNANDEZ        270  9.235e+02 2010-03-25   \n",
      "10                      BERNABE EVERARDO DE  RIEGOS CAMARA        270  9.235e+02 2010-03-26   \n",
      "11                               JOSE LUIS GARCIA MARTINEZ        270  7.925e+02 2010-03-26   \n",
      "12                             JOAQUIN MALDONADO SOLORZANO        270  7.925e+02 2010-03-12   \n",
      "13                                 LEYDIANA CAMARGO GARCIA        270  9.235e+02 2010-03-12   \n",
      "14                           LUIS FERNANDO MALDONADO ROJAS        270  9.235e+02 2010-03-19   \n",
      "15                           LUIS FERNANDO MALDONADO ROJAS        270  9.235e+02 2010-03-19   \n",
      "16                           LUIS FERNANDO MALDONADO ROJAS        270  9.235e+02 2010-03-19   \n",
      "17                                   MARCOS FUENTES GUZMAN        270  9.235e+02 2010-04-05   \n",
      "18                          ANGEL JONATHAN MIRANDA RAMIREZ        270  9.235e+02 2010-04-05   \n",
      "19                            JOSE FRANCISCO SOLIS GUEVARA        270  2.703e+03 2010-04-05   \n",
      "20                                      PABLO ROBLES PEREZ        270  9.235e+02 2010-04-05   \n",
      "21                                   ADELINA ALVAREZ ZALPA        270  9.235e+02 2010-04-05   \n",
      "22                              ROBERTO HERNANDEZ SANDOVAL        270  9.235e+02 2010-04-05   \n",
      "23                            VICTOR ALEJANDRO CETINA MATU        270  9.235e+02 2010-04-05   \n",
      "24                                  SANDRA RODRIGUEZ ORTIZ        270  9.235e+02 2010-04-05   \n",
      "25                                     JONAS GODOY BARRIOS        270  9.235e+02 2010-03-29   \n",
      "26                                   LAURA ALVARADO GARCIA        270  9.235e+02 2010-03-29   \n",
      "27                                   LAURA ALVARADO GARCIA        270  9.235e+02 2010-03-29   \n",
      "28                               NALLELY SANCHEZ HERNANDEZ        270  2.703e+03 2010-03-29   \n",
      "29                          DAVID ALFREDO CAMPUZANO CELAYA        270  2.703e+03 2010-03-29   \n",
      "...                                                    ...        ...        ...        ...   \n",
      "1354056  INSTITUTO ESTATAL DE CULTURA FISICA Y DEL DEPO...      14955  4.999e+06 2017-04-01   \n",
      "1354057                             MUNICIPIO DE QUERETARO        201  3.112e+06 2017-02-28   \n",
      "1354058                       DIAZ CANSECO VELAZQUEZ ELISA       4475  1.934e+04 2017-04-13   \n",
      "1354059                        NOE ROMERO RAMIREZ BENDIMEZ      13926  5.675e+04 2017-03-17   \n",
      "1354060                               JAIME VIDA¥A CARDOZA       1528  2.008e+04 2017-04-06   \n",
      "1354061                               JAIME VIDA¥A CARDOZA       1528  2.113e+04 2017-04-06   \n",
      "1354062              INSTITUTO PROFESIONAL EN LA ENSE¥ANZA       2230  6.766e+03 2017-02-27   \n",
      "1354063                           GUADALUPE LEON HERNANDEZ      13122  4.211e+04 2017-03-17   \n",
      "1354064                      MIRTHALA YALELI CHAPA  VENZOR      12635  2.347e+04 2017-03-15   \n",
      "1354065                             EFRAIN JARAMILLO ENIAS      12116  8.003e+03 2017-03-03   \n",
      "1354066                    MARIO ALBERTO CADENA ELGUEZABAL       4010  1.251e+04 2017-03-03   \n",
      "1354067                                            SOH SOH      12116  2.797e+04 2017-03-06   \n",
      "1354068                                    ALEJANDRO ORTIZ      16337  7.688e+03 2017-03-06   \n",
      "1354069                                INFRA, S.A. DE C.V.       2230  4.495e+07 2017-04-01   \n",
      "1354070                          TORRECID MEXICO SERVICIOS       3572  6.207e+05 2017-03-15   \n",
      "1354071                        ESCUELA SIERRA NEVADA, S.C.      14647  7.790e+06 2017-03-01   \n",
      "1354072                FAMA CHAPEL INMOBILIARIO S.A DE C.V       1138  5.107e+05 2017-03-23   \n",
      "1354073                      PABLO MARCELO MAIDANA BORELLI      11919  4.096e+04 2017-04-15   \n",
      "1354074                    MONICA MELISSA RAMIREZ MARTINEZ      13711  5.798e+03 2017-04-15   \n",
      "1354075                               SANTIAGO MARIN SALAS       9149  5.572e+03 2017-04-20   \n",
      "1354076                           ROGELIO RODRIGUEZ FLORES       5922  1.296e+04 2017-04-20   \n",
      "1354077             DISTRIBUIDORA DE GAS NOEL,S.A. DE C.V.       4378  4.810e+04 2016-08-11   \n",
      "1354078                     ROBERTO FRANCISCO AYALA RAMOS.        230  1.210e+04 2017-04-01   \n",
      "1354079                            PATRICIA SALAS CASTILLO        230  1.464e+04 2017-04-01   \n",
      "1354080                      ROSA ELENA TURRUBIARTES GARZA        230  8.663e+03 2017-04-01   \n",
      "1354081                              ERICK PICHARDO GARCIA        230  5.741e+03 2017-04-01   \n",
      "1354082                       DANIEL ALEJANDRO MORIN ORTIZ      15001  8.865e+03 2017-04-01   \n",
      "1354083                              MAESTROS EN VENTAS SC      16251  3.351e+04 2017-04-01   \n",
      "1354084                              ANA MARIA LEAL CEPEDA       4654  6.319e+04 2017-04-01   \n",
      "1354085                MARIA DE LOS ANGELES GARCIA LUCIANO       2313  1.927e+04 2017-04-04   \n",
      "\n",
      "         STPOLIZA                  POBLACION  CODPOST  EDO  NUM_ASEG         SUBRAMO         SA  \\\n",
      "0               4                  MONTERREY    64105   19       1.0   AP INDIVIDUAL  1.675e+06   \n",
      "1               4                  MONTERREY    64710   19       1.0   AP INDIVIDUAL  1.675e+06   \n",
      "2               4             SANTA CATARINA    66149   19       1.0   AP INDIVIDUAL  1.675e+06   \n",
      "3               4                   SANTIAGO    67300   19       1.0   AP INDIVIDUAL  1.675e+06   \n",
      "4               4                   SANTIAGO    67300   19       1.0   AP INDIVIDUAL  1.675e+06   \n",
      "5               5                  GUADALUPE    67100   19       1.0   AP INDIVIDUAL  1.675e+06   \n",
      "6               4                  QUERETARO    76116   22       1.0   AP INDIVIDUAL  1.675e+06   \n",
      "7               4                   CULIACAN    80170   25       1.0   AP INDIVIDUAL  1.675e+06   \n",
      "8               4                  GUADALUPE    67112   19       1.0   AP INDIVIDUAL  1.675e+06   \n",
      "9               4                  QUERETARO    76116   22       1.0   AP INDIVIDUAL  1.675e+06   \n",
      "10              5                     MERIDA    97277   31       1.0   AP INDIVIDUAL  1.675e+06   \n",
      "11              5                   EL SALTO    45680   14       1.0   AP INDIVIDUAL  1.675e+06   \n",
      "12              5                    REYNOSA    88708   28       1.0   AP INDIVIDUAL  1.675e+06   \n",
      "13              5                    REYNOSA    88799   28       1.0   AP INDIVIDUAL  1.675e+06   \n",
      "14              4                  MONTERREY    64105   19       1.0   AP INDIVIDUAL  1.675e+06   \n",
      "15              4                  MONTERREY    64105   19       1.0   AP INDIVIDUAL  1.675e+06   \n",
      "16              4                  MONTERREY    64105   19       1.0   AP INDIVIDUAL  1.675e+06   \n",
      "17              4                 CHURINTZIO    59440   16       1.0   AP INDIVIDUAL  1.675e+06   \n",
      "18              4                 IZTAPALAPA     9830    9       1.0   AP INDIVIDUAL  1.675e+06   \n",
      "19              5             ALVARO OBREGON     1780    9       1.0   AP INDIVIDUAL  1.675e+06   \n",
      "20              4                  MONTERREY    64550   19       1.0   AP INDIVIDUAL  1.675e+06   \n",
      "21              4                     CHERAN    60271   16       1.0   AP INDIVIDUAL  1.675e+06   \n",
      "22              4                       LEON    37400   11       1.0   AP INDIVIDUAL  1.675e+06   \n",
      "23              4                     CONKAL    97345   31       1.0   AP INDIVIDUAL  1.675e+06   \n",
      "24              4             MIGUEL HIDALGO    11000    9       1.0   AP INDIVIDUAL  1.675e+06   \n",
      "25              5                  QUERETARO    76116   22       1.0   AP INDIVIDUAL  1.675e+06   \n",
      "26              4                GUADALAJARA    44620   14       1.0   AP INDIVIDUAL  1.675e+06   \n",
      "27              4                GUADALAJARA    44620   14       1.0   AP INDIVIDUAL  1.675e+06   \n",
      "28              4                 CUAUHTEMOC     6700    8       1.0   AP INDIVIDUAL  1.675e+06   \n",
      "29              5                      ALTAR    83750   26       1.0   AP INDIVIDUAL  1.675e+06   \n",
      "...           ...                        ...      ...  ...       ...             ...        ...   \n",
      "1354056         3                  MONTERREY    64430   19     433.0   GMM COLECTIVO  1.000e+06   \n",
      "1354057         3  DELG.JOSEFA VERGARA Y HDZ    76090   22     109.0   GMM COLECTIVO  3.000e+06   \n",
      "1354058         3               HUIXQUILUCAN    52783   15       1.0  GMM INDIVIDUAL  2.000e+06   \n",
      "1354059         3               BOCA DEL RIO    94294   30      52.0    AP COLECTIVO  3.000e+05   \n",
      "1354060         3                  CD JUAREZ    32680    8      19.0    AP COLECTIVO  3.000e+05   \n",
      "1354061         3                  CD JUAREZ    32680    8      20.0    AP COLECTIVO  3.000e+05   \n",
      "1354062         3                     TOLUCA    50100   15      69.0    AP COLECTIVO  2.000e+05   \n",
      "1354063         3                     OAXACA    68120   20       5.0  GMM INDIVIDUAL  5.000e+07   \n",
      "1354064         3                  GUADALUPE    67176   19       2.0  GMM INDIVIDUAL  6.000e+06   \n",
      "1354065         3                   IRAPUATO    36680   11       1.0  GMM INDIVIDUAL  3.000e+06   \n",
      "1354066         3                  MONTERREY    64610   19       1.0  GMM INDIVIDUAL  1.000e+08   \n",
      "1354067         3             MIGUEL HIDALGO    11500    9       4.0  GMM INDIVIDUAL  3.000e+06   \n",
      "1354068         3                    MORELIA    58260   16       1.0  GMM INDIVIDUAL  2.000e+05   \n",
      "1354069         3        NAUCALPAN DE JUAREZ    53398   15    9074.0   GMM COLECTIVO  1.000e+03   \n",
      "1354070         3                  MONTERREY    65550   19     147.0   GMM COLECTIVO  2.500e+06   \n",
      "1354071         3             MIGUEL HIDALGO    11000    9     370.0   GMM COLECTIVO  3.000e+06   \n",
      "1354072         3                  MONTERREY    64930   19      13.0   GMM COLECTIVO  1.000e+04   \n",
      "1354073         3                   SANTIAGO    67317   19       4.0  GMM INDIVIDUAL  1.000e+08   \n",
      "1354074         3                  MONTERREY    64320   19       1.0  GMM INDIVIDUAL  6.000e+06   \n",
      "1354075         3   SAN NICOLAS DE LOS GARZA    66469   19       1.0  GMM INDIVIDUAL  6.000e+06   \n",
      "1354076         3                  MONTERREY    64170   19       1.0  GMM INDIVIDUAL  2.000e+07   \n",
      "1354077         3             AGUASCALIENTES        1    1       1.0  GMM INDIVIDUAL  2.000e+06   \n",
      "1354078         3                  CHUHUAHUA    31216    8       1.0  GMM INDIVIDUAL  7.000e+07   \n",
      "1354079         3                   ECATEPEC    55130   15       1.0  GMM INDIVIDUAL  1.000e+06   \n",
      "1354080         3                  MONTERREY    64890   19       1.0  GMM INDIVIDUAL  1.000e+07   \n",
      "1354081         3                     MEXICO     9890    9       1.0  GMM INDIVIDUAL  3.000e+07   \n",
      "1354082         3                    REYNOSA    88730   28       1.0  GMM INDIVIDUAL  1.000e+07   \n",
      "1354083         3              BENITO JUAREZ    31000    9       1.0  GMM INDIVIDUAL  3.000e+07   \n",
      "1354084         3                   SANTIAGO    67320   19       2.0  GMM INDIVIDUAL  5.000e+07   \n",
      "1354085         3              CIUDAD MADERO    89430   28       1.0  GMM INDIVIDUAL  1.000e+07   \n",
      "\n",
      "         POLIZA_VIGENTE  CLIENTES  \n",
      "0                     0      OTRO  \n",
      "1                     0      OTRO  \n",
      "2                     0      OTRO  \n",
      "3                     0      OTRO  \n",
      "4                     0      OTRO  \n",
      "5                     0      OTRO  \n",
      "6                     0      OTRO  \n",
      "7                     0      OTRO  \n",
      "8                     0      OTRO  \n",
      "9                     0      OTRO  \n",
      "10                    0      OTRO  \n",
      "11                    0      OTRO  \n",
      "12                    0      OTRO  \n",
      "13                    0      OTRO  \n",
      "14                    0      OTRO  \n",
      "15                    0      OTRO  \n",
      "16                    0      OTRO  \n",
      "17                    0      OTRO  \n",
      "18                    0      OTRO  \n",
      "19                    0      OTRO  \n",
      "20                    0      OTRO  \n",
      "21                    0      OTRO  \n",
      "22                    0      OTRO  \n",
      "23                    0      OTRO  \n",
      "24                    0      OTRO  \n",
      "25                    0      OTRO  \n",
      "26                    0      OTRO  \n",
      "27                    0      OTRO  \n",
      "28                    0      OTRO  \n",
      "29                    0      OTRO  \n",
      "...                 ...       ...  \n",
      "1354056               1  GOBIERNO  \n",
      "1354057               1  GOBIERNO  \n",
      "1354058               1      OTRO  \n",
      "1354059               1      OTRO  \n",
      "1354060               1      OTRO  \n",
      "1354061               1      OTRO  \n",
      "1354062               1      OTRO  \n",
      "1354063               1      OTRO  \n",
      "1354064               1      OTRO  \n",
      "1354065               1      OTRO  \n",
      "1354066               1      OTRO  \n",
      "1354067               1      OTRO  \n",
      "1354068               1      OTRO  \n",
      "1354069               1      OTRO  \n",
      "1354070               1      OTRO  \n",
      "1354071               1      OTRO  \n",
      "1354072               1      OTRO  \n",
      "1354073               1      OTRO  \n",
      "1354074               1      OTRO  \n",
      "1354075               1      OTRO  \n",
      "1354076               1      OTRO  \n",
      "1354077               1      OTRO  \n",
      "1354078               1      OTRO  \n",
      "1354079               1      OTRO  \n",
      "1354080               1      OTRO  \n",
      "1354081               1      OTRO  \n",
      "1354082               1      OTRO  \n",
      "1354083               1      OTRO  \n",
      "1354084               1      OTRO  \n",
      "1354085               1      OTRO  \n",
      "\n",
      "[1329010 rows x 16 columns]\n"
     ]
    }
   ],
   "source": [
    "print(df)"
   ]
  },
  {
   "cell_type": "markdown",
   "metadata": {},
   "source": [
    "Listo para descriptivos"
   ]
  },
  {
   "cell_type": "code",
   "execution_count": 30,
   "metadata": {
    "collapsed": true
   },
   "outputs": [],
   "source": [
    "df.to_csv('polizas-prima-clean.csv', sep=',', encoding=\"latin1\")"
   ]
  },
  {
   "cell_type": "code",
   "execution_count": null,
   "metadata": {
    "collapsed": true
   },
   "outputs": [],
   "source": []
  }
 ],
 "metadata": {
  "kernelspec": {
   "display_name": "Python 3",
   "language": "python",
   "name": "python3"
  },
  "language_info": {
   "codemirror_mode": {
    "name": "ipython",
    "version": 3
   },
   "file_extension": ".py",
   "mimetype": "text/x-python",
   "name": "python",
   "nbconvert_exporter": "python",
   "pygments_lexer": "ipython3",
   "version": "3.6.5"
  }
 },
 "nbformat": 4,
 "nbformat_minor": 2
}
